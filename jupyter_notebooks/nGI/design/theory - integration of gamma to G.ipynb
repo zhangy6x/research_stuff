{
 "cells": [
  {
   "cell_type": "markdown",
   "id": "49751d88-2afb-4c70-bc14-fa849bf870c5",
   "metadata": {},
   "source": [
    "# Integration of $\\gamma$ to G\n",
    "For sphere\n",
    "$ \\gamma(\\chi)=\\rho^2 V \\gamma_0(\\chi) $\n",
    "\n",
    "$ \\gamma_0(\\chi) = 1-\\frac{3}{4}\\chi + \\frac{1}{16}\\chi^3$\n",
    "\n",
    "Corr function can be obtained by integration\n",
    "\n",
    "$ G(\\xi)=2R_{max} \\int_\\xi^2 d\\chi \\frac{\\gamma(\\chi)\\chi}{\\sqrt{\\chi^2-\\xi^2}} $"
   ]
  },
  {
   "cell_type": "code",
   "execution_count": 51,
   "id": "0e608afa-fce7-4108-9d5b-9c148c967251",
   "metadata": {},
   "outputs": [],
   "source": [
    "import sympy, numpy as np\n",
    "from matplotlib import pyplot as plt"
   ]
  },
  {
   "cell_type": "markdown",
   "id": "53dc4533-c2c0-4759-bddb-4024ae4a5bc6",
   "metadata": {},
   "source": [
    "$\\int_y^2  \\frac{x^2}{\\sqrt(x^2-y^2)} dx$"
   ]
  },
  {
   "cell_type": "code",
   "execution_count": 59,
   "id": "0ee6162e-8861-4587-a0a4-870cfb54adb2",
   "metadata": {},
   "outputs": [],
   "source": [
    "x = sympy.symbols('x')\n",
    "y = sympy.symbols('y', positive=True)"
   ]
  },
  {
   "cell_type": "code",
   "execution_count": 60,
   "id": "e5631705-17b5-4674-88ed-c5c9213bfb4d",
   "metadata": {},
   "outputs": [
    {
     "data": {
      "text/latex": [
       "$\\displaystyle \\sqrt{4 - y^{2}}$"
      ],
      "text/plain": [
       "sqrt(4 - y**2)"
      ]
     },
     "execution_count": 60,
     "metadata": {},
     "output_type": "execute_result"
    }
   ],
   "source": [
    "term1 = sympy.integrate(x/sympy.sqrt(x*x-y*y), (x, y, 2))\n",
    "term1"
   ]
  },
  {
   "cell_type": "code",
   "execution_count": 61,
   "id": "88e51714-22ed-4914-ab96-de9647eb32bb",
   "metadata": {},
   "outputs": [
    {
     "data": {
      "text/latex": [
       "$\\displaystyle \\frac{y^{2} \\operatorname{acosh}{\\left(\\frac{2}{y} \\right)}}{2} + \\sqrt{4 - y^{2}}$"
      ],
      "text/plain": [
       "y**2*acosh(2/y)/2 + sqrt(4 - y**2)"
      ]
     },
     "execution_count": 61,
     "metadata": {},
     "output_type": "execute_result"
    }
   ],
   "source": [
    "term2 = sympy.integrate(x*x/sympy.sqrt(x*x-y*y), (x, y, 2))\n",
    "term2"
   ]
  },
  {
   "cell_type": "code",
   "execution_count": 62,
   "id": "2c5aef0e-918a-480e-b250-254abadfb34d",
   "metadata": {},
   "outputs": [
    {
     "data": {
      "text/latex": [
       "$\\displaystyle \\frac{3 y^{4} \\operatorname{acosh}{\\left(\\frac{2}{y} \\right)}}{8} + \\frac{3 y^{2} \\sqrt{4 - y^{2}}}{4} + 2 \\sqrt{4 - y^{2}}$"
      ],
      "text/plain": [
       "3*y**4*acosh(2/y)/8 + 3*y**2*sqrt(4 - y**2)/4 + 2*sqrt(4 - y**2)"
      ]
     },
     "execution_count": 62,
     "metadata": {},
     "output_type": "execute_result"
    }
   ],
   "source": [
    "term3 = sympy.integrate(x**4/sympy.sqrt(x*x-y*y), (x, y, 2))\n",
    "term3"
   ]
  },
  {
   "cell_type": "code",
   "execution_count": 63,
   "id": "4bcd117d-fe69-4f2f-af65-0eb899243a78",
   "metadata": {},
   "outputs": [],
   "source": [
    "together = term1 - 3*term2/4 + term3/16"
   ]
  },
  {
   "cell_type": "code",
   "execution_count": 65,
   "id": "a511a8c3-0400-4c3d-9d38-1a65da26178f",
   "metadata": {},
   "outputs": [],
   "source": [
    "together = sympy.simplify(together)"
   ]
  },
  {
   "cell_type": "code",
   "execution_count": 77,
   "id": "5e666453-3741-43a1-bd61-c2d1fb6d5dd5",
   "metadata": {},
   "outputs": [
    {
     "data": {
      "text/plain": [
       "(0.749999960262620, 0.736175933062990, 0.267715923805489, 0)"
      ]
     },
     "execution_count": 77,
     "metadata": {},
     "output_type": "execute_result"
    }
   ],
   "source": [
    "together.subs([(y, 0.0001)]), together.subs([(y, 0.1)]), together.subs([(y, 1.0)]), together.subs([(y, 2.0)])"
   ]
  },
  {
   "cell_type": "code",
   "execution_count": 70,
   "id": "e996fe0e-0f63-4c6f-ac85-219c5993b4e9",
   "metadata": {},
   "outputs": [
    {
     "data": {
      "text/plain": [
       "[<matplotlib.lines.Line2D at 0x7f7a2f274ee0>]"
      ]
     },
     "execution_count": 70,
     "metadata": {},
     "output_type": "execute_result"
    },
    {
     "data": {
      "image/png": "[encoded data removed]",
      "text/plain": [
       "<Figure size 432x288 with 1 Axes>"
      ]
     },
     "metadata": {
      "needs_background": "light"
     },
     "output_type": "display_data"
    }
   ],
   "source": [
    "plt.figure()\n",
    "yy = np.linspace(1e-3, 2, 100)\n",
    "plt.plot(yy, [together.subs([(y, yyy)]) for yyy in yy])"
   ]
  },
  {
   "cell_type": "code",
   "execution_count": 71,
   "id": "f49ab0cd-847b-48d9-b39b-8c5b53caaaf9",
   "metadata": {},
   "outputs": [],
   "source": [
    "G = sympy.sqrt(1-(y/2)**2) * (1+y*y/8) + y*y/2*(1-(y/4)**2)*sympy.log(y/(2+sympy.sqrt(4-y**2)))"
   ]
  },
  {
   "cell_type": "code",
   "execution_count": 72,
   "id": "c9310b6c-3024-4b67-9d7f-88e0d27bc04c",
   "metadata": {},
   "outputs": [
    {
     "data": {
      "text/latex": [
       "$\\displaystyle \\frac{y^{2} \\cdot \\left(1 - \\frac{y^{2}}{16}\\right) \\log{\\left(\\frac{y}{\\sqrt{4 - y^{2}} + 2} \\right)}}{2} + \\sqrt{1 - \\frac{y^{2}}{4}} \\left(\\frac{y^{2}}{8} + 1\\right)$"
      ],
      "text/plain": [
       "y**2*(1 - y**2/16)*log(y/(sqrt(4 - y**2) + 2))/2 + sqrt(1 - y**2/4)*(y**2/8 + 1)"
      ]
     },
     "execution_count": 72,
     "metadata": {},
     "output_type": "execute_result"
    }
   ],
   "source": [
    "G"
   ]
  },
  {
   "cell_type": "code",
   "execution_count": 75,
   "id": "a8aa6ef5-e0bb-4196-bd94-1c4881bf08ed",
   "metadata": {},
   "outputs": [
    {
     "data": {
      "text/plain": [
       "(0.999999999355039, 0.981567910750653, 0.356954565073985, 0)"
      ]
     },
     "execution_count": 75,
     "metadata": {},
     "output_type": "execute_result"
    }
   ],
   "source": [
    "G.subs([(y, 0.00001)]), G.subs([(y, 0.1)]), G.subs([(y, 1.0)]), G.subs([(y, 2.0)])"
   ]
  },
  {
   "cell_type": "code",
   "execution_count": 76,
   "id": "ed598cd4-e1c7-43ed-b6b6-cf01ab922345",
   "metadata": {},
   "outputs": [
    {
     "data": {
      "text/plain": [
       "[<matplotlib.lines.Line2D at 0x7f7a2eecc340>]"
      ]
     },
     "execution_count": 76,
     "metadata": {},
     "output_type": "execute_result"
    },
    {
     "data": {
      "image/png": "[encoded data removed]",
      "text/plain": [
       "<Figure size 432x288 with 1 Axes>"
      ]
     },
     "metadata": {
      "needs_background": "light"
     },
     "output_type": "display_data"
    }
   ],
   "source": [
    "plt.figure()\n",
    "yy = np.linspace(1e-3, 2, 100)\n",
    "plt.plot(yy, [G.subs([(y, yyy)]) for yyy in yy])"
   ]
  },
  {
   "cell_type": "code",
   "execution_count": 82,
   "id": "b2b2fcf5-0a49-42fe-8615-15c0a9a37e57",
   "metadata": {},
   "outputs": [
    {
     "data": {
      "text/plain": [
       "(0.0, 1.0)"
      ]
     },
     "execution_count": 82,
     "metadata": {},
     "output_type": "execute_result"
    },
    {
     "data": {
      "image/png": "[encoded data removed]",
      "text/plain": [
       "<Figure size 432x288 with 1 Axes>"
      ]
     },
     "metadata": {
      "needs_background": "light"
     },
     "output_type": "display_data"
    }
   ],
   "source": [
    "plt.figure()\n",
    "yy = np.linspace(1e-3, 2, 100)\n",
    "plt.plot(yy, [together.subs([(y, yyy)])/G.subs([(y, yyy)]) for yyy in yy])\n",
    "plt.ylim(0, 1)"
   ]
  },
  {
   "cell_type": "code",
   "execution_count": null,
   "id": "ec3c05be-7523-4b1c-9787-beeb5cc76178",
   "metadata": {},
   "outputs": [],
   "source": []
  }
 ],
 "metadata": {
  "kernelspec": {
   "display_name": "mcvine-py39",
   "language": "python",
   "name": "mcvine-py39"
  },
  "language_info": {
   "codemirror_mode": {
    "name": "ipython",
    "version": 3
   },
   "file_extension": ".py",
   "mimetype": "text/x-python",
   "name": "python",
   "nbconvert_exporter": "python",
   "pygments_lexer": "ipython3",
   "version": "3.9.12"
  }
 },
 "nbformat": 4,
 "nbformat_minor": 5
}
