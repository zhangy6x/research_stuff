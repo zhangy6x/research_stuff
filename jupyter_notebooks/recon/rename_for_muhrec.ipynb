{
 "cells": [
  {
   "cell_type": "code",
   "execution_count": 1,
   "id": "febbf4e6",
   "metadata": {},
   "outputs": [],
   "source": [
    "import os\n",
    "import shutil"
   ]
  },
  {
   "cell_type": "code",
   "execution_count": 2,
   "id": "4ebefbe0",
   "metadata": {},
   "outputs": [],
   "source": [
    "def rename(old:str, new_name, index_min):\n",
    "    old_index_tiff = old.split('_')[-1]\n",
    "    old_index = old_index_tiff.split('.')[0]\n",
    "    end_num = int(old_index)\n",
    "    index = end_num - index_min\n",
    "    new = new_name + \"_\" + f'{index:04}' + '.tiff'\n",
    "    return new"
   ]
  },
  {
   "cell_type": "code",
   "execution_count": 3,
   "id": "8ab57725",
   "metadata": {},
   "outputs": [],
   "source": [
    "# need to change\n",
    "ipts=\"28402\""
   ]
  },
  {
   "cell_type": "markdown",
   "id": "77c09485",
   "metadata": {},
   "source": [
    "CT Scan"
   ]
  },
  {
   "cell_type": "code",
   "execution_count": 4,
   "id": "1a0e42b2",
   "metadata": {},
   "outputs": [
    {
     "data": {
      "text/plain": [
       "['2022_03_05_SYM_C_LI_CT',\n",
       " '2022_03_14_stack1',\n",
       " '2022_03_08_Ex_Situ_C_LI_CT',\n",
       " '2022_03_04_FUll_LI',\n",
       " '2022_03_07_SYM_C_LI_CT_After',\n",
       " '2022_03_15_stack2',\n",
       " '2022_03_03_SYM_LI',\n",
       " '2022_03_05_SYM_LI_CT_After',\n",
       " '2022_03_05_FUll_C_LI_CT',\n",
       " '2022_03_07_Full_C_LI_CT_After',\n",
       " '2022_03_04_FUll_LI_CT_After']"
      ]
     },
     "execution_count": 4,
     "metadata": {},
     "output_type": "execute_result"
    }
   ],
   "source": [
    "ct_scan_loc = \"/HFIR/CG1D/IPTS-\"+ipts+\"/raw/ct_scans\"\n",
    "os.listdir(ct_scan_loc)"
   ]
  },
  {
   "cell_type": "markdown",
   "id": "f1eaf5d7",
   "metadata": {},
   "source": [
    "ct_scan_loc = \"/HFIR/CG1D/IPTS-\"+ipts+\"/shared/processed_data/2022_03_11_pristine_filtered\"\n",
    "os.listdir(ct_scan_loc)"
   ]
  },
  {
   "cell_type": "code",
   "execution_count": 29,
   "id": "19028879",
   "metadata": {},
   "outputs": [],
   "source": [
    "# need to change \n",
    "new_dir_name = \"ex_situ_C_Li\"\n",
    "ct_scan_dir = os.path.join(ct_scan_loc, \"2022_03_08_Ex_Situ_C_LI_CT\")\n",
    "\n",
    "shared_loc = \"/HFIR/CG1D/IPTS-\" + ipts + \"/shared/processed_data\"\n",
    "output_dir = os.path.join(shared_loc, \"raw_for_recon\", new_dir_name)"
   ]
  },
  {
   "cell_type": "code",
   "execution_count": 30,
   "id": "d37523e8",
   "metadata": {},
   "outputs": [
    {
     "data": {
      "text/plain": [
       "'/HFIR/CG1D/IPTS-28402/shared/processed_data/raw_for_recon/ex_situ_C_Li'"
      ]
     },
     "execution_count": 30,
     "metadata": {},
     "output_type": "execute_result"
    }
   ],
   "source": [
    "shutil.copytree(ct_scan_dir, output_dir)"
   ]
  },
  {
   "cell_type": "code",
   "execution_count": 31,
   "id": "08b73f07",
   "metadata": {},
   "outputs": [
    {
     "data": {
      "text/plain": [
       "True"
      ]
     },
     "execution_count": 31,
     "metadata": {},
     "output_type": "execute_result"
    }
   ],
   "source": [
    "len(os.listdir(ct_scan_dir)) == len(os.listdir(output_dir))"
   ]
  },
  {
   "cell_type": "code",
   "execution_count": 32,
   "id": "30770000",
   "metadata": {
    "scrolled": true
   },
   "outputs": [],
   "source": [
    "raw_list = []\n",
    "for each_raw in os.listdir(output_dir):\n",
    "    raw_tiff = each_raw.split('_')[-1]\n",
    "    raw = raw_tiff.split('.')[0]\n",
    "    raw_num = int(raw)\n",
    "    raw_list.append(raw_num)\n",
    "raw_min = (min(raw_list))\n",
    "for count, filename in enumerate(os.listdir(output_dir)):\n",
    "    src_file = os.path.join(output_dir, filename)\n",
    "    dst_file = os.path.join(output_dir, rename(filename, new_dir_name, raw_min))\n",
    "          \n",
    "    # rename() function will\n",
    "    # rename all the files\n",
    "    os.rename(src_file, dst_file)"
   ]
  },
  {
   "cell_type": "markdown",
   "id": "3e1a76a1",
   "metadata": {},
   "source": [
    "Open Beam"
   ]
  },
  {
   "cell_type": "code",
   "execution_count": 33,
   "id": "3367e646",
   "metadata": {},
   "outputs": [
    {
     "data": {
      "text/plain": [
       "['2022_03_14_stack1',\n",
       " '2022_03_03_SYM_LI_high_res',\n",
       " '2022_03_04_FUll_LI_2D',\n",
       " '2022_03_08_Ex_Situ_C_LI_CT',\n",
       " '2022_03_07_SYM_C_LI_2D',\n",
       " '2022_03_15_stack2',\n",
       " '2022_03_03_SYM_LI',\n",
       " '2022_03_06_Full_C_LI_2D']"
      ]
     },
     "execution_count": 33,
     "metadata": {},
     "output_type": "execute_result"
    }
   ],
   "source": [
    "ob_loc = \"/HFIR/CG1D/IPTS-\"+ipts+\"/raw/ob\"\n",
    "os.listdir(ob_loc)"
   ]
  },
  {
   "cell_type": "markdown",
   "id": "753ae0b6",
   "metadata": {},
   "source": [
    "ob_loc = \"/HFIR/CG1D/IPTS-28204/raw/ob\"\n",
    "os.listdir(ob_loc)"
   ]
  },
  {
   "cell_type": "code",
   "execution_count": 34,
   "id": "edf99941",
   "metadata": {},
   "outputs": [],
   "source": [
    "# need to change\n",
    "ob_dir = os.path.join(ob_loc, \"2022_03_08_Ex_Situ_C_LI_CT\")"
   ]
  },
  {
   "cell_type": "code",
   "execution_count": 35,
   "id": "899e5ab9",
   "metadata": {},
   "outputs": [
    {
     "name": "stdout",
     "output_type": "stream",
     "text": [
      "20220308_OB_0020_4483.tiff\n",
      "20220308_OB_0020_4485.tiff\n",
      "20220308_OB_0020_4486.tiff\n",
      "20220308_OB_0020_4484.tiff\n",
      "20220308_OB_0020_4487.tiff\n"
     ]
    }
   ],
   "source": [
    "ob_list = []\n",
    "for each_ob in os.listdir(ob_dir):\n",
    "    ob_tiff = each_ob.split('_')[-1]\n",
    "    ob = ob_tiff.split('.')[0]\n",
    "    ob_num = int(ob)\n",
    "    ob_list.append(ob_num)\n",
    "ob_min = (min(ob_list))\n",
    "for count, filename in enumerate(os.listdir(ob_dir)):\n",
    "    src = os.path.join(ob_dir, filename)\n",
    "    print(filename)\n",
    "    dst = os.path.join(output_dir, rename(filename, \"ob\", ob_min))\n",
    "    shutil.copy2(src, dst)"
   ]
  },
  {
   "cell_type": "markdown",
   "id": "1782d5f4",
   "metadata": {},
   "source": [
    "Dark Field"
   ]
  },
  {
   "cell_type": "code",
   "execution_count": 36,
   "id": "a413dead",
   "metadata": {},
   "outputs": [
    {
     "data": {
      "text/plain": [
       "['2022_01_10', '2022_03_03_SYM_LI_high_res']"
      ]
     },
     "execution_count": 36,
     "metadata": {},
     "output_type": "execute_result"
    }
   ],
   "source": [
    "df_loc = \"/HFIR/CG1D/IPTS-\"+ipts+\"/raw/df\"\n",
    "os.listdir(df_loc)"
   ]
  },
  {
   "cell_type": "code",
   "execution_count": 37,
   "id": "f9683e27",
   "metadata": {},
   "outputs": [],
   "source": [
    "# need to change\n",
    "df_dir = os.path.join(df_loc, \"2022_01_10\")"
   ]
  },
  {
   "cell_type": "code",
   "execution_count": 38,
   "id": "4b972fb1",
   "metadata": {},
   "outputs": [
    {
     "name": "stdout",
     "output_type": "stream",
     "text": [
      "20220111_DF_0030_2127.tiff\n",
      "20220111_DF_0030_2125.tiff\n",
      "20220111_DF_0030_2126.tiff\n",
      "20220111_DF_0030_2128.tiff\n",
      "20220111_DF_0030_2129.tiff\n"
     ]
    }
   ],
   "source": [
    "df_list = []\n",
    "for each_df in os.listdir(df_dir):\n",
    "    df_tiff = each_df.split('_')[-1]\n",
    "    df = df_tiff.split('.')[0]\n",
    "    df_num = int(df)\n",
    "    df_list.append(df_num)\n",
    "df_min = (min(df_list))\n",
    "for count, filename in enumerate(os.listdir(df_dir)):\n",
    "    src = os.path.join(df_dir, filename)\n",
    "    print(filename)\n",
    "    dst = os.path.join(output_dir, rename(filename, \"df\", df_min))\n",
    "    shutil.copy2(src, dst)"
   ]
  },
  {
   "cell_type": "code",
   "execution_count": null,
   "id": "230fcd00",
   "metadata": {},
   "outputs": [],
   "source": []
  }
 ],
 "metadata": {
  "kernelspec": {
   "display_name": "ntp_env",
   "language": "python",
   "name": "ntp_env"
  },
  "language_info": {
   "codemirror_mode": {
    "name": "ipython",
    "version": 3
   },
   "file_extension": ".py",
   "mimetype": "text/x-python",
   "name": "python",
   "nbconvert_exporter": "python",
   "pygments_lexer": "ipython3",
   "version": "3.6.13"
  }
 },
 "nbformat": 4,
 "nbformat_minor": 5
}
