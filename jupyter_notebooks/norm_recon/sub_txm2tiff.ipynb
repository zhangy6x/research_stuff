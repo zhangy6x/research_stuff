{
 "cells": [
  {
   "cell_type": "code",
   "execution_count": 1,
   "id": "e1467302",
   "metadata": {
    "scrolled": true
   },
   "outputs": [],
   "source": [
    "import os\n",
    "import tomopy\n",
    "import numpy as np\n",
    "from imars3d.filters import tilt\n",
    "import matplotlib.pyplot as plt\n",
    "import sys\n",
    "root_folder = os.path.dirname(os.getcwd())\n",
    "sys.path.append(root_folder)\n",
    "import utilities as rocku\n",
    "import dxchange\n",
    "import algotom.prep.calculation as calc\n",
    "import algotom.rec.reconstruction as rec\n",
    "import bm3d_streak_removal as bm3d\n",
    "import h5py as h5f\n",
    "from tqdm import tqdm\n",
    "import timeit\n",
    "import multiprocessing as mp\n",
    "import svmbir\n",
    "# import xrmreader"
   ]
  },
  {
   "cell_type": "code",
   "execution_count": 2,
   "id": "b5c11b4e",
   "metadata": {},
   "outputs": [],
   "source": [
    "# %matplotlib notebook\n",
    "%matplotlib inline"
   ]
  },
  {
   "cell_type": "code",
   "execution_count": 3,
   "id": "6816cdec",
   "metadata": {},
   "outputs": [
    {
     "data": {
      "text/plain": [
       "48"
      ]
     },
     "execution_count": 3,
     "metadata": {},
     "output_type": "execute_result"
    }
   ],
   "source": [
    "plt.rcParams['figure.figsize'] = [12, 8]\n",
    "plt.rcParams['figure.dpi'] = 100 # 200 e.g. is really fine, but slower\n",
    "ncore = mp.cpu_count()\n",
    "ncore"
   ]
  },
  {
   "cell_type": "markdown",
   "id": "92bcd45c",
   "metadata": {},
   "source": [
    "# Workflow starts here!"
   ]
  },
  {
   "cell_type": "code",
   "execution_count": 4,
   "id": "6ead894b",
   "metadata": {},
   "outputs": [],
   "source": [
    "###################### need to change start\n",
    "ipts=\"31601\"\n",
    "###################### need to change end"
   ]
  },
  {
   "cell_type": "markdown",
   "id": "73b84922",
   "metadata": {},
   "source": [
    "## Find data location"
   ]
  },
  {
   "cell_type": "code",
   "execution_count": 5,
   "id": "a7861217",
   "metadata": {
    "scrolled": true
   },
   "outputs": [
    {
     "data": {
      "text/plain": [
       "['Z01069_tomo-B_recon.txm',\n",
       " 'Z01069_tomo-B.txrm',\n",
       " 'Z01069_tomo-B_Drift.txrm',\n",
       " 'recon_tiff',\n",
       " 'SideScoutImage.xrm',\n",
       " 'FrontScoutImage.xrm']"
      ]
     },
     "execution_count": 5,
     "metadata": {},
     "output_type": "execute_result"
    }
   ],
   "source": [
    "ct_loc = \"/HFIR/CG1D/IPTS-\"+ipts+\"/shared/processed_data/Z01069/tomo-B\"\n",
    "# ct_loc = \"/HFIR/CG1D/IPTS-\"+ipts+\"/raw/ct_scans\"\n",
    "# ct_loc = \"/HFIR/CG1D/IPTS-\"+ipts+\"/shared/autoreduce/rockit\"\n",
    "# ct_loc = \"/HFIR/CG1D/IPTS-\"+ipts+\"/shared/autoreduce/raw_to_recon\"\n",
    "os.listdir(ct_loc)"
   ]
  },
  {
   "cell_type": "code",
   "execution_count": 6,
   "id": "a756f144",
   "metadata": {},
   "outputs": [],
   "source": [
    "###################### need to change start\n",
    "sample_name = \"Z01069_tomo-B.txrm\""
   ]
  },
  {
   "cell_type": "code",
   "execution_count": 7,
   "id": "d190cf02",
   "metadata": {},
   "outputs": [
    {
     "name": "stdout",
     "output_type": "stream",
     "text": [
      "Loading: /HFIR/CG1D/IPTS-31601/shared/processed_data/Z01069/tomo-B/Z01069_tomo-B.txrm\n",
      "Saving to: /HFIR/CG1D/IPTS-31601/shared/processed_data/Z01069/tomo-B/proj\n"
     ]
    }
   ],
   "source": [
    "# sub_dir = 'recon_tiff'\n",
    "sub_dir = 'proj'\n",
    "metadata = rocku.txm2tiff(ct_loc, sample_name, sub_dir)\n",
    "# dxchange.write_tiff_stack(data, fname='/Downloads/recon')"
   ]
  },
  {
   "cell_type": "code",
   "execution_count": 8,
   "id": "d7c1ec81",
   "metadata": {},
   "outputs": [
    {
     "data": {
      "text/plain": [
       "{'facility': None,\n",
       " 'image_width': 1976,\n",
       " 'image_height': 2026,\n",
       " 'data_type': 5,\n",
       " 'number_of_images': 1986,\n",
       " 'pixel_size': 0.99920654296875,\n",
       " 'reference_filename': b'\\x00\\x00\\x00\\x00\\x00\\x00\\x00\\x00\\x00\\x00\\xd8=M\\x02\\x00\\x00p\\x02\\x00\\x00\\x00\\x00\\x00\\x00@\\xf7\\xdf\\x95\\xff\\x00\\x00\\x00(\\x00\\x00\\x00\\x00\\x00\\x00\\x00\\xf8\\xde\\xa9I\\xff\\x7f\\x00\\x00\\x0b\\x00\\x00\\x00\\x02\\x00\\x00\\x00\\x9e55\\x18\\xff\\x7f\\x00\\x00\\x00\\x00\\x00\\x00\\x00\\x00\\x00\\x00p\\xaa\\x06,M\\x02\\x00\\x00\\x00\\x00\\x00\\x00\\x02\\x00\\x00\\x00\\x00\\x00\\x00\\x00\\x00\\x00\\x00\\x00`\\x00\\x00\\x00\\x00\\x00\\x00\\x00\\x00\\x00\\x00\\x00\\x00\\x00\\x00\\x00\\xe0\\xf8\\xdf\\x95\\xff\\x00\\x00\\x00Wjg%\\xff\\x7f\\x00\\x00\\x01\\x00\\x00\\x00d\\x00\\x00\\x00\\xfe\\xff\\xff\\xff\\xff\\xff\\xff\\xff\\xfe\\xff\\xff\\xff\\xff\\xff\\xff\\xff\\x15\\x1f)\\x18\\xff\\x7f\\x00\\x00(\\x9f\\xf23M\\x02\\x00\\x00\\x90_\\xce:M\\x02\\x00\\x00(\\x9f\\xf23M\\x02\\x00\\x00`\\x00\\x00\\x00\\x00\\x00\\x00\\x00\\xfe\\xff\\xff\\xff\\xff\\xff\\xff\\xff\\x1d\\xces%\\xff\\x7f\\x00\\x00\\x00\\x00\\x00\\x00\\x00\\x00\\x00\\x00\\x00\\x00\\x00\\x00\\x00\\x00\\x00\\x00\\x00\\x00\\x00\\x00\\x00\\x00\\x00\\x00\\x00\\x00\\x00\\x00\\x00\\x00\\x00\\x00\\x00\\x00\\x00\\x00\\x00\\x00\\x00\\x00p\\xaa\\x06,M\\x02\\x00\\x00\\x00\\x00\\x00\\x00',\n",
       " 'reference_data_type': None,\n",
       " 'thetas': array([-8.03494508e-05, -8.03494508e-05, -8.03494508e-05, ...,\n",
       "        -8.03494508e-05, -8.03494508e-05, -8.03494508e-05]),\n",
       " 'x_positions': array([-142.22914124, -142.22914124, -142.22914124, ..., -142.22914124,\n",
       "        -142.22914124, -142.22914124]),\n",
       " 'y_positions': array([-38091.99609375, -38091.        , -38090.        , ...,\n",
       "        -36110.5703125 , -36109.5703125 , -36108.5703125 ]),\n",
       " 'z_positions': array([-486.13949585, -486.13949585, -486.13949585, ..., -486.13949585,\n",
       "        -486.13949585, -486.13949585]),\n",
       " 'x-shifts': None,\n",
       " 'y-shifts': None,\n",
       " 'reference': None}"
      ]
     },
     "execution_count": 8,
     "metadata": {},
     "output_type": "execute_result"
    }
   ],
   "source": [
    "metadata"
   ]
  },
  {
   "cell_type": "code",
   "execution_count": null,
   "id": "ce656f33",
   "metadata": {},
   "outputs": [],
   "source": []
  }
 ],
 "metadata": {
  "kernelspec": {
   "display_name": "rockit",
   "language": "python",
   "name": "rockit"
  },
  "language_info": {
   "codemirror_mode": {
    "name": "ipython",
    "version": 3
   },
   "file_extension": ".py",
   "mimetype": "text/x-python",
   "name": "python",
   "nbconvert_exporter": "python",
   "pygments_lexer": "ipython3",
   "version": "3.10.10"
  }
 },
 "nbformat": 4,
 "nbformat_minor": 5
}
