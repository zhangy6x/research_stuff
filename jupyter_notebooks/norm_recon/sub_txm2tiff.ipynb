{
 "cells": [
  {
   "cell_type": "code",
   "execution_count": 1,
   "id": "e1467302",
   "metadata": {
    "scrolled": true
   },
   "outputs": [],
   "source": [
    "import os\n",
    "import tomopy\n",
    "# import numpy as np\n",
    "# from imars3d.filters import tilt\n",
    "import matplotlib.pyplot as plt\n",
    "import sys\n",
    "root_folder = os.path.dirname(os.getcwd())\n",
    "sys.path.append(root_folder)\n",
    "import utilities as rocku\n",
    "# import dxchange\n",
    "# import algotom.prep.calculation as calc\n",
    "# # import algotom.rec.reconstruction as rec\n",
    "# # import bm3d_streak_removal as bm3d\n",
    "import h5py as h5f\n",
    "from tqdm import tqdm\n",
    "import timeit\n",
    "import multiprocessing as mp\n",
    "from pprint import pprint\n",
    "# import svmbir\n",
    "# import xrmreader"
   ]
  },
  {
   "cell_type": "code",
   "execution_count": 2,
   "id": "b5c11b4e",
   "metadata": {},
   "outputs": [],
   "source": [
    "# %matplotlib notebook\n",
    "%matplotlib inline"
   ]
  },
  {
   "cell_type": "code",
   "execution_count": 3,
   "id": "6816cdec",
   "metadata": {},
   "outputs": [
    {
     "data": {
      "text/plain": [
       "64"
      ]
     },
     "execution_count": 3,
     "metadata": {},
     "output_type": "execute_result"
    }
   ],
   "source": [
    "plt.rcParams['figure.figsize'] = [12, 8]\n",
    "plt.rcParams['figure.dpi'] = 100 # 200 e.g. is really fine, but slower\n",
    "ncore = mp.cpu_count()\n",
    "ncore"
   ]
  },
  {
   "cell_type": "markdown",
   "id": "92bcd45c",
   "metadata": {},
   "source": [
    "# Workflow starts here!"
   ]
  },
  {
   "cell_type": "code",
   "execution_count": 4,
   "id": "6ead894b",
   "metadata": {},
   "outputs": [],
   "source": [
    "###################### need to change start\n",
    "ipts=\"32425\"\n",
    "###################### need to change end"
   ]
  },
  {
   "cell_type": "markdown",
   "id": "73b84922",
   "metadata": {},
   "source": [
    "## Find data location"
   ]
  },
  {
   "cell_type": "code",
   "execution_count": 8,
   "id": "a7861217",
   "metadata": {
    "scrolled": true
   },
   "outputs": [
    {
     "data": {
      "text/plain": [
       "['Z01190_tomo-A_recon.txm',\n",
       " 'Z01190_tomo-A_Drift.txrm',\n",
       " 'SideScoutImage.xrm',\n",
       " 'FrontScoutImage.xrm',\n",
       " 'Z01190_tomo-A.txrm']"
      ]
     },
     "execution_count": 8,
     "metadata": {},
     "output_type": "execute_result"
    }
   ],
   "source": [
    "# data_loc = \"/HFIR/CG1D/IPTS-\"+ipts+\"/shared/processed_data/Z01068_2023-10-10_134208/tomo-A\"\n",
    "data_loc = \"/HFIR/CG1D/IPTS-\"+ipts+\"/shared/xray_data/Z01190_2024-10-09_131424/tomo-A\"\n",
    "os.listdir(data_loc)"
   ]
  },
  {
   "cell_type": "code",
   "execution_count": 9,
   "id": "d190cf02",
   "metadata": {},
   "outputs": [
    {
     "name": "stdout",
     "output_type": "stream",
     "text": [
      "Pool: ['Z01190_tomo-A_recon.txm', 'Z01190_tomo-A_Drift.txrm', 'SideScoutImage.xrm', 'FrontScoutImage.xrm', 'Z01190_tomo-A.txrm']\n",
      "Found: ['Z01190_tomo-A.txrm', 'Z01190_tomo-A_Drift.txrm', 'Z01190_tomo-A_recon.txm']\n",
      "Loading: /HFIR/CG1D/IPTS-32425/shared/xray_data/Z01190_2024-10-09_131424/tomo-A/Z01190_tomo-A.txrm\n",
      "Saving to: /HFIR/CG1D/IPTS-32425/shared/xray_data/Z01190_2024-10-09_131424/tomo-A/proj\n",
      "Loading: /HFIR/CG1D/IPTS-32425/shared/xray_data/Z01190_2024-10-09_131424/tomo-A/Z01190_tomo-A_Drift.txrm\n",
      "Saving to: /HFIR/CG1D/IPTS-32425/shared/xray_data/Z01190_2024-10-09_131424/tomo-A/proj\n",
      "Loading: /HFIR/CG1D/IPTS-32425/shared/xray_data/Z01190_2024-10-09_131424/tomo-A/Z01190_tomo-A_recon.txm\n",
      "Saving to: /HFIR/CG1D/IPTS-32425/shared/xray_data/Z01190_2024-10-09_131424/tomo-A/recon\n"
     ]
    }
   ],
   "source": [
    "txrm_list = rocku.find_txrm(data_loc, incl_xrm=False)\n",
    "metadata_dict = {}\n",
    "for each in txrm_list:\n",
    "    metadata = rocku.txm2tiff(data_loc, each)\n",
    "    metadata_dict[each] = metadata"
   ]
  },
  {
   "cell_type": "code",
   "execution_count": 10,
   "id": "d7c1ec81",
   "metadata": {},
   "outputs": [
    {
     "data": {
      "text/plain": [
       "{'Z01190_tomo-A.txrm': {'facility': None,\n",
       "  'image_width': 2048,\n",
       "  'image_height': 2048,\n",
       "  'data_type': 5,\n",
       "  'number_of_images': 1601,\n",
       "  'pixel_size': 6.319701671600342,\n",
       "  'reference_filename': b'\\x00\\x00\\x00\\x00\\x00\\x00\\x00\\x00\\x00\\x00-\\xab\\xda\\x01\\x00\\x00p\\x02\\x00\\x00\\x00\\x00\\x00\\x00\\xa0\\xf3\\xd7\\xa9Z\\x00\\x00\\x00(\\x00\\x00\\x00\\x00\\x00\\x00\\x00\\xf8\\xde\\xef\\xdb\\xf8\\x7f\\x00\\x00\\x00O\\x9d\\xdd\\x02\\x00\\x00\\x00\\x9e54\\xab\\xf8\\x7f\\x00\\x00\\x00\\x00\\x00\\x00\\x00\\x00\\x00\\x00\\x10?\\xf9\\x9b\\xda\\x01\\x00\\x00\\x00\\x00\\x00\\x00\\x02\\x00\\x00\\x00\\x00\\x00\\x00\\x00\\x00\\x00\\x00\\x00`\\x00\\x00\\x00\\x00\\x00\\x00\\x00\\x00\\x00\\x00\\x00\\x00\\x00\\x00\\x00@\\xf5\\xd7\\xa9Z\\x00\\x00\\x00WjU\\xb9\\xf8\\x7f\\x00\\x00\\x01\\x00\\x00\\x00d\\x00\\x00\\x00\\xfe\\xff\\xff\\xff\\xff\\xff\\xff\\xff\\xfe\\xff\\xff\\xff\\xff\\xff\\xff\\xff\\x15\\x1f(\\xab\\xf8\\x7f\\x00\\x00X\\xd2\\x1a\\x9e\\xda\\x01\\x00\\x00\\xa0`\\x9d\\xdd\\xdb\\x01\\x00\\x00X\\xd2\\x1a\\x9e\\xda\\x01\\x00\\x00`\\x00\\x00\\x00\\x00\\x00\\x00\\x00\\xfe\\xff\\xff\\xff\\xff\\xff\\xff\\xff<\\xf94\\xab\\xf8\\x7f\\x00\\x00\\x00\\x00\\x00\\x00\\x00\\x00\\x00\\x00\\x00\\x00\\x00\\x00\\x00\\x00\\x00\\x00\\x00\\x00\\x00\\x00\\x00\\x00\\x00\\x00\\x00\\x00\\x00\\x00\\x00\\x00\\x00\\x00\\x00\\x00\\x00\\x00\\x00\\x00\\x00\\x00\\x10?\\xf9\\x9b\\xda\\x01\\x00\\x00\\x00\\x00\\x00\\x00',\n",
       "  'reference_data_type': 10,\n",
       "  'thetas': array([-3.14146243, -3.13771216, -3.13381755, ...,  3.13363007,\n",
       "          3.13756089,  3.14148799]),\n",
       "  'x_positions': array([199.        , 303.8999939 , 155.75      , ..., 216.94999695,\n",
       "         173.40000916, 275.75      ]),\n",
       "  'y_positions': array([-70619.8984375, -70639.       , -70556.3515625, ...,\n",
       "         -70684.5546875, -70559.1015625, -70578.6484375]),\n",
       "  'z_positions': array([-866.40002441, -866.20001221, -866.95001221, ..., -866.79998779,\n",
       "         -866.40002441, -866.40002441]),\n",
       "  'x-shifts': array([ -1.88247836, -18.47204399,   4.98030758, ...,  -2.4564538 ,\n",
       "           4.43565702, -11.7591114 ]),\n",
       "  'y-shifts': array([ 0.80063945, -2.23742723, 10.82497787, ..., -9.58295345,\n",
       "         10.26703262,  7.17289782]),\n",
       "  'reference': array([[4474.7007, 4464.7783, 4493.529 , ..., 4535.139 , 4214.125 ,\n",
       "          4090.5842],\n",
       "         [4541.889 , 4543.845 , 4561.056 , ..., 4722.423 , 4597.029 ,\n",
       "          4851.584 ],\n",
       "         [4546.362 , 4566.812 , 4558.806 , ..., 4710.083 , 4650.6396,\n",
       "          4854.8335],\n",
       "         ...,\n",
       "         [4756.0283, 4754.5835, 4765.7783, ..., 4941.723 , 4902.49  ,\n",
       "          5131.178 ],\n",
       "         [4773.2095, 4721.083 , 4766.2285, ..., 4914.112 , 4902.2905,\n",
       "          5084.7783],\n",
       "         [4537.112 , 4504.667 , 4567.64  , ..., 4638.0786, 4359.323 ,\n",
       "          4266.195 ]], dtype=float32)},\n",
       " 'Z01190_tomo-A_Drift.txrm': {'facility': None,\n",
       "  'image_width': 2048,\n",
       "  'image_height': 2048,\n",
       "  'data_type': 5,\n",
       "  'number_of_images': 11,\n",
       "  'pixel_size': 6.319701671600342,\n",
       "  'reference_filename': b'\\x00\\x00\\x00\\x00\\x88\\x1a\\xdb\\x01w\\xa3\\xfb\\xd8\\xf8\\x7f\\x00\\x00\\x01\\x00\\x00\\x00\\x00\\x00\\x00\\x00\\x92\\xff\\xff\\x7f\\x00\\x00\\x00\\x00\\x00\\x00\\x00\\x00\\x00\\x00\\x00\\x007\\x19\\xfb\\xd8\\xf8\\x7f\\x00\\x00\\xa0\\xf0\\x97\\xcbY\\x00\\x00\\x00\\x9e54\\xab\\xf8\\x7f\\x00\\x00\\x90\\xf0\\x97\\xcbY\\x00\\x00\\x00\\x00\\x00\\x00\\x00\\x00\\x00\\x00\\x00\\x90\\xf0\\x97\\xcbY\\x00\\x00\\x00\\x01\\x00\\x00\\x00\\x00\\x00\\x00\\x00\\x00\\x00\\x00\\x00\\x00\\x00\\x00\\x00\\x00\\x00\\x00\\x00\\x00\\x00\\x00\\x00\\x92\\xff\\xff\\x7f\\x00\\x00\\x00\\x00\\x00\\x00\\x00\\x00\\x00\\x00\\x00\\x00\\x01g\\xe0Id\\x00\\x00\\x00\\xfe\\xff\\xff\\xff\\xff\\xff\\xff\\xff\\xfe\\xff\\xff\\xff\\xff\\xff\\xff\\xff\\x00\\x00\\x00\\x00\\x00\\x00\\x00\\x00\\x00\\x00\\x00\\x00\\x00\\x00\\x00\\x00\\x00\\x00\\x00\\x00\\x00\\x00\\x00\\x00\\x00\\x00\\x00\\x00\\x00\\x00\\x00\\x00\\x00\\x00\\x00\\x00\\x00\\x00\\x00\\x00\\x00\\x00\\x00\\x00\\x00\\x00\\x00\\x00\\xaf\\xd0)\\xdb\\xf8\\x7f\\x00\\x00\\xe8\\x07\\n\\x00\\x03\\x00\\t\\x00\\x98\\xd2)\\xdb\\xf8\\x7f\\x00\\x00\\x1fv\\x007\\x93\\xe0\\x00\\x00\\x10\\xf1\\x97\\xcbY\\x00\\x00\\x00\\x00\\x00\\x00\\x00\\x00\\x00\\x00\\x00\\xb8g\\xe0I\\xdb\\x01\\x00\\x00\\x10\\x11\\x88\\xd9',\n",
       "  'reference_data_type': 5,\n",
       "  'thetas': array([-1.04719756e-04, -4.41786468e-05, -8.72664688e-05, -4.41786468e-05,\n",
       "         -4.41786468e-05,  2.61799390e-05,  8.72664688e-05,  1.04719756e-04,\n",
       "          6.10865257e-05,  6.10865257e-05,  2.61799390e-05]),\n",
       "  'x_positions': array([198.8500061 , 198.80000305, 198.75      , 199.05000305,\n",
       "         198.8500061 , 198.90000916, 198.8500061 , 198.90000916,\n",
       "         198.90000916, 198.90000916, 198.90000916]),\n",
       "  'y_positions': array([-70619.8046875, -70619.8515625, -70619.8515625, -70619.8515625,\n",
       "         -70619.8515625, -70619.953125 , -70619.8515625, -70619.8515625,\n",
       "         -70619.8515625, -70619.8515625, -70619.8515625]),\n",
       "  'z_positions': array([-866.45001221, -866.5       , -866.40002441, -866.65002441,\n",
       "         -866.60003662, -866.5       , -866.45001221, -866.40002441,\n",
       "         -866.65002441, -866.65002441, -866.45001221]),\n",
       "  'x-shifts': array([0., 0., 0., 0., 0., 0., 0., 0., 0., 0., 0.]),\n",
       "  'y-shifts': array([0., 0., 0., 0., 0., 0., 0., 0., 0., 0., 0.]),\n",
       "  'reference': array([[4475, 4465, 4494, ..., 4535, 4214, 4091],\n",
       "         [4542, 4544, 4561, ..., 4722, 4597, 4852],\n",
       "         [4546, 4567, 4559, ..., 4710, 4651, 4855],\n",
       "         ...,\n",
       "         [4756, 4755, 4766, ..., 4942, 4902, 5131],\n",
       "         [4773, 4721, 4766, ..., 4914, 4902, 5085],\n",
       "         [4537, 4505, 4568, ..., 4638, 4359, 4266]], dtype=uint16)},\n",
       " 'Z01190_tomo-A_recon.txm': {'facility': None,\n",
       "  'image_width': 2007,\n",
       "  'image_height': 2048,\n",
       "  'data_type': 10,\n",
       "  'number_of_images': 2024,\n",
       "  'pixel_size': 6.319701671600342,\n",
       "  'reference_filename': b'\\x00\\x00\\x00\\x00\\x00\\x00\\x00\\x00\\x00\\x00-\\xab\\xda\\x01\\x00\\x00p\\x02\\x00\\x00\\x00\\x00\\x00\\x00\\xa0\\xf3\\xd7\\xa9Z\\x00\\x00\\x00(\\x00\\x00\\x00\\x00\\x00\\x00\\x00\\xf8\\xde\\xef\\xdb\\xf8\\x7f\\x00\\x00p\\xc3\\x1a\\x9e\\x02\\x00\\x00\\x00\\x9e54\\xab\\xf8\\x7f\\x00\\x00\\x00\\x00\\x00\\x00\\x00\\x00\\x00\\x00\\x10?\\xf9\\x9b\\xda\\x01\\x00\\x00\\x00\\x00\\x00\\x00\\x02\\x00\\x00\\x00\\x00\\x00\\x00\\x00\\x00\\x00\\x00\\x00`\\x00\\x00\\x00\\x00\\x00\\x00\\x00\\x00\\x00\\x00\\x00\\x00\\x00\\x00\\x00@\\xf5\\xd7\\xa9Z\\x00\\x00\\x00WjU\\xb9\\xf8\\x7f\\x00\\x00\\x01\\x00\\x00\\x00d\\x00\\x00\\x00\\xfe\\xff\\xff\\xff\\xff\\xff\\xff\\xff\\xfe\\xff\\xff\\xff\\xff\\xff\\xff\\xff\\x15\\x1f(\\xab\\xf8\\x7f\\x00\\x00\\xd8\\xcf\\x1a\\x9e\\xda\\x01\\x00\\x00@U\\x9d\\xdd\\xdb\\x01\\x00\\x00\\xd8\\xcf\\x1a\\x9e\\xda\\x01\\x00\\x00`\\x00\\x00\\x00\\x00\\x00\\x00\\x00\\xfe\\xff\\xff\\xff\\xff\\xff\\xff\\xff\\x1d\\xcea\\xb9\\xf8\\x7f\\x00\\x00\\x00\\x00\\x00\\x00\\x00\\x00\\x00\\x00\\x00\\x00\\x00\\x00\\x00\\x00\\x00\\x00\\x00\\x00\\x00\\x00\\x00\\x00\\x00\\x00\\x00\\x00\\x00\\x00\\x00\\x00\\x00\\x00\\x00\\x00\\x00\\x00\\x00\\x00\\x00\\x00\\x10?\\xf9\\x9b\\xda\\x01\\x00\\x00\\x00\\x00\\x00\\x00',\n",
       "  'reference_data_type': None,\n",
       "  'thetas': array([-7.70530249e-05, -7.70530249e-05, -7.70530249e-05, ...,\n",
       "         -7.70530249e-05, -7.70530249e-05, -7.70530249e-05]),\n",
       "  'x_positions': array([189.42887878, 189.42887878, 189.42887878, ..., 189.42887878,\n",
       "         189.42887878, 189.42887878]),\n",
       "  'y_positions': array([-77015.4375   , -77009.1171875, -77002.796875 , ...,\n",
       "         -64243.3203125, -64237.       , -64230.6796875]),\n",
       "  'z_positions': array([-866.25909424, -866.25909424, -866.25909424, ..., -866.25909424,\n",
       "         -866.25909424, -866.25909424]),\n",
       "  'x-shifts': None,\n",
       "  'y-shifts': None,\n",
       "  'reference': None}}"
      ]
     },
     "execution_count": 10,
     "metadata": {},
     "output_type": "execute_result"
    }
   ],
   "source": [
    "metadata_dict"
   ]
  },
  {
   "cell_type": "code",
   "execution_count": null,
   "id": "04c72d4d",
   "metadata": {},
   "outputs": [],
   "source": []
  }
 ],
 "metadata": {
  "kernelspec": {
   "display_name": "rockit",
   "language": "python",
   "name": "rockit"
  },
  "language_info": {
   "codemirror_mode": {
    "name": "ipython",
    "version": 3
   },
   "file_extension": ".py",
   "mimetype": "text/x-python",
   "name": "python",
   "nbconvert_exporter": "python",
   "pygments_lexer": "ipython3",
   "version": "3.10.14"
  }
 },
 "nbformat": 4,
 "nbformat_minor": 5
}
