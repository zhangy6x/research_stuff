{
 "cells": [
  {
   "cell_type": "code",
   "execution_count": 1,
   "id": "e1467302",
   "metadata": {
    "scrolled": true
   },
   "outputs": [],
   "source": [
    "import os\n",
    "import tomopy\n",
    "# import numpy as np\n",
    "# from imars3d.filters import tilt\n",
    "import matplotlib.pyplot as plt\n",
    "import sys\n",
    "root_folder = os.path.dirname(os.getcwd())\n",
    "sys.path.append(root_folder)\n",
    "import utilities as rocku\n",
    "# import dxchange\n",
    "# import algotom.prep.calculation as calc\n",
    "# # import algotom.rec.reconstruction as rec\n",
    "# # import bm3d_streak_removal as bm3d\n",
    "import h5py as h5f\n",
    "from tqdm import tqdm\n",
    "import timeit\n",
    "import multiprocessing as mp\n",
    "from pprint import pprint\n",
    "# import svmbir\n",
    "# import xrmreader"
   ]
  },
  {
   "cell_type": "code",
   "execution_count": 2,
   "id": "b5c11b4e",
   "metadata": {},
   "outputs": [],
   "source": [
    "# %matplotlib notebook\n",
    "%matplotlib inline"
   ]
  },
  {
   "cell_type": "code",
   "execution_count": 3,
   "id": "6816cdec",
   "metadata": {},
   "outputs": [
    {
     "data": {
      "text/plain": [
       "48"
      ]
     },
     "execution_count": 3,
     "metadata": {},
     "output_type": "execute_result"
    }
   ],
   "source": [
    "plt.rcParams['figure.figsize'] = [12, 8]\n",
    "plt.rcParams['figure.dpi'] = 100 # 200 e.g. is really fine, but slower\n",
    "ncore = mp.cpu_count()\n",
    "ncore"
   ]
  },
  {
   "cell_type": "markdown",
   "id": "92bcd45c",
   "metadata": {},
   "source": [
    "# Workflow starts here!"
   ]
  },
  {
   "cell_type": "code",
   "execution_count": 4,
   "id": "6ead894b",
   "metadata": {},
   "outputs": [],
   "source": [
    "###################### need to change start\n",
    "ipts=\"31601\"\n",
    "###################### need to change end"
   ]
  },
  {
   "cell_type": "markdown",
   "id": "73b84922",
   "metadata": {},
   "source": [
    "## Find data location"
   ]
  },
  {
   "cell_type": "code",
   "execution_count": 9,
   "id": "a7861217",
   "metadata": {
    "scrolled": true
   },
   "outputs": [
    {
     "data": {
      "text/plain": [
       "['Z01069_tomo-C_recon.txm',\n",
       " 'Z01069_tomo-C_Drift.txrm',\n",
       " 'Z01069_tomo-C.txrm',\n",
       " 'SideScoutImage.xrm',\n",
       " 'FrontScoutImage.xrm']"
      ]
     },
     "execution_count": 9,
     "metadata": {},
     "output_type": "execute_result"
    }
   ],
   "source": [
    "# data_loc = \"/HFIR/CG1D/IPTS-\"+ipts+\"/shared/processed_data/Z01068_2023-10-10_134208/tomo-A\"\n",
    "data_loc = \"/HFIR/CG1D/IPTS-\"+ipts+\"/shared/processed_data/Z01069_2023-10-10_162122/tomo-C\"\n",
    "os.listdir(data_loc)"
   ]
  },
  {
   "cell_type": "code",
   "execution_count": 10,
   "id": "d190cf02",
   "metadata": {
    "scrolled": false
   },
   "outputs": [
    {
     "name": "stdout",
     "output_type": "stream",
     "text": [
      "Pool: ['Z01069_tomo-C_recon.txm', 'Z01069_tomo-C_Drift.txrm', 'Z01069_tomo-C.txrm', 'SideScoutImage.xrm', 'FrontScoutImage.xrm']\n",
      "Found: ['Z01069_tomo-C.txrm', 'Z01069_tomo-C_Drift.txrm', 'Z01069_tomo-C_recon.txm']\n",
      "Loading: /HFIR/CG1D/IPTS-31601/shared/processed_data/Z01069_2023-10-10_162122/tomo-C/Z01069_tomo-C.txrm\n",
      "Saving to: /HFIR/CG1D/IPTS-31601/shared/processed_data/Z01069_2023-10-10_162122/tomo-C/proj\n",
      "Loading: /HFIR/CG1D/IPTS-31601/shared/processed_data/Z01069_2023-10-10_162122/tomo-C/Z01069_tomo-C_Drift.txrm\n",
      "Saving to: /HFIR/CG1D/IPTS-31601/shared/processed_data/Z01069_2023-10-10_162122/tomo-C/proj\n",
      "Loading: /HFIR/CG1D/IPTS-31601/shared/processed_data/Z01069_2023-10-10_162122/tomo-C/Z01069_tomo-C_recon.txm\n",
      "Saving to: /HFIR/CG1D/IPTS-31601/shared/processed_data/Z01069_2023-10-10_162122/tomo-C/recon\n"
     ]
    }
   ],
   "source": [
    "txrm_list = rocku.find_txrm(data_loc, incl_xrm=False)\n",
    "metadata_dict = {}\n",
    "for each in txrm_list:\n",
    "    metadata = rocku.txm2tiff(data_loc, each)\n",
    "    metadata_dict[each] = metadata"
   ]
  },
  {
   "cell_type": "code",
   "execution_count": 11,
   "id": "d7c1ec81",
   "metadata": {},
   "outputs": [
    {
     "data": {
      "text/plain": [
       "{'Z01069_tomo-C.txrm': {'facility': None,\n",
       "  'image_width': 2026,\n",
       "  'image_height': 2026,\n",
       "  'data_type': 5,\n",
       "  'number_of_images': 1601,\n",
       "  'pixel_size': 0.9993544816970825,\n",
       "  'reference_filename': b'\\x00\\x00\\x00\\x00\\x00\\x00\\x00\\x00\\x00\\x00\\xf1jd\\x02\\x00\\x00p\\x02\\x00\\x00\\x00\\x00\\x00\\x00\\xc0\\xf2G\\xb2\\xae\\x00\\x00\\x00(\\x00\\x00\\x00\\x00\\x00\\x00\\x00\\xf8\\xde\\xa9I\\xff\\x7f\\x00\\x00\\x00\\xe5\\x8e1\\x02\\x00\\x00\\x00\\x9e55\\x18\\xff\\x7f\\x00\\x00\\x00\\x00\\x00\\x00\\x00\\x00\\x00\\x00\\x10R\\xfa\\x19d\\x02\\x00\\x00\\x00\\x00\\x00\\x00\\x00\\x00\\x00\\x00\\x00\\x00\\x00\\x00\\x00\\x00\\x00\\x00`\\x00\\x00\\x00\\x00\\x00\\x00\\x00\\x00\\x00\\x00\\x00\\x00\\x00\\x00\\x00`\\xf4G\\xb2\\xae\\x00\\x00\\x00Wjg%\\xff\\x7f\\x00\\x00\\x01\\x00\\x00\\x00d\\x00\\x00\\x00\\xfe\\xff\\xff\\xff\\xff\\xff\\xff\\xff\\xfe\\xff\\xff\\xff\\xff\\xff\\xff\\xff\\x15\\x1f)\\x18\\xff\\x7f\\x00\\x00x\\x146(d\\x02\\x00\\x00`\\xe3\\x8e1d\\x02\\x00\\x00x\\x146(d\\x02\\x00\\x00`\\x00\\x00\\x00\\x00\\x00\\x00\\x00\\xfe\\xff\\xff\\xff\\xff\\xff\\xff\\xff<\\xf95\\x18\\xff\\x7f\\x00\\x00\\x00\\x00\\x00\\x00\\x00\\x00\\x00\\x00\\x00\\x00\\x00\\x00\\x00\\x00\\x00\\x00\\x00\\x00\\x00\\x00\\x00\\x00\\x00\\x00\\x00\\x00\\x00\\x00\\x00\\x00\\x00\\x000\\x00\\x00\\x00\\x00\\x00\\x00\\x000\\x00\\x00\\x00\\x00\\x00\\x00\\x00\\x00\\x00\\x00\\x00',\n",
       "  'reference_data_type': 10,\n",
       "  'thetas': array([-3.14144511, -3.13778487, -3.13385244, ...,  3.13366389,\n",
       "          3.13757155,  3.14151276]),\n",
       "  'x_positions': array([312.30001831, 329.1000061 , 305.3500061 , ..., 315.25      ,\n",
       "         308.1499939 , 324.55001831]),\n",
       "  'y_positions': array([-40426.05078125, -40430.55078125, -40411.40234375, ...,\n",
       "         -40441.19921875, -40412.05078125, -40416.75      ]),\n",
       "  'z_positions': array([-355.45001221, -355.6499939 , -355.6499939 , ..., -355.6499939 ,\n",
       "         -355.6000061 , -355.6499939 ]),\n",
       "  'x-shifts': array([ -0.24285984, -17.06512833,   6.68857861, ...,  -2.15011334,\n",
       "           4.96211815, -11.44102192]),\n",
       "  'y-shifts': array([ -4.80027866,  -9.30920982,   9.84591198, ..., -12.86384583,\n",
       "          16.30607224,  11.60644341]),\n",
       "  'reference': array([[5677.0005 , 5647.567  , 5695.9727 , ...,  468.0279 ,  452.58337,\n",
       "           435.77783],\n",
       "         [5620.0557 , 5698.501  , 5684.626  , ...,  463.11673,  459.2699 ,\n",
       "           445.1468 ],\n",
       "         [5693.7275 , 5685.995  , 5713.472  , ...,  471.19443,  452.90277,\n",
       "           449.22223],\n",
       "         ...,\n",
       "         [ 327.5    ,  343.3056 ,  353.47223, ...,  159.17781,  160.72223,\n",
       "           158.77783],\n",
       "         [ 324.34528,  335.74213,  357.58337, ...,  165.37778,  156.98613,\n",
       "           156.57144],\n",
       "         [ 331.34448,  339.47223,  349.72226, ...,  149.58337,  151.25   ,\n",
       "           152.88892]], dtype=float32)},\n",
       " 'Z01069_tomo-C_Drift.txrm': {'facility': None,\n",
       "  'image_width': 2026,\n",
       "  'image_height': 2026,\n",
       "  'data_type': 5,\n",
       "  'number_of_images': 11,\n",
       "  'pixel_size': 0.9993544816970825,\n",
       "  'reference_filename': b'\\x00\\x00\\x00\\x00@\\xfc\\xd9\\x01w\\xa3DF\\xff\\x7f\\x00\\x00\\x01\\x00\\x00\\x00\\x00\\x00\\x00\\x00\\x92\\xff\\xff\\x7f\\x00\\x00\\x00\\x00\\x00\\x00\\x00\\x00\\x00\\x00\\x00\\x007\\x19DF\\xff\\x7f\\x00\\x00p\\xf1\\x87\\x92\\xff\\x00\\x00\\x00\\x9e55\\x18\\xff\\x7f\\x00\\x00`\\xf1\\x87\\x92\\xff\\x00\\x00\\x00\\x00\\x00\\x00\\x00\\x00\\x00\\x00\\x00`\\xf1\\x87\\x92\\xff\\x00\\x00\\x00\\x01\\x00\\x00\\x00\\x00\\x00\\x00\\x00\\x00\\x00\\x00\\x00\\x00\\x00\\x00\\x00\\x00\\x00\\x00\\x00\\x00\\x00\\x00\\x00\\x92\\xff\\xff\\x7f\\x00\\x00\\x00\\x00\\x00\\x00\\x00\\x00\\x00\\x00\\x00\\x00\\x01\\xaa\\xaa+d\\x00\\x00\\x00\\xfe\\xff\\xff\\xff\\xff\\xff\\xff\\xff\\xfe\\xff\\xff\\xff\\xff\\xff\\xff\\xff\\x00\\x00\\x00\\x00\\x00\\x00\\x00\\x00\\x00\\x00\\x00\\x00\\x00\\x00\\x00\\x00\\x00\\x00\\x00\\x00\\x00\\x00\\x00\\x00\\x00\\x00\\x00\\x00\\x00\\x00\\x00\\x00\\x00\\x00\\x00\\x00\\x00\\x00\\x00\\x00\\x00\\x00\\x00\\x00\\x00\\x00\\x00\\x00\\xaf\\xd0\\x83I\\xff\\x7f\\x00\\x00\\xe7\\x07\\n\\x00\\x03\\x00\\x0b\\x00\\x98\\xd2\\x83I\\xff\\x7f\\x00\\x00\\x9ez\\x7f6w<\\x00\\x00\\xe0\\xf1\\x87\\x92\\xff\\x00\\x00\\x00\\x00\\x00\\x00\\x00\\x00\\x00\\x00\\x00\\xf8\\xaa\\xaa+M\\x02\\x00\\x00\\x90:7\\xcf',\n",
       "  'reference_data_type': 5,\n",
       "  'thetas': array([-1.22173051e-04, -1.04719756e-04, -1.39626347e-04, -1.22173051e-04,\n",
       "         -7.90852376e-05,  2.61799390e-05, -4.36332344e-05,  2.61799390e-05,\n",
       "         -4.36332344e-05, -4.36332344e-05, -8.72664667e-06]),\n",
       "  'x_positions': array([312.3500061 , 312.45001221, 312.30001831, 312.5       ,\n",
       "         312.25      , 312.20001221, 312.3999939 , 312.70001221,\n",
       "         312.5       , 312.6000061 , 312.30001831]),\n",
       "  'y_positions': array([-40426.05078125, -40426.        , -40426.05078125, -40426.05078125,\n",
       "         -40426.05078125, -40426.05078125, -40426.        , -40425.94921875,\n",
       "         -40426.        , -40426.05078125, -40426.        ]),\n",
       "  'z_positions': array([-355.3999939 , -355.1499939 , -355.45001221, -355.70001221,\n",
       "         -355.70001221, -355.6499939 , -355.6000061 , -355.05001831,\n",
       "         -355.70001221, -355.70001221, -355.55001831]),\n",
       "  'x-shifts': array([0., 0., 0., 0., 0., 0., 0., 0., 0., 0., 0.]),\n",
       "  'y-shifts': array([0., 0., 0., 0., 0., 0., 0., 0., 0., 0., 0.]),\n",
       "  'reference': array([[5677, 5648, 5696, ...,  468,  453,  436],\n",
       "         [5620, 5699, 5685, ...,  463,  459,  445],\n",
       "         [5694, 5686, 5713, ...,  471,  453,  449],\n",
       "         ...,\n",
       "         [ 328,  343,  353, ...,  159,  161,  159],\n",
       "         [ 324,  336,  358, ...,  165,  157,  157],\n",
       "         [ 331,  339,  350, ...,  150,  151,  153]], dtype=uint16)},\n",
       " 'Z01069_tomo-C_recon.txm': {'facility': None,\n",
       "  'image_width': 1923,\n",
       "  'image_height': 2026,\n",
       "  'data_type': 5,\n",
       "  'number_of_images': 1986,\n",
       "  'pixel_size': 0.9993544816970825,\n",
       "  'reference_filename': b'\\x00\\x00\\x00\\x00\\x00\\x00\\x00\\x00\\x00\\x00\\xf1jd\\x02\\x00\\x00p\\x02\\x00\\x00\\x00\\x00\\x00\\x00\\xc0\\xf2G\\xb2\\xae\\x00\\x00\\x00(\\x00\\x00\\x00\\x00\\x00\\x00\\x00\\xf8\\xde\\xa9I\\xff\\x7f\\x00\\x00P\\x85\\x1fx\\x02\\x00\\x00\\x00\\x9e55\\x18\\xff\\x7f\\x00\\x00\\x00\\x00\\x00\\x00\\x00\\x00\\x00\\x00\\x10R\\xfa\\x19d\\x02\\x00\\x00\\x00\\x00\\x00\\x00\\x00\\x00\\x00\\x00\\x00\\x00\\x00\\x00\\x00\\x00\\x00\\x00`\\x00\\x00\\x00\\x00\\x00\\x00\\x00\\x00\\x00\\x00\\x00\\x00\\x00\\x00\\x00`\\xf4G\\xb2\\xae\\x00\\x00\\x00Wjg%\\xff\\x7f\\x00\\x00\\x01\\x00\\x00\\x00d\\x00\\x00\\x00\\xfe\\xff\\xff\\xff\\xff\\xff\\xff\\xff\\xfe\\xff\\xff\\xff\\xff\\xff\\xff\\xff\\x15\\x1f)\\x18\\xff\\x7f\\x00\\x00\\xf8\\x076(d\\x02\\x00\\x00\\xb0\\xe4\\x8e1d\\x02\\x00\\x00\\xf8\\x076(d\\x02\\x00\\x00`\\x00\\x00\\x00\\x00\\x00\\x00\\x00\\xfe\\xff\\xff\\xff\\xff\\xff\\xff\\xff\\x1d\\xces%\\xff\\x7f\\x00\\x00\\x00\\x00\\x00\\x00\\x00\\x00\\x00\\x00\\x00\\x00\\x00\\x00\\x00\\x00\\x00\\x00\\x00\\x00\\x00\\x00\\x00\\x00\\x00\\x00\\x00\\x00\\x00\\x00\\x00\\x00\\x00\\x000\\x00\\x00\\x00\\x00\\x00\\x00\\x000\\x00\\x00\\x00\\x00\\x00\\x00\\x00\\x00\\x00\\x00\\x00',\n",
       "  'reference_data_type': None,\n",
       "  'thetas': array([-8.08834158e-05, -8.08834158e-05, -8.08834158e-05, ...,\n",
       "         -8.08834158e-05, -8.08834158e-05, -8.08834158e-05]),\n",
       "  'x_positions': array([335.75454712, 335.75454712, 335.75454712, ..., 335.75454712,\n",
       "         335.75454712, 335.75454712]),\n",
       "  'y_positions': array([-41419.5234375, -41418.5234375, -41417.5234375, ...,\n",
       "         -39437.8046875, -39436.8046875, -39435.8046875]),\n",
       "  'z_positions': array([-355.58898926, -355.58898926, -355.58898926, ..., -355.58898926,\n",
       "         -355.58898926, -355.58898926]),\n",
       "  'x-shifts': None,\n",
       "  'y-shifts': None,\n",
       "  'reference': None}}"
      ]
     },
     "execution_count": 11,
     "metadata": {},
     "output_type": "execute_result"
    }
   ],
   "source": [
    "metadata_dict"
   ]
  },
  {
   "cell_type": "code",
   "execution_count": 8,
   "id": "f88518f6",
   "metadata": {},
   "outputs": [],
   "source": [
    "metadata_dir = data_loc + '/' + sub_dir + '/'\n",
    "metadata_hdf5 = metadata_dir + \"metadata.h5\""
   ]
  },
  {
   "cell_type": "code",
   "execution_count": 9,
   "id": "5fbef242",
   "metadata": {},
   "outputs": [],
   "source": [
    "if not os.path.exists(metadata_dir):\n",
    "    os.mkdir(metadata_dir)\n",
    "with h5f.File(metadata_hdf5, mode='a') as f:\n",
    "#     f.create_group('tomo/raw_ref')\n",
    "#     f.create_dataset('tomo/raw_ref/proj_min', data=proj_min)\n",
    "#     f.create_dataset('tomo/raw_ref/ob_min', data=ob_min)\n",
    "#     f.create_dataset('tomo/raw_ref/dc_max', data=dc_max)\n",
    "#     f.create_dataset('tomo/raw_ref/proj_crop_roi_min', data=proj_crop_min)\n",
    "#     if fluc_corr:\n",
    "#         f.create_dataset('tomo/raw_ref/fluc_corr_roi_min', data=bg_min)\n",
    "#     f.create_group('tomo/proj')\n",
    "#     f.create_dataset('tomo/proj/proj_norm', data=proj_norm)\n",
    "#     f.create_dataset('tomo/proj/proj_mlog_to_recon', data=proj_mlog_to_recon)\n",
    "#     f.create_dataset('tomo/proj/ob_fake', data=np.ones((proj_norm.shape[1], proj_norm.shape[2]), dtype=np.uint8))\n",
    "#     f.create_dataset('tomo/proj/dc_fake', data=np.zeros((proj_norm.shape[1], proj_norm.shape[2]), dtype=np.uint8))\n",
    "#     f.create_group('tomo/sino')\n",
    "#     f.create_dataset('tomo/sino/sino_mlog', data=sino_mlog)\n",
    "#     f.create_dataset('tomo/sino/sino_mlog_to_recon', data=sino_mlog_to_recon)\n",
    "    f.create_group('tomo/info')\n",
    "#     f.create_dataset('tomo/info/ang_deg', data=ang_deg, dtype=np.float32)\n",
    "#     f.create_dataset('tomo/info/ang_rad', data=ang_rad, dtype=np.float64)\n",
    "#     f.create_dataset('tomo/info/proj180_idx', data=(proj180_idx,), dtype=np.uint16)\n",
    "#     f.create_dataset('tomo/info/proj000_idx', data=(proj000_idx,), dtype=np.uint16)\n",
    "#     f.create_dataset('tomo/info/fname', data=fname_sorted)\n",
    "#     f.create_group('tomo/recon')\n",
    "    f.create_dataset('tomo/info/metadata', data=(str(metadata),))\n",
    "#     f.create_dataset('tomo/recon/recon_unit', data=(recon_unit,))\n",
    "#     f.create_dataset('tomo/recon/recon_volume', data=recon)"
   ]
  },
  {
   "cell_type": "code",
   "execution_count": null,
   "id": "24539b44",
   "metadata": {},
   "outputs": [],
   "source": []
  },
  {
   "cell_type": "code",
   "execution_count": null,
   "id": "04c72d4d",
   "metadata": {},
   "outputs": [],
   "source": []
  }
 ],
 "metadata": {
  "kernelspec": {
   "display_name": "rockit",
   "language": "python",
   "name": "rockit"
  },
  "language_info": {
   "codemirror_mode": {
    "name": "ipython",
    "version": 3
   },
   "file_extension": ".py",
   "mimetype": "text/x-python",
   "name": "python",
   "nbconvert_exporter": "python",
   "pygments_lexer": "ipython3",
   "version": "3.10.10"
  }
 },
 "nbformat": 4,
 "nbformat_minor": 5
}
