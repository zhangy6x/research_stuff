{
 "cells": [
  {
   "cell_type": "code",
   "execution_count": 1,
   "id": "e1467302",
   "metadata": {
    "scrolled": true
   },
   "outputs": [],
   "source": [
    "import os\n",
    "import tomopy\n",
    "# import numpy as np\n",
    "# from imars3d.filters import tilt\n",
    "import matplotlib.pyplot as plt\n",
    "import sys\n",
    "root_folder = os.path.dirname(os.getcwd())\n",
    "sys.path.append(root_folder)\n",
    "import utilities as rocku\n",
    "# import dxchange\n",
    "# import algotom.prep.calculation as calc\n",
    "# # import algotom.rec.reconstruction as rec\n",
    "# # import bm3d_streak_removal as bm3d\n",
    "import h5py as h5f\n",
    "from tqdm import tqdm\n",
    "import timeit\n",
    "import multiprocessing as mp\n",
    "from pprint import pprint\n",
    "# import svmbir\n",
    "# import xrmreader"
   ]
  },
  {
   "cell_type": "code",
   "execution_count": 2,
   "id": "b5c11b4e",
   "metadata": {},
   "outputs": [],
   "source": [
    "# %matplotlib notebook\n",
    "%matplotlib inline"
   ]
  },
  {
   "cell_type": "code",
   "execution_count": 3,
   "id": "6816cdec",
   "metadata": {},
   "outputs": [
    {
     "data": {
      "text/plain": [
       "64"
      ]
     },
     "execution_count": 3,
     "metadata": {},
     "output_type": "execute_result"
    }
   ],
   "source": [
    "plt.rcParams['figure.figsize'] = [12, 8]\n",
    "plt.rcParams['figure.dpi'] = 100 # 200 e.g. is really fine, but slower\n",
    "ncore = mp.cpu_count()\n",
    "ncore"
   ]
  },
  {
   "cell_type": "markdown",
   "id": "92bcd45c",
   "metadata": {},
   "source": [
    "# Workflow starts here!"
   ]
  },
  {
   "cell_type": "code",
   "execution_count": 4,
   "id": "6ead894b",
   "metadata": {},
   "outputs": [],
   "source": [
    "###################### need to change start\n",
    "ipts=\"31601\"\n",
    "###################### need to change end"
   ]
  },
  {
   "cell_type": "markdown",
   "id": "73b84922",
   "metadata": {},
   "source": [
    "## Find data location"
   ]
  },
  {
   "cell_type": "code",
   "execution_count": 7,
   "id": "a7861217",
   "metadata": {
    "scrolled": true
   },
   "outputs": [
    {
     "data": {
      "text/plain": [
       "['Z01146_stitch-A_recon_000.txm',\n",
       " 'Z01146_stitch-A.txm',\n",
       " 'Z01146_stitch-A_recon_001.txm',\n",
       " 'Z01146_stitch-A_recon_002.txm']"
      ]
     },
     "execution_count": 7,
     "metadata": {},
     "output_type": "execute_result"
    }
   ],
   "source": [
    "# data_loc = \"/HFIR/CG1D/IPTS-\"+ipts+\"/shared/processed_data/Z01068_2023-10-10_134208/tomo-A\"\n",
    "data_loc = \"/HFIR/CG1D/IPTS-\"+ipts+\"/shared/xct\"\n",
    "os.listdir(data_loc)"
   ]
  },
  {
   "cell_type": "code",
   "execution_count": 8,
   "id": "d190cf02",
   "metadata": {
    "scrolled": false
   },
   "outputs": [
    {
     "name": "stdout",
     "output_type": "stream",
     "text": [
      "Pool: ['Z01146_stitch-A_recon_000.txm', 'Z01146_stitch-A.txm', 'Z01146_stitch-A_recon_001.txm', 'Z01146_stitch-A_recon_002.txm']\n",
      "Found: ['Z01146_stitch-A.txm', 'Z01146_stitch-A_recon_000.txm', 'Z01146_stitch-A_recon_001.txm', 'Z01146_stitch-A_recon_002.txm']\n",
      "Loading: /HFIR/CG1D/IPTS-31601/shared/xct/Z01146_stitch-A.txm\n",
      "Saving to: /HFIR/CG1D/IPTS-31601/shared/xct/proj\n",
      "Loading: /HFIR/CG1D/IPTS-31601/shared/xct/Z01146_stitch-A_recon_000.txm\n",
      "Saving to: /HFIR/CG1D/IPTS-31601/shared/xct/proj\n"
     ]
    },
    {
     "ename": "ValueError",
     "evalue": "Unable to synchronously create group (name already exists)",
     "output_type": "error",
     "traceback": [
      "\u001b[0;31m---------------------------------------------------------------------------\u001b[0m",
      "\u001b[0;31mValueError\u001b[0m                                Traceback (most recent call last)",
      "Cell \u001b[0;32mIn[8], line 4\u001b[0m\n\u001b[1;32m      2\u001b[0m metadata_dict \u001b[38;5;241m=\u001b[39m {}\n\u001b[1;32m      3\u001b[0m \u001b[38;5;28;01mfor\u001b[39;00m each \u001b[38;5;129;01min\u001b[39;00m txrm_list:\n\u001b[0;32m----> 4\u001b[0m     metadata \u001b[38;5;241m=\u001b[39m \u001b[43mrocku\u001b[49m\u001b[38;5;241;43m.\u001b[39;49m\u001b[43mtxm2tiff\u001b[49m\u001b[43m(\u001b[49m\u001b[43mdata_loc\u001b[49m\u001b[43m,\u001b[49m\u001b[43m \u001b[49m\u001b[43meach\u001b[49m\u001b[43m)\u001b[49m\n\u001b[1;32m      5\u001b[0m     metadata_dict[each] \u001b[38;5;241m=\u001b[39m metadata\n",
      "File \u001b[0;32m~/Documents/GitHub/research_stuff/jupyter_notebooks/norm_recon/utilities.py:503\u001b[0m, in \u001b[0;36mtxm2tiff\u001b[0;34m(path, fname)\u001b[0m\n\u001b[1;32m    501\u001b[0m     os\u001b[38;5;241m.\u001b[39mmkdir(save_to)\n\u001b[1;32m    502\u001b[0m \u001b[38;5;28;01mwith\u001b[39;00m h5f\u001b[38;5;241m.\u001b[39mFile(metadata_hdf5, mode\u001b[38;5;241m=\u001b[39m\u001b[38;5;124m'\u001b[39m\u001b[38;5;124ma\u001b[39m\u001b[38;5;124m'\u001b[39m) \u001b[38;5;28;01mas\u001b[39;00m f:\n\u001b[0;32m--> 503\u001b[0m     \u001b[43mf\u001b[49m\u001b[38;5;241;43m.\u001b[39;49m\u001b[43mcreate_group\u001b[49m\u001b[43m(\u001b[49m\u001b[38;5;124;43m'\u001b[39;49m\u001b[38;5;124;43mtomo/info\u001b[39;49m\u001b[38;5;124;43m'\u001b[39;49m\u001b[43m)\u001b[49m\n\u001b[1;32m    504\u001b[0m     f\u001b[38;5;241m.\u001b[39mcreate_dataset(\u001b[38;5;124m'\u001b[39m\u001b[38;5;124mtomo/info/metadata\u001b[39m\u001b[38;5;124m'\u001b[39m, data\u001b[38;5;241m=\u001b[39m(\u001b[38;5;28mstr\u001b[39m(metadata),))\n\u001b[1;32m    505\u001b[0m \u001b[38;5;28;01mreturn\u001b[39;00m metadata\n",
      "File \u001b[0;32m~/anaconda3/envs/rockit/lib/python3.10/site-packages/h5py/_hl/group.py:64\u001b[0m, in \u001b[0;36mGroup.create_group\u001b[0;34m(self, name, track_order)\u001b[0m\n\u001b[1;32m     62\u001b[0m name, lcpl \u001b[38;5;241m=\u001b[39m \u001b[38;5;28mself\u001b[39m\u001b[38;5;241m.\u001b[39m_e(name, lcpl\u001b[38;5;241m=\u001b[39m\u001b[38;5;28;01mTrue\u001b[39;00m)\n\u001b[1;32m     63\u001b[0m gcpl \u001b[38;5;241m=\u001b[39m Group\u001b[38;5;241m.\u001b[39m_gcpl_crt_order \u001b[38;5;28;01mif\u001b[39;00m track_order \u001b[38;5;28;01melse\u001b[39;00m \u001b[38;5;28;01mNone\u001b[39;00m\n\u001b[0;32m---> 64\u001b[0m gid \u001b[38;5;241m=\u001b[39m \u001b[43mh5g\u001b[49m\u001b[38;5;241;43m.\u001b[39;49m\u001b[43mcreate\u001b[49m\u001b[43m(\u001b[49m\u001b[38;5;28;43mself\u001b[39;49m\u001b[38;5;241;43m.\u001b[39;49m\u001b[43mid\u001b[49m\u001b[43m,\u001b[49m\u001b[43m \u001b[49m\u001b[43mname\u001b[49m\u001b[43m,\u001b[49m\u001b[43m \u001b[49m\u001b[43mlcpl\u001b[49m\u001b[38;5;241;43m=\u001b[39;49m\u001b[43mlcpl\u001b[49m\u001b[43m,\u001b[49m\u001b[43m \u001b[49m\u001b[43mgcpl\u001b[49m\u001b[38;5;241;43m=\u001b[39;49m\u001b[43mgcpl\u001b[49m\u001b[43m)\u001b[49m\n\u001b[1;32m     65\u001b[0m \u001b[38;5;28;01mreturn\u001b[39;00m Group(gid)\n",
      "File \u001b[0;32mh5py/_objects.pyx:54\u001b[0m, in \u001b[0;36mh5py._objects.with_phil.wrapper\u001b[0;34m()\u001b[0m\n",
      "File \u001b[0;32mh5py/_objects.pyx:55\u001b[0m, in \u001b[0;36mh5py._objects.with_phil.wrapper\u001b[0;34m()\u001b[0m\n",
      "File \u001b[0;32mh5py/h5g.pyx:166\u001b[0m, in \u001b[0;36mh5py.h5g.create\u001b[0;34m()\u001b[0m\n",
      "\u001b[0;31mValueError\u001b[0m: Unable to synchronously create group (name already exists)"
     ]
    }
   ],
   "source": [
    "txrm_list = rocku.find_txrm(data_loc, incl_xrm=False)\n",
    "metadata_dict = {}\n",
    "for each in txrm_list:\n",
    "    metadata = rocku.txm2tiff(data_loc, each)\n",
    "    metadata_dict[each] = metadata"
   ]
  },
  {
   "cell_type": "code",
   "execution_count": 9,
   "id": "d7c1ec81",
   "metadata": {},
   "outputs": [
    {
     "data": {
      "text/plain": [
       "{'Z01146_stitch-A.txm': {'facility': None,\n",
       "  'image_width': 1976,\n",
       "  'image_height': 2048,\n",
       "  'data_type': 5,\n",
       "  'number_of_images': 3478,\n",
       "  'pixel_size': 9.756987571716309,\n",
       "  'reference_filename': b'\\x00\\r\\x00\\x00\\x00\\x00\\x00\\x00\\x10\\x10\\\\h\\x8b\\x01\\x00\\x00\\x01\\x00\\x00\\x00\\x00\\x00\\x00\\x00\\xd0\\xf5\\xff\\\\w\\x00\\x00\\x00\\x00\\x00\\x00\\x00\\x00\\x00\\x00\\x00\\x10$\\\\h\\x8b\\x01\\x00\\x00\\x00\\x00\\x00\\x00\\x00\\x00\\x00\\x00\\x9e5\\xca\\x93\\xfa\\x7f\\x00\\x00\\x00\\xa1\\x10s\\x8b\\x01\\x00\\x00\\x00\\x00\\x00\\x00\\x00\\x00\\x00\\x00\\x00\\xa1\\x10s\\x8b\\x01\\x00\\x00\\x90\\x9a\\xb3\\x93\\xfa\\x7f\\x00\\x00\\x00\\xa1\\x10s\\x8b\\x01\\x00\\x00\\x0c\\xfa\\xd3\\x93\\xfa\\x7f\\x00\\x00\\xc0\\xe0\\x0fs\\x8b\\x01\\x00\\x00\\xc0\\xe0\\x0fs\\x8b\\x01\\x00\\x00\\x01$\\\\hd\\x00\\x00\\x00\\xfe\\xff\\xff\\xff\\xff\\xff\\xff\\xff\\xfe\\xff\\xff\\xff\\xff\\xff\\xff\\xff\\xddY\\xc8\\x93\\xfa\\x7f\\x00\\x00\\x00\\x00\\x00\\x00\\x00\\x00\\x00\\x00P\\xf5\\xff\\\\w\\x00\\x00\\x000\\xf5\\xff\\\\w\\x00\\x00\\x00\\x00\\x00\\xc8B\\x00\\x00\\x80?\\x00\\x00\\x00\\x00\\x00\\x00\\x00\\x00\\xeaW\\xc8\\x93\\xfa\\x7f\\x00\\x00P\\xf5\\xff\\\\w\\x00\\x00\\x00\\xe1q\\xb5\\xa1\\xfa\\x7f\\x00\\x00\\x00\\x08\\x00\\x00\\x01\\x00\\x00\\x00\\x00\\x00\\xc8B\\x00\\x00\\x80?\\xfe\\xff\\xff\\xff\\xff\\xff\\xff\\xff\\x00\\x00\\x00\\x00\\x00\\x00\\x00\\x00\\x00\\x00\\x00\\x00',\n",
       "  'reference_data_type': None,\n",
       "  'thetas': array([-4.85483791e-05, -4.85483791e-05, -4.85483791e-05, ...,\n",
       "         -4.96622164e-05, -4.96622164e-05, -4.96622164e-05]),\n",
       "  'x_positions': array([4665.73388672, 4665.73388672, 4665.73388672, ..., 4729.14013672,\n",
       "         4729.14013672, 4729.14013672]),\n",
       "  'y_positions': array([   112.73571777,    112.73571777,    112.73571777, ...,\n",
       "         -55670.4296875 , -55660.67578125, -55650.91796875]),\n",
       "  'z_positions': array([-89587.0546875 , -89577.296875  , -89567.5390625 , ...,\n",
       "            112.74167633,    112.74167633,    112.74167633]),\n",
       "  'x-shifts': None,\n",
       "  'y-shifts': None,\n",
       "  'reference': None}}"
      ]
     },
     "execution_count": 9,
     "metadata": {},
     "output_type": "execute_result"
    }
   ],
   "source": [
    "metadata_dict"
   ]
  },
  {
   "cell_type": "code",
   "execution_count": 8,
   "id": "f88518f6",
   "metadata": {},
   "outputs": [],
   "source": [
    "metadata_dir = data_loc + '/' + sub_dir + '/'\n",
    "metadata_hdf5 = metadata_dir + \"metadata.h5\""
   ]
  },
  {
   "cell_type": "code",
   "execution_count": 9,
   "id": "5fbef242",
   "metadata": {},
   "outputs": [],
   "source": [
    "if not os.path.exists(metadata_dir):\n",
    "    os.mkdir(metadata_dir)\n",
    "with h5f.File(metadata_hdf5, mode='a') as f:\n",
    "#     f.create_group('tomo/raw_ref')\n",
    "#     f.create_dataset('tomo/raw_ref/proj_min', data=proj_min)\n",
    "#     f.create_dataset('tomo/raw_ref/ob_min', data=ob_min)\n",
    "#     f.create_dataset('tomo/raw_ref/dc_max', data=dc_max)\n",
    "#     f.create_dataset('tomo/raw_ref/proj_crop_roi_min', data=proj_crop_min)\n",
    "#     if fluc_corr:\n",
    "#         f.create_dataset('tomo/raw_ref/fluc_corr_roi_min', data=bg_min)\n",
    "#     f.create_group('tomo/proj')\n",
    "#     f.create_dataset('tomo/proj/proj_norm', data=proj_norm)\n",
    "#     f.create_dataset('tomo/proj/proj_mlog_to_recon', data=proj_mlog_to_recon)\n",
    "#     f.create_dataset('tomo/proj/ob_fake', data=np.ones((proj_norm.shape[1], proj_norm.shape[2]), dtype=np.uint8))\n",
    "#     f.create_dataset('tomo/proj/dc_fake', data=np.zeros((proj_norm.shape[1], proj_norm.shape[2]), dtype=np.uint8))\n",
    "#     f.create_group('tomo/sino')\n",
    "#     f.create_dataset('tomo/sino/sino_mlog', data=sino_mlog)\n",
    "#     f.create_dataset('tomo/sino/sino_mlog_to_recon', data=sino_mlog_to_recon)\n",
    "    f.create_group('tomo/info')\n",
    "#     f.create_dataset('tomo/info/ang_deg', data=ang_deg, dtype=np.float32)\n",
    "#     f.create_dataset('tomo/info/ang_rad', data=ang_rad, dtype=np.float64)\n",
    "#     f.create_dataset('tomo/info/proj180_idx', data=(proj180_idx,), dtype=np.uint16)\n",
    "#     f.create_dataset('tomo/info/proj000_idx', data=(proj000_idx,), dtype=np.uint16)\n",
    "#     f.create_dataset('tomo/info/fname', data=fname_sorted)\n",
    "#     f.create_group('tomo/recon')\n",
    "    f.create_dataset('tomo/info/metadata', data=(str(metadata),))\n",
    "#     f.create_dataset('tomo/recon/recon_unit', data=(recon_unit,))\n",
    "#     f.create_dataset('tomo/recon/recon_volume', data=recon)"
   ]
  },
  {
   "cell_type": "code",
   "execution_count": null,
   "id": "24539b44",
   "metadata": {},
   "outputs": [],
   "source": []
  },
  {
   "cell_type": "code",
   "execution_count": null,
   "id": "04c72d4d",
   "metadata": {},
   "outputs": [],
   "source": []
  }
 ],
 "metadata": {
  "kernelspec": {
   "display_name": "rockit",
   "language": "python",
   "name": "rockit"
  },
  "language_info": {
   "codemirror_mode": {
    "name": "ipython",
    "version": 3
   },
   "file_extension": ".py",
   "mimetype": "text/x-python",
   "name": "python",
   "nbconvert_exporter": "python",
   "pygments_lexer": "ipython3",
   "version": "3.10.10"
  }
 },
 "nbformat": 4,
 "nbformat_minor": 5
}
