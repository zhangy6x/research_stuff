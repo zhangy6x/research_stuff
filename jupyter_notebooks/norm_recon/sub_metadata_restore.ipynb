{
 "cells": [
  {
   "cell_type": "code",
   "execution_count": 1,
   "id": "448c9e38",
   "metadata": {},
   "outputs": [],
   "source": [
    "# from tifffile import TiffFile\n",
    "import os\n",
    "import numpy as np\n",
    "import sys\n",
    "root_folder = os.path.dirname(os.getcwd())\n",
    "sys.path.append(root_folder)\n",
    "import utilities as rocku\n",
    "import matplotlib.pyplot as plt\n",
    "from tqdm import tqdm\n",
    "# %matplotlib notebook\n",
    "%matplotlib inline\n",
    "plt.rcParams['figure.figsize'] = [12, 8]\n",
    "plt.rcParams['figure.dpi'] = 100 # 200 e.g. is really fine, but slower"
   ]
  },
  {
   "cell_type": "code",
   "execution_count": 2,
   "id": "dc06689e",
   "metadata": {},
   "outputs": [
    {
     "data": {
      "text/plain": [
       "['2024_10_25_Empty_cans',\n",
       " '2024_10_25_Empty_cans_binned_by_5',\n",
       " '2024_10_25_SmF3_0percent',\n",
       " '2024_10_25_SmF3_0percent_binned_by_5',\n",
       " '2024_10_25_SmF3_10percent',\n",
       " '2024_10_25_SmF3_10percent_binned_by_5',\n",
       " '2024_10_25_SmF3_1percent',\n",
       " '2024_10_25_SmF3_1percent_binned_by_5']"
      ]
     },
     "execution_count": 2,
     "metadata": {},
     "output_type": "execute_result"
    }
   ],
   "source": [
    "# need to change\n",
    "ipts=\"33087\"\n",
    "# scan_type = 'ct_scans'\n",
    "# scan_type = 'radiographs'\n",
    "ipts_loc = \"/HFIR/CG1D/IPTS-\"+ipts+\"/\"\n",
    "src_loc = ipts_loc + 'raw/radiographs'\n",
    "tgt_loc = ipts_loc + 'shared/processed_data/normalized'\n",
    "# scan_loc = \"/HFIR/CG1D/IPTS-\"+ipts+\"/\" + scan_type\n",
    "src_dir_list = sorted(os.listdir(src_loc))\n",
    "tgt_dir_list = sorted(os.listdir(tgt_loc))\n",
    "tgt_dir_list"
   ]
  },
  {
   "cell_type": "code",
   "execution_count": 3,
   "id": "ddedf733-5585-4ba8-b0da-b8d40d42e1e7",
   "metadata": {},
   "outputs": [
    {
     "name": "stdout",
     "output_type": "stream",
     "text": [
      "8\n",
      "8\n"
     ]
    },
    {
     "data": {
      "text/plain": [
       "['2024_10_25_Empty_cans_binned_by_5',\n",
       " '2024_10_25_SmF3_0percent_binned_by_5',\n",
       " '2024_10_25_SmF3_10percent_binned_by_5',\n",
       " '2024_10_25_SmF3_1percent_binned_by_5']"
      ]
     },
     "execution_count": 3,
     "metadata": {},
     "output_type": "execute_result"
    }
   ],
   "source": [
    "to_rmv = [\n",
    "    # 'Stitched'\n",
    "]\n",
    "pattern = '_binned_by_'\n",
    "tgt_dir_list = rocku.remove_fnames(tgt_dir_list, to_rmv)\n",
    "tgt_dir_list = rocku.filter_list(tgt_dir_list, pattern=pattern)\n",
    "tgt_dir_list"
   ]
  },
  {
   "cell_type": "code",
   "execution_count": 4,
   "id": "12e62022-432c-4df9-b87c-1afc42143739",
   "metadata": {},
   "outputs": [
    {
     "data": {
      "text/plain": [
       "{'2024_10_25_Empty_cans_binned_by_5': '2024_10_25_Empty_cans',\n",
       " '2024_10_25_SmF3_0percent_binned_by_5': '2024_10_25_SmF3_0percent',\n",
       " '2024_10_25_SmF3_10percent_binned_by_5': '2024_10_25_SmF3_10percent',\n",
       " '2024_10_25_SmF3_1percent_binned_by_5': '2024_10_25_SmF3_1percent'}"
      ]
     },
     "execution_count": 4,
     "metadata": {},
     "output_type": "execute_result"
    }
   ],
   "source": [
    "matched_dir_dict = {}\n",
    "for e_dir in tgt_dir_list:\n",
    "    _str = e_dir.split(pattern)[0]\n",
    "    matched_dir_dict[e_dir] = _str\n",
    "matched_dir_dict"
   ]
  },
  {
   "cell_type": "code",
   "execution_count": 8,
   "id": "0e32b672-cabe-4f5f-901f-a6eb3d8d1ec2",
   "metadata": {},
   "outputs": [
    {
     "name": "stdout",
     "output_type": "stream",
     "text": [
      "Restoring tiff metadata in /HFIR/CG1D/IPTS-33087/shared/processed_data/normalized/2024_10_25_Empty_cans_binned_by_5\n"
     ]
    },
    {
     "name": "stderr",
     "output_type": "stream",
     "text": [
      "  0%|                                                     | 0/1 [00:00<?, ?it/s]\n"
     ]
    },
    {
     "ename": "OSError",
     "evalue": "Unable to read the TIFF file provided!: image file is truncated (0 bytes not processed)",
     "output_type": "error",
     "traceback": [
      "\u001b[0;31m---------------------------------------------------------------------------\u001b[0m",
      "\u001b[0;31mOSError\u001b[0m                                   Traceback (most recent call last)",
      "File \u001b[0;32m~/Documents/GitHub/research_stuff/jupyter_notebooks/norm_recon/utilities.py:207\u001b[0m, in \u001b[0;36mload_tiff\u001b[0;34m(file_name)\u001b[0m\n\u001b[1;32m    206\u001b[0m metadata \u001b[38;5;241m=\u001b[39m \u001b[38;5;28mdict\u001b[39m(_image\u001b[38;5;241m.\u001b[39mtag_v2)\n\u001b[0;32m--> 207\u001b[0m data \u001b[38;5;241m=\u001b[39m \u001b[43mnp\u001b[49m\u001b[38;5;241;43m.\u001b[39;49m\u001b[43masarray\u001b[49m\u001b[43m(\u001b[49m\u001b[43m_image\u001b[49m\u001b[43m)\u001b[49m\n\u001b[1;32m    208\u001b[0m _image\u001b[38;5;241m.\u001b[39mclose()\n",
      "File \u001b[0;32m~/miniconda3/envs/rockit/lib/python3.10/site-packages/PIL/Image.py:742\u001b[0m, in \u001b[0;36mImage.__array_interface__\u001b[0;34m(self)\u001b[0m\n\u001b[1;32m    741\u001b[0m     \u001b[38;5;28;01melse\u001b[39;00m:\n\u001b[0;32m--> 742\u001b[0m         new[\u001b[38;5;124m\"\u001b[39m\u001b[38;5;124mdata\u001b[39m\u001b[38;5;124m\"\u001b[39m] \u001b[38;5;241m=\u001b[39m \u001b[38;5;28;43mself\u001b[39;49m\u001b[38;5;241;43m.\u001b[39;49m\u001b[43mtobytes\u001b[49m\u001b[43m(\u001b[49m\u001b[43m)\u001b[49m\n\u001b[1;32m    743\u001b[0m \u001b[38;5;28;01mexcept\u001b[39;00m \u001b[38;5;167;01mException\u001b[39;00m \u001b[38;5;28;01mas\u001b[39;00m e:\n",
      "File \u001b[0;32m~/miniconda3/envs/rockit/lib/python3.10/site-packages/PIL/Image.py:802\u001b[0m, in \u001b[0;36mImage.tobytes\u001b[0;34m(self, encoder_name, *args)\u001b[0m\n\u001b[1;32m    800\u001b[0m     encoder_args \u001b[38;5;241m=\u001b[39m \u001b[38;5;28mself\u001b[39m\u001b[38;5;241m.\u001b[39mmode\n\u001b[0;32m--> 802\u001b[0m \u001b[38;5;28;43mself\u001b[39;49m\u001b[38;5;241;43m.\u001b[39;49m\u001b[43mload\u001b[49m\u001b[43m(\u001b[49m\u001b[43m)\u001b[49m\n\u001b[1;32m    804\u001b[0m \u001b[38;5;28;01mif\u001b[39;00m \u001b[38;5;28mself\u001b[39m\u001b[38;5;241m.\u001b[39mwidth \u001b[38;5;241m==\u001b[39m \u001b[38;5;241m0\u001b[39m \u001b[38;5;129;01mor\u001b[39;00m \u001b[38;5;28mself\u001b[39m\u001b[38;5;241m.\u001b[39mheight \u001b[38;5;241m==\u001b[39m \u001b[38;5;241m0\u001b[39m:\n",
      "File \u001b[0;32m~/miniconda3/envs/rockit/lib/python3.10/site-packages/PIL/TiffImagePlugin.py:1238\u001b[0m, in \u001b[0;36mTiffImageFile.load\u001b[0;34m(self)\u001b[0m\n\u001b[1;32m   1237\u001b[0m     \u001b[38;5;28;01mreturn\u001b[39;00m \u001b[38;5;28mself\u001b[39m\u001b[38;5;241m.\u001b[39m_load_libtiff()\n\u001b[0;32m-> 1238\u001b[0m \u001b[38;5;28;01mreturn\u001b[39;00m \u001b[38;5;28;43msuper\u001b[39;49m\u001b[43m(\u001b[49m\u001b[43m)\u001b[49m\u001b[38;5;241;43m.\u001b[39;49m\u001b[43mload\u001b[49m\u001b[43m(\u001b[49m\u001b[43m)\u001b[49m\n",
      "File \u001b[0;32m~/miniconda3/envs/rockit/lib/python3.10/site-packages/PIL/ImageFile.py:290\u001b[0m, in \u001b[0;36mImageFile.load\u001b[0;34m(self)\u001b[0m\n\u001b[1;32m    286\u001b[0m         msg \u001b[38;5;241m=\u001b[39m (\n\u001b[1;32m    287\u001b[0m             \u001b[38;5;124m\"\u001b[39m\u001b[38;5;124mimage file is truncated \u001b[39m\u001b[38;5;124m\"\u001b[39m\n\u001b[1;32m    288\u001b[0m             \u001b[38;5;124mf\u001b[39m\u001b[38;5;124m\"\u001b[39m\u001b[38;5;124m(\u001b[39m\u001b[38;5;132;01m{\u001b[39;00m\u001b[38;5;28mlen\u001b[39m(b)\u001b[38;5;132;01m}\u001b[39;00m\u001b[38;5;124m bytes not processed)\u001b[39m\u001b[38;5;124m\"\u001b[39m\n\u001b[1;32m    289\u001b[0m         )\n\u001b[0;32m--> 290\u001b[0m         \u001b[38;5;28;01mraise\u001b[39;00m \u001b[38;5;167;01mOSError\u001b[39;00m(msg)\n\u001b[1;32m    292\u001b[0m b \u001b[38;5;241m=\u001b[39m b \u001b[38;5;241m+\u001b[39m s\n",
      "\u001b[0;31mOSError\u001b[0m: image file is truncated (0 bytes not processed)",
      "\nDuring handling of the above exception, another exception occurred:\n",
      "\u001b[0;31mOSError\u001b[0m                                   Traceback (most recent call last)",
      "Cell \u001b[0;32mIn[8], line 8\u001b[0m\n\u001b[1;32m      6\u001b[0m _src_dir \u001b[38;5;241m=\u001b[39m os\u001b[38;5;241m.\u001b[39mpath\u001b[38;5;241m.\u001b[39mjoin(src_loc, matched_dir_dict[each])\n\u001b[1;32m      7\u001b[0m \u001b[38;5;28;01mfor\u001b[39;00m e_fname \u001b[38;5;129;01min\u001b[39;00m tqdm(_tgt_fname_list):\n\u001b[0;32m----> 8\u001b[0m     \u001b[43mrocku\u001b[49m\u001b[38;5;241;43m.\u001b[39;49m\u001b[43mrestore_metadata\u001b[49m\u001b[43m(\u001b[49m\u001b[43msrc_fname\u001b[49m\u001b[38;5;241;43m=\u001b[39;49m\u001b[43mos\u001b[49m\u001b[38;5;241;43m.\u001b[39;49m\u001b[43mpath\u001b[49m\u001b[38;5;241;43m.\u001b[39;49m\u001b[43mjoin\u001b[49m\u001b[43m(\u001b[49m\u001b[43m_src_dir\u001b[49m\u001b[43m,\u001b[49m\u001b[43m \u001b[49m\u001b[43me_fname\u001b[49m\u001b[43m)\u001b[49m\u001b[43m,\u001b[49m\u001b[43m \u001b[49m\u001b[43mtgt_fname\u001b[49m\u001b[38;5;241;43m=\u001b[39;49m\u001b[43mos\u001b[49m\u001b[38;5;241;43m.\u001b[39;49m\u001b[43mpath\u001b[49m\u001b[38;5;241;43m.\u001b[39;49m\u001b[43mjoin\u001b[49m\u001b[43m(\u001b[49m\u001b[43m_tgt_dir\u001b[49m\u001b[43m,\u001b[49m\u001b[43m \u001b[49m\u001b[43me_fname\u001b[49m\u001b[43m)\u001b[49m\u001b[43m)\u001b[49m\n",
      "File \u001b[0;32m~/Documents/GitHub/research_stuff/jupyter_notebooks/norm_recon/utilities.py:221\u001b[0m, in \u001b[0;36mrestore_metadata\u001b[0;34m(src_fname, tgt_fname)\u001b[0m\n\u001b[1;32m    219\u001b[0m _src \u001b[38;5;241m=\u001b[39m load_tiff(src_fname)\n\u001b[1;32m    220\u001b[0m _src_metadata \u001b[38;5;241m=\u001b[39m _src[\u001b[38;5;241m1\u001b[39m]\n\u001b[0;32m--> 221\u001b[0m _tgt \u001b[38;5;241m=\u001b[39m \u001b[43mload_tiff\u001b[49m\u001b[43m(\u001b[49m\u001b[43mtgt_fname\u001b[49m\u001b[43m)\u001b[49m\n\u001b[1;32m    222\u001b[0m _tgt_data \u001b[38;5;241m=\u001b[39m _tgt[\u001b[38;5;241m0\u001b[39m]\n\u001b[1;32m    223\u001b[0m make_tiff(data\u001b[38;5;241m=\u001b[39m_tgt_data, metadata\u001b[38;5;241m=\u001b[39m_src_metadata, file_name\u001b[38;5;241m=\u001b[39mtgt_fname)\n",
      "File \u001b[0;32m~/Documents/GitHub/research_stuff/jupyter_notebooks/norm_recon/utilities.py:211\u001b[0m, in \u001b[0;36mload_tiff\u001b[0;34m(file_name)\u001b[0m\n\u001b[1;32m    209\u001b[0m     \u001b[38;5;28;01mreturn\u001b[39;00m [data, metadata]\n\u001b[1;32m    210\u001b[0m \u001b[38;5;28;01mexcept\u001b[39;00m \u001b[38;5;167;01mOSError\u001b[39;00m \u001b[38;5;28;01mas\u001b[39;00m e:\n\u001b[0;32m--> 211\u001b[0m     \u001b[38;5;28;01mraise\u001b[39;00m \u001b[38;5;167;01mOSError\u001b[39;00m(\u001b[38;5;124mf\u001b[39m\u001b[38;5;124m\"\u001b[39m\u001b[38;5;124mUnable to read the TIFF file provided!: \u001b[39m\u001b[38;5;132;01m{\u001b[39;00me\u001b[38;5;132;01m}\u001b[39;00m\u001b[38;5;124m\"\u001b[39m)\n",
      "\u001b[0;31mOSError\u001b[0m: Unable to read the TIFF file provided!: image file is truncated (0 bytes not processed)"
     ]
    }
   ],
   "source": [
    "for each in matched_dir_dict.keys():\n",
    "    if each == '2024_10_25_Empty_cans_binned_by_5':\n",
    "        _tgt_dir = os.path.join(tgt_loc, each)\n",
    "        print(\"Restoring tiff metadata in {}\".format(_tgt_dir))\n",
    "        _tgt_fname_list = sorted(os.listdir(_tgt_dir))\n",
    "        _src_dir = os.path.join(src_loc, matched_dir_dict[each])\n",
    "        for e_fname in tqdm(_tgt_fname_list):\n",
    "            rocku.restore_metadata(src_fname=os.path.join(_src_dir, e_fname), tgt_fname=os.path.join(_tgt_dir, e_fname))"
   ]
  },
  {
   "cell_type": "code",
   "execution_count": 22,
   "id": "51f0ed17",
   "metadata": {},
   "outputs": [],
   "source": [
    "src_name = \"2024_10_25_Empty_cans\"\n",
    "src_dir = os.path.join(src_loc, src_name)\n",
    "tgt_name = \"2024_10_25_Empty_cans_binned_by_5\"\n",
    "tgt_dir = os.path.join(tgt_loc, tgt_name)"
   ]
  },
  {
   "cell_type": "code",
   "execution_count": 23,
   "id": "b3515c30",
   "metadata": {},
   "outputs": [
    {
     "data": {
      "text/plain": [
       "['empty_0030_0001.tiff']"
      ]
     },
     "execution_count": 23,
     "metadata": {},
     "output_type": "execute_result"
    }
   ],
   "source": [
    "tgt_list = os.listdir(tgt_dir)\n",
    "# fname_list.pop(0)\n",
    "tgt_list.sort()\n",
    "tgt_list"
   ]
  },
  {
   "cell_type": "code",
   "execution_count": 24,
   "id": "323c0f19-e762-4540-9318-695b91c1a485",
   "metadata": {
    "scrolled": true
   },
   "outputs": [
    {
     "data": {
      "text/plain": [
       "['empty_0030_0001.tiff',\n",
       " 'empty_0030_0002.tiff',\n",
       " 'empty_0030_0003.tiff',\n",
       " 'empty_0030_0004.tiff',\n",
       " 'empty_0030_0005.tiff',\n",
       " 'empty_test_0030_0001.tiff',\n",
       " 'empty_test_0030_0002.tiff']"
      ]
     },
     "execution_count": 24,
     "metadata": {},
     "output_type": "execute_result"
    }
   ],
   "source": [
    "src_list = os.listdir(src_dir)\n",
    "# fname_list.pop(0)\n",
    "src_list.sort()\n",
    "src_list"
   ]
  },
  {
   "cell_type": "code",
   "execution_count": null,
   "id": "c9c404db",
   "metadata": {},
   "outputs": [],
   "source": []
  }
 ],
 "metadata": {
  "kernelspec": {
   "display_name": "rockit",
   "language": "python",
   "name": "rockit"
  },
  "language_info": {
   "codemirror_mode": {
    "name": "ipython",
    "version": 3
   },
   "file_extension": ".py",
   "mimetype": "text/x-python",
   "name": "python",
   "nbconvert_exporter": "python",
   "pygments_lexer": "ipython3",
   "version": "3.10.14"
  }
 },
 "nbformat": 4,
 "nbformat_minor": 5
}
