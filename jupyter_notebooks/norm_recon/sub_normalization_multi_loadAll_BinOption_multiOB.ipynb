{
 "cells": [
  {
   "cell_type": "code",
   "execution_count": 1,
   "id": "704cabfb",
   "metadata": {},
   "outputs": [
    {
     "name": "stdout",
     "output_type": "stream",
     "text": [
      "CPU cores: 256\n"
     ]
    }
   ],
   "source": [
    "import os\n",
    "import shutil\n",
    "import utilities as rocku\n",
    "import matplotlib.pyplot as plt\n",
    "import tomopy\n",
    "import numpy as np\n",
    "import pandas as pd\n",
    "import pprint\n",
    "import dxchange\n",
    "from pystackreg import StackReg\n",
    "import multiprocessing as mp\n",
    "import timeit\n",
    "from tqdm import tqdm\n",
    "ncore = mp.cpu_count()\n",
    "print(\"CPU cores:\", ncore)"
   ]
  },
  {
   "cell_type": "code",
   "execution_count": 2,
   "id": "fe0261e6",
   "metadata": {},
   "outputs": [],
   "source": [
    "# need to change\n",
    "ipts=\"34073\"\n",
    "# scan_type = 'ct_scans'\n",
    "scan_type = 'radiographs'\n",
    "# scan_type = 'alignment_calibration'"
   ]
  },
  {
   "cell_type": "code",
   "execution_count": 3,
   "id": "bdc87be2",
   "metadata": {
    "scrolled": true
   },
   "outputs": [
    {
     "data": {
      "text/plain": [
       "['2025_02_27_Aem1IC_Sus_40C_40CRH_100rpm_100sccm',\n",
       " '2025_02_27_Aem1IC_Sus_40C_dry2_100rpm_100sccm',\n",
       " '2025_02_27_Aem1IC_Sus_40C_operando_100rpm_100sccm',\n",
       " '2025_02_28_Aem1IC_Aem_C01_40C_40CRH_100rpm_100sccm',\n",
       " '2025_02_28_Aem1IC_Aem_C01_40C_dry_100rpm_100sccm',\n",
       " '2025_02_28_Aem1IC_Aem_C03_40C_dry_100rpm_100sccm',\n",
       " '2025_02_28_Aem1IC_Aem_C03_40C_operando_100rpm_100sccm',\n",
       " '2025_02_28_Aem1IC_Aem_C03_40C_wet_100rpm_100sccm',\n",
       " '2025_02_28_Aem1IC_Aem_C08_40C_40CRH_100rpm_100sccm',\n",
       " '2025_02_28_Aem1IC_Aem_C08_40C_40CRH_operando_100rpm_100sccm',\n",
       " '2025_02_28_Aem1IC_Aem_C08_40C_dry_100rpm_100sccm',\n",
       " '2025_02_28_Aem1IC_Piper_40C_40CRH_wet_100rpm_100sccm',\n",
       " '2025_02_28_Aem1IC_Piper_40C_dry_100rpm_100sccm',\n",
       " '2025_02_28_Aem1IC_Piper_40C_operando_100rpm_100sccm',\n",
       " '2025_02_28_Aem1IC_Piper_40C_wet_100rpm_100sccm',\n",
       " '2025_03_01_2umpp_sustanion_40C_dry_100rpm_100sccm',\n",
       " '2025_03_01_2umpp_sustanion_40C_operando_100rpm_100sccm',\n",
       " '2025_03_01_2umpp_sustanion_40C_wet_100rpm_100sccm',\n",
       " '2025_03_01_AEM1IC_P75T_DI_Sus_40C_dry2_100rpm_100sccm',\n",
       " '2025_03_01_AEM1IC_P75T_DI_Sus_40C_dry_100rpm_100sccm',\n",
       " '2025_03_01_AEM1IC_P75T_DI_Sus_40C_operando_100rpm_100sccm',\n",
       " '2025_03_01_AEM1IC_P75T_DI_Sus_40C_post_operando_100rpm_100sccm',\n",
       " '2025_03_01_AEM1IC_P75T_DI_Sus_40C_post_operando_dry_100rpm_100sccm',\n",
       " '2025_03_01_AEM1IC_P75T_DI_Sus_40C_wet_100rpm_100sccm',\n",
       " '2025_03_01_Aem1IC_Aem_C02_40C_40CRH_100rpm_100sccm',\n",
       " '2025_03_01_Aem1IC_Aem_C02_40C_40CRH_operando_100rpm_100sccm',\n",
       " '2025_03_01_Aem1IC_Aem_C02_40C_dry_100rpm_100sccm',\n",
       " '2025_03_01_porogen35wthighlight_sustanion_40C_40CRH_100rpm_100sccm',\n",
       " '2025_03_01_porogen35wthighlight_sustanion_40C_40CRH_operando_100rpm_100sccm',\n",
       " '2025_03_01_porogen35wthighlight_sustanion_40C_40CRH_wet_100rpm_100sccm',\n",
       " '2025_03_01_porogen35wthighlight_sustanion_40C_dry01_100rpm_100sccm',\n",
       " '2025_03_02_AEM1IC_H2O_nobacker_DI_Sus_40C_dry_40CRH_100rpm_100sccm',\n",
       " '2025_03_02_AEM1IC_H2O_nobacker_DI_Sus_40C_dry_60CRH_100rpm_100sccm',\n",
       " '2025_03_02_AEM1IC_H2O_nobacker_DI_Sus_40C_operando_40CRH_100rpm_100sccm',\n",
       " '2025_03_02_AEM1IC_H2O_nobacker_DI_Sus_40C_operando_60CRH_100rpm_100sccm',\n",
       " '2025_03_02_AEM1IC_H2O_nobacker_DI_Sus_40C_wet_40CRH_100rpm_100sccm',\n",
       " '2025_03_02_AEM1IC_H2O_nobacker_DI_Sus_40C_wet_60CRH_100rpm_100sccm',\n",
       " '2025_03_02_AEM1IC_P75T_14thou_H2O_DI_Sus_40C_dry_60CRH_100rpm_100sccm',\n",
       " '2025_03_02_AEM1IC_P75T_14thou_H2O_DI_Sus_40C_operando_60CRH_100rpm_100sccm',\n",
       " '2025_03_02_AEM1IC_P75T_14thou_H2O_DI_Sus_40C_wet_60CRH_100rpm_100sccm',\n",
       " '2025_03_02_AEM1IC_P75T_18thou_H2O_DI_Sus_40C_dry_100rpm_100sccm',\n",
       " '2025_03_02_AEM1IC_P75T_18thou_H2O_DI_Sus_40C_operando_60CRH_100rpm_100sccm',\n",
       " '2025_03_02_AEM1IC_P75T_18thou_H2O_DI_Sus_40C_post_operando_D2O_60CRH_100rpm_100sccm',\n",
       " '2025_03_02_AEM1IC_P75T_18thou_H2O_DI_Sus_40C_wet_60CRH_100rpm_100sccm',\n",
       " '2025_03_02_AEM1IC_P75T_DI_Sus_40C_dry_60CRH_100rpm_100sccm',\n",
       " '2025_03_02_AEM1IC_P75T_DI_Sus_40C_repeat_dry_100rpm_100sccm',\n",
       " '2025_03_02_AEM1IC_P75T_DI_Sus_40C_repeat_operando_60CRH_100rpm_100sccm',\n",
       " '2025_03_02_AEM1IC_P75T_DI_Sus_40C_repeat_post_operando_60CRH_100rpm_100sccm',\n",
       " '2025_03_02_AEM1IC_P75T_DI_Sus_40C_repeat_wet_100rpm_100sccm',\n",
       " '2025_03_02_AEM1IC_P75T_DI_Sus_dry_100rpm_100sccm',\n",
       " '2025_03_02_AEM1IC_P75T_H2O_DI_Sus_40C_dry_60CRH_100rpm_100sccm',\n",
       " '2025_03_02_AEM1IC_P75T_H2O_DI_Sus_40C_operando_60CRH_100rpm_100sccm',\n",
       " '2025_03_02_AEM1IC_P75T_H2O_DI_Sus_40C_wet_60CRH_100rpm_100sccm',\n",
       " '2025_03_03_AEM1IC_Toray_H2O_DI_Sus_40C_dry_60CRH_100rpm_100sccm',\n",
       " '2025_03_03_AEM1IC_Toray_H2O_DI_Sus_40C_operando_60CRH_100rpm_100sccm',\n",
       " '2025_03_03_AEM1IC_Toray_H2O_DI_Sus_40C_post_operando_60CRH_100rpm_100sccm',\n",
       " '2025_03_03_AEM1IC_Toray_H2O_DI_Sus_40C_wet_60CRH_100rpm_100sccm',\n",
       " '2025_03_04_water_calibration']"
      ]
     },
     "execution_count": 3,
     "metadata": {},
     "output_type": "execute_result"
    }
   ],
   "source": [
    "scan_loc = \"/HFIR/CG1D/IPTS-\"+ipts+\"/raw/\" + scan_type\n",
    "sorted(os.listdir(scan_loc))"
   ]
  },
  {
   "cell_type": "code",
   "execution_count": 4,
   "id": "5894e04b",
   "metadata": {},
   "outputs": [
    {
     "data": {
      "text/plain": [
       "['2025_02_27_Aem1IC_Sus_40C_open_beam_100rpm_100sccm',\n",
       " '2025_02_28_Aem1IC_Aem_C03_40C_operando_100rpm_100sccm',\n",
       " '2025_02_28_Aem1IC_Aem_C08_40C_40CRH_operando_100rpm_100sccm',\n",
       " '2025_02_28_Aem1IC_Piper_40C_open_beam_100rpm_100sccm',\n",
       " '2025_02_28_Aem1IC_Piper_40C_operando_100rpm_100sccm',\n",
       " '2025_03_01_2umpp_sustanion_40C_operando_100rpm_100sccm',\n",
       " '2025_03_01_AEM1IC_P75T_DI_Sus_40C_post_operando_dry_100rpm_100sccm',\n",
       " '2025_03_01_Aem1IC_Aem_C02_40C_40CRH_operando_100rpm_100sccm',\n",
       " '2025_03_01_porogen35wthighlight_sustanion_40C_40CRH_operando_100rpm_100sccm',\n",
       " '2025_03_02_AEM1IC_H2O_nobacker_DI_Sus_40C_open_beam_60CRH_100rpm_100sccm',\n",
       " '2025_03_02_AEM1IC_H2O_nobacker_DI_Sus_40C_operando_40CRH_100rpm_100sccm',\n",
       " '2025_03_02_AEM1IC_P75T_18thou_H2O_DI_Sus_40C_post_operando_D2O_60CRH_100rpm_100sccm',\n",
       " '2025_03_02_AEM1IC_P75T_DI_Sus_40C_repeat_post_operando_60CRH_100rpm_100sccm',\n",
       " '2025_03_02_AEM1IC_P75T_H2O_DI_Sus_40C_open_beam_60CRH_100rpm_100sccm',\n",
       " '2025_03_03_AEM1IC_Toray_H2O_DI_Sus_40C_open_beam_60CRH_100rpm_100sccm',\n",
       " '2025_03_04_water_calibration']"
      ]
     },
     "execution_count": 4,
     "metadata": {},
     "output_type": "execute_result"
    }
   ],
   "source": [
    "ob_loc = \"/HFIR/CG1D/IPTS-\"+ipts+\"/raw/ob\"\n",
    "# ob_loc = \"/HFIR/CG1D/IPTS-\"+ipts+\"/raw/radiographs\"\n",
    "ob_scan_list = sorted(os.listdir(ob_loc))\n",
    "ob_scan_list"
   ]
  },
  {
   "cell_type": "code",
   "execution_count": 5,
   "id": "ecb839af",
   "metadata": {},
   "outputs": [
    {
     "data": {
      "text/plain": [
       "['2025_02_28_Aem1IC_Aem_C03_40C_operando_100rpm_100sccm',\n",
       " '2025_03_04_water_calibration']"
      ]
     },
     "execution_count": 5,
     "metadata": {},
     "output_type": "execute_result"
    }
   ],
   "source": [
    "dc_loc = \"/HFIR/CG1D/IPTS-\"+ipts+\"/raw/dc\"\n",
    "dc_scan_list = sorted(os.listdir(dc_loc))\n",
    "dc_scan_list"
   ]
  },
  {
   "cell_type": "code",
   "execution_count": 6,
   "id": "5ccd348a",
   "metadata": {},
   "outputs": [],
   "source": [
    "###################### need to change start\n",
    "sample_name = \"2025_02_27_Aem1IC_Sus_40C_operando_100rpm_100sccm\"\n",
    "scan_dir = os.path.join(scan_loc, sample_name)\n",
    "ob_dir = os.path.join(ob_loc, \"2025_02_27_Aem1IC_Sus_40C_open_beam_100rpm_100sccm\")\n",
    "dc_dir = os.path.join(dc_loc, \"2025_02_28_Aem1IC_Aem_C03_40C_operando_100rpm_100sccm\")\n",
    "# ct_dir = \"/HFIR/CG1D/IPTS-\"+ipts+\"/shared/processed_data/raw_to_recon\"\n",
    "# ob_dir = \"/HFIR/CG1D/IPTS-\"+ipts+\"/shared/processed_data/raw_to_recon\"\n",
    "# dc_dir = \"/HFIR/CG1D/IPTS-\"+ipts+\"/shared/processed_data/raw_to_recon\"\n",
    "ob_name = \"*OB*\" # Will not be used if follows the default file structure\n",
    "dc_name = \"*DC*\" # Will not be used if follows the default file structure\n",
    "gamma_diff = 20\n",
    "###################### need to change end"
   ]
  },
  {
   "cell_type": "markdown",
   "id": "77456e45",
   "metadata": {},
   "source": [
    "# Sort and filter scan files"
   ]
  },
  {
   "cell_type": "code",
   "execution_count": 7,
   "id": "2d8d5267",
   "metadata": {
    "scrolled": true
   },
   "outputs": [
    {
     "name": "stdout",
     "output_type": "stream",
     "text": [
      "52\n"
     ]
    },
    {
     "data": {
      "text/plain": [
       "['dry01_0300_0001.tiff',\n",
       " 'dry01_0300_0002.tiff',\n",
       " 'dry01_0300_0003.tiff',\n",
       " 'dry01_0300_0004.tiff',\n",
       " 'dry01_0300_0005.tiff',\n",
       " 'dry01_0300_0007.tiff',\n",
       " 'dry01_0300_0009.tiff',\n",
       " 'dry01_0300_0014.tiff',\n",
       " 'dry01_0300_0018.tiff',\n",
       " 'dry01_0300_0023.tiff',\n",
       " 'dry01_0300_0024.tiff',\n",
       " 'dry01_0300_0028.tiff',\n",
       " 'dry01_0300_0036.tiff',\n",
       " 'dry01_0300_0038.tiff',\n",
       " 'operando01_0300_0001.tiff',\n",
       " 'operando01_0300_0002.tiff',\n",
       " 'operando01_0300_0003.tiff',\n",
       " 'operando01_0300_0004.tiff',\n",
       " 'operando01_0300_0005.tiff',\n",
       " 'operando01_0300_0006.tiff',\n",
       " 'operando01_0300_0007.tiff',\n",
       " 'operando01_0300_0008.tiff',\n",
       " 'operando01_0300_0009.tiff',\n",
       " 'operando01_0300_0010.tiff',\n",
       " 'operando01_0300_0011.tiff',\n",
       " 'operando01_0300_0012.tiff',\n",
       " 'operando01_0300_0013.tiff',\n",
       " 'operando01_0300_0014.tiff',\n",
       " 'operando01_0300_0015.tiff',\n",
       " 'operando01_0300_0016.tiff',\n",
       " 'operando01_0300_0017.tiff',\n",
       " 'operando01_0300_0018.tiff',\n",
       " 'operando01_0300_0019.tiff',\n",
       " 'operando01_0300_0020.tiff',\n",
       " 'operando01_0300_0021.tiff',\n",
       " 'operando01_0300_0022.tiff',\n",
       " 'operando01_0300_0023.tiff',\n",
       " 'operando01_0300_0024.tiff',\n",
       " 'operando01_0300_0025.tiff',\n",
       " 'operando01_0300_0026.tiff',\n",
       " 'operando01_0300_0027.tiff',\n",
       " 'operando01_0300_0028.tiff',\n",
       " 'operando01_0300_0029.tiff',\n",
       " 'operando01_0300_0030.tiff',\n",
       " 'operando01_0300_0031.tiff',\n",
       " 'operando01_0300_0032.tiff',\n",
       " 'operando01_0300_0033.tiff',\n",
       " 'operando01_0300_0034.tiff',\n",
       " 'operando01_0300_0035.tiff',\n",
       " 'operando01_0300_0036.tiff',\n",
       " 'operando01_0300_0037.tiff',\n",
       " 'operando01_0300_0038.tiff']"
      ]
     },
     "execution_count": 7,
     "metadata": {},
     "output_type": "execute_result"
    }
   ],
   "source": [
    "fname_list = os.listdir(scan_dir)\n",
    "# fname_list.pop(0)\n",
    "fname_list.sort()\n",
    "print(len(fname_list))\n",
    "fname_list"
   ]
  },
  {
   "cell_type": "code",
   "execution_count": 8,
   "id": "55e7fd7e",
   "metadata": {},
   "outputs": [
    {
     "name": "stdout",
     "output_type": "stream",
     "text": [
      "52\n",
      "52\n"
     ]
    }
   ],
   "source": [
    "to_rmv = [\n",
    "]\n",
    "fname_list = rocku.remove_fnames(fname_list, to_rmv)"
   ]
  },
  {
   "cell_type": "code",
   "execution_count": 9,
   "id": "71de5914",
   "metadata": {
    "scrolled": true
   },
   "outputs": [
    {
     "name": "stdout",
     "output_type": "stream",
     "text": [
      "5\n"
     ]
    },
    {
     "data": {
      "text/plain": [
       "['OB_0300_0001.tiff',\n",
       " 'OB_0300_0002.tiff',\n",
       " 'OB_0300_0003.tiff',\n",
       " 'OB_0300_0004.tiff',\n",
       " 'OB_0300_0005.tiff']"
      ]
     },
     "execution_count": 9,
     "metadata": {},
     "output_type": "execute_result"
    }
   ],
   "source": [
    "ob_list = os.listdir(ob_dir)\n",
    "# fname_list.pop(0)\n",
    "ob_list.sort()\n",
    "print(len(ob_list))\n",
    "# ob_list = ob_list[:3]\n",
    "ob_list"
   ]
  },
  {
   "cell_type": "code",
   "execution_count": 10,
   "id": "617e6f86",
   "metadata": {},
   "outputs": [
    {
     "name": "stdout",
     "output_type": "stream",
     "text": [
      "5\n",
      "5\n"
     ]
    }
   ],
   "source": [
    "to_rmv = [\n",
    "]\n",
    "ob_list = rocku.remove_fnames(ob_list, to_rmv)"
   ]
  },
  {
   "cell_type": "code",
   "execution_count": 11,
   "id": "e8538000",
   "metadata": {
    "scrolled": true
   },
   "outputs": [
    {
     "name": "stdout",
     "output_type": "stream",
     "text": [
      "5\n"
     ]
    },
    {
     "data": {
      "text/plain": [
       "['DC_0300_0046.tiff',\n",
       " 'DC_0300_0047.tiff',\n",
       " 'DC_0300_0048.tiff',\n",
       " 'DC_0300_0049.tiff',\n",
       " 'DC_0300_0050.tiff']"
      ]
     },
     "execution_count": 11,
     "metadata": {},
     "output_type": "execute_result"
    }
   ],
   "source": [
    "dc_list = os.listdir(dc_dir)\n",
    "# fname_list.pop(0)\n",
    "dc_list.sort()\n",
    "print(len(dc_list))\n",
    "dc_list"
   ]
  },
  {
   "cell_type": "code",
   "execution_count": 12,
   "id": "2df83ad7",
   "metadata": {},
   "outputs": [
    {
     "name": "stdout",
     "output_type": "stream",
     "text": [
      "5\n",
      "5\n"
     ]
    }
   ],
   "source": [
    "to_rmv = [\n",
    "]\n",
    "dc_list = rocku.remove_fnames(dc_list, to_rmv)"
   ]
  },
  {
   "cell_type": "code",
   "execution_count": 13,
   "id": "115d6814-efc7-42a0-9407-aefb2810ea16",
   "metadata": {},
   "outputs": [
    {
     "data": {
      "text/plain": [
       "['_0300_']"
      ]
     },
     "execution_count": 13,
     "metadata": {},
     "output_type": "execute_result"
    }
   ],
   "source": [
    "scan_exposure_list = rocku.get_exposure_list(fname_list)\n",
    "ob_exposure_list = rocku.get_exposure_list(ob_list)\n",
    "dc_exposure_list = rocku.get_exposure_list(dc_list)\n",
    "exposure_list = sorted(list(set(scan_exposure_list).intersection(ob_exposure_list).intersection(dc_exposure_list)))\n",
    "exposure_list"
   ]
  },
  {
   "cell_type": "code",
   "execution_count": 14,
   "id": "ffd5e0f1-0da8-4917-815d-54f328d2b226",
   "metadata": {
    "scrolled": true
   },
   "outputs": [
    {
     "data": {
      "text/plain": [
       "['dry01_0300_0001.tiff',\n",
       " 'dry01_0300_0002.tiff',\n",
       " 'dry01_0300_0003.tiff',\n",
       " 'dry01_0300_0004.tiff',\n",
       " 'dry01_0300_0005.tiff',\n",
       " 'dry01_0300_0007.tiff',\n",
       " 'dry01_0300_0009.tiff',\n",
       " 'dry01_0300_0014.tiff',\n",
       " 'dry01_0300_0018.tiff',\n",
       " 'dry01_0300_0023.tiff',\n",
       " 'dry01_0300_0024.tiff',\n",
       " 'dry01_0300_0028.tiff',\n",
       " 'dry01_0300_0036.tiff',\n",
       " 'dry01_0300_0038.tiff',\n",
       " 'operando01_0300_0001.tiff',\n",
       " 'operando01_0300_0002.tiff',\n",
       " 'operando01_0300_0003.tiff',\n",
       " 'operando01_0300_0004.tiff',\n",
       " 'operando01_0300_0005.tiff',\n",
       " 'operando01_0300_0006.tiff',\n",
       " 'operando01_0300_0007.tiff',\n",
       " 'operando01_0300_0008.tiff',\n",
       " 'operando01_0300_0009.tiff',\n",
       " 'operando01_0300_0010.tiff',\n",
       " 'operando01_0300_0011.tiff',\n",
       " 'operando01_0300_0012.tiff',\n",
       " 'operando01_0300_0013.tiff',\n",
       " 'operando01_0300_0014.tiff',\n",
       " 'operando01_0300_0015.tiff',\n",
       " 'operando01_0300_0016.tiff',\n",
       " 'operando01_0300_0017.tiff',\n",
       " 'operando01_0300_0018.tiff',\n",
       " 'operando01_0300_0019.tiff',\n",
       " 'operando01_0300_0020.tiff',\n",
       " 'operando01_0300_0021.tiff',\n",
       " 'operando01_0300_0022.tiff',\n",
       " 'operando01_0300_0023.tiff',\n",
       " 'operando01_0300_0024.tiff',\n",
       " 'operando01_0300_0025.tiff',\n",
       " 'operando01_0300_0026.tiff',\n",
       " 'operando01_0300_0027.tiff',\n",
       " 'operando01_0300_0028.tiff',\n",
       " 'operando01_0300_0029.tiff',\n",
       " 'operando01_0300_0030.tiff',\n",
       " 'operando01_0300_0031.tiff',\n",
       " 'operando01_0300_0032.tiff',\n",
       " 'operando01_0300_0033.tiff',\n",
       " 'operando01_0300_0034.tiff',\n",
       " 'operando01_0300_0035.tiff',\n",
       " 'operando01_0300_0036.tiff',\n",
       " 'operando01_0300_0037.tiff',\n",
       " 'operando01_0300_0038.tiff']"
      ]
     },
     "execution_count": 14,
     "metadata": {},
     "output_type": "execute_result"
    }
   ],
   "source": [
    "_fname_list = rocku.filter_list(fname_list, exposure_list[0])\n",
    "_fname_list"
   ]
  },
  {
   "cell_type": "code",
   "execution_count": 15,
   "id": "cdf2d034-454c-495f-a522-d57c9211eacd",
   "metadata": {},
   "outputs": [
    {
     "name": "stdout",
     "output_type": "stream",
     "text": [
      "52\n"
     ]
    },
    {
     "name": "stderr",
     "output_type": "stream",
     "text": [
      "                       "
     ]
    },
    {
     "name": "stdout",
     "output_type": "stream",
     "text": [
      "(52, 6300, 6100)\n"
     ]
    },
    {
     "name": "stderr",
     "output_type": "stream",
     "text": [
      "\r"
     ]
    }
   ],
   "source": [
    "######### Scan\n",
    "_scan_raw = rocku.read_tiff_stack(scan_dir, _fname_list)\n",
    "print(_scan_raw.shape)"
   ]
  },
  {
   "cell_type": "code",
   "execution_count": 16,
   "id": "885ec278-7047-4536-876b-b61e0f347389",
   "metadata": {},
   "outputs": [
    {
     "data": {
      "image/png": "[encoded data removed]",
      "text/plain": [
       "<Figure size 640x480 with 2 Axes>"
      ]
     },
     "metadata": {},
     "output_type": "display_data"
    }
   ],
   "source": [
    "_scan_min = np.min(_scan_raw, axis=0)\n",
    "plt.imshow(_scan_min, vmin=0, vmax=2000)\n",
    "plt.colorbar()\n",
    "plt.show()"
   ]
  },
  {
   "cell_type": "code",
   "execution_count": 17,
   "id": "8d064857-c803-414e-a65f-d86989424bfd",
   "metadata": {},
   "outputs": [
    {
     "name": "stdout",
     "output_type": "stream",
     "text": [
      "ROI:\n"
     ]
    },
    {
     "data": {
      "image/png": "[encoded data removed]",
      "text/plain": [
       "<Figure size 640x480 with 2 Axes>"
      ]
     },
     "metadata": {},
     "output_type": "display_data"
    }
   ],
   "source": [
    "###################### need to change start\n",
    "crop = True\n",
    "# crop = False\n",
    "crop_left = 3090#3290#320\n",
    "crop_right = 4070#3770#1080\n",
    "crop_top = 1550\n",
    "crop_bottom = 3750\n",
    "# crop_left = 2500\n",
    "# crop_right = 4500\n",
    "# crop_top = 200\n",
    "# crop_bottom = 2350\n",
    "###################### need to change end\n",
    "# scan_crop = rocku.crop(scan_raw, crop_left, crop_right, crop_top, crop_bottom, crop)\n",
    "# ob_crop = rocku.crop(ob_raw, crop_left, crop_right, crop_top, crop_bottom, crop)\n",
    "# dc_crop = rocku.crop(dc_raw, crop_left, crop_right, crop_top, crop_bottom, crop)\n",
    "_scan_crop_min = rocku.crop(_scan_min, crop_left, crop_right, crop_top, crop_bottom, crop)\n",
    "print(\"ROI:\")\n",
    "plt.imshow(_scan_crop_min, vmin=0, vmax=2000)\n",
    "plt.colorbar()\n",
    "plt.show()"
   ]
  },
  {
   "cell_type": "markdown",
   "id": "617c54f0-108d-438d-ae58-12c1182cd1f7",
   "metadata": {},
   "source": [
    "# Normalize the selected list"
   ]
  },
  {
   "cell_type": "code",
   "execution_count": 18,
   "id": "8eccbee7-ca3d-46d4-b439-4f17e44348da",
   "metadata": {},
   "outputs": [
    {
     "data": {
      "text/plain": [
       "['2025_02_27_Aem1IC_Sus_40C_40CRH_100rpm_100sccm',\n",
       " '2025_02_27_Aem1IC_Sus_40C_dry2_100rpm_100sccm',\n",
       " '2025_02_27_Aem1IC_Sus_40C_operando_100rpm_100sccm',\n",
       " '2025_02_28_Aem1IC_Aem_C01_40C_40CRH_100rpm_100sccm',\n",
       " '2025_02_28_Aem1IC_Aem_C01_40C_dry_100rpm_100sccm',\n",
       " '2025_02_28_Aem1IC_Aem_C03_40C_dry_100rpm_100sccm',\n",
       " '2025_02_28_Aem1IC_Aem_C03_40C_operando_100rpm_100sccm',\n",
       " '2025_02_28_Aem1IC_Aem_C03_40C_wet_100rpm_100sccm',\n",
       " '2025_02_28_Aem1IC_Aem_C08_40C_40CRH_100rpm_100sccm',\n",
       " '2025_02_28_Aem1IC_Aem_C08_40C_40CRH_operando_100rpm_100sccm',\n",
       " '2025_02_28_Aem1IC_Aem_C08_40C_dry_100rpm_100sccm',\n",
       " '2025_02_28_Aem1IC_Piper_40C_40CRH_wet_100rpm_100sccm',\n",
       " '2025_02_28_Aem1IC_Piper_40C_dry_100rpm_100sccm',\n",
       " '2025_02_28_Aem1IC_Piper_40C_operando_100rpm_100sccm',\n",
       " '2025_02_28_Aem1IC_Piper_40C_wet_100rpm_100sccm',\n",
       " '2025_03_01_2umpp_sustanion_40C_dry_100rpm_100sccm',\n",
       " '2025_03_01_2umpp_sustanion_40C_operando_100rpm_100sccm',\n",
       " '2025_03_01_2umpp_sustanion_40C_wet_100rpm_100sccm',\n",
       " '2025_03_01_AEM1IC_P75T_DI_Sus_40C_dry2_100rpm_100sccm',\n",
       " '2025_03_01_AEM1IC_P75T_DI_Sus_40C_dry_100rpm_100sccm',\n",
       " '2025_03_01_AEM1IC_P75T_DI_Sus_40C_operando_100rpm_100sccm',\n",
       " '2025_03_01_AEM1IC_P75T_DI_Sus_40C_post_operando_100rpm_100sccm',\n",
       " '2025_03_01_AEM1IC_P75T_DI_Sus_40C_post_operando_dry_100rpm_100sccm',\n",
       " '2025_03_01_AEM1IC_P75T_DI_Sus_40C_wet_100rpm_100sccm',\n",
       " '2025_03_01_Aem1IC_Aem_C02_40C_40CRH_100rpm_100sccm',\n",
       " '2025_03_01_Aem1IC_Aem_C02_40C_40CRH_operando_100rpm_100sccm',\n",
       " '2025_03_01_Aem1IC_Aem_C02_40C_dry_100rpm_100sccm',\n",
       " '2025_03_01_porogen35wthighlight_sustanion_40C_40CRH_100rpm_100sccm',\n",
       " '2025_03_01_porogen35wthighlight_sustanion_40C_40CRH_operando_100rpm_100sccm',\n",
       " '2025_03_01_porogen35wthighlight_sustanion_40C_40CRH_wet_100rpm_100sccm',\n",
       " '2025_03_01_porogen35wthighlight_sustanion_40C_dry01_100rpm_100sccm',\n",
       " '2025_03_02_AEM1IC_H2O_nobacker_DI_Sus_40C_dry_40CRH_100rpm_100sccm',\n",
       " '2025_03_02_AEM1IC_H2O_nobacker_DI_Sus_40C_dry_60CRH_100rpm_100sccm',\n",
       " '2025_03_02_AEM1IC_H2O_nobacker_DI_Sus_40C_operando_40CRH_100rpm_100sccm',\n",
       " '2025_03_02_AEM1IC_H2O_nobacker_DI_Sus_40C_operando_60CRH_100rpm_100sccm',\n",
       " '2025_03_02_AEM1IC_H2O_nobacker_DI_Sus_40C_wet_40CRH_100rpm_100sccm',\n",
       " '2025_03_02_AEM1IC_H2O_nobacker_DI_Sus_40C_wet_60CRH_100rpm_100sccm',\n",
       " '2025_03_02_AEM1IC_P75T_14thou_H2O_DI_Sus_40C_dry_60CRH_100rpm_100sccm',\n",
       " '2025_03_02_AEM1IC_P75T_14thou_H2O_DI_Sus_40C_operando_60CRH_100rpm_100sccm',\n",
       " '2025_03_02_AEM1IC_P75T_14thou_H2O_DI_Sus_40C_wet_60CRH_100rpm_100sccm',\n",
       " '2025_03_02_AEM1IC_P75T_18thou_H2O_DI_Sus_40C_dry_100rpm_100sccm',\n",
       " '2025_03_02_AEM1IC_P75T_18thou_H2O_DI_Sus_40C_operando_60CRH_100rpm_100sccm',\n",
       " '2025_03_02_AEM1IC_P75T_18thou_H2O_DI_Sus_40C_post_operando_D2O_60CRH_100rpm_100sccm',\n",
       " '2025_03_02_AEM1IC_P75T_18thou_H2O_DI_Sus_40C_wet_60CRH_100rpm_100sccm',\n",
       " '2025_03_02_AEM1IC_P75T_DI_Sus_40C_dry_60CRH_100rpm_100sccm',\n",
       " '2025_03_02_AEM1IC_P75T_DI_Sus_40C_repeat_dry_100rpm_100sccm',\n",
       " '2025_03_02_AEM1IC_P75T_DI_Sus_40C_repeat_operando_60CRH_100rpm_100sccm',\n",
       " '2025_03_02_AEM1IC_P75T_DI_Sus_40C_repeat_post_operando_60CRH_100rpm_100sccm',\n",
       " '2025_03_02_AEM1IC_P75T_DI_Sus_40C_repeat_wet_100rpm_100sccm',\n",
       " '2025_03_02_AEM1IC_P75T_DI_Sus_dry_100rpm_100sccm',\n",
       " '2025_03_02_AEM1IC_P75T_H2O_DI_Sus_40C_dry_60CRH_100rpm_100sccm',\n",
       " '2025_03_02_AEM1IC_P75T_H2O_DI_Sus_40C_operando_60CRH_100rpm_100sccm',\n",
       " '2025_03_02_AEM1IC_P75T_H2O_DI_Sus_40C_wet_60CRH_100rpm_100sccm',\n",
       " '2025_03_03_AEM1IC_Toray_H2O_DI_Sus_40C_dry_60CRH_100rpm_100sccm',\n",
       " '2025_03_03_AEM1IC_Toray_H2O_DI_Sus_40C_operando_60CRH_100rpm_100sccm',\n",
       " '2025_03_03_AEM1IC_Toray_H2O_DI_Sus_40C_post_operando_60CRH_100rpm_100sccm',\n",
       " '2025_03_03_AEM1IC_Toray_H2O_DI_Sus_40C_wet_60CRH_100rpm_100sccm',\n",
       " '2025_03_04_water_calibration']"
      ]
     },
     "execution_count": 18,
     "metadata": {},
     "output_type": "execute_result"
    }
   ],
   "source": [
    "scan_list = sorted(os.listdir(scan_loc))\n",
    "scan_list"
   ]
  },
  {
   "cell_type": "code",
   "execution_count": 19,
   "id": "96f099ee-9213-40d3-9e44-dcf11f212ffe",
   "metadata": {},
   "outputs": [
    {
     "name": "stdout",
     "output_type": "stream",
     "text": [
      "58\n",
      "57\n"
     ]
    },
    {
     "data": {
      "text/plain": [
       "['2025_02_27_Aem1IC_Sus_40C_40CRH_100rpm_100sccm',\n",
       " '2025_02_27_Aem1IC_Sus_40C_dry2_100rpm_100sccm',\n",
       " '2025_02_27_Aem1IC_Sus_40C_operando_100rpm_100sccm',\n",
       " '2025_02_28_Aem1IC_Aem_C01_40C_40CRH_100rpm_100sccm',\n",
       " '2025_02_28_Aem1IC_Aem_C01_40C_dry_100rpm_100sccm',\n",
       " '2025_02_28_Aem1IC_Aem_C03_40C_dry_100rpm_100sccm',\n",
       " '2025_02_28_Aem1IC_Aem_C03_40C_operando_100rpm_100sccm',\n",
       " '2025_02_28_Aem1IC_Aem_C03_40C_wet_100rpm_100sccm',\n",
       " '2025_02_28_Aem1IC_Aem_C08_40C_40CRH_100rpm_100sccm',\n",
       " '2025_02_28_Aem1IC_Aem_C08_40C_40CRH_operando_100rpm_100sccm',\n",
       " '2025_02_28_Aem1IC_Aem_C08_40C_dry_100rpm_100sccm',\n",
       " '2025_02_28_Aem1IC_Piper_40C_40CRH_wet_100rpm_100sccm',\n",
       " '2025_02_28_Aem1IC_Piper_40C_dry_100rpm_100sccm',\n",
       " '2025_02_28_Aem1IC_Piper_40C_operando_100rpm_100sccm',\n",
       " '2025_02_28_Aem1IC_Piper_40C_wet_100rpm_100sccm',\n",
       " '2025_03_01_2umpp_sustanion_40C_dry_100rpm_100sccm',\n",
       " '2025_03_01_2umpp_sustanion_40C_operando_100rpm_100sccm',\n",
       " '2025_03_01_2umpp_sustanion_40C_wet_100rpm_100sccm',\n",
       " '2025_03_01_AEM1IC_P75T_DI_Sus_40C_dry2_100rpm_100sccm',\n",
       " '2025_03_01_AEM1IC_P75T_DI_Sus_40C_dry_100rpm_100sccm',\n",
       " '2025_03_01_AEM1IC_P75T_DI_Sus_40C_operando_100rpm_100sccm',\n",
       " '2025_03_01_AEM1IC_P75T_DI_Sus_40C_post_operando_100rpm_100sccm',\n",
       " '2025_03_01_AEM1IC_P75T_DI_Sus_40C_post_operando_dry_100rpm_100sccm',\n",
       " '2025_03_01_AEM1IC_P75T_DI_Sus_40C_wet_100rpm_100sccm',\n",
       " '2025_03_01_Aem1IC_Aem_C02_40C_40CRH_100rpm_100sccm',\n",
       " '2025_03_01_Aem1IC_Aem_C02_40C_40CRH_operando_100rpm_100sccm',\n",
       " '2025_03_01_Aem1IC_Aem_C02_40C_dry_100rpm_100sccm',\n",
       " '2025_03_01_porogen35wthighlight_sustanion_40C_40CRH_100rpm_100sccm',\n",
       " '2025_03_01_porogen35wthighlight_sustanion_40C_40CRH_operando_100rpm_100sccm',\n",
       " '2025_03_01_porogen35wthighlight_sustanion_40C_40CRH_wet_100rpm_100sccm',\n",
       " '2025_03_01_porogen35wthighlight_sustanion_40C_dry01_100rpm_100sccm',\n",
       " '2025_03_02_AEM1IC_H2O_nobacker_DI_Sus_40C_dry_40CRH_100rpm_100sccm',\n",
       " '2025_03_02_AEM1IC_H2O_nobacker_DI_Sus_40C_dry_60CRH_100rpm_100sccm',\n",
       " '2025_03_02_AEM1IC_H2O_nobacker_DI_Sus_40C_operando_40CRH_100rpm_100sccm',\n",
       " '2025_03_02_AEM1IC_H2O_nobacker_DI_Sus_40C_operando_60CRH_100rpm_100sccm',\n",
       " '2025_03_02_AEM1IC_H2O_nobacker_DI_Sus_40C_wet_40CRH_100rpm_100sccm',\n",
       " '2025_03_02_AEM1IC_H2O_nobacker_DI_Sus_40C_wet_60CRH_100rpm_100sccm',\n",
       " '2025_03_02_AEM1IC_P75T_14thou_H2O_DI_Sus_40C_dry_60CRH_100rpm_100sccm',\n",
       " '2025_03_02_AEM1IC_P75T_14thou_H2O_DI_Sus_40C_operando_60CRH_100rpm_100sccm',\n",
       " '2025_03_02_AEM1IC_P75T_14thou_H2O_DI_Sus_40C_wet_60CRH_100rpm_100sccm',\n",
       " '2025_03_02_AEM1IC_P75T_18thou_H2O_DI_Sus_40C_dry_100rpm_100sccm',\n",
       " '2025_03_02_AEM1IC_P75T_18thou_H2O_DI_Sus_40C_operando_60CRH_100rpm_100sccm',\n",
       " '2025_03_02_AEM1IC_P75T_18thou_H2O_DI_Sus_40C_post_operando_D2O_60CRH_100rpm_100sccm',\n",
       " '2025_03_02_AEM1IC_P75T_18thou_H2O_DI_Sus_40C_wet_60CRH_100rpm_100sccm',\n",
       " '2025_03_02_AEM1IC_P75T_DI_Sus_40C_dry_60CRH_100rpm_100sccm',\n",
       " '2025_03_02_AEM1IC_P75T_DI_Sus_40C_repeat_dry_100rpm_100sccm',\n",
       " '2025_03_02_AEM1IC_P75T_DI_Sus_40C_repeat_operando_60CRH_100rpm_100sccm',\n",
       " '2025_03_02_AEM1IC_P75T_DI_Sus_40C_repeat_post_operando_60CRH_100rpm_100sccm',\n",
       " '2025_03_02_AEM1IC_P75T_DI_Sus_40C_repeat_wet_100rpm_100sccm',\n",
       " '2025_03_02_AEM1IC_P75T_DI_Sus_dry_100rpm_100sccm',\n",
       " '2025_03_02_AEM1IC_P75T_H2O_DI_Sus_40C_dry_60CRH_100rpm_100sccm',\n",
       " '2025_03_02_AEM1IC_P75T_H2O_DI_Sus_40C_operando_60CRH_100rpm_100sccm',\n",
       " '2025_03_02_AEM1IC_P75T_H2O_DI_Sus_40C_wet_60CRH_100rpm_100sccm',\n",
       " '2025_03_03_AEM1IC_Toray_H2O_DI_Sus_40C_dry_60CRH_100rpm_100sccm',\n",
       " '2025_03_03_AEM1IC_Toray_H2O_DI_Sus_40C_operando_60CRH_100rpm_100sccm',\n",
       " '2025_03_03_AEM1IC_Toray_H2O_DI_Sus_40C_post_operando_60CRH_100rpm_100sccm',\n",
       " '2025_03_03_AEM1IC_Toray_H2O_DI_Sus_40C_wet_60CRH_100rpm_100sccm']"
      ]
     },
     "execution_count": 19,
     "metadata": {},
     "output_type": "execute_result"
    }
   ],
   "source": [
    "to_rmv = [\n",
    "    # '2025_02_27_Aem1IC_Sus_40C_40CRH_100rpm_100sccm',\n",
    "    #  '2025_02_27_Aem1IC_Sus_40C_dry2_100rpm_100sccm',\n",
    "    #  '2025_02_27_Aem1IC_Sus_40C_operando_100rpm_100sccm',\n",
    "    #  '2025_02_28_Aem1IC_Aem_C01_40C_40CRH_100rpm_100sccm',\n",
    "    #  '2025_02_28_Aem1IC_Aem_C01_40C_dry_100rpm_100sccm',\n",
    "    #  '2025_02_28_Aem1IC_Aem_C03_40C_dry_100rpm_100sccm',\n",
    "    #  '2025_02_28_Aem1IC_Aem_C03_40C_operando_100rpm_100sccm',\n",
    "    #  '2025_02_28_Aem1IC_Aem_C03_40C_wet_100rpm_100sccm',\n",
    "    #  '2025_02_28_Aem1IC_Aem_C08_40C_40CRH_100rpm_100sccm',\n",
    "    #  '2025_02_28_Aem1IC_Aem_C08_40C_40CRH_operando_100rpm_100sccm',\n",
    "    #  '2025_02_28_Aem1IC_Aem_C08_40C_dry_100rpm_100sccm',\n",
    "    #  '2025_02_28_Aem1IC_Piper_40C_40CRH_wet_100rpm_100sccm',\n",
    "    #  '2025_02_28_Aem1IC_Piper_40C_dry_100rpm_100sccm',\n",
    "    #  '2025_02_28_Aem1IC_Piper_40C_operando_100rpm_100sccm',\n",
    "    #  '2025_02_28_Aem1IC_Piper_40C_wet_100rpm_100sccm',\n",
    "    # '2025_03_01_Aem1IC_Aem_C02_40C_40CRH_100rpm_100sccm',\n",
    "    # '2025_03_01_Aem1IC_Aem_C02_40C_40CRH_operando_100rpm_100sccm',\n",
    "    # '2025_03_01_Aem1IC_Aem_C02_40C_dry_100rpm_100sccm',\n",
    "    '2025_03_04_water_calibration'\n",
    "]\n",
    "scan_list = rocku.remove_fnames(scan_list, to_rmv)\n",
    "scan_list"
   ]
  },
  {
   "cell_type": "code",
   "execution_count": 20,
   "id": "0198ba47-b7a8-42f2-9ec2-525fcfcbea2f",
   "metadata": {},
   "outputs": [
    {
     "data": {
      "text/plain": [
       "['2025_02_27_Aem1IC_Sus_40C_open_beam_100rpm_100sccm',\n",
       " '2025_02_28_Aem1IC_Aem_C03_40C_operando_100rpm_100sccm',\n",
       " '2025_02_28_Aem1IC_Aem_C08_40C_40CRH_operando_100rpm_100sccm',\n",
       " '2025_02_28_Aem1IC_Piper_40C_open_beam_100rpm_100sccm',\n",
       " '2025_02_28_Aem1IC_Piper_40C_operando_100rpm_100sccm',\n",
       " '2025_03_01_2umpp_sustanion_40C_operando_100rpm_100sccm',\n",
       " '2025_03_01_AEM1IC_P75T_DI_Sus_40C_post_operando_dry_100rpm_100sccm',\n",
       " '2025_03_01_Aem1IC_Aem_C02_40C_40CRH_operando_100rpm_100sccm',\n",
       " '2025_03_01_porogen35wthighlight_sustanion_40C_40CRH_operando_100rpm_100sccm',\n",
       " '2025_03_02_AEM1IC_H2O_nobacker_DI_Sus_40C_open_beam_60CRH_100rpm_100sccm',\n",
       " '2025_03_02_AEM1IC_H2O_nobacker_DI_Sus_40C_operando_40CRH_100rpm_100sccm',\n",
       " '2025_03_02_AEM1IC_P75T_18thou_H2O_DI_Sus_40C_post_operando_D2O_60CRH_100rpm_100sccm',\n",
       " '2025_03_02_AEM1IC_P75T_DI_Sus_40C_repeat_post_operando_60CRH_100rpm_100sccm',\n",
       " '2025_03_02_AEM1IC_P75T_H2O_DI_Sus_40C_open_beam_60CRH_100rpm_100sccm',\n",
       " '2025_03_03_AEM1IC_Toray_H2O_DI_Sus_40C_open_beam_60CRH_100rpm_100sccm',\n",
       " '2025_03_04_water_calibration']"
      ]
     },
     "execution_count": 20,
     "metadata": {},
     "output_type": "execute_result"
    }
   ],
   "source": [
    "ob_scan_list = sorted(os.listdir(ob_loc))\n",
    "ob_scan_list"
   ]
  },
  {
   "cell_type": "code",
   "execution_count": 21,
   "id": "ad04154a-cfde-4d54-91ef-0d3b2ce5509d",
   "metadata": {},
   "outputs": [
    {
     "name": "stdout",
     "output_type": "stream",
     "text": [
      "16\n",
      "15\n"
     ]
    },
    {
     "data": {
      "text/plain": [
       "['2025_02_27_Aem1IC_Sus_40C_open_beam_100rpm_100sccm',\n",
       " '2025_02_28_Aem1IC_Aem_C03_40C_operando_100rpm_100sccm',\n",
       " '2025_02_28_Aem1IC_Aem_C08_40C_40CRH_operando_100rpm_100sccm',\n",
       " '2025_02_28_Aem1IC_Piper_40C_open_beam_100rpm_100sccm',\n",
       " '2025_02_28_Aem1IC_Piper_40C_operando_100rpm_100sccm',\n",
       " '2025_03_01_2umpp_sustanion_40C_operando_100rpm_100sccm',\n",
       " '2025_03_01_AEM1IC_P75T_DI_Sus_40C_post_operando_dry_100rpm_100sccm',\n",
       " '2025_03_01_Aem1IC_Aem_C02_40C_40CRH_operando_100rpm_100sccm',\n",
       " '2025_03_01_porogen35wthighlight_sustanion_40C_40CRH_operando_100rpm_100sccm',\n",
       " '2025_03_02_AEM1IC_H2O_nobacker_DI_Sus_40C_open_beam_60CRH_100rpm_100sccm',\n",
       " '2025_03_02_AEM1IC_H2O_nobacker_DI_Sus_40C_operando_40CRH_100rpm_100sccm',\n",
       " '2025_03_02_AEM1IC_P75T_18thou_H2O_DI_Sus_40C_post_operando_D2O_60CRH_100rpm_100sccm',\n",
       " '2025_03_02_AEM1IC_P75T_DI_Sus_40C_repeat_post_operando_60CRH_100rpm_100sccm',\n",
       " '2025_03_02_AEM1IC_P75T_H2O_DI_Sus_40C_open_beam_60CRH_100rpm_100sccm',\n",
       " '2025_03_03_AEM1IC_Toray_H2O_DI_Sus_40C_open_beam_60CRH_100rpm_100sccm']"
      ]
     },
     "execution_count": 21,
     "metadata": {},
     "output_type": "execute_result"
    }
   ],
   "source": [
    "to_rmv = [\n",
    "    # '2025_02_27_Aem1IC_Sus_40C_40CRH_100rpm_100sccm',\n",
    "    #  '2025_02_27_Aem1IC_Sus_40C_dry2_100rpm_100sccm',\n",
    "    #  '2025_02_27_Aem1IC_Sus_40C_operando_100rpm_100sccm',\n",
    "    #  '2025_02_28_Aem1IC_Aem_C01_40C_40CRH_100rpm_100sccm',\n",
    "    #  '2025_02_28_Aem1IC_Aem_C01_40C_dry_100rpm_100sccm',\n",
    "    #  '2025_02_28_Aem1IC_Aem_C03_40C_dry_100rpm_100sccm',\n",
    "    #  '2025_02_28_Aem1IC_Aem_C03_40C_operando_100rpm_100sccm',\n",
    "    #  '2025_02_28_Aem1IC_Aem_C03_40C_wet_100rpm_100sccm',\n",
    "    #  '2025_02_28_Aem1IC_Aem_C08_40C_40CRH_100rpm_100sccm',\n",
    "    #  '2025_02_28_Aem1IC_Aem_C08_40C_40CRH_operando_100rpm_100sccm',\n",
    "    #  '2025_02_28_Aem1IC_Aem_C08_40C_dry_100rpm_100sccm',\n",
    "    #  '2025_02_28_Aem1IC_Piper_40C_40CRH_wet_100rpm_100sccm',\n",
    "    #  '2025_02_28_Aem1IC_Piper_40C_dry_100rpm_100sccm',\n",
    "    #  '2025_02_28_Aem1IC_Piper_40C_operando_100rpm_100sccm',\n",
    "    #  '2025_02_28_Aem1IC_Piper_40C_wet_100rpm_100sccm',\n",
    "    # '2025_03_01_Aem1IC_Aem_C02_40C_40CRH_100rpm_100sccm',\n",
    "    # '2025_03_01_Aem1IC_Aem_C02_40C_40CRH_operando_100rpm_100sccm',\n",
    "    # '2025_03_01_Aem1IC_Aem_C02_40C_dry_100rpm_100sccm',\n",
    "    '2025_03_04_water_calibration'\n",
    "]\n",
    "ob_scan_list = rocku.remove_fnames(ob_scan_list, to_rmv)\n",
    "ob_scan_list"
   ]
  },
  {
   "cell_type": "code",
   "execution_count": 22,
   "id": "ec25cbc8-0545-4d31-97d8-3ae2f8e0cf16",
   "metadata": {},
   "outputs": [],
   "source": [
    "def get_first_n_str(fname:str, n:int):\n",
    "    _split = fname.split(sep='_')\n",
    "    _join = _split[:n]\n",
    "    _sig = '_'.join(_join)\n",
    "    return _sig"
   ]
  },
  {
   "cell_type": "code",
   "execution_count": 23,
   "id": "a86c1b4a-6423-4fac-b18f-9b99b1149a8e",
   "metadata": {
    "scrolled": true
   },
   "outputs": [
    {
     "name": "stdout",
     "output_type": "stream",
     "text": [
      "3\n"
     ]
    },
    {
     "name": "stderr",
     "output_type": "stream",
     "text": [
      "                  \r"
     ]
    },
    {
     "name": "stdout",
     "output_type": "stream",
     "text": [
      "(3, 6300, 6100)\n",
      "5\n"
     ]
    },
    {
     "name": "stderr",
     "output_type": "stream",
     "text": [
      "                  \r"
     ]
    },
    {
     "name": "stdout",
     "output_type": "stream",
     "text": [
      "(5, 6300, 6100)\n",
      "5\n"
     ]
    },
    {
     "name": "stderr",
     "output_type": "stream",
     "text": [
      "/SNS/users/y9z/miniconda3/envs/rockit/lib/python3.10/site-packages/tomopy/misc/corr.py:747: UserWarning: The tomocuda is not support, using cpu outlier removal\n",
      "  warnings.warn(\"The tomocuda is not support, using cpu outlier removal\")\n"
     ]
    },
    {
     "name": "stdout",
     "output_type": "stream",
     "text": [
      "(5, 6300, 6100)\n"
     ]
    },
    {
     "name": "stderr",
     "output_type": "stream",
     "text": [
      "/SNS/users/y9z/Documents/GitHub/research_stuff/jupyter_notebooks/norm_recon/utilities.py:480: RuntimeWarning: divide by zero encountered in divide\n",
      "  proj_norm = np.true_divide(proj_mi_dc, ob_mi_dc, dtype=np.float32)\n",
      "/SNS/users/y9z/Documents/GitHub/research_stuff/jupyter_notebooks/norm_recon/utilities.py:480: RuntimeWarning: invalid value encountered in divide\n",
      "  proj_norm = np.true_divide(proj_mi_dc, ob_mi_dc, dtype=np.float32)\n"
     ]
    },
    {
     "name": "stdout",
     "output_type": "stream",
     "text": [
      "OB stack combined by median.\n",
      "DC stack combined by median.\n",
      "Normalization Done!\n",
      "Saving to /HFIR/CG1D/IPTS-34073/shared/processed_data/normalized/2025_02_27_Aem1IC_Sus_40C_40CRH_100rpm_100sccm ...\n"
     ]
    },
    {
     "name": "stderr",
     "output_type": "stream",
     "text": [
      "3it [00:00, 33.68it/s]\n"
     ]
    },
    {
     "name": "stdout",
     "output_type": "stream",
     "text": [
      "3\n"
     ]
    },
    {
     "name": "stderr",
     "output_type": "stream",
     "text": [
      "                  \r"
     ]
    },
    {
     "name": "stdout",
     "output_type": "stream",
     "text": [
      "(3, 6300, 6100)\n",
      "5\n"
     ]
    },
    {
     "name": "stderr",
     "output_type": "stream",
     "text": [
      "                  \r"
     ]
    },
    {
     "name": "stdout",
     "output_type": "stream",
     "text": [
      "(5, 6300, 6100)\n",
      "5\n"
     ]
    },
    {
     "name": "stderr",
     "output_type": "stream",
     "text": [
      "                  \r"
     ]
    },
    {
     "name": "stdout",
     "output_type": "stream",
     "text": [
      "(5, 6300, 6100)\n",
      "OB stack combined by median.\n",
      "DC stack combined by median.\n",
      "Normalization Done!\n",
      "Saving to /HFIR/CG1D/IPTS-34073/shared/processed_data/normalized/2025_02_27_Aem1IC_Sus_40C_dry2_100rpm_100sccm ...\n"
     ]
    },
    {
     "name": "stderr",
     "output_type": "stream",
     "text": [
      "3it [00:00, 37.92it/s]\n"
     ]
    },
    {
     "name": "stdout",
     "output_type": "stream",
     "text": [
      "52\n"
     ]
    },
    {
     "name": "stderr",
     "output_type": "stream",
     "text": [
      "                       \r"
     ]
    },
    {
     "name": "stdout",
     "output_type": "stream",
     "text": [
      "(52, 6300, 6100)\n",
      "5\n"
     ]
    },
    {
     "name": "stderr",
     "output_type": "stream",
     "text": [
      "                  \r"
     ]
    },
    {
     "name": "stdout",
     "output_type": "stream",
     "text": [
      "(5, 6300, 6100)\n",
      "5\n"
     ]
    },
    {
     "name": "stderr",
     "output_type": "stream",
     "text": [
      "                  \r"
     ]
    },
    {
     "name": "stdout",
     "output_type": "stream",
     "text": [
      "(5, 6300, 6100)\n",
      "OB stack combined by median.\n",
      "DC stack combined by median.\n",
      "Normalization Done!\n",
      "Saving to /HFIR/CG1D/IPTS-34073/shared/processed_data/normalized/2025_02_27_Aem1IC_Sus_40C_operando_100rpm_100sccm ...\n"
     ]
    },
    {
     "name": "stderr",
     "output_type": "stream",
     "text": [
      "52it [00:01, 39.83it/s]\n"
     ]
    },
    {
     "name": "stdout",
     "output_type": "stream",
     "text": [
      "6\n"
     ]
    },
    {
     "name": "stderr",
     "output_type": "stream",
     "text": [
      "                  \r"
     ]
    },
    {
     "name": "stdout",
     "output_type": "stream",
     "text": [
      "(6, 6300, 6100)\n",
      "5\n"
     ]
    },
    {
     "name": "stderr",
     "output_type": "stream",
     "text": [
      "                  \r"
     ]
    },
    {
     "name": "stdout",
     "output_type": "stream",
     "text": [
      "(5, 6300, 6100)\n",
      "5\n"
     ]
    },
    {
     "name": "stderr",
     "output_type": "stream",
     "text": [
      "                  \r"
     ]
    },
    {
     "name": "stdout",
     "output_type": "stream",
     "text": [
      "(5, 6300, 6100)\n",
      "OB stack combined by median.\n",
      "DC stack combined by median.\n",
      "Normalization Done!\n",
      "Saving to /HFIR/CG1D/IPTS-34073/shared/processed_data/normalized/2025_02_28_Aem1IC_Aem_C03_40C_dry_100rpm_100sccm ...\n"
     ]
    },
    {
     "name": "stderr",
     "output_type": "stream",
     "text": [
      "6it [00:00, 37.15it/s]\n"
     ]
    },
    {
     "name": "stdout",
     "output_type": "stream",
     "text": [
      "40\n"
     ]
    },
    {
     "name": "stderr",
     "output_type": "stream",
     "text": [
      "                       \r"
     ]
    },
    {
     "name": "stdout",
     "output_type": "stream",
     "text": [
      "(40, 6300, 6100)\n",
      "5\n"
     ]
    },
    {
     "name": "stderr",
     "output_type": "stream",
     "text": [
      "                  \r"
     ]
    },
    {
     "name": "stdout",
     "output_type": "stream",
     "text": [
      "(5, 6300, 6100)\n",
      "5\n"
     ]
    },
    {
     "name": "stderr",
     "output_type": "stream",
     "text": [
      "                  \r"
     ]
    },
    {
     "name": "stdout",
     "output_type": "stream",
     "text": [
      "(5, 6300, 6100)\n",
      "OB stack combined by median.\n",
      "DC stack combined by median.\n",
      "Normalization Done!\n",
      "Saving to /HFIR/CG1D/IPTS-34073/shared/processed_data/normalized/2025_02_28_Aem1IC_Aem_C03_40C_operando_100rpm_100sccm ...\n"
     ]
    },
    {
     "name": "stderr",
     "output_type": "stream",
     "text": [
      "40it [00:01, 30.17it/s]\n"
     ]
    },
    {
     "name": "stdout",
     "output_type": "stream",
     "text": [
      "3\n"
     ]
    },
    {
     "name": "stderr",
     "output_type": "stream",
     "text": [
      "                  \r"
     ]
    },
    {
     "name": "stdout",
     "output_type": "stream",
     "text": [
      "(3, 6300, 6100)\n",
      "5\n"
     ]
    },
    {
     "name": "stderr",
     "output_type": "stream",
     "text": [
      "                  \r"
     ]
    },
    {
     "name": "stdout",
     "output_type": "stream",
     "text": [
      "(5, 6300, 6100)\n",
      "5\n"
     ]
    },
    {
     "name": "stderr",
     "output_type": "stream",
     "text": [
      "                  \r"
     ]
    },
    {
     "name": "stdout",
     "output_type": "stream",
     "text": [
      "(5, 6300, 6100)\n",
      "OB stack combined by median.\n",
      "DC stack combined by median.\n",
      "Normalization Done!\n",
      "Saving to /HFIR/CG1D/IPTS-34073/shared/processed_data/normalized/2025_02_28_Aem1IC_Aem_C03_40C_wet_100rpm_100sccm ...\n"
     ]
    },
    {
     "name": "stderr",
     "output_type": "stream",
     "text": [
      "3it [00:00, 27.25it/s]\n"
     ]
    },
    {
     "name": "stdout",
     "output_type": "stream",
     "text": [
      "3\n"
     ]
    },
    {
     "name": "stderr",
     "output_type": "stream",
     "text": [
      "                  \r"
     ]
    },
    {
     "name": "stdout",
     "output_type": "stream",
     "text": [
      "(3, 6300, 6100)\n",
      "6\n"
     ]
    },
    {
     "name": "stderr",
     "output_type": "stream",
     "text": [
      "                  \r"
     ]
    },
    {
     "name": "stdout",
     "output_type": "stream",
     "text": [
      "(6, 6300, 6100)\n",
      "5\n"
     ]
    },
    {
     "name": "stderr",
     "output_type": "stream",
     "text": [
      "                  \r"
     ]
    },
    {
     "name": "stdout",
     "output_type": "stream",
     "text": [
      "(5, 6300, 6100)\n",
      "OB stack combined by median.\n",
      "DC stack combined by median.\n",
      "Normalization Done!\n",
      "Saving to /HFIR/CG1D/IPTS-34073/shared/processed_data/normalized/2025_02_28_Aem1IC_Aem_C08_40C_40CRH_100rpm_100sccm ...\n"
     ]
    },
    {
     "name": "stderr",
     "output_type": "stream",
     "text": [
      "3it [00:00, 31.29it/s]\n"
     ]
    },
    {
     "name": "stdout",
     "output_type": "stream",
     "text": [
      "35\n"
     ]
    },
    {
     "name": "stderr",
     "output_type": "stream",
     "text": [
      "                       \r"
     ]
    },
    {
     "name": "stdout",
     "output_type": "stream",
     "text": [
      "(35, 6300, 6100)\n",
      "6\n"
     ]
    },
    {
     "name": "stderr",
     "output_type": "stream",
     "text": [
      "                  \r"
     ]
    },
    {
     "name": "stdout",
     "output_type": "stream",
     "text": [
      "(6, 6300, 6100)\n",
      "5\n"
     ]
    },
    {
     "name": "stderr",
     "output_type": "stream",
     "text": [
      "                  \r"
     ]
    },
    {
     "name": "stdout",
     "output_type": "stream",
     "text": [
      "(5, 6300, 6100)\n",
      "OB stack combined by median.\n",
      "DC stack combined by median.\n",
      "Normalization Done!\n",
      "Saving to /HFIR/CG1D/IPTS-34073/shared/processed_data/normalized/2025_02_28_Aem1IC_Aem_C08_40C_40CRH_operando_100rpm_100sccm ...\n"
     ]
    },
    {
     "name": "stderr",
     "output_type": "stream",
     "text": [
      "35it [00:00, 37.65it/s]\n"
     ]
    },
    {
     "name": "stdout",
     "output_type": "stream",
     "text": [
      "3\n"
     ]
    },
    {
     "name": "stderr",
     "output_type": "stream",
     "text": [
      "                  \r"
     ]
    },
    {
     "name": "stdout",
     "output_type": "stream",
     "text": [
      "(3, 6300, 6100)\n",
      "6\n"
     ]
    },
    {
     "name": "stderr",
     "output_type": "stream",
     "text": [
      "                  \r"
     ]
    },
    {
     "name": "stdout",
     "output_type": "stream",
     "text": [
      "(6, 6300, 6100)\n",
      "5\n"
     ]
    },
    {
     "name": "stderr",
     "output_type": "stream",
     "text": [
      "                  \r"
     ]
    },
    {
     "name": "stdout",
     "output_type": "stream",
     "text": [
      "(5, 6300, 6100)\n",
      "OB stack combined by median.\n",
      "DC stack combined by median.\n",
      "Normalization Done!\n",
      "Saving to /HFIR/CG1D/IPTS-34073/shared/processed_data/normalized/2025_02_28_Aem1IC_Aem_C08_40C_dry_100rpm_100sccm ...\n"
     ]
    },
    {
     "name": "stderr",
     "output_type": "stream",
     "text": [
      "3it [00:00, 37.48it/s]\n"
     ]
    },
    {
     "name": "stdout",
     "output_type": "stream",
     "text": [
      "5\n"
     ]
    },
    {
     "name": "stderr",
     "output_type": "stream",
     "text": [
      "                  \r"
     ]
    },
    {
     "name": "stdout",
     "output_type": "stream",
     "text": [
      "(5, 6300, 6100)\n",
      "3\n"
     ]
    },
    {
     "name": "stderr",
     "output_type": "stream",
     "text": [
      "                  \r"
     ]
    },
    {
     "name": "stdout",
     "output_type": "stream",
     "text": [
      "(3, 6300, 6100)\n",
      "5\n"
     ]
    },
    {
     "name": "stderr",
     "output_type": "stream",
     "text": [
      "                  \r"
     ]
    },
    {
     "name": "stdout",
     "output_type": "stream",
     "text": [
      "(5, 6300, 6100)\n",
      "OB stack combined by median.\n",
      "DC stack combined by median.\n",
      "Normalization Done!\n",
      "Saving to /HFIR/CG1D/IPTS-34073/shared/processed_data/normalized/2025_02_28_Aem1IC_Piper_40C_40CRH_wet_100rpm_100sccm ...\n"
     ]
    },
    {
     "name": "stderr",
     "output_type": "stream",
     "text": [
      "5it [00:00, 39.96it/s]\n"
     ]
    },
    {
     "name": "stdout",
     "output_type": "stream",
     "text": [
      "6\n"
     ]
    },
    {
     "name": "stderr",
     "output_type": "stream",
     "text": [
      "                  \r"
     ]
    },
    {
     "name": "stdout",
     "output_type": "stream",
     "text": [
      "(6, 6300, 6100)\n",
      "3\n"
     ]
    },
    {
     "name": "stderr",
     "output_type": "stream",
     "text": [
      "                  \r"
     ]
    },
    {
     "name": "stdout",
     "output_type": "stream",
     "text": [
      "(3, 6300, 6100)\n",
      "5\n"
     ]
    },
    {
     "name": "stderr",
     "output_type": "stream",
     "text": [
      "                  \r"
     ]
    },
    {
     "name": "stdout",
     "output_type": "stream",
     "text": [
      "(5, 6300, 6100)\n",
      "OB stack combined by median.\n",
      "DC stack combined by median.\n",
      "Normalization Done!\n",
      "Saving to /HFIR/CG1D/IPTS-34073/shared/processed_data/normalized/2025_02_28_Aem1IC_Piper_40C_dry_100rpm_100sccm ...\n"
     ]
    },
    {
     "name": "stderr",
     "output_type": "stream",
     "text": [
      "6it [00:00, 38.90it/s]\n"
     ]
    },
    {
     "name": "stdout",
     "output_type": "stream",
     "text": [
      "37\n"
     ]
    },
    {
     "name": "stderr",
     "output_type": "stream",
     "text": [
      "                       \r"
     ]
    },
    {
     "name": "stdout",
     "output_type": "stream",
     "text": [
      "(37, 6300, 6100)\n",
      "3\n"
     ]
    },
    {
     "name": "stderr",
     "output_type": "stream",
     "text": [
      "                  \r"
     ]
    },
    {
     "name": "stdout",
     "output_type": "stream",
     "text": [
      "(3, 6300, 6100)\n",
      "5\n"
     ]
    },
    {
     "name": "stderr",
     "output_type": "stream",
     "text": [
      "                  \r"
     ]
    },
    {
     "name": "stdout",
     "output_type": "stream",
     "text": [
      "(5, 6300, 6100)\n",
      "OB stack combined by median.\n",
      "DC stack combined by median.\n",
      "Normalization Done!\n",
      "Saving to /HFIR/CG1D/IPTS-34073/shared/processed_data/normalized/2025_02_28_Aem1IC_Piper_40C_operando_100rpm_100sccm ...\n"
     ]
    },
    {
     "name": "stderr",
     "output_type": "stream",
     "text": [
      "37it [00:00, 39.35it/s]\n"
     ]
    },
    {
     "name": "stdout",
     "output_type": "stream",
     "text": [
      "3\n"
     ]
    },
    {
     "name": "stderr",
     "output_type": "stream",
     "text": [
      "                  \r"
     ]
    },
    {
     "name": "stdout",
     "output_type": "stream",
     "text": [
      "(3, 6300, 6100)\n",
      "3\n"
     ]
    },
    {
     "name": "stderr",
     "output_type": "stream",
     "text": [
      "                  \r"
     ]
    },
    {
     "name": "stdout",
     "output_type": "stream",
     "text": [
      "(3, 6300, 6100)\n",
      "5\n"
     ]
    },
    {
     "name": "stderr",
     "output_type": "stream",
     "text": [
      "                  \r"
     ]
    },
    {
     "name": "stdout",
     "output_type": "stream",
     "text": [
      "(5, 6300, 6100)\n",
      "OB stack combined by median.\n",
      "DC stack combined by median.\n",
      "Normalization Done!\n",
      "Saving to /HFIR/CG1D/IPTS-34073/shared/processed_data/normalized/2025_02_28_Aem1IC_Piper_40C_wet_100rpm_100sccm ...\n"
     ]
    },
    {
     "name": "stderr",
     "output_type": "stream",
     "text": [
      "3it [00:00, 31.78it/s]\n"
     ]
    },
    {
     "name": "stdout",
     "output_type": "stream",
     "text": [
      "3\n"
     ]
    },
    {
     "name": "stderr",
     "output_type": "stream",
     "text": [
      "                  \r"
     ]
    },
    {
     "name": "stdout",
     "output_type": "stream",
     "text": [
      "(3, 6300, 6100)\n",
      "3\n"
     ]
    },
    {
     "name": "stderr",
     "output_type": "stream",
     "text": [
      "                  \r"
     ]
    },
    {
     "name": "stdout",
     "output_type": "stream",
     "text": [
      "(3, 6300, 6100)\n",
      "5\n"
     ]
    },
    {
     "name": "stderr",
     "output_type": "stream",
     "text": [
      "                  \r"
     ]
    },
    {
     "name": "stdout",
     "output_type": "stream",
     "text": [
      "(5, 6300, 6100)\n",
      "OB stack combined by median.\n",
      "DC stack combined by median.\n",
      "Normalization Done!\n",
      "Saving to /HFIR/CG1D/IPTS-34073/shared/processed_data/normalized/2025_03_01_2umpp_sustanion_40C_dry_100rpm_100sccm ...\n"
     ]
    },
    {
     "name": "stderr",
     "output_type": "stream",
     "text": [
      "3it [00:00, 31.67it/s]\n"
     ]
    },
    {
     "name": "stdout",
     "output_type": "stream",
     "text": [
      "20\n"
     ]
    },
    {
     "name": "stderr",
     "output_type": "stream",
     "text": [
      "                       \r"
     ]
    },
    {
     "name": "stdout",
     "output_type": "stream",
     "text": [
      "(20, 6300, 6100)\n",
      "3\n"
     ]
    },
    {
     "name": "stderr",
     "output_type": "stream",
     "text": [
      "                  \r"
     ]
    },
    {
     "name": "stdout",
     "output_type": "stream",
     "text": [
      "(3, 6300, 6100)\n",
      "5\n"
     ]
    },
    {
     "name": "stderr",
     "output_type": "stream",
     "text": [
      "                  \r"
     ]
    },
    {
     "name": "stdout",
     "output_type": "stream",
     "text": [
      "(5, 6300, 6100)\n",
      "OB stack combined by median.\n",
      "DC stack combined by median.\n",
      "Normalization Done!\n",
      "Saving to /HFIR/CG1D/IPTS-34073/shared/processed_data/normalized/2025_03_01_2umpp_sustanion_40C_operando_100rpm_100sccm ...\n"
     ]
    },
    {
     "name": "stderr",
     "output_type": "stream",
     "text": [
      "20it [00:00, 39.37it/s]\n"
     ]
    },
    {
     "name": "stdout",
     "output_type": "stream",
     "text": [
      "3\n"
     ]
    },
    {
     "name": "stderr",
     "output_type": "stream",
     "text": [
      "                  \r"
     ]
    },
    {
     "name": "stdout",
     "output_type": "stream",
     "text": [
      "(3, 6300, 6100)\n",
      "3\n"
     ]
    },
    {
     "name": "stderr",
     "output_type": "stream",
     "text": [
      "                  \r"
     ]
    },
    {
     "name": "stdout",
     "output_type": "stream",
     "text": [
      "(3, 6300, 6100)\n",
      "5\n"
     ]
    },
    {
     "name": "stderr",
     "output_type": "stream",
     "text": [
      "                  \r"
     ]
    },
    {
     "name": "stdout",
     "output_type": "stream",
     "text": [
      "(5, 6300, 6100)\n",
      "OB stack combined by median.\n",
      "DC stack combined by median.\n",
      "Normalization Done!\n",
      "Saving to /HFIR/CG1D/IPTS-34073/shared/processed_data/normalized/2025_03_01_2umpp_sustanion_40C_wet_100rpm_100sccm ...\n"
     ]
    },
    {
     "name": "stderr",
     "output_type": "stream",
     "text": [
      "3it [00:00, 39.76it/s]\n"
     ]
    },
    {
     "name": "stdout",
     "output_type": "stream",
     "text": [
      "3\n"
     ]
    },
    {
     "name": "stderr",
     "output_type": "stream",
     "text": [
      "                  \r"
     ]
    },
    {
     "name": "stdout",
     "output_type": "stream",
     "text": [
      "(3, 6300, 6100)\n",
      "3\n"
     ]
    },
    {
     "name": "stderr",
     "output_type": "stream",
     "text": [
      "                  \r"
     ]
    },
    {
     "name": "stdout",
     "output_type": "stream",
     "text": [
      "(3, 6300, 6100)\n",
      "5\n"
     ]
    },
    {
     "name": "stderr",
     "output_type": "stream",
     "text": [
      "                  \r"
     ]
    },
    {
     "name": "stdout",
     "output_type": "stream",
     "text": [
      "(5, 6300, 6100)\n",
      "OB stack combined by median.\n",
      "DC stack combined by median.\n",
      "Normalization Done!\n",
      "Saving to /HFIR/CG1D/IPTS-34073/shared/processed_data/normalized/2025_03_01_AEM1IC_P75T_DI_Sus_40C_dry2_100rpm_100sccm ...\n"
     ]
    },
    {
     "name": "stderr",
     "output_type": "stream",
     "text": [
      "3it [00:00, 34.99it/s]\n"
     ]
    },
    {
     "name": "stdout",
     "output_type": "stream",
     "text": [
      "1\n"
     ]
    },
    {
     "name": "stderr",
     "output_type": "stream",
     "text": [
      "                  \r"
     ]
    },
    {
     "name": "stdout",
     "output_type": "stream",
     "text": [
      "(1, 6300, 6100)\n",
      "3\n"
     ]
    },
    {
     "name": "stderr",
     "output_type": "stream",
     "text": [
      "                  \r"
     ]
    },
    {
     "name": "stdout",
     "output_type": "stream",
     "text": [
      "(3, 6300, 6100)\n",
      "5\n"
     ]
    },
    {
     "name": "stderr",
     "output_type": "stream",
     "text": [
      "                  \r"
     ]
    },
    {
     "name": "stdout",
     "output_type": "stream",
     "text": [
      "(5, 6300, 6100)\n",
      "OB stack combined by median.\n",
      "DC stack combined by median.\n",
      "Normalization Done!\n",
      "Saving to /HFIR/CG1D/IPTS-34073/shared/processed_data/normalized/2025_03_01_AEM1IC_P75T_DI_Sus_40C_dry_100rpm_100sccm ...\n"
     ]
    },
    {
     "name": "stderr",
     "output_type": "stream",
     "text": [
      "1it [00:00, 30.25it/s]\n"
     ]
    },
    {
     "name": "stdout",
     "output_type": "stream",
     "text": [
      "19\n"
     ]
    },
    {
     "name": "stderr",
     "output_type": "stream",
     "text": [
      "                       \r"
     ]
    },
    {
     "name": "stdout",
     "output_type": "stream",
     "text": [
      "(19, 6300, 6100)\n",
      "3\n"
     ]
    },
    {
     "name": "stderr",
     "output_type": "stream",
     "text": [
      "                  \r"
     ]
    },
    {
     "name": "stdout",
     "output_type": "stream",
     "text": [
      "(3, 6300, 6100)\n",
      "5\n"
     ]
    },
    {
     "name": "stderr",
     "output_type": "stream",
     "text": [
      "                  \r"
     ]
    },
    {
     "name": "stdout",
     "output_type": "stream",
     "text": [
      "(5, 6300, 6100)\n",
      "OB stack combined by median.\n",
      "DC stack combined by median.\n",
      "Normalization Done!\n",
      "Saving to /HFIR/CG1D/IPTS-34073/shared/processed_data/normalized/2025_03_01_AEM1IC_P75T_DI_Sus_40C_operando_100rpm_100sccm ...\n"
     ]
    },
    {
     "name": "stderr",
     "output_type": "stream",
     "text": [
      "19it [00:00, 40.92it/s]\n"
     ]
    },
    {
     "name": "stdout",
     "output_type": "stream",
     "text": [
      "3\n"
     ]
    },
    {
     "name": "stderr",
     "output_type": "stream",
     "text": [
      "                  \r"
     ]
    },
    {
     "name": "stdout",
     "output_type": "stream",
     "text": [
      "(3, 6300, 6100)\n",
      "3\n"
     ]
    },
    {
     "name": "stderr",
     "output_type": "stream",
     "text": [
      "                  \r"
     ]
    },
    {
     "name": "stdout",
     "output_type": "stream",
     "text": [
      "(3, 6300, 6100)\n",
      "5\n"
     ]
    },
    {
     "name": "stderr",
     "output_type": "stream",
     "text": [
      "                  \r"
     ]
    },
    {
     "name": "stdout",
     "output_type": "stream",
     "text": [
      "(5, 6300, 6100)\n",
      "OB stack combined by median.\n",
      "DC stack combined by median.\n",
      "Normalization Done!\n",
      "Saving to /HFIR/CG1D/IPTS-34073/shared/processed_data/normalized/2025_03_01_AEM1IC_P75T_DI_Sus_40C_post_operando_100rpm_100sccm ...\n"
     ]
    },
    {
     "name": "stderr",
     "output_type": "stream",
     "text": [
      "3it [00:00, 39.20it/s]\n"
     ]
    },
    {
     "name": "stdout",
     "output_type": "stream",
     "text": [
      "2\n"
     ]
    },
    {
     "name": "stderr",
     "output_type": "stream",
     "text": [
      "                  \r"
     ]
    },
    {
     "name": "stdout",
     "output_type": "stream",
     "text": [
      "(2, 6300, 6100)\n",
      "3\n"
     ]
    },
    {
     "name": "stderr",
     "output_type": "stream",
     "text": [
      "                  \r"
     ]
    },
    {
     "name": "stdout",
     "output_type": "stream",
     "text": [
      "(3, 6300, 6100)\n",
      "5\n"
     ]
    },
    {
     "name": "stderr",
     "output_type": "stream",
     "text": [
      "                  \r"
     ]
    },
    {
     "name": "stdout",
     "output_type": "stream",
     "text": [
      "(5, 6300, 6100)\n",
      "OB stack combined by median.\n",
      "DC stack combined by median.\n",
      "Normalization Done!\n",
      "Saving to /HFIR/CG1D/IPTS-34073/shared/processed_data/normalized/2025_03_01_AEM1IC_P75T_DI_Sus_40C_post_operando_dry_100rpm_100sccm ...\n"
     ]
    },
    {
     "name": "stderr",
     "output_type": "stream",
     "text": [
      "2it [00:00, 35.40it/s]\n"
     ]
    },
    {
     "name": "stdout",
     "output_type": "stream",
     "text": [
      "3\n"
     ]
    },
    {
     "name": "stderr",
     "output_type": "stream",
     "text": [
      "                  \r"
     ]
    },
    {
     "name": "stdout",
     "output_type": "stream",
     "text": [
      "(3, 6300, 6100)\n",
      "3\n"
     ]
    },
    {
     "name": "stderr",
     "output_type": "stream",
     "text": [
      "                  \r"
     ]
    },
    {
     "name": "stdout",
     "output_type": "stream",
     "text": [
      "(3, 6300, 6100)\n",
      "5\n"
     ]
    },
    {
     "name": "stderr",
     "output_type": "stream",
     "text": [
      "                  \r"
     ]
    },
    {
     "name": "stdout",
     "output_type": "stream",
     "text": [
      "(5, 6300, 6100)\n",
      "OB stack combined by median.\n",
      "DC stack combined by median.\n",
      "Normalization Done!\n",
      "Saving to /HFIR/CG1D/IPTS-34073/shared/processed_data/normalized/2025_03_01_AEM1IC_P75T_DI_Sus_40C_wet_100rpm_100sccm ...\n"
     ]
    },
    {
     "name": "stderr",
     "output_type": "stream",
     "text": [
      "3it [00:00, 37.00it/s]\n"
     ]
    },
    {
     "name": "stdout",
     "output_type": "stream",
     "text": [
      "3\n"
     ]
    },
    {
     "name": "stderr",
     "output_type": "stream",
     "text": [
      "                  \r"
     ]
    },
    {
     "name": "stdout",
     "output_type": "stream",
     "text": [
      "(3, 6300, 6100)\n",
      "6\n"
     ]
    },
    {
     "name": "stderr",
     "output_type": "stream",
     "text": [
      "                  \r"
     ]
    },
    {
     "name": "stdout",
     "output_type": "stream",
     "text": [
      "(6, 6300, 6100)\n",
      "5\n"
     ]
    },
    {
     "name": "stderr",
     "output_type": "stream",
     "text": [
      "                  \r"
     ]
    },
    {
     "name": "stdout",
     "output_type": "stream",
     "text": [
      "(5, 6300, 6100)\n",
      "OB stack combined by median.\n",
      "DC stack combined by median.\n",
      "Normalization Done!\n",
      "Saving to /HFIR/CG1D/IPTS-34073/shared/processed_data/normalized/2025_03_01_Aem1IC_Aem_C02_40C_40CRH_100rpm_100sccm ...\n"
     ]
    },
    {
     "name": "stderr",
     "output_type": "stream",
     "text": [
      "3it [00:00, 35.09it/s]\n"
     ]
    },
    {
     "name": "stdout",
     "output_type": "stream",
     "text": [
      "27\n"
     ]
    },
    {
     "name": "stderr",
     "output_type": "stream",
     "text": [
      "                       \r"
     ]
    },
    {
     "name": "stdout",
     "output_type": "stream",
     "text": [
      "(27, 6300, 6100)\n",
      "6\n"
     ]
    },
    {
     "name": "stderr",
     "output_type": "stream",
     "text": [
      "                  \r"
     ]
    },
    {
     "name": "stdout",
     "output_type": "stream",
     "text": [
      "(6, 6300, 6100)\n",
      "5\n"
     ]
    },
    {
     "name": "stderr",
     "output_type": "stream",
     "text": [
      "                  \r"
     ]
    },
    {
     "name": "stdout",
     "output_type": "stream",
     "text": [
      "(5, 6300, 6100)\n",
      "OB stack combined by median.\n",
      "DC stack combined by median.\n",
      "Normalization Done!\n",
      "Saving to /HFIR/CG1D/IPTS-34073/shared/processed_data/normalized/2025_03_01_Aem1IC_Aem_C02_40C_40CRH_operando_100rpm_100sccm ...\n"
     ]
    },
    {
     "name": "stderr",
     "output_type": "stream",
     "text": [
      "27it [00:00, 32.24it/s]\n"
     ]
    },
    {
     "name": "stdout",
     "output_type": "stream",
     "text": [
      "5\n"
     ]
    },
    {
     "name": "stderr",
     "output_type": "stream",
     "text": [
      "                  \r"
     ]
    },
    {
     "name": "stdout",
     "output_type": "stream",
     "text": [
      "(5, 6300, 6100)\n",
      "6\n"
     ]
    },
    {
     "name": "stderr",
     "output_type": "stream",
     "text": [
      "                  \r"
     ]
    },
    {
     "name": "stdout",
     "output_type": "stream",
     "text": [
      "(6, 6300, 6100)\n",
      "5\n"
     ]
    },
    {
     "name": "stderr",
     "output_type": "stream",
     "text": [
      "                  \r"
     ]
    },
    {
     "name": "stdout",
     "output_type": "stream",
     "text": [
      "(5, 6300, 6100)\n",
      "OB stack combined by median.\n",
      "DC stack combined by median.\n",
      "Normalization Done!\n",
      "Saving to /HFIR/CG1D/IPTS-34073/shared/processed_data/normalized/2025_03_01_Aem1IC_Aem_C02_40C_dry_100rpm_100sccm ...\n"
     ]
    },
    {
     "name": "stderr",
     "output_type": "stream",
     "text": [
      "5it [00:00, 36.82it/s]\n"
     ]
    },
    {
     "name": "stdout",
     "output_type": "stream",
     "text": [
      "3\n"
     ]
    },
    {
     "name": "stderr",
     "output_type": "stream",
     "text": [
      "                  \r"
     ]
    },
    {
     "name": "stdout",
     "output_type": "stream",
     "text": [
      "(3, 6300, 6100)\n",
      "3\n"
     ]
    },
    {
     "name": "stderr",
     "output_type": "stream",
     "text": [
      "                  \r"
     ]
    },
    {
     "name": "stdout",
     "output_type": "stream",
     "text": [
      "(3, 6300, 6100)\n",
      "5\n"
     ]
    },
    {
     "name": "stderr",
     "output_type": "stream",
     "text": [
      "                  \r"
     ]
    },
    {
     "name": "stdout",
     "output_type": "stream",
     "text": [
      "(5, 6300, 6100)\n",
      "OB stack combined by median.\n",
      "DC stack combined by median.\n",
      "Normalization Done!\n",
      "Saving to /HFIR/CG1D/IPTS-34073/shared/processed_data/normalized/2025_03_01_porogen35wthighlight_sustanion_40C_40CRH_100rpm_100sccm ...\n"
     ]
    },
    {
     "name": "stderr",
     "output_type": "stream",
     "text": [
      "3it [00:00, 33.63it/s]\n"
     ]
    },
    {
     "name": "stdout",
     "output_type": "stream",
     "text": [
      "25\n"
     ]
    },
    {
     "name": "stderr",
     "output_type": "stream",
     "text": [
      "                       \r"
     ]
    },
    {
     "name": "stdout",
     "output_type": "stream",
     "text": [
      "(25, 6300, 6100)\n",
      "3\n"
     ]
    },
    {
     "name": "stderr",
     "output_type": "stream",
     "text": [
      "                  \r"
     ]
    },
    {
     "name": "stdout",
     "output_type": "stream",
     "text": [
      "(3, 6300, 6100)\n",
      "5\n"
     ]
    },
    {
     "name": "stderr",
     "output_type": "stream",
     "text": [
      "                  \r"
     ]
    },
    {
     "name": "stdout",
     "output_type": "stream",
     "text": [
      "(5, 6300, 6100)\n",
      "OB stack combined by median.\n",
      "DC stack combined by median.\n",
      "Normalization Done!\n",
      "Saving to /HFIR/CG1D/IPTS-34073/shared/processed_data/normalized/2025_03_01_porogen35wthighlight_sustanion_40C_40CRH_operando_100rpm_100sccm ...\n"
     ]
    },
    {
     "name": "stderr",
     "output_type": "stream",
     "text": [
      "25it [00:00, 37.26it/s]\n"
     ]
    },
    {
     "name": "stdout",
     "output_type": "stream",
     "text": [
      "4\n"
     ]
    },
    {
     "name": "stderr",
     "output_type": "stream",
     "text": [
      "                  \r"
     ]
    },
    {
     "name": "stdout",
     "output_type": "stream",
     "text": [
      "(4, 6300, 6100)\n",
      "3\n"
     ]
    },
    {
     "name": "stderr",
     "output_type": "stream",
     "text": [
      "                  \r"
     ]
    },
    {
     "name": "stdout",
     "output_type": "stream",
     "text": [
      "(3, 6300, 6100)\n",
      "5\n"
     ]
    },
    {
     "name": "stderr",
     "output_type": "stream",
     "text": [
      "                  \r"
     ]
    },
    {
     "name": "stdout",
     "output_type": "stream",
     "text": [
      "(5, 6300, 6100)\n",
      "OB stack combined by median.\n",
      "DC stack combined by median.\n",
      "Normalization Done!\n",
      "Saving to /HFIR/CG1D/IPTS-34073/shared/processed_data/normalized/2025_03_01_porogen35wthighlight_sustanion_40C_40CRH_wet_100rpm_100sccm ...\n"
     ]
    },
    {
     "name": "stderr",
     "output_type": "stream",
     "text": [
      "4it [00:00, 37.99it/s]\n"
     ]
    },
    {
     "name": "stdout",
     "output_type": "stream",
     "text": [
      "4\n"
     ]
    },
    {
     "name": "stderr",
     "output_type": "stream",
     "text": [
      "                  \r"
     ]
    },
    {
     "name": "stdout",
     "output_type": "stream",
     "text": [
      "(4, 6300, 6100)\n",
      "3\n"
     ]
    },
    {
     "name": "stderr",
     "output_type": "stream",
     "text": [
      "                  \r"
     ]
    },
    {
     "name": "stdout",
     "output_type": "stream",
     "text": [
      "(3, 6300, 6100)\n",
      "5\n"
     ]
    },
    {
     "name": "stderr",
     "output_type": "stream",
     "text": [
      "                  \r"
     ]
    },
    {
     "name": "stdout",
     "output_type": "stream",
     "text": [
      "(5, 6300, 6100)\n",
      "OB stack combined by median.\n",
      "DC stack combined by median.\n",
      "Normalization Done!\n",
      "Saving to /HFIR/CG1D/IPTS-34073/shared/processed_data/normalized/2025_03_01_porogen35wthighlight_sustanion_40C_dry01_100rpm_100sccm ...\n"
     ]
    },
    {
     "name": "stderr",
     "output_type": "stream",
     "text": [
      "4it [00:00, 38.03it/s]\n"
     ]
    },
    {
     "name": "stdout",
     "output_type": "stream",
     "text": [
      "3\n"
     ]
    },
    {
     "name": "stderr",
     "output_type": "stream",
     "text": [
      "                  \r"
     ]
    },
    {
     "name": "stdout",
     "output_type": "stream",
     "text": [
      "(3, 6300, 6100)\n",
      "3\n"
     ]
    },
    {
     "name": "stderr",
     "output_type": "stream",
     "text": [
      "                  \r"
     ]
    },
    {
     "name": "stdout",
     "output_type": "stream",
     "text": [
      "(3, 6300, 6100)\n",
      "5\n"
     ]
    },
    {
     "name": "stderr",
     "output_type": "stream",
     "text": [
      "                  \r"
     ]
    },
    {
     "name": "stdout",
     "output_type": "stream",
     "text": [
      "(5, 6300, 6100)\n",
      "OB stack combined by median.\n",
      "DC stack combined by median.\n",
      "Normalization Done!\n",
      "Saving to /HFIR/CG1D/IPTS-34073/shared/processed_data/normalized/2025_03_02_AEM1IC_H2O_nobacker_DI_Sus_40C_dry_40CRH_100rpm_100sccm ...\n"
     ]
    },
    {
     "name": "stderr",
     "output_type": "stream",
     "text": [
      "3it [00:00, 36.61it/s]\n"
     ]
    },
    {
     "name": "stdout",
     "output_type": "stream",
     "text": [
      "3\n"
     ]
    },
    {
     "name": "stderr",
     "output_type": "stream",
     "text": [
      "                  \r"
     ]
    },
    {
     "name": "stdout",
     "output_type": "stream",
     "text": [
      "(3, 6300, 6100)\n",
      "3\n"
     ]
    },
    {
     "name": "stderr",
     "output_type": "stream",
     "text": [
      "                  \r"
     ]
    },
    {
     "name": "stdout",
     "output_type": "stream",
     "text": [
      "(3, 6300, 6100)\n",
      "5\n"
     ]
    },
    {
     "name": "stderr",
     "output_type": "stream",
     "text": [
      "                  \r"
     ]
    },
    {
     "name": "stdout",
     "output_type": "stream",
     "text": [
      "(5, 6300, 6100)\n",
      "OB stack combined by median.\n",
      "DC stack combined by median.\n",
      "Normalization Done!\n",
      "Saving to /HFIR/CG1D/IPTS-34073/shared/processed_data/normalized/2025_03_02_AEM1IC_H2O_nobacker_DI_Sus_40C_dry_60CRH_100rpm_100sccm ...\n"
     ]
    },
    {
     "name": "stderr",
     "output_type": "stream",
     "text": [
      "3it [00:00, 33.62it/s]\n"
     ]
    },
    {
     "name": "stdout",
     "output_type": "stream",
     "text": [
      "17\n"
     ]
    },
    {
     "name": "stderr",
     "output_type": "stream",
     "text": [
      "                       \r"
     ]
    },
    {
     "name": "stdout",
     "output_type": "stream",
     "text": [
      "(17, 6300, 6100)\n",
      "3\n"
     ]
    },
    {
     "name": "stderr",
     "output_type": "stream",
     "text": [
      "                  \r"
     ]
    },
    {
     "name": "stdout",
     "output_type": "stream",
     "text": [
      "(3, 6300, 6100)\n",
      "5\n"
     ]
    },
    {
     "name": "stderr",
     "output_type": "stream",
     "text": [
      "                  \r"
     ]
    },
    {
     "name": "stdout",
     "output_type": "stream",
     "text": [
      "(5, 6300, 6100)\n",
      "OB stack combined by median.\n",
      "DC stack combined by median.\n",
      "Normalization Done!\n",
      "Saving to /HFIR/CG1D/IPTS-34073/shared/processed_data/normalized/2025_03_02_AEM1IC_H2O_nobacker_DI_Sus_40C_operando_40CRH_100rpm_100sccm ...\n"
     ]
    },
    {
     "name": "stderr",
     "output_type": "stream",
     "text": [
      "17it [00:00, 34.46it/s]\n"
     ]
    },
    {
     "name": "stdout",
     "output_type": "stream",
     "text": [
      "18\n"
     ]
    },
    {
     "name": "stderr",
     "output_type": "stream",
     "text": [
      "                       \r"
     ]
    },
    {
     "name": "stdout",
     "output_type": "stream",
     "text": [
      "(18, 6300, 6100)\n",
      "3\n"
     ]
    },
    {
     "name": "stderr",
     "output_type": "stream",
     "text": [
      "                  \r"
     ]
    },
    {
     "name": "stdout",
     "output_type": "stream",
     "text": [
      "(3, 6300, 6100)\n",
      "5\n"
     ]
    },
    {
     "name": "stderr",
     "output_type": "stream",
     "text": [
      "                  \r"
     ]
    },
    {
     "name": "stdout",
     "output_type": "stream",
     "text": [
      "(5, 6300, 6100)\n",
      "OB stack combined by median.\n",
      "DC stack combined by median.\n",
      "Normalization Done!\n",
      "Saving to /HFIR/CG1D/IPTS-34073/shared/processed_data/normalized/2025_03_02_AEM1IC_H2O_nobacker_DI_Sus_40C_operando_60CRH_100rpm_100sccm ...\n"
     ]
    },
    {
     "name": "stderr",
     "output_type": "stream",
     "text": [
      "18it [00:00, 34.38it/s]\n"
     ]
    },
    {
     "name": "stdout",
     "output_type": "stream",
     "text": [
      "6\n"
     ]
    },
    {
     "name": "stderr",
     "output_type": "stream",
     "text": [
      "                  \r"
     ]
    },
    {
     "name": "stdout",
     "output_type": "stream",
     "text": [
      "(6, 6300, 6100)\n",
      "3\n"
     ]
    },
    {
     "name": "stderr",
     "output_type": "stream",
     "text": [
      "                  \r"
     ]
    },
    {
     "name": "stdout",
     "output_type": "stream",
     "text": [
      "(3, 6300, 6100)\n",
      "5\n"
     ]
    },
    {
     "name": "stderr",
     "output_type": "stream",
     "text": [
      "                  \r"
     ]
    },
    {
     "name": "stdout",
     "output_type": "stream",
     "text": [
      "(5, 6300, 6100)\n",
      "OB stack combined by median.\n",
      "DC stack combined by median.\n",
      "Normalization Done!\n",
      "Saving to /HFIR/CG1D/IPTS-34073/shared/processed_data/normalized/2025_03_02_AEM1IC_H2O_nobacker_DI_Sus_40C_wet_40CRH_100rpm_100sccm ...\n"
     ]
    },
    {
     "name": "stderr",
     "output_type": "stream",
     "text": [
      "6it [00:00, 38.80it/s]\n"
     ]
    },
    {
     "name": "stdout",
     "output_type": "stream",
     "text": [
      "3\n"
     ]
    },
    {
     "name": "stderr",
     "output_type": "stream",
     "text": [
      "                  \r"
     ]
    },
    {
     "name": "stdout",
     "output_type": "stream",
     "text": [
      "(3, 6300, 6100)\n",
      "3\n"
     ]
    },
    {
     "name": "stderr",
     "output_type": "stream",
     "text": [
      "                  \r"
     ]
    },
    {
     "name": "stdout",
     "output_type": "stream",
     "text": [
      "(3, 6300, 6100)\n",
      "5\n"
     ]
    },
    {
     "name": "stderr",
     "output_type": "stream",
     "text": [
      "                  \r"
     ]
    },
    {
     "name": "stdout",
     "output_type": "stream",
     "text": [
      "(5, 6300, 6100)\n",
      "OB stack combined by median.\n",
      "DC stack combined by median.\n",
      "Normalization Done!\n",
      "Saving to /HFIR/CG1D/IPTS-34073/shared/processed_data/normalized/2025_03_02_AEM1IC_H2O_nobacker_DI_Sus_40C_wet_60CRH_100rpm_100sccm ...\n"
     ]
    },
    {
     "name": "stderr",
     "output_type": "stream",
     "text": [
      "3it [00:00, 34.63it/s]\n"
     ]
    },
    {
     "name": "stdout",
     "output_type": "stream",
     "text": [
      "3\n"
     ]
    },
    {
     "name": "stderr",
     "output_type": "stream",
     "text": [
      "                  \r"
     ]
    },
    {
     "name": "stdout",
     "output_type": "stream",
     "text": [
      "(3, 6300, 6100)\n",
      "3\n"
     ]
    },
    {
     "name": "stderr",
     "output_type": "stream",
     "text": [
      "                  \r"
     ]
    },
    {
     "name": "stdout",
     "output_type": "stream",
     "text": [
      "(3, 6300, 6100)\n",
      "5\n"
     ]
    },
    {
     "name": "stderr",
     "output_type": "stream",
     "text": [
      "                  \r"
     ]
    },
    {
     "name": "stdout",
     "output_type": "stream",
     "text": [
      "(5, 6300, 6100)\n",
      "OB stack combined by median.\n",
      "DC stack combined by median.\n",
      "Normalization Done!\n",
      "Saving to /HFIR/CG1D/IPTS-34073/shared/processed_data/normalized/2025_03_02_AEM1IC_P75T_18thou_H2O_DI_Sus_40C_dry_100rpm_100sccm ...\n"
     ]
    },
    {
     "name": "stderr",
     "output_type": "stream",
     "text": [
      "3it [00:00, 38.33it/s]\n"
     ]
    },
    {
     "name": "stdout",
     "output_type": "stream",
     "text": [
      "21\n"
     ]
    },
    {
     "name": "stderr",
     "output_type": "stream",
     "text": [
      "                       \r"
     ]
    },
    {
     "name": "stdout",
     "output_type": "stream",
     "text": [
      "(21, 6300, 6100)\n",
      "3\n"
     ]
    },
    {
     "name": "stderr",
     "output_type": "stream",
     "text": [
      "                  \r"
     ]
    },
    {
     "name": "stdout",
     "output_type": "stream",
     "text": [
      "(3, 6300, 6100)\n",
      "5\n"
     ]
    },
    {
     "name": "stderr",
     "output_type": "stream",
     "text": [
      "                  \r"
     ]
    },
    {
     "name": "stdout",
     "output_type": "stream",
     "text": [
      "(5, 6300, 6100)\n",
      "OB stack combined by median.\n",
      "DC stack combined by median.\n",
      "Normalization Done!\n",
      "Saving to /HFIR/CG1D/IPTS-34073/shared/processed_data/normalized/2025_03_02_AEM1IC_P75T_18thou_H2O_DI_Sus_40C_operando_60CRH_100rpm_100sccm ...\n"
     ]
    },
    {
     "name": "stderr",
     "output_type": "stream",
     "text": [
      "21it [00:00, 40.67it/s]\n"
     ]
    },
    {
     "name": "stdout",
     "output_type": "stream",
     "text": [
      "5\n"
     ]
    },
    {
     "name": "stderr",
     "output_type": "stream",
     "text": [
      "                  \r"
     ]
    },
    {
     "name": "stdout",
     "output_type": "stream",
     "text": [
      "(5, 6300, 6100)\n",
      "3\n"
     ]
    },
    {
     "name": "stderr",
     "output_type": "stream",
     "text": [
      "                  \r"
     ]
    },
    {
     "name": "stdout",
     "output_type": "stream",
     "text": [
      "(3, 6300, 6100)\n",
      "5\n"
     ]
    },
    {
     "name": "stderr",
     "output_type": "stream",
     "text": [
      "                  \r"
     ]
    },
    {
     "name": "stdout",
     "output_type": "stream",
     "text": [
      "(5, 6300, 6100)\n",
      "OB stack combined by median.\n",
      "DC stack combined by median.\n",
      "Normalization Done!\n",
      "Saving to /HFIR/CG1D/IPTS-34073/shared/processed_data/normalized/2025_03_02_AEM1IC_P75T_18thou_H2O_DI_Sus_40C_post_operando_D2O_60CRH_100rpm_100sccm ...\n"
     ]
    },
    {
     "name": "stderr",
     "output_type": "stream",
     "text": [
      "5it [00:00, 39.53it/s]\n"
     ]
    },
    {
     "name": "stdout",
     "output_type": "stream",
     "text": [
      "6\n"
     ]
    },
    {
     "name": "stderr",
     "output_type": "stream",
     "text": [
      "                  \r"
     ]
    },
    {
     "name": "stdout",
     "output_type": "stream",
     "text": [
      "(6, 6300, 6100)\n",
      "3\n"
     ]
    },
    {
     "name": "stderr",
     "output_type": "stream",
     "text": [
      "                  \r"
     ]
    },
    {
     "name": "stdout",
     "output_type": "stream",
     "text": [
      "(3, 6300, 6100)\n",
      "5\n"
     ]
    },
    {
     "name": "stderr",
     "output_type": "stream",
     "text": [
      "                  \r"
     ]
    },
    {
     "name": "stdout",
     "output_type": "stream",
     "text": [
      "(5, 6300, 6100)\n",
      "OB stack combined by median.\n",
      "DC stack combined by median.\n",
      "Normalization Done!\n",
      "Saving to /HFIR/CG1D/IPTS-34073/shared/processed_data/normalized/2025_03_02_AEM1IC_P75T_18thou_H2O_DI_Sus_40C_wet_60CRH_100rpm_100sccm ...\n"
     ]
    },
    {
     "name": "stderr",
     "output_type": "stream",
     "text": [
      "6it [00:00, 35.76it/s]\n"
     ]
    },
    {
     "name": "stdout",
     "output_type": "stream",
     "text": [
      "5\n"
     ]
    },
    {
     "name": "stderr",
     "output_type": "stream",
     "text": [
      "                  \r"
     ]
    },
    {
     "name": "stdout",
     "output_type": "stream",
     "text": [
      "(5, 6300, 6100)\n",
      "3\n"
     ]
    },
    {
     "name": "stderr",
     "output_type": "stream",
     "text": [
      "                  \r"
     ]
    },
    {
     "name": "stdout",
     "output_type": "stream",
     "text": [
      "(3, 6300, 6100)\n",
      "5\n"
     ]
    },
    {
     "name": "stderr",
     "output_type": "stream",
     "text": [
      "                  \r"
     ]
    },
    {
     "name": "stdout",
     "output_type": "stream",
     "text": [
      "(5, 6300, 6100)\n",
      "OB stack combined by median.\n",
      "DC stack combined by median.\n",
      "Normalization Done!\n",
      "Saving to /HFIR/CG1D/IPTS-34073/shared/processed_data/normalized/2025_03_02_AEM1IC_P75T_DI_Sus_40C_dry_60CRH_100rpm_100sccm ...\n"
     ]
    },
    {
     "name": "stderr",
     "output_type": "stream",
     "text": [
      "5it [00:00, 37.21it/s]\n"
     ]
    },
    {
     "name": "stdout",
     "output_type": "stream",
     "text": [
      "4\n"
     ]
    },
    {
     "name": "stderr",
     "output_type": "stream",
     "text": [
      "                  \r"
     ]
    },
    {
     "name": "stdout",
     "output_type": "stream",
     "text": [
      "(4, 6300, 6100)\n",
      "3\n"
     ]
    },
    {
     "name": "stderr",
     "output_type": "stream",
     "text": [
      "                  \r"
     ]
    },
    {
     "name": "stdout",
     "output_type": "stream",
     "text": [
      "(3, 6300, 6100)\n",
      "5\n"
     ]
    },
    {
     "name": "stderr",
     "output_type": "stream",
     "text": [
      "                  \r"
     ]
    },
    {
     "name": "stdout",
     "output_type": "stream",
     "text": [
      "(5, 6300, 6100)\n",
      "OB stack combined by median.\n",
      "DC stack combined by median.\n",
      "Normalization Done!\n",
      "Saving to /HFIR/CG1D/IPTS-34073/shared/processed_data/normalized/2025_03_02_AEM1IC_P75T_DI_Sus_40C_repeat_dry_100rpm_100sccm ...\n"
     ]
    },
    {
     "name": "stderr",
     "output_type": "stream",
     "text": [
      "4it [00:00, 34.75it/s]\n"
     ]
    },
    {
     "name": "stdout",
     "output_type": "stream",
     "text": [
      "26\n"
     ]
    },
    {
     "name": "stderr",
     "output_type": "stream",
     "text": [
      "                       \r"
     ]
    },
    {
     "name": "stdout",
     "output_type": "stream",
     "text": [
      "(26, 6300, 6100)\n",
      "3\n"
     ]
    },
    {
     "name": "stderr",
     "output_type": "stream",
     "text": [
      "                  \r"
     ]
    },
    {
     "name": "stdout",
     "output_type": "stream",
     "text": [
      "(3, 6300, 6100)\n",
      "5\n"
     ]
    },
    {
     "name": "stderr",
     "output_type": "stream",
     "text": [
      "                  \r"
     ]
    },
    {
     "name": "stdout",
     "output_type": "stream",
     "text": [
      "(5, 6300, 6100)\n",
      "OB stack combined by median.\n",
      "DC stack combined by median.\n",
      "Normalization Done!\n",
      "Saving to /HFIR/CG1D/IPTS-34073/shared/processed_data/normalized/2025_03_02_AEM1IC_P75T_DI_Sus_40C_repeat_operando_60CRH_100rpm_100sccm ...\n"
     ]
    },
    {
     "name": "stderr",
     "output_type": "stream",
     "text": [
      "26it [00:00, 38.90it/s]\n"
     ]
    },
    {
     "name": "stdout",
     "output_type": "stream",
     "text": [
      "4\n"
     ]
    },
    {
     "name": "stderr",
     "output_type": "stream",
     "text": [
      "                  \r"
     ]
    },
    {
     "name": "stdout",
     "output_type": "stream",
     "text": [
      "(4, 6300, 6100)\n",
      "3\n"
     ]
    },
    {
     "name": "stderr",
     "output_type": "stream",
     "text": [
      "                  \r"
     ]
    },
    {
     "name": "stdout",
     "output_type": "stream",
     "text": [
      "(3, 6300, 6100)\n",
      "5\n"
     ]
    },
    {
     "name": "stderr",
     "output_type": "stream",
     "text": [
      "                  \r"
     ]
    },
    {
     "name": "stdout",
     "output_type": "stream",
     "text": [
      "(5, 6300, 6100)\n",
      "OB stack combined by median.\n",
      "DC stack combined by median.\n",
      "Normalization Done!\n",
      "Saving to /HFIR/CG1D/IPTS-34073/shared/processed_data/normalized/2025_03_02_AEM1IC_P75T_DI_Sus_40C_repeat_post_operando_60CRH_100rpm_100sccm ...\n"
     ]
    },
    {
     "name": "stderr",
     "output_type": "stream",
     "text": [
      "4it [00:00, 28.97it/s]\n"
     ]
    },
    {
     "name": "stdout",
     "output_type": "stream",
     "text": [
      "1\n"
     ]
    },
    {
     "name": "stderr",
     "output_type": "stream",
     "text": [
      "                  \r"
     ]
    },
    {
     "name": "stdout",
     "output_type": "stream",
     "text": [
      "(1, 6300, 6100)\n",
      "3\n"
     ]
    },
    {
     "name": "stderr",
     "output_type": "stream",
     "text": [
      "                  \r"
     ]
    },
    {
     "name": "stdout",
     "output_type": "stream",
     "text": [
      "(3, 6300, 6100)\n",
      "5\n"
     ]
    },
    {
     "name": "stderr",
     "output_type": "stream",
     "text": [
      "                  \r"
     ]
    },
    {
     "name": "stdout",
     "output_type": "stream",
     "text": [
      "(5, 6300, 6100)\n",
      "OB stack combined by median.\n",
      "DC stack combined by median.\n",
      "Normalization Done!\n",
      "Saving to /HFIR/CG1D/IPTS-34073/shared/processed_data/normalized/2025_03_02_AEM1IC_P75T_DI_Sus_40C_repeat_wet_100rpm_100sccm ...\n"
     ]
    },
    {
     "name": "stderr",
     "output_type": "stream",
     "text": [
      "1it [00:00, 34.69it/s]\n"
     ]
    },
    {
     "name": "stdout",
     "output_type": "stream",
     "text": [
      "1\n"
     ]
    },
    {
     "name": "stderr",
     "output_type": "stream",
     "text": [
      "                  \r"
     ]
    },
    {
     "name": "stdout",
     "output_type": "stream",
     "text": [
      "(1, 6300, 6100)\n",
      "3\n"
     ]
    },
    {
     "name": "stderr",
     "output_type": "stream",
     "text": [
      "                  \r"
     ]
    },
    {
     "name": "stdout",
     "output_type": "stream",
     "text": [
      "(3, 6300, 6100)\n",
      "5\n"
     ]
    },
    {
     "name": "stderr",
     "output_type": "stream",
     "text": [
      "                  \r"
     ]
    },
    {
     "name": "stdout",
     "output_type": "stream",
     "text": [
      "(5, 6300, 6100)\n",
      "OB stack combined by median.\n",
      "DC stack combined by median.\n",
      "Normalization Done!\n",
      "Saving to /HFIR/CG1D/IPTS-34073/shared/processed_data/normalized/2025_03_02_AEM1IC_P75T_DI_Sus_dry_100rpm_100sccm ...\n"
     ]
    },
    {
     "name": "stderr",
     "output_type": "stream",
     "text": [
      "1it [00:00, 30.81it/s]\n"
     ]
    },
    {
     "name": "stdout",
     "output_type": "stream",
     "text": [
      "6\n"
     ]
    },
    {
     "name": "stderr",
     "output_type": "stream",
     "text": [
      "                  \r"
     ]
    },
    {
     "name": "stdout",
     "output_type": "stream",
     "text": [
      "(6, 6300, 6100)\n",
      "3\n"
     ]
    },
    {
     "name": "stderr",
     "output_type": "stream",
     "text": [
      "                  \r"
     ]
    },
    {
     "name": "stdout",
     "output_type": "stream",
     "text": [
      "(3, 6300, 6100)\n",
      "5\n"
     ]
    },
    {
     "name": "stderr",
     "output_type": "stream",
     "text": [
      "                  \r"
     ]
    },
    {
     "name": "stdout",
     "output_type": "stream",
     "text": [
      "(5, 6300, 6100)\n",
      "OB stack combined by median.\n",
      "DC stack combined by median.\n",
      "Normalization Done!\n",
      "Saving to /HFIR/CG1D/IPTS-34073/shared/processed_data/normalized/2025_03_02_AEM1IC_P75T_H2O_DI_Sus_40C_dry_60CRH_100rpm_100sccm ...\n"
     ]
    },
    {
     "name": "stderr",
     "output_type": "stream",
     "text": [
      "6it [00:00, 28.68it/s]\n"
     ]
    },
    {
     "name": "stdout",
     "output_type": "stream",
     "text": [
      "12\n"
     ]
    },
    {
     "name": "stderr",
     "output_type": "stream",
     "text": [
      "                      \r"
     ]
    },
    {
     "name": "stdout",
     "output_type": "stream",
     "text": [
      "(12, 6300, 6100)\n",
      "3\n"
     ]
    },
    {
     "name": "stderr",
     "output_type": "stream",
     "text": [
      "                  \r"
     ]
    },
    {
     "name": "stdout",
     "output_type": "stream",
     "text": [
      "(3, 6300, 6100)\n",
      "5\n"
     ]
    },
    {
     "name": "stderr",
     "output_type": "stream",
     "text": [
      "                  \r"
     ]
    },
    {
     "name": "stdout",
     "output_type": "stream",
     "text": [
      "(5, 6300, 6100)\n",
      "OB stack combined by median.\n",
      "DC stack combined by median.\n",
      "Normalization Done!\n",
      "Saving to /HFIR/CG1D/IPTS-34073/shared/processed_data/normalized/2025_03_02_AEM1IC_P75T_H2O_DI_Sus_40C_operando_60CRH_100rpm_100sccm ...\n"
     ]
    },
    {
     "name": "stderr",
     "output_type": "stream",
     "text": [
      "12it [00:00, 39.45it/s]\n"
     ]
    },
    {
     "name": "stdout",
     "output_type": "stream",
     "text": [
      "5\n"
     ]
    },
    {
     "name": "stderr",
     "output_type": "stream",
     "text": [
      "                  \r"
     ]
    },
    {
     "name": "stdout",
     "output_type": "stream",
     "text": [
      "(5, 6300, 6100)\n",
      "3\n"
     ]
    },
    {
     "name": "stderr",
     "output_type": "stream",
     "text": [
      "                  \r"
     ]
    },
    {
     "name": "stdout",
     "output_type": "stream",
     "text": [
      "(3, 6300, 6100)\n",
      "5\n"
     ]
    },
    {
     "name": "stderr",
     "output_type": "stream",
     "text": [
      "                  \r"
     ]
    },
    {
     "name": "stdout",
     "output_type": "stream",
     "text": [
      "(5, 6300, 6100)\n",
      "OB stack combined by median.\n",
      "DC stack combined by median.\n",
      "Normalization Done!\n",
      "Saving to /HFIR/CG1D/IPTS-34073/shared/processed_data/normalized/2025_03_02_AEM1IC_P75T_H2O_DI_Sus_40C_wet_60CRH_100rpm_100sccm ...\n"
     ]
    },
    {
     "name": "stderr",
     "output_type": "stream",
     "text": [
      "5it [00:00, 37.57it/s]\n"
     ]
    },
    {
     "name": "stdout",
     "output_type": "stream",
     "text": [
      "3\n"
     ]
    },
    {
     "name": "stderr",
     "output_type": "stream",
     "text": [
      "                  \r"
     ]
    },
    {
     "name": "stdout",
     "output_type": "stream",
     "text": [
      "(3, 6300, 6100)\n",
      "4\n"
     ]
    },
    {
     "name": "stderr",
     "output_type": "stream",
     "text": [
      "                  \r"
     ]
    },
    {
     "name": "stdout",
     "output_type": "stream",
     "text": [
      "(4, 6300, 6100)\n",
      "5\n"
     ]
    },
    {
     "name": "stderr",
     "output_type": "stream",
     "text": [
      "                  \r"
     ]
    },
    {
     "name": "stdout",
     "output_type": "stream",
     "text": [
      "(5, 6300, 6100)\n",
      "OB stack combined by median.\n",
      "DC stack combined by median.\n",
      "Normalization Done!\n",
      "Saving to /HFIR/CG1D/IPTS-34073/shared/processed_data/normalized/2025_03_03_AEM1IC_Toray_H2O_DI_Sus_40C_dry_60CRH_100rpm_100sccm ...\n"
     ]
    },
    {
     "name": "stderr",
     "output_type": "stream",
     "text": [
      "3it [00:00, 36.84it/s]\n"
     ]
    },
    {
     "name": "stdout",
     "output_type": "stream",
     "text": [
      "17\n"
     ]
    },
    {
     "name": "stderr",
     "output_type": "stream",
     "text": [
      "                       \r"
     ]
    },
    {
     "name": "stdout",
     "output_type": "stream",
     "text": [
      "(17, 6300, 6100)\n",
      "4\n"
     ]
    },
    {
     "name": "stderr",
     "output_type": "stream",
     "text": [
      "                  \r"
     ]
    },
    {
     "name": "stdout",
     "output_type": "stream",
     "text": [
      "(4, 6300, 6100)\n",
      "5\n"
     ]
    },
    {
     "name": "stderr",
     "output_type": "stream",
     "text": [
      "                  \r"
     ]
    },
    {
     "name": "stdout",
     "output_type": "stream",
     "text": [
      "(5, 6300, 6100)\n",
      "OB stack combined by median.\n",
      "DC stack combined by median.\n",
      "Normalization Done!\n",
      "Saving to /HFIR/CG1D/IPTS-34073/shared/processed_data/normalized/2025_03_03_AEM1IC_Toray_H2O_DI_Sus_40C_operando_60CRH_100rpm_100sccm ...\n"
     ]
    },
    {
     "name": "stderr",
     "output_type": "stream",
     "text": [
      "17it [00:00, 35.83it/s]\n"
     ]
    },
    {
     "name": "stdout",
     "output_type": "stream",
     "text": [
      "2\n"
     ]
    },
    {
     "name": "stderr",
     "output_type": "stream",
     "text": [
      "                  \r"
     ]
    },
    {
     "name": "stdout",
     "output_type": "stream",
     "text": [
      "(2, 6300, 6100)\n",
      "4\n"
     ]
    },
    {
     "name": "stderr",
     "output_type": "stream",
     "text": [
      "                  \r"
     ]
    },
    {
     "name": "stdout",
     "output_type": "stream",
     "text": [
      "(4, 6300, 6100)\n",
      "5\n"
     ]
    },
    {
     "name": "stderr",
     "output_type": "stream",
     "text": [
      "                  \r"
     ]
    },
    {
     "name": "stdout",
     "output_type": "stream",
     "text": [
      "(5, 6300, 6100)\n",
      "OB stack combined by median.\n",
      "DC stack combined by median.\n",
      "Normalization Done!\n",
      "Saving to /HFIR/CG1D/IPTS-34073/shared/processed_data/normalized/2025_03_03_AEM1IC_Toray_H2O_DI_Sus_40C_post_operando_60CRH_100rpm_100sccm ...\n"
     ]
    },
    {
     "name": "stderr",
     "output_type": "stream",
     "text": [
      "2it [00:00, 35.42it/s]\n"
     ]
    },
    {
     "name": "stdout",
     "output_type": "stream",
     "text": [
      "3\n"
     ]
    },
    {
     "name": "stderr",
     "output_type": "stream",
     "text": [
      "                  \r"
     ]
    },
    {
     "name": "stdout",
     "output_type": "stream",
     "text": [
      "(3, 6300, 6100)\n",
      "4\n"
     ]
    },
    {
     "name": "stderr",
     "output_type": "stream",
     "text": [
      "                  \r"
     ]
    },
    {
     "name": "stdout",
     "output_type": "stream",
     "text": [
      "(4, 6300, 6100)\n",
      "5\n"
     ]
    },
    {
     "name": "stderr",
     "output_type": "stream",
     "text": [
      "                  "
     ]
    },
    {
     "name": "stdout",
     "output_type": "stream",
     "text": [
      "(5, 6300, 6100)"
     ]
    },
    {
     "name": "stderr",
     "output_type": "stream",
     "text": [
      "\r"
     ]
    },
    {
     "name": "stdout",
     "output_type": "stream",
     "text": [
      "\n",
      "OB stack combined by median.\n",
      "DC stack combined by median.\n",
      "Normalization Done!\n",
      "Saving to /HFIR/CG1D/IPTS-34073/shared/processed_data/normalized/2025_03_03_AEM1IC_Toray_H2O_DI_Sus_40C_wet_60CRH_100rpm_100sccm ...\n"
     ]
    },
    {
     "name": "stderr",
     "output_type": "stream",
     "text": [
      "3it [00:00, 39.14it/s]\n"
     ]
    }
   ],
   "source": [
    "bin_size = 1\n",
    "# bin_size = None\n",
    "sig_num = 6\n",
    "##################################################\n",
    "scan_wo_ob_list = []\n",
    "ob_scan_sig_dict = {}\n",
    "for each_ob_scan in ob_scan_list:\n",
    "    sig = get_first_n_str(each_ob_scan, sig_num)\n",
    "    ob_scan_sig_dict[sig] = each_ob_scan\n",
    "for each_scan in scan_list:\n",
    "    scan_dir = os.path.join(scan_loc, each_scan)\n",
    "    scan_sig = get_first_n_str(each_scan, sig_num)\n",
    "    if scan_sig in ob_scan_sig_dict.keys():\n",
    "        ob_dir = os.path.join(ob_loc, ob_scan_sig_dict[scan_sig])\n",
    "        ob_list = os.listdir(ob_dir)\n",
    "        fname_list = sorted(os.listdir(scan_dir))\n",
    "        scan_exposure_list = rocku.get_exposure_list(fname_list)\n",
    "        exposure_list = sorted(list(set(scan_exposure_list).intersection(ob_exposure_list).intersection(dc_exposure_list)))\n",
    "        for each_exposure in exposure_list:\n",
    "            _fname_list = rocku.filter_list(fname_list, each_exposure)\n",
    "            _ob_list = rocku.filter_list(ob_list, each_exposure)\n",
    "            _dc_list = rocku.filter_list(dc_list, each_exposure)\n",
    "            ######### Scan\n",
    "            _scan_raw = rocku.read_tiff_stack(scan_dir, _fname_list)\n",
    "            print(_scan_raw.shape)\n",
    "            ######### OB\n",
    "            _ob_raw = rocku.read_tiff_stack(ob_dir, _ob_list)\n",
    "            print(_ob_raw.shape)\n",
    "            ######### DC\n",
    "            _dc_raw = rocku.read_tiff_stack(dc_dir, _dc_list)\n",
    "            print(_dc_raw.shape)\n",
    "            _scan_crop = rocku.crop(_scan_raw, crop_left, crop_right, crop_top, crop_bottom, crop)\n",
    "            _ob_crop = rocku.crop(_ob_raw, crop_left, crop_right, crop_top, crop_bottom, crop)\n",
    "            _dc_crop = rocku.crop(_dc_raw, crop_left, crop_right, crop_top, crop_bottom, crop)\n",
    "            _scan_crop = tomopy.misc.corr.remove_outlier_cuda(_scan_crop, gamma_diff).astype(np.ushort)\n",
    "            _ob_crop = tomopy.misc.corr.remove_outlier_cuda(_ob_crop, gamma_diff).astype(np.ushort)\n",
    "            _dc_crop = tomopy.misc.corr.remove_outlier_cuda(_dc_crop, gamma_diff).astype(np.ushort)\n",
    "            if bin_size is None:\n",
    "                bin_size = len(_fname_list)\n",
    "            #####################\n",
    "            #####################\n",
    "            # Bin images\n",
    "            if bin_size != 1:\n",
    "                to_rmv = len(_fname_list)%bin_size\n",
    "                if to_rmv == 0:\n",
    "                    _fname_list_rmv = _fname_list[:]\n",
    "                    _scan_crop_rmv = _scan_crop[:]\n",
    "                else:\n",
    "                    _fname_list_rmv = _fname_list[:-to_rmv]\n",
    "                    _scan_crop_rmv = _scan_crop[:-to_rmv]\n",
    "                _fname_list_bin = _fname_list_rmv[0::bin_size]\n",
    "                _scan_crop_bin = np.array([np.mean(_scan_crop_rmv[i:i+bin_size], axis=0) for i in tqdm(range(0, len(_scan_crop_rmv), bin_size))]) \n",
    "            # Normalize\n",
    "            if bin_size != 1:\n",
    "                _scan_norm, _scan_mi_dc, _ob_mi_dc, _dc_med = rocku.normalize(_scan_crop_bin, _ob_crop, _dc_crop)\n",
    "            else:\n",
    "                _scan_norm, _scan_mi_dc, _ob_mi_dc, _dc_med = rocku.normalize(_scan_crop, _ob_crop, _dc_crop)\n",
    "            # Save files\n",
    "            save_to = \"/HFIR/CG1D/IPTS-\"+ipts+\"/shared/processed_data/normalized/\" + each_scan# + '_Right'\n",
    "            if bin_size != 1:\n",
    "                save_to = save_to + \"_binned_by_\" + str(bin_size)\n",
    "                _fname_list_save = _fname_list_bin[:]\n",
    "            else:\n",
    "                _fname_list_save = _fname_list[:]\n",
    "            print('Saving to {} ...'.format(save_to))\n",
    "            for i, e_name in tqdm(enumerate(_fname_list_save)):\n",
    "            #     e_name = rocku.remove_1st_str(e_name)\n",
    "                _fname = save_to + \"/\" + e_name\n",
    "                dxchange.write_tiff(_scan_norm[i], fname=_fname, overwrite=True)\n",
    "    else:\n",
    "        scan_wo_ob_list.append(each_scan)"
   ]
  },
  {
   "cell_type": "code",
   "execution_count": 26,
   "id": "dd424d25",
   "metadata": {},
   "outputs": [
    {
     "name": "stdout",
     "output_type": "stream",
     "text": [
      "No OB folder found for scans:\n"
     ]
    },
    {
     "data": {
      "text/plain": [
       "['2025_02_28_Aem1IC_Aem_C01_40C_40CRH_100rpm_100sccm',\n",
       " '2025_02_28_Aem1IC_Aem_C01_40C_dry_100rpm_100sccm',\n",
       " '2025_03_02_AEM1IC_P75T_14thou_H2O_DI_Sus_40C_dry_60CRH_100rpm_100sccm',\n",
       " '2025_03_02_AEM1IC_P75T_14thou_H2O_DI_Sus_40C_operando_60CRH_100rpm_100sccm',\n",
       " '2025_03_02_AEM1IC_P75T_14thou_H2O_DI_Sus_40C_wet_60CRH_100rpm_100sccm']"
      ]
     },
     "execution_count": 26,
     "metadata": {},
     "output_type": "execute_result"
    }
   ],
   "source": [
    "print(\"No OB folder found for scans:\")\n",
    "scan_wo_ob_list"
   ]
  },
  {
   "cell_type": "code",
   "execution_count": 27,
   "id": "5455f54a-7263-4216-88ef-61605cf85783",
   "metadata": {},
   "outputs": [
    {
     "name": "stdout",
     "output_type": "stream",
     "text": [
      "Existing OB folders\n"
     ]
    },
    {
     "data": {
      "text/plain": [
       "['2025_02_27_Aem1IC_Sus_40C_open_beam_100rpm_100sccm',\n",
       " '2025_02_28_Aem1IC_Aem_C03_40C_operando_100rpm_100sccm',\n",
       " '2025_02_28_Aem1IC_Aem_C08_40C_40CRH_operando_100rpm_100sccm',\n",
       " '2025_02_28_Aem1IC_Piper_40C_open_beam_100rpm_100sccm',\n",
       " '2025_02_28_Aem1IC_Piper_40C_operando_100rpm_100sccm',\n",
       " '2025_03_01_2umpp_sustanion_40C_operando_100rpm_100sccm',\n",
       " '2025_03_01_AEM1IC_P75T_DI_Sus_40C_post_operando_dry_100rpm_100sccm',\n",
       " '2025_03_01_Aem1IC_Aem_C02_40C_40CRH_operando_100rpm_100sccm',\n",
       " '2025_03_01_porogen35wthighlight_sustanion_40C_40CRH_operando_100rpm_100sccm',\n",
       " '2025_03_02_AEM1IC_H2O_nobacker_DI_Sus_40C_open_beam_60CRH_100rpm_100sccm',\n",
       " '2025_03_02_AEM1IC_H2O_nobacker_DI_Sus_40C_operando_40CRH_100rpm_100sccm',\n",
       " '2025_03_02_AEM1IC_P75T_18thou_H2O_DI_Sus_40C_post_operando_D2O_60CRH_100rpm_100sccm',\n",
       " '2025_03_02_AEM1IC_P75T_DI_Sus_40C_repeat_post_operando_60CRH_100rpm_100sccm',\n",
       " '2025_03_02_AEM1IC_P75T_H2O_DI_Sus_40C_open_beam_60CRH_100rpm_100sccm',\n",
       " '2025_03_03_AEM1IC_Toray_H2O_DI_Sus_40C_open_beam_60CRH_100rpm_100sccm']"
      ]
     },
     "execution_count": 27,
     "metadata": {},
     "output_type": "execute_result"
    }
   ],
   "source": [
    "print(\"Existing OB folders\")\n",
    "ob_scan_list"
   ]
  },
  {
   "cell_type": "code",
   "execution_count": null,
   "id": "8824a98a-65e6-4079-8bd4-30ef0ea4135d",
   "metadata": {},
   "outputs": [],
   "source": []
  }
 ],
 "metadata": {
  "kernelspec": {
   "display_name": "rockit",
   "language": "python",
   "name": "rockit"
  },
  "language_info": {
   "codemirror_mode": {
    "name": "ipython",
    "version": 3
   },
   "file_extension": ".py",
   "mimetype": "text/x-python",
   "name": "python",
   "nbconvert_exporter": "python",
   "pygments_lexer": "ipython3",
   "version": "3.10.14"
  }
 },
 "nbformat": 4,
 "nbformat_minor": 5
}
