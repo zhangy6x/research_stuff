{
 "cells": [
  {
   "cell_type": "code",
   "execution_count": 1,
   "id": "9fbaaac6",
   "metadata": {},
   "outputs": [],
   "source": [
    "import os\n",
    "import numpy as np\n",
    "import sys\n",
    "import pandas as pd\n",
    "# root_folder = os.path.dirname(os.getcwd())\n",
    "# sys.path.append(root_folder)\n",
    "import utilities as rocku\n",
    "import skimage as ski\n",
    "import matplotlib.pyplot as plt"
   ]
  },
  {
   "cell_type": "code",
   "execution_count": 2,
   "id": "442125eb",
   "metadata": {
    "scrolled": true
   },
   "outputs": [
    {
     "data": {
      "text/plain": [
       "['2024_03_01_pouch_film_redo',\n",
       " '2024_03_01_pouch_film',\n",
       " '2024_02_29_pouch_film',\n",
       " '2024_02_29_AM_Al_TiC',\n",
       " '2024_02_07_AlLi_3Top',\n",
       " '2023_09_13_stability',\n",
       " '2023_09_13_Pbpiglet_coarse_redo_gap',\n",
       " '2023_09_13_Pbpiglet_coarse_redo',\n",
       " '2023_09_13_Pbpiglet_coarse',\n",
       " '2023_08_07_monalisa',\n",
       " '2023_06_17_weld_high_res_nGI_redo',\n",
       " '2023_06_16_weld_high_res_nGI_redo',\n",
       " '2023_06_16_highres_absorption_grating_exam',\n",
       " '2023_06_16_far_near_redo',\n",
       " '2023_06_16_far_near',\n",
       " '2023_06_15_weld',\n",
       " '2023_06_14_pores_in_polymer',\n",
       " '2023_06_14_graphite_thin_redo1',\n",
       " '2023_06_14_graphite_thin_redo',\n",
       " '2023_06_14_graphite_thin',\n",
       " '2023_06_14_AMed_samples',\n",
       " '2023_06_12_highres_nGI',\n",
       " '2023_06_12_gratings_exam_high_res',\n",
       " '2023_06_12_absorption_grating_exam_high_res',\n",
       " '2023_06_12_Cu_foils',\n",
       " '2023_05_30_battery_parts1',\n",
       " '2023_05_30_battery_disks_redo',\n",
       " '2023_05_30_battery_disks',\n",
       " '2023_05_29_battery_parts2',\n",
       " '2023_05_28_battery2_Han',\n",
       " '2023_05_28_battery1_Han',\n",
       " '2023_05_28_Zr4',\n",
       " '2023_05_27_OB',\n",
       " '2023_05_26_salt',\n",
       " '2023_05_26_monalisa_DOE_small',\n",
       " '2023_05_26_monalisa_DOE',\n",
       " '2023_05_26_battery2',\n",
       " '2023_05_26_battery1',\n",
       " '2023_05_25_test',\n",
       " '2023_05_25_monalisa_DOE_redo',\n",
       " '2023_05_25_monalisa_DOE',\n",
       " '2022_05_04_stability_pump',\n",
       " '2022_05_04_samples3',\n",
       " '2022_05_04_samples2',\n",
       " '2022_05_04_samples',\n",
       " '2022_05_03_stability_pump',\n",
       " '2022_05_03_samples',\n",
       " '2022_05_03_electrodes_Han',\n",
       " '2022_05_02_tunning',\n",
       " '2022_05_02_stability_pump',\n",
       " '2022_05_02_stability',\n",
       " '2022_05_02_Ti64_AM_DOE',\n",
       " '2022_04_29_stability',\n",
       " '2022_04_29_metals',\n",
       " '2022_04_29_concrete',\n",
       " '2022_04_28_polymer',\n",
       " '2022_04_28_paper',\n",
       " '2022_04_28_Monolisa_angles',\n",
       " '2022_04_28_DOE_angles',\n",
       " '2022_04_27_electrodes_Nelson',\n",
       " '2022_04_27_electrodes_Han',\n",
       " '2022_04_27_AM_gradient_Ti64',\n",
       " '2022_04_26_quartz',\n",
       " '2022_04_26_bent_screw',\n",
       " '2022_04_26_Ti64_stepping',\n",
       " '2022_04_26_Ti64',\n",
       " '2022_04_26_Coins',\n",
       " '2022_04_25_Monalisa_G1_loop_16mm',\n",
       " '2022_04_25_Monalisa_G1_400nm_16mm',\n",
       " '2022_04_25_Monalisa_G0_loop_16mm',\n",
       " '2022_04_25_G0_loop_16mm',\n",
       " '2022_04_24_stability',\n",
       " '2022_04_24_Monalisa_G0_loop_14steps',\n",
       " '2022_04_24_Monalisa_G0_loop',\n",
       " '2022_04_23_Monalisa_G1_loop_backlash_400nm',\n",
       " '2022_04_23_Monalisa_G1_loop_backlash',\n",
       " '2022_04_23_Monalisa_G1_loop',\n",
       " '2022_04_23_Monalisa_G0_loop',\n",
       " '2022_04_22_Monalisa_G1_loop',\n",
       " '2022_04_22_Monalisa_G1_full',\n",
       " '2022_04_22_Monalisa_G1',\n",
       " '2022_04_22_Monalisa_G0_no_loop',\n",
       " '2022_04_22_Monalisa_G0',\n",
       " '2022_04_16_stability_brick_on',\n",
       " '2022_04_15_stability',\n",
       " '2022_04_15_Monalisa',\n",
       " '2022_03_02_Yuxuan',\n",
       " '2021_05_29_stability',\n",
       " '2021_05_29_boron_in_H2O',\n",
       " '2021_05_29_OB_stepping']"
      ]
     },
     "execution_count": 2,
     "metadata": {},
     "output_type": "execute_result"
    }
   ],
   "source": [
    "###################### need to change start\n",
    "ipts=\"26647\"\n",
    "###################### need to change end\n",
    "scan_loc = \"/HFIR/CG1D/IPTS-\"+ipts+\"/raw/radiographs\"\n",
    "# scan_loc = \"/HFIR/CG1D/IPTS-\"+ipts+\"/shared/autoreduce\"\n",
    "# scan_loc = \"/HFIR/CG1D/IPTS-\"+ipts+\"/shared/processed_data/normalized\"\n",
    "scan_list = os.listdir(scan_loc)\n",
    "sorted(scan_list, reverse=True)"
   ]
  },
  {
   "cell_type": "code",
   "execution_count": 3,
   "id": "db363b58",
   "metadata": {
    "scrolled": true
   },
   "outputs": [
    {
     "data": {
      "text/plain": [
       "['2023_09_13_Pbpiglet_coarse_redo',\n",
       " '2024_02_29_pouch_film',\n",
       " '2023_06_16_far_near_redo',\n",
       " '2023_06_17_weld_high_res_nGI_redo',\n",
       " '2023_06_14_pores_in_polymer',\n",
       " '2023_06_12_Cu_foils',\n",
       " '2022_04_27_electrodes_Nelson',\n",
       " '2023_06_16_weld_high_res_nGI_redo',\n",
       " '2022_05_04_samples2',\n",
       " '2021_05_29_OB_stepping',\n",
       " '2023_05_28_Zr4',\n",
       " '2023_09_13_stability',\n",
       " '2022_05_02_Ti64_AM_DOE',\n",
       " '2023_05_30_battery_disks_redo',\n",
       " '2022_04_28_Monolisa_angles',\n",
       " '2022_04_22_Monalisa_G0',\n",
       " '2023_05_26_salt',\n",
       " '2023_05_26_battery2',\n",
       " '2023_06_12_highres_nGI',\n",
       " '2022_04_23_Monalisa_G1_loop_backlash_400nm',\n",
       " '2022_04_15_stability',\n",
       " '2024_02_29_AM_Al_TiC',\n",
       " '2023_05_30_battery_disks',\n",
       " '2022_05_03_stability_pump',\n",
       " '2023_05_25_monalisa_DOE',\n",
       " '2022_04_26_Ti64_stepping',\n",
       " '2023_09_13_Pbpiglet_coarse',\n",
       " '2024_02_07_AlLi_3Top',\n",
       " '2023_06_14_graphite_thin_redo1',\n",
       " '2023_06_15_weld',\n",
       " '2022_04_23_Monalisa_G1_loop_backlash',\n",
       " '2022_04_23_Monalisa_G1_loop',\n",
       " '2022_04_29_metals',\n",
       " '2023_05_26_battery1',\n",
       " '2023_06_14_graphite_thin_redo',\n",
       " '2023_08_07_monalisa',\n",
       " '2022_04_26_quartz',\n",
       " '2023_06_12_gratings_exam_high_res',\n",
       " '2023_06_14_AMed_samples',\n",
       " '2022_04_16_stability_brick_on',\n",
       " '2023_09_13_Pbpiglet_coarse_redo_gap',\n",
       " '2022_05_03_samples',\n",
       " '2023_05_26_monalisa_DOE_small',\n",
       " '2022_04_25_Monalisa_G1_400nm_16mm',\n",
       " '2024_03_01_pouch_film',\n",
       " '2022_04_23_Monalisa_G0_loop',\n",
       " '2022_05_02_tunning',\n",
       " '2023_05_25_test',\n",
       " '2021_05_29_stability',\n",
       " '2022_04_28_DOE_angles',\n",
       " '2022_04_24_Monalisa_G0_loop_14steps',\n",
       " '2022_04_24_stability',\n",
       " '2022_04_26_Ti64',\n",
       " '2023_06_14_graphite_thin',\n",
       " '2022_04_26_Coins',\n",
       " '2022_04_15_Monalisa',\n",
       " '2022_04_27_electrodes_Han',\n",
       " '2022_04_29_stability',\n",
       " '2023_05_26_monalisa_DOE',\n",
       " '2022_05_04_stability_pump',\n",
       " '2023_05_28_battery1_Han',\n",
       " '2023_05_27_OB',\n",
       " '2022_04_25_Monalisa_G1_loop_16mm',\n",
       " '2022_04_25_Monalisa_G0_loop_16mm',\n",
       " '2022_04_27_AM_gradient_Ti64',\n",
       " '2022_03_02_Yuxuan',\n",
       " '2023_06_16_highres_absorption_grating_exam',\n",
       " '2023_06_16_far_near',\n",
       " '2022_04_29_concrete',\n",
       " '2022_05_04_samples3',\n",
       " '2023_05_29_battery_parts2',\n",
       " '2023_05_30_battery_parts1',\n",
       " '2023_05_28_battery2_Han',\n",
       " '2022_05_04_samples',\n",
       " '2022_04_28_paper',\n",
       " '2021_05_29_boron_in_H2O',\n",
       " '2022_04_22_Monalisa_G1_loop',\n",
       " '2022_04_25_G0_loop_16mm',\n",
       " '2024_03_01_pouch_film_redo',\n",
       " '2022_04_22_Monalisa_G1_full',\n",
       " '2022_04_26_bent_screw',\n",
       " '2022_05_02_stability_pump',\n",
       " '2022_04_28_polymer',\n",
       " '2022_04_22_Monalisa_G1',\n",
       " '2022_04_22_Monalisa_G0_no_loop',\n",
       " '2023_06_12_absorption_grating_exam_high_res',\n",
       " '2023_05_25_monalisa_DOE_redo',\n",
       " '2022_05_03_electrodes_Han',\n",
       " '2022_05_02_stability',\n",
       " '2022_04_24_Monalisa_G0_loop']"
      ]
     },
     "execution_count": 3,
     "metadata": {},
     "output_type": "execute_result"
    }
   ],
   "source": [
    "ob_loc = \"/HFIR/CG1D/IPTS-\"+ipts+\"/raw/radiographs\"\n",
    "# ob_loc = \"/HFIR/CG1D/IPTS-\"+ipts+\"/shared/processed_data/normalized\"\n",
    "# ob_loc = \"/HFIR/CG1D/IPTS-\" + ipts + \"/raw/ob\"\n",
    "os.listdir(ob_loc)"
   ]
  },
  {
   "cell_type": "code",
   "execution_count": 4,
   "id": "04ebb37c",
   "metadata": {},
   "outputs": [
    {
     "data": {
      "text/plain": [
       "['2023_08_31_20s',\n",
       " '2023_05_24',\n",
       " '2023_07_27_90s',\n",
       " '2023_06_09_high_res',\n",
       " '2023_06_16_20s',\n",
       " '2023_06_16_weld_highres_nGI']"
      ]
     },
     "execution_count": 4,
     "metadata": {},
     "output_type": "execute_result"
    }
   ],
   "source": [
    "dc_loc = \"/HFIR/CG1D/IPTS-\" + ipts + \"/raw/dc\"\n",
    "# dc_loc = \"/HFIR/CG1D/IPTS-\"+ipts+\"/shared/processed_data/normalized\"\n",
    "os.listdir(dc_loc)"
   ]
  },
  {
   "cell_type": "code",
   "execution_count": 28,
   "id": "1b4cbd31",
   "metadata": {},
   "outputs": [],
   "source": [
    "scan_name = \"2024_03_01_pouch_film\"\n",
    "ob_name = \"2024_03_01_pouch_film\"\n",
    "dc_name = \"2023_07_27_90s\"\n",
    "#########################################\n",
    "images_per_step = 1\n",
    "out_loc = \"/HFIR/CG1D/IPTS-\"+ipts+\"/shared/processed_data\"\n",
    "xl_save_loc = \"/HFIR/CG1D/IPTS-\"+ipts+\"/shared/notes_photos/\"\n",
    "xl_save_to = xl_save_loc + scan_name + \"_table.xlsx\"\n",
    "#########################################\n",
    "if ob_name == scan_name:\n",
    "    ob_name = None\n",
    "scan_dir = os.path.join(scan_loc, scan_name)\n",
    "out_dir = os.path.join(out_loc, scan_name)\n",
    "file_list = os.listdir(scan_dir)\n",
    "file_list = sorted(file_list, reverse=False)\n",
    "dc_dir = os.path.join(dc_loc, dc_name)\n",
    "dc_list = os.listdir(dc_dir)\n",
    "dc_list = sorted(dc_list, reverse=False)\n",
    "if ob_name is None:\n",
    "    ob_dir = scan_dir\n",
    "else:\n",
    "    ob_dir = os.path.join(ob_loc, ob_name)\n",
    "    ob_list = os.listdir(ob_dir)\n",
    "    ob_list = sorted(ob_list, reverse=False)"
   ]
  },
  {
   "cell_type": "code",
   "execution_count": 29,
   "id": "9e79fa10",
   "metadata": {
    "scrolled": true
   },
   "outputs": [
    {
     "data": {
      "text/plain": [
       "['ACL_197_0090_0001.tiff',\n",
       " 'ACL_197_0090_0002.tiff',\n",
       " 'ACL_197_0090_0003.tiff',\n",
       " 'ACL_197_0090_0004.tiff',\n",
       " 'ACL_197_0090_0005.tiff',\n",
       " 'ACL_197_0090_0006.tiff',\n",
       " 'ACL_197_0090_0007.tiff',\n",
       " 'ACL_197_0090_0008.tiff',\n",
       " 'ACL_197_0090_0009.tiff',\n",
       " 'ACL_197_0090_0010.tiff',\n",
       " 'ACL_197_0090_0011.tiff',\n",
       " 'ACL_197_0090_0012.tiff',\n",
       " 'open_0090_0001.tiff',\n",
       " 'open_0090_0002.tiff',\n",
       " 'open_0090_0003.tiff',\n",
       " 'open_0090_0004.tiff',\n",
       " 'open_0090_0005.tiff',\n",
       " 'open_0090_0006.tiff',\n",
       " 'open_0090_0007.tiff',\n",
       " 'open_0090_0008.tiff',\n",
       " 'open_0090_0009.tiff',\n",
       " 'open_0090_0010.tiff',\n",
       " 'open_0090_0011.tiff',\n",
       " 'open_0090_0012.tiff']"
      ]
     },
     "execution_count": 29,
     "metadata": {},
     "output_type": "execute_result"
    }
   ],
   "source": [
    "to_remove_list = [\n",
    "# '20230905_ACL_005_0090_0001.tiff',\n",
    "#  '20230905_ACL_005_0090_0002.tiff',\n",
    "#'20230913_ACL_150_0020_0001.tiff'\n",
    "#       '20240208_ACL_093_0090_0012.tiff',\n",
    "    'ACL_152_0090_0001.tiff',\n",
    " 'ACL_152_0090_0002.tiff',\n",
    "]\n",
    "for to_remove in to_remove_list:\n",
    "    file_list.remove(to_remove)\n",
    "file_list"
   ]
  },
  {
   "cell_type": "code",
   "execution_count": 30,
   "id": "30d25068",
   "metadata": {},
   "outputs": [
    {
     "data": {
      "text/plain": [
       "24"
      ]
     },
     "execution_count": 30,
     "metadata": {},
     "output_type": "execute_result"
    }
   ],
   "source": [
    "len(file_list)"
   ]
  },
  {
   "cell_type": "code",
   "execution_count": 31,
   "id": "89484804",
   "metadata": {
    "scrolled": true
   },
   "outputs": [
    {
     "data": {
      "text/plain": [
       "['ACL_197_0090_0001.tiff']"
      ]
     },
     "execution_count": 31,
     "metadata": {},
     "output_type": "execute_result"
    }
   ],
   "source": [
    "idx_list = []\n",
    "pos_list = []\n",
    "ob_first_idx = None\n",
    "ob_last_idx = None\n",
    "for ea in file_list:\n",
    "    _split = ea.split('_')\n",
    "    _str = _split[-1]\n",
    "    _pos = _split[1]\n",
    "#     _pos = _split[2]\n",
    "    _idx = _str.split('.')[0]\n",
    "    idx_list.append(int(_idx))\n",
    "    pos_list.append(int(_pos))\n",
    "num_of_img = max(idx_list)\n",
    "pos1 = max(pos_list)\n",
    "pos2 = min(pos_list)\n",
    "pos1_str = 'ACL_' + \"{:03d}\".format(pos1)\n",
    "pos2_str = 'ACL_' + \"{:03d}\".format(pos2)\n",
    "idx_str = '_' + \"{:04d}\".format(1)\n",
    "pos_file_list = []\n",
    "for e in file_list:\n",
    "    if pos1_str in e or pos2_str in e:\n",
    "        if idx_str in e:\n",
    "            pos_file_list.append(e)\n",
    "# pos_file_list.append('20230901_ACL_95_0090_0001.tiff')\n",
    "pos_file_list"
   ]
  },
  {
   "cell_type": "code",
   "execution_count": 32,
   "id": "cd414e31",
   "metadata": {},
   "outputs": [
    {
     "ename": "IndexError",
     "evalue": "list index out of range",
     "output_type": "error",
     "traceback": [
      "\u001b[0;31m---------------------------------------------------------------------------\u001b[0m",
      "\u001b[0;31mIndexError\u001b[0m                                Traceback (most recent call last)",
      "Cell \u001b[0;32mIn[32], line 2\u001b[0m\n\u001b[1;32m      1\u001b[0m img1 \u001b[38;5;241m=\u001b[39m ski\u001b[38;5;241m.\u001b[39mio\u001b[38;5;241m.\u001b[39mimread(os\u001b[38;5;241m.\u001b[39mpath\u001b[38;5;241m.\u001b[39mjoin(scan_dir, pos_file_list[\u001b[38;5;241m0\u001b[39m]))\n\u001b[0;32m----> 2\u001b[0m img2 \u001b[38;5;241m=\u001b[39m ski\u001b[38;5;241m.\u001b[39mio\u001b[38;5;241m.\u001b[39mimread(os\u001b[38;5;241m.\u001b[39mpath\u001b[38;5;241m.\u001b[39mjoin(scan_dir, \u001b[43mpos_file_list\u001b[49m\u001b[43m[\u001b[49m\u001b[38;5;241;43m1\u001b[39;49m\u001b[43m]\u001b[49m))\n\u001b[1;32m      3\u001b[0m f, ax \u001b[38;5;241m=\u001b[39m plt\u001b[38;5;241m.\u001b[39msubplots(\u001b[38;5;241m1\u001b[39m, \u001b[38;5;241m2\u001b[39m, figsize\u001b[38;5;241m=\u001b[39m(\u001b[38;5;241m20\u001b[39m, \u001b[38;5;241m20\u001b[39m))\n\u001b[1;32m      4\u001b[0m ax[\u001b[38;5;241m0\u001b[39m]\u001b[38;5;241m.\u001b[39mimshow(img1)\n",
      "\u001b[0;31mIndexError\u001b[0m: list index out of range"
     ]
    }
   ],
   "source": [
    "img1 = ski.io.imread(os.path.join(scan_dir, pos_file_list[0]))\n",
    "img2 = ski.io.imread(os.path.join(scan_dir, pos_file_list[1]))\n",
    "f, ax = plt.subplots(1, 2, figsize=(20, 20))\n",
    "ax[0].imshow(img1)\n",
    "ax[0].set_title('first image')\n",
    "\n",
    "ax[1].imshow(img2)\n",
    "ax[1].set_title('last image')\n",
    "\n",
    "# ax[2].imshow(img_min)\n",
    "# ax[2].set_title('np.min')"
   ]
  },
  {
   "cell_type": "code",
   "execution_count": 35,
   "id": "32d6490d",
   "metadata": {},
   "outputs": [
    {
     "ename": "NameError",
     "evalue": "name 'img2' is not defined",
     "output_type": "error",
     "traceback": [
      "\u001b[0;31m---------------------------------------------------------------------------\u001b[0m",
      "\u001b[0;31mNameError\u001b[0m                                 Traceback (most recent call last)",
      "Cell \u001b[0;32mIn[35], line 19\u001b[0m\n\u001b[1;32m     16\u001b[0m     \u001b[38;5;66;03m# roi [0, 2047, 0, 2047]\u001b[39;00m\n\u001b[1;32m     17\u001b[0m \u001b[38;5;66;03m###################### need to change end\u001b[39;00m\n\u001b[1;32m     18\u001b[0m img1_crop \u001b[38;5;241m=\u001b[39m rocku\u001b[38;5;241m.\u001b[39mcrop(img1, crop_left, crop_right, crop_top, crop_bottom, crop)\n\u001b[0;32m---> 19\u001b[0m img2_crop \u001b[38;5;241m=\u001b[39m rocku\u001b[38;5;241m.\u001b[39mcrop(\u001b[43mimg2\u001b[49m, crop_left, crop_right, crop_top, crop_bottom, crop)\n\u001b[1;32m     21\u001b[0m f, ax \u001b[38;5;241m=\u001b[39m plt\u001b[38;5;241m.\u001b[39msubplots(\u001b[38;5;241m1\u001b[39m, \u001b[38;5;241m2\u001b[39m, figsize\u001b[38;5;241m=\u001b[39m(\u001b[38;5;241m20\u001b[39m, \u001b[38;5;241m20\u001b[39m))\n\u001b[1;32m     22\u001b[0m ax[\u001b[38;5;241m0\u001b[39m]\u001b[38;5;241m.\u001b[39mimshow(img1_crop)\n",
      "\u001b[0;31mNameError\u001b[0m: name 'img2' is not defined"
     ]
    }
   ],
   "source": [
    "###################### need to change start\n",
    "crop = False\n",
    "crop_left = 600 #205\n",
    "crop_right = 1650\n",
    "crop_top = 1300#90\n",
    "crop_bottom = 1850\n",
    "###################### need to change end\n",
    "if not crop:\n",
    "    crop_left = 0\n",
    "    crop_right = 2047\n",
    "    crop_top = 0\n",
    "    crop_bottom = 2047\n",
    "img1_crop = rocku.crop(img1, crop_left, crop_right, crop_top, crop_bottom, crop)\n",
    "img2_crop = rocku.crop(img2, crop_left, crop_right, crop_top, crop_bottom, crop)\n",
    "\n",
    "f, ax = plt.subplots(1, 2, figsize=(20, 20))\n",
    "ax[0].imshow(img1_crop)\n",
    "ax[0].set_title('first image')\n",
    "\n",
    "ax[1].imshow(img2_crop)\n",
    "ax[1].set_title('last image')"
   ]
  },
  {
   "cell_type": "code",
   "execution_count": 36,
   "id": "fc6630f4",
   "metadata": {},
   "outputs": [],
   "source": [
    "if len(file_list)%num_of_img == 0:\n",
    "    first_file_list = file_list[0::num_of_img]\n",
    "    if ob_name is None:\n",
    "        for idx_1st, e_first in enumerate(first_file_list):\n",
    "            if 'open' in e_first:\n",
    "                ob_first_idx = idx_1st\n",
    "        ob_first = first_file_list[ob_first_idx]\n",
    "        first_file_list.pop(ob_first_idx)\n",
    "    else:\n",
    "        ob_first = ob_list[0]\n",
    "#     ob_first = first_file_list[ob_first_idx]\n",
    "#     first_file_list.pop(ob_first_idx)\n",
    "    data_first = first_file_list[:]\n",
    "    dc_first = dc_list[0]\n",
    "    last_file_list = file_list[num_of_img-1::num_of_img]\n",
    "    if ob_name is None:\n",
    "        for idx_last, e_last in enumerate(last_file_list):\n",
    "            if 'open' in e_last:\n",
    "                ob_last_idx = idx_last\n",
    "        ob_last = last_file_list[ob_last_idx]\n",
    "        last_file_list.pop(ob_last_idx)\n",
    "    else:\n",
    "        ob_last = ob_list[-1]\n",
    "    data_last = last_file_list[:]\n",
    "    dc_last = dc_list[-1]\n",
    "    df = pd.read_excel(\"/HFIR/CG1D/IPTS-26647/shared/notes_photos/nGI_multiACL_temp.xlsx\", engine='openpyxl', nrows=0)\n",
    "    info_dict = {}\n",
    "    for i, e_col in enumerate(df.columns):\n",
    "        info_dict[i] = []\n",
    "    for idx, e_file in enumerate(data_first):\n",
    "        info_dict[0].append(os.path.join(scan_dir, e_file)) # first_data_file\n",
    "        info_dict[1].append(os.path.join(scan_dir, last_file_list[idx])) # last_data_file\n",
    "        info_dict[2].append(os.path.join(ob_dir, ob_first)) # first_ob_file\n",
    "        info_dict[3].append(os.path.join(ob_dir, ob_last)) # last_ob_file\n",
    "        info_dict[4].append(os.path.join(dc_dir, dc_first)) # first_dc_file\n",
    "        info_dict[5].append(os.path.join(dc_dir, dc_last)) # last_dc_file\n",
    "        info_dict[6].append(1) # period\n",
    "        info_dict[7].append(images_per_step) # images_per_step\n",
    "        info_dict[8].append(0) # rotation\n",
    "        info_dict[9].append('EM Fit') # fit_procedure\n",
    "        info_dict[10].append([crop_top, crop_bottom, crop_left, crop_right])\n",
    "        info_dict[11].append('no') # gamma_filter_data_ob\n",
    "        info_dict[12].append(35) # data_threshold_3x3\n",
    "        info_dict[13].append(55) # data_threshold_5x5\n",
    "        info_dict[14].append(80) # data_threshold_7x7\n",
    "        info_dict[15].append(0.8) # data_sigma_log\n",
    "        info_dict[16].append('no') # gamma_filter_dc\n",
    "        info_dict[17].append(20) # dc_threshold_3x3\n",
    "        info_dict[18].append(40) # dc_threshold_5x5\n",
    "        info_dict[19].append(60) # dc_threshold_7x7\n",
    "        info_dict[20].append(0.8) # dc_sigma_log\n",
    "        info_dict[21].append('no') # dc_outlier_removal\n",
    "        info_dict[22].append(1.5) # dc_outlier_value\n",
    "        info_dict[23].append(out_dir) # result_directory\n",
    "        info_dict[24].append('ACL_' + \"{:03d}\".format(int(e_file.split('_')[2]))) # file_id\n",
    "        info_dict[25].append('') # sample_information\n",
    "        info_dict[26].append('') # used_environment\n",
    "        info_dict[27].append('') # osc_pixel\n",
    "    for i, e_col in enumerate(df.columns):\n",
    "        df[e_col] = info_dict[i]\n",
    "    df.to_excel(xl_save_to, index=False, sheet_name='Tabelle1')\n",
    "else:\n",
    "    print(\"Need to clean/reorg files before continue.\")"
   ]
  },
  {
   "cell_type": "markdown",
   "id": "28c5a338",
   "metadata": {},
   "source": [
    "# Merge short spreadsheets"
   ]
  },
  {
   "cell_type": "code",
   "execution_count": null,
   "id": "497ac08f",
   "metadata": {},
   "outputs": [],
   "source": [
    "xl_list = os.listdir(xl_save_loc)\n",
    "xl_list"
   ]
  },
  {
   "cell_type": "code",
   "execution_count": null,
   "id": "e284dca0",
   "metadata": {},
   "outputs": [],
   "source": [
    "xl_df_list = []\n",
    "for each_xl in xl_list:\n",
    "    _df_xl = pd.read_excel(os.path.join(xl_save_loc,each_xl))\n",
    "    if len(_df_xl)<10:\n",
    "        print(\"Merging: {}\".format(each_xl))\n",
    "        xl_df_list.append(_df_xl)\n",
    "merged = pd.concat(xl_df_list, axis=0, ignore_index=True)"
   ]
  },
  {
   "cell_type": "code",
   "execution_count": null,
   "id": "e6710b0e",
   "metadata": {},
   "outputs": [],
   "source": [
    "merged.to_excel(xl_save_loc + \"merged.xlsx\", index=False, sheet_name='Tabelle1')"
   ]
  },
  {
   "cell_type": "code",
   "execution_count": null,
   "id": "1ceaf2a4",
   "metadata": {},
   "outputs": [],
   "source": []
  }
 ],
 "metadata": {
  "kernelspec": {
   "display_name": "rockit",
   "language": "python",
   "name": "rockit"
  },
  "language_info": {
   "codemirror_mode": {
    "name": "ipython",
    "version": 3
   },
   "file_extension": ".py",
   "mimetype": "text/x-python",
   "name": "python",
   "nbconvert_exporter": "python",
   "pygments_lexer": "ipython3",
   "version": "3.10.10"
  }
 },
 "nbformat": 4,
 "nbformat_minor": 5
}
