{
 "cells": [
  {
   "cell_type": "code",
   "execution_count": 3,
   "id": "febbf4e6",
   "metadata": {},
   "outputs": [],
   "source": [
    "import os\n",
    "import shutil"
   ]
  },
  {
   "cell_type": "code",
   "execution_count": 4,
   "id": "8ab57725",
   "metadata": {},
   "outputs": [],
   "source": [
    "# need to change\n",
    "instrument = \"/HFIR/CG1D\"\n",
    "# instrument = \"/SNS/VENUS\"\n",
    "ipts=\"26282\""
   ]
  },
  {
   "cell_type": "code",
   "execution_count": 7,
   "id": "1a0e42b2",
   "metadata": {},
   "outputs": [
    {
     "data": {
      "text/plain": [
       "['2021_08_25_106_200_pure_binned_by_3_median',\n",
       " '2021_08_26_106_200_pure_1_binned_by_3_median',\n",
       " '2021_08_26_106_200_pure_2_binned_by_3_median',\n",
       " '2021_08_26_106_200_pure_3_27s',\n",
       " '2021_08_26_106_200_pure_3_9s_binned_by_3_median',\n",
       " '2021_08_26_106_200_pure_4_heat_27s',\n",
       " '2021_08_26_106_200_pure_4_heat_9s_binned_by_3_median',\n",
       " '2021_10_11_Holder_1',\n",
       " '2021_10_11_Holder_2_50Cyc',\n",
       " 'Holder_2_NoCycles_binned_by_5_median',\n",
       " 'Step_Holder_binned_by_5_median']"
      ]
     },
     "execution_count": 7,
     "metadata": {},
     "output_type": "execute_result"
    }
   ],
   "source": [
    "scan_loc = instrument + \"/IPTS-\"+ipts+\"/shared/processed_data/normalized\"\n",
    "\n",
    "sorted(os.listdir(scan_loc))"
   ]
  },
  {
   "cell_type": "code",
   "execution_count": 8,
   "id": "dd0a58fb-7835-46bf-b4f3-cb39ddf01814",
   "metadata": {},
   "outputs": [],
   "source": [
    "def merge_folders(source_folder, destination_folder):\n",
    "    \"\"\"\n",
    "    Merges the contents of the source folder into the destination folder.\n",
    "    If a file exists in both folders, the file from the source folder will overwrite the file in the destination folder.\n",
    "    \"\"\"\n",
    "    if not os.path.exists(destination_folder):\n",
    "        os.makedirs(destination_folder)\n",
    "\n",
    "    for item in os.listdir(source_folder):\n",
    "        source_item_path = os.path.join(source_folder, item)\n",
    "        destination_item_path = os.path.join(destination_folder, item)\n",
    "\n",
    "        if os.path.isfile(source_item_path):\n",
    "            shutil.copy2(source_item_path, destination_item_path) #copy2 preserves metadata\n",
    "        elif os.path.isdir(source_item_path):\n",
    "            merge_folders(source_item_path, destination_item_path)"
   ]
  },
  {
   "cell_type": "code",
   "execution_count": 9,
   "id": "fb76aba8-6d85-4ab5-86e9-fb2049779ae3",
   "metadata": {},
   "outputs": [
    {
     "name": "stdout",
     "output_type": "stream",
     "text": [
      "Merging '/HFIR/CG1D/IPTS-26282/shared/processed_data/normalized/2021_08_25_106_200_pure_binned_by_3_median' into '/HFIR/CG1D/IPTS-26282/shared/processed_data/normalized/merged'\n",
      "Merging '/HFIR/CG1D/IPTS-26282/shared/processed_data/normalized/2021_08_26_106_200_pure_1_binned_by_3_median' into '/HFIR/CG1D/IPTS-26282/shared/processed_data/normalized/merged'\n",
      "Merging '/HFIR/CG1D/IPTS-26282/shared/processed_data/normalized/2021_08_26_106_200_pure_2_binned_by_3_median' into '/HFIR/CG1D/IPTS-26282/shared/processed_data/normalized/merged'\n",
      "Merging '/HFIR/CG1D/IPTS-26282/shared/processed_data/normalized/2021_08_26_106_200_pure_3_27s' into '/HFIR/CG1D/IPTS-26282/shared/processed_data/normalized/merged'\n",
      "Merging '/HFIR/CG1D/IPTS-26282/shared/processed_data/normalized/2021_08_26_106_200_pure_3_9s_binned_by_3_median' into '/HFIR/CG1D/IPTS-26282/shared/processed_data/normalized/merged'\n",
      "Merging '/HFIR/CG1D/IPTS-26282/shared/processed_data/normalized/2021_08_26_106_200_pure_4_heat_27s' into '/HFIR/CG1D/IPTS-26282/shared/processed_data/normalized/merged'\n",
      "Merging '/HFIR/CG1D/IPTS-26282/shared/processed_data/normalized/2021_08_26_106_200_pure_4_heat_9s_binned_by_3_median' into '/HFIR/CG1D/IPTS-26282/shared/processed_data/normalized/merged'\n"
     ]
    }
   ],
   "source": [
    "list_to_merge = [\n",
    "    '2021_08_25_106_200_pure_binned_by_3_median',\n",
    " '2021_08_26_106_200_pure_1_binned_by_3_median',\n",
    " '2021_08_26_106_200_pure_2_binned_by_3_median',\n",
    " '2021_08_26_106_200_pure_3_27s',\n",
    " '2021_08_26_106_200_pure_3_9s_binned_by_3_median',\n",
    " '2021_08_26_106_200_pure_4_heat_27s',\n",
    " '2021_08_26_106_200_pure_4_heat_9s_binned_by_3_median',\n",
    "]\n",
    "save_to_name = 'merged'\n",
    "############################\n",
    "save_to = scan_loc + '/' + save_to_name\n",
    "for e_folder in list_to_merge:\n",
    "    _source_folder = scan_loc + '/' + e_folder\n",
    "    print(\"Merging '{}' into '{}'\".format(_source_folder, save_to))\n",
    "    merge_folders(_source_folder, save_to)"
   ]
  },
  {
   "cell_type": "code",
   "execution_count": null,
   "id": "a53cb7f6",
   "metadata": {},
   "outputs": [],
   "source": []
  }
 ],
 "metadata": {
  "kernelspec": {
   "display_name": "rockit",
   "language": "python",
   "name": "rockit"
  },
  "language_info": {
   "codemirror_mode": {
    "name": "ipython",
    "version": 3
   },
   "file_extension": ".py",
   "mimetype": "text/x-python",
   "name": "python",
   "nbconvert_exporter": "python",
   "pygments_lexer": "ipython3",
   "version": "3.10.14"
  }
 },
 "nbformat": 4,
 "nbformat_minor": 5
}
