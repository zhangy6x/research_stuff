{
 "cells": [
  {
   "cell_type": "code",
   "execution_count": 1,
   "id": "e1467302",
   "metadata": {},
   "outputs": [],
   "source": [
    "import os\n",
    "import tomopy\n",
    "import numpy as np\n",
    "from imars3d.filters import tilt\n",
    "import matplotlib.pyplot as plt\n",
    "import sys\n",
    "root_folder = os.path.dirname(os.getcwd())\n",
    "sys.path.append(root_folder)\n",
    "import utilities as rocku\n",
    "import dxchange\n",
    "import algotom.io.loadersaver as losa\n",
    "import algotom.prep.correction as corr\n",
    "import algotom.io.converter as conv\n",
    "import algotom.rec.reconstruction as rec\n",
    "import algotom\n",
    "import algotom.prep.calculation as calc\n",
    "import h5py as h5f\n",
    "import timeit\n",
    "from joblib import Parallel, delayed\n",
    "from skimage.measure import profile_line"
   ]
  },
  {
   "cell_type": "code",
   "execution_count": 2,
   "id": "b5c11b4e",
   "metadata": {},
   "outputs": [],
   "source": [
    "# %matplotlib notebook\n",
    "%matplotlib inline"
   ]
  },
  {
   "cell_type": "markdown",
   "id": "92bcd45c",
   "metadata": {},
   "source": [
    "# Workflow starts here!"
   ]
  },
  {
   "cell_type": "code",
   "execution_count": 3,
   "id": "6ead894b",
   "metadata": {},
   "outputs": [],
   "source": [
    "###################### need to change start\n",
    "ipts=\"19458\"\n",
    "###################### need to change end"
   ]
  },
  {
   "cell_type": "code",
   "execution_count": 4,
   "id": "5493ceb8",
   "metadata": {},
   "outputs": [
    {
     "data": {
      "text/plain": [
       "['ct_scans_half.h5']"
      ]
     },
     "execution_count": 4,
     "metadata": {},
     "output_type": "execute_result"
    }
   ],
   "source": [
    "# ct_loc = \"/HFIR/CG1D/IPTS-\"+ipts+\"/raw/ct_scans\"\n",
    "# ct_loc = \"/HFIR/CG1D/IPTS-\"+ipts+\"/shared/autoreduce/raw_to_recon\"\n",
    "output_loc = \"/HFIR/CG1D/IPTS-\"+ipts+\"/shared/autoreduce/hdf5/\"\n",
    "os.listdir(output_loc)"
   ]
  },
  {
   "cell_type": "code",
   "execution_count": 7,
   "id": "a756f144",
   "metadata": {},
   "outputs": [],
   "source": [
    "###################### need to change start\n",
    "sample_name = \"ct_scans_half\"\n",
    "hdf5 = output_loc + sample_name + \".h5\"\n",
    "###################### need to change end"
   ]
  },
  {
   "cell_type": "markdown",
   "id": "293a5836",
   "metadata": {},
   "source": [
    "# Load hdf5 file"
   ]
  },
  {
   "cell_type": "code",
   "execution_count": 8,
   "id": "45a62bf0",
   "metadata": {
    "scrolled": true
   },
   "outputs": [
    {
     "name": "stdout",
     "output_type": "stream",
     "text": [
      " tomo\n",
      "    │\n",
      "    ├── info\n",
      "    │   │\n",
      "    │   ├── ang_deg (1801,)\n",
      "    │   ├── ang_rad (1801,)\n",
      "    │   ├── fname (1801,)\n",
      "    │   ├── proj000_idx (1,)\n",
      "    │   └── proj180_idx (1,)\n",
      "    ├── proj\n",
      "    │   │\n",
      "    │   ├── dc_fake (2048, 590)\n",
      "    │   ├── ob_fake (2048, 590)\n",
      "    │   ├── proj_mlog_to_recon (1801, 2048, 590)\n",
      "    │   └── proj_norm (1801, 2048, 590)\n",
      "    ├── raw_ref\n",
      "    │   │\n",
      "    │   ├── dc_max (2048, 590)\n",
      "    │   ├── fluc_corr_roi_min (1680, 75)\n",
      "    │   ├── ob_min (2048, 590)\n",
      "    │   ├── proj_crop_roi_min (2048, 590)\n",
      "    │   └── proj_min (2048, 590)\n",
      "    ├── recon\n",
      "    │   │\n",
      "    │   ├── history (1,)\n",
      "    │   ├── recon_unit (1,)\n",
      "    │   └── recon_volume (2048, 200, 200)\n",
      "    └── sino\n",
      "        │\n",
      "        ├── sino_mlog_to_recon (2048, 1801, 590)\n",
      "        └── sino_norm (2048, 1801, 590)\n"
     ]
    },
    {
     "data": {
      "text/plain": [
       "deque([' tomo',\n",
       "       '    │',\n",
       "       '    ├── info',\n",
       "       '    │   │',\n",
       "       '    │   ├── ang_deg (1801,)',\n",
       "       '    │   ├── ang_rad (1801,)',\n",
       "       '    │   ├── fname (1801,)',\n",
       "       '    │   ├── proj000_idx (1,)',\n",
       "       '    │   └── proj180_idx (1,)',\n",
       "       '    ├── proj',\n",
       "       '    │   │',\n",
       "       '    │   ├── dc_fake (2048, 590)',\n",
       "       '    │   ├── ob_fake (2048, 590)',\n",
       "       '    │   ├── proj_mlog_to_recon (1801, 2048, 590)',\n",
       "       '    │   └── proj_norm (1801, 2048, 590)',\n",
       "       '    ├── raw_ref',\n",
       "       '    │   │',\n",
       "       '    │   ├── dc_max (2048, 590)',\n",
       "       '    │   ├── fluc_corr_roi_min (1680, 75)',\n",
       "       '    │   ├── ob_min (2048, 590)',\n",
       "       '    │   ├── proj_crop_roi_min (2048, 590)',\n",
       "       '    │   └── proj_min (2048, 590)',\n",
       "       '    ├── recon',\n",
       "       '    │   │',\n",
       "       '    │   ├── history (1,)',\n",
       "       '    │   ├── recon_unit (1,)',\n",
       "       '    │   └── recon_volume (2048, 200, 200)',\n",
       "       '    └── sino',\n",
       "       '        │',\n",
       "       '        ├── sino_mlog_to_recon (2048, 1801, 590)',\n",
       "       '        └── sino_norm (2048, 1801, 590)'])"
      ]
     },
     "execution_count": 8,
     "metadata": {},
     "output_type": "execute_result"
    }
   ],
   "source": [
    "losa.get_hdf_tree(hdf5)"
   ]
  },
  {
   "cell_type": "code",
   "execution_count": 10,
   "id": "a56aa8bd",
   "metadata": {},
   "outputs": [],
   "source": [
    "proj_norm = losa.load_hdf(hdf5, key_path='tomo/proj/proj_norm')"
   ]
  },
  {
   "cell_type": "code",
   "execution_count": 12,
   "id": "72c62a60",
   "metadata": {},
   "outputs": [
    {
     "data": {
      "image/png": "[encoded data removed]",
      "text/plain": [
       "<Figure size 432x288 with 2 Axes>"
      ]
     },
     "metadata": {
      "needs_background": "light"
     },
     "output_type": "display_data"
    }
   ],
   "source": [
    "plt.imshow(proj_norm[2])\n",
    "plt.colorbar()\n",
    "plt.show()"
   ]
  },
  {
   "cell_type": "markdown",
   "id": "896373a2",
   "metadata": {},
   "source": [
    "# Export recon files"
   ]
  },
  {
   "cell_type": "code",
   "execution_count": 26,
   "id": "218b2e8a",
   "metadata": {},
   "outputs": [],
   "source": [
    "################ change save path for your own\n",
    "# save_to = \"/HFIR/CG1D/IPTS-\"+ipts+\"/shared/autoreduce/rockit/\" + sample_name# + \"_vo\"\n",
    "save_to = \"/HFIR/CG1D/IPTS-\"+ipts+\"/shared/processed_data/rockit/\" + sample_name\n",
    "dxchange.write_tiff_stack(recon, fname=save_to + \"/recon\", overwrite=True, digit=4)"
   ]
  },
  {
   "cell_type": "markdown",
   "id": "cbd1c052",
   "metadata": {},
   "source": [
    "# Export proj files"
   ]
  },
  {
   "cell_type": "code",
   "execution_count": 13,
   "id": "a87efc7c",
   "metadata": {},
   "outputs": [],
   "source": [
    "################ change save path for your own\n",
    "save_to = \"/HFIR/CG1D/IPTS-\"+ipts+\"/shared/autoreduce/raw_to_recon/\" + sample_name + \"_norm\"\n",
    "dxchange.write_tiff_stack(proj_norm, fname=save_to + \"/raw\", overwrite=True, digit=4)\n",
    "# dxchange.write_tiff(ob_output, fname=save_to + '/ob_0000', overwrite=True)\n",
    "# dxchange.write_tiff(dc_output, fname=save_to + '/dc_0000', overwrite=True)"
   ]
  },
  {
   "cell_type": "code",
   "execution_count": null,
   "id": "54485bbe",
   "metadata": {},
   "outputs": [],
   "source": []
  }
 ],
 "metadata": {
  "kernelspec": {
   "display_name": "tomopy",
   "language": "python",
   "name": "tomopy"
  },
  "language_info": {
   "codemirror_mode": {
    "name": "ipython",
    "version": 3
   },
   "file_extension": ".py",
   "mimetype": "text/x-python",
   "name": "python",
   "nbconvert_exporter": "python",
   "pygments_lexer": "ipython3",
   "version": "3.10.4"
  }
 },
 "nbformat": 4,
 "nbformat_minor": 5
}
