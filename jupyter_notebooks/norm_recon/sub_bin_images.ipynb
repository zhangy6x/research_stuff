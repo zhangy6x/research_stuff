{
 "cells": [
  {
   "cell_type": "code",
   "execution_count": 1,
   "id": "704cabfb",
   "metadata": {},
   "outputs": [
    {
     "name": "stdout",
     "output_type": "stream",
     "text": [
      "CPU cores: 64\n"
     ]
    }
   ],
   "source": [
    "import os\n",
    "import utilities as rocku\n",
    "import matplotlib.pyplot as plt\n",
    "import numpy as np\n",
    "import dxchange\n",
    "import multiprocessing as mp\n",
    "import timeit\n",
    "from tqdm import tqdm\n",
    "ncore = mp.cpu_count()\n",
    "print(\"CPU cores:\", ncore)"
   ]
  },
  {
   "cell_type": "code",
   "execution_count": 2,
   "id": "fe0261e6",
   "metadata": {},
   "outputs": [],
   "source": [
    "# need to change\n",
    "ipts=\"33087\"\n",
    "# scan_type = 'ct_scans'\n",
    "scan_type = 'shared/processed_data/normalized'\n",
    "# scan_type = 'alignment_calibration'"
   ]
  },
  {
   "cell_type": "code",
   "execution_count": 3,
   "id": "bdc87be2",
   "metadata": {},
   "outputs": [
    {
     "data": {
      "text/plain": [
       "['2024_10_25_Empty_cans',\n",
       " '2024_10_25_Empty_cans_binned_by_5',\n",
       " '2024_10_25_SmF3_0percent',\n",
       " '2024_10_25_SmF3_0percent_binned_by_5',\n",
       " '2024_10_25_SmF3_10percent',\n",
       " '2024_10_25_SmF3_10percent_binned_by_5',\n",
       " '2024_10_25_SmF3_1percent',\n",
       " '2024_10_25_SmF3_1percent_binned_by_5']"
      ]
     },
     "execution_count": 3,
     "metadata": {},
     "output_type": "execute_result"
    }
   ],
   "source": [
    "scan_loc = \"/HFIR/CG1D/IPTS-\"+ipts+\"/\" + scan_type\n",
    "scan_list = sorted(os.listdir(scan_loc))\n",
    "scan_list"
   ]
  },
  {
   "cell_type": "code",
   "execution_count": 4,
   "id": "2f99b2c3-a336-4a21-b327-b8bbc515f127",
   "metadata": {},
   "outputs": [
    {
     "name": "stdout",
     "output_type": "stream",
     "text": [
      "8\n",
      "1\n"
     ]
    },
    {
     "data": {
      "text/plain": [
       "['2024_10_25_Empty_cans']"
      ]
     },
     "execution_count": 4,
     "metadata": {},
     "output_type": "execute_result"
    }
   ],
   "source": [
    "to_rmv = [\n",
    "'2024_10_25_Empty_cans_binned_by_5',\n",
    " '2024_10_25_SmF3_0percent',\n",
    " '2024_10_25_SmF3_0percent_binned_by_5',\n",
    " '2024_10_25_SmF3_10percent',\n",
    " '2024_10_25_SmF3_10percent_binned_by_5',\n",
    " '2024_10_25_SmF3_1percent',\n",
    " '2024_10_25_SmF3_1percent_binned_by_5'\n",
    "]\n",
    "scan_list = rocku.remove_fnames(scan_list, to_rmv)\n",
    "scan_list"
   ]
  },
  {
   "cell_type": "markdown",
   "id": "d395b329-122c-48e4-b6c7-741a22d74f6a",
   "metadata": {},
   "source": [
    "# Start the binning"
   ]
  },
  {
   "cell_type": "code",
   "execution_count": 9,
   "id": "f2f8abb8-1ee4-4be9-9896-837b2463a037",
   "metadata": {},
   "outputs": [
    {
     "name": "stdout",
     "output_type": "stream",
     "text": [
      "Saving to '/HFIR/CG1D/IPTS-33087/shared/processed_data/normalized/2024_10_25_Empty_cans_binned_by_5/empty'\n"
     ]
    },
    {
     "name": "stderr",
     "output_type": "stream",
     "text": [
      "100%|█████████████████████████████████████████████| 1/1 [00:01<00:00,  1.54s/it]\n",
      "0it [00:00, ?it/s]\n"
     ]
    }
   ],
   "source": [
    "# bin_size = None\n",
    "bin_size = 5\n",
    "# bin_method = 'mean'\n",
    "bin_method = 'median'\n",
    "# bin_method = 'sum'\n",
    "##################################################\n",
    "# assert bin_size > 1\n",
    "for each_scan in scan_list:\n",
    "    scan_dir = os.path.join(scan_loc, each_scan)\n",
    "    fname_list = sorted(os.listdir(scan_dir))\n",
    "    exposure_list = rocku.get_exposure_list(fname_list)\n",
    "    name_list = rocku.get_name_list(fname_list)\n",
    "    # print(\"Saving to '{}'\".format(save_to))\n",
    "    for each_exposure in exposure_list:\n",
    "        _fname_list = rocku.filter_list(fname_list, each_exposure)\n",
    "        #########\n",
    "        for each_name in name_list:\n",
    "            __fname_list = rocku.filter_list(_fname_list, each_name)\n",
    "            if bin_size is None:\n",
    "                bin_size = len(__fname_list)\n",
    "                print (\"Bin size = {} (No input)\".format(bin_size))\n",
    "            save_to = \"/HFIR/CG1D/IPTS-\"+ipts+\"/shared/processed_data/normalized/\" + each_scan + \"_binned_by_\" + str(bin_size)\n",
    "            to_rmv = len(__fname_list)%bin_size\n",
    "            if to_rmv == 0:\n",
    "                _fname_list_rmv = __fname_list[:]\n",
    "            else:\n",
    "                _fname_list_rmv = __fname_list[:-to_rmv]\n",
    "            if len(_fname_list_rmv) > 0:\n",
    "                print(\"Saving to '{}'\".format(save_to + \"/\" + each_name))\n",
    "            _chunk_list = _fname_list_rmv[0::bin_size]\n",
    "            for i in tqdm(range(0, len(_chunk_list), 1)):\n",
    "                _fname_each_chunk = _fname_list_rmv[i:i+bin_size]\n",
    "                _imgs = rocku.read_tiff_stack_wo_tqdm(scan_dir, _fname_each_chunk)\n",
    "                if bin_method == 'median':\n",
    "                    _imgs_bin = np.median(_imgs, axis=0)\n",
    "                elif bin_method == 'mean':\n",
    "                    _imgs_bin = np.mean(_imgs, axis=0)\n",
    "                elif bin_method == 'sum':\n",
    "                    _imgs_bin = np.sum(_imgs, axis=0)\n",
    "                # Save files\n",
    "                _fname = save_to + \"/\" + _chunk_list[i]\n",
    "                dxchange.write_tiff(_imgs_bin, fname=_fname, overwrite=True)"
   ]
  },
  {
   "cell_type": "code",
   "execution_count": 22,
   "id": "a86c1b4a-6423-4fac-b18f-9b99b1149a8e",
   "metadata": {},
   "outputs": [
    {
     "name": "stdout",
     "output_type": "stream",
     "text": [
      "Saving to '/HFIR/CG1D/IPTS-33087/shared/processed_data/normalized/2024_10_25_SmF3_10percent_binned_by_5'\n"
     ]
    },
    {
     "data": {
      "application/vnd.jupyter.widget-view+json": {
       "model_id": "14be3d1eabc7434d9b3d2c816878e086",
       "version_major": 2,
       "version_minor": 0
      },
      "text/plain": [
       "  0%|          | 0/3 [00:00<?, ?it/s]"
      ]
     },
     "metadata": {},
     "output_type": "display_data"
    },
    {
     "data": {
      "application/vnd.jupyter.widget-view+json": {
       "model_id": "7f8747da14f4421cab548d81b827c41b",
       "version_major": 2,
       "version_minor": 0
      },
      "text/plain": [
       "  0%|          | 0/12 [00:00<?, ?it/s]"
      ]
     },
     "metadata": {},
     "output_type": "display_data"
    },
    {
     "data": {
      "application/vnd.jupyter.widget-view+json": {
       "model_id": "dc71f7882e3845d2992b0ba3df33b60a",
       "version_major": 2,
       "version_minor": 0
      },
      "text/plain": [
       "  0%|          | 0/144 [00:00<?, ?it/s]"
      ]
     },
     "metadata": {},
     "output_type": "display_data"
    },
    {
     "data": {
      "application/vnd.jupyter.widget-view+json": {
       "model_id": "0064523786214a7b8803ca7b3a77bfc3",
       "version_major": 2,
       "version_minor": 0
      },
      "text/plain": [
       "  0%|          | 0/8 [00:00<?, ?it/s]"
      ]
     },
     "metadata": {},
     "output_type": "display_data"
    },
    {
     "data": {
      "application/vnd.jupyter.widget-view+json": {
       "model_id": "14380e963cbd4c4caf2d624b3484ef2d",
       "version_major": 2,
       "version_minor": 0
      },
      "text/plain": [
       "  0%|          | 0/144 [00:00<?, ?it/s]"
      ]
     },
     "metadata": {},
     "output_type": "display_data"
    },
    {
     "data": {
      "application/vnd.jupyter.widget-view+json": {
       "model_id": "19ffaff8b3d04e84bc37a28e7d6a30f6",
       "version_major": 2,
       "version_minor": 0
      },
      "text/plain": [
       "  0%|          | 0/4 [00:00<?, ?it/s]"
      ]
     },
     "metadata": {},
     "output_type": "display_data"
    },
    {
     "data": {
      "application/vnd.jupyter.widget-view+json": {
       "model_id": "cdbcc7840c33420c9758714722b947cc",
       "version_major": 2,
       "version_minor": 0
      },
      "text/plain": [
       "  0%|          | 0/144 [00:00<?, ?it/s]"
      ]
     },
     "metadata": {},
     "output_type": "display_data"
    },
    {
     "data": {
      "application/vnd.jupyter.widget-view+json": {
       "model_id": "0957620668f74c5aaa244d34f35a404d",
       "version_major": 2,
       "version_minor": 0
      },
      "text/plain": [
       "  0%|          | 0/40 [00:00<?, ?it/s]"
      ]
     },
     "metadata": {},
     "output_type": "display_data"
    },
    {
     "data": {
      "application/vnd.jupyter.widget-view+json": {
       "model_id": "33d393afb78b406da20de08c744492c0",
       "version_major": 2,
       "version_minor": 0
      },
      "text/plain": [
       "  0%|          | 0/24 [00:00<?, ?it/s]"
      ]
     },
     "metadata": {},
     "output_type": "display_data"
    },
    {
     "data": {
      "application/vnd.jupyter.widget-view+json": {
       "model_id": "f5b89f38ea38420e81a5de9a6379e0e9",
       "version_major": 2,
       "version_minor": 0
      },
      "text/plain": [
       "0it [00:00, ?it/s]"
      ]
     },
     "metadata": {},
     "output_type": "display_data"
    },
    {
     "name": "stdout",
     "output_type": "stream",
     "text": [
      "Saving to '/HFIR/CG1D/IPTS-33087/shared/processed_data/normalized/2024_10_25_SmF3_1percent_binned_by_5'\n"
     ]
    },
    {
     "data": {
      "application/vnd.jupyter.widget-view+json": {
       "model_id": "e82361f0d113463ea38d56aa99619d8a",
       "version_major": 2,
       "version_minor": 0
      },
      "text/plain": [
       "  0%|          | 0/3 [00:00<?, ?it/s]"
      ]
     },
     "metadata": {},
     "output_type": "display_data"
    },
    {
     "data": {
      "application/vnd.jupyter.widget-view+json": {
       "model_id": "cdabbbe93be54f669ad9d4122d1bee53",
       "version_major": 2,
       "version_minor": 0
      },
      "text/plain": [
       "  0%|          | 0/24 [00:00<?, ?it/s]"
      ]
     },
     "metadata": {},
     "output_type": "display_data"
    },
    {
     "data": {
      "application/vnd.jupyter.widget-view+json": {
       "model_id": "27bda212a3144fc88724c30b29abf9cc",
       "version_major": 2,
       "version_minor": 0
      },
      "text/plain": [
       "  0%|          | 0/20 [00:00<?, ?it/s]"
      ]
     },
     "metadata": {},
     "output_type": "display_data"
    },
    {
     "data": {
      "application/vnd.jupyter.widget-view+json": {
       "model_id": "742c8a2f84624d8bad72cf3191ac7c46",
       "version_major": 2,
       "version_minor": 0
      },
      "text/plain": [
       "  0%|          | 0/4 [00:00<?, ?it/s]"
      ]
     },
     "metadata": {},
     "output_type": "display_data"
    },
    {
     "data": {
      "application/vnd.jupyter.widget-view+json": {
       "model_id": "2c39939dc642434485f1cbdae97794ec",
       "version_major": 2,
       "version_minor": 0
      },
      "text/plain": [
       "  0%|          | 0/20 [00:00<?, ?it/s]"
      ]
     },
     "metadata": {},
     "output_type": "display_data"
    },
    {
     "data": {
      "application/vnd.jupyter.widget-view+json": {
       "model_id": "9f677f62a26f479ab5b52d9ce46f82a7",
       "version_major": 2,
       "version_minor": 0
      },
      "text/plain": [
       "  0%|          | 0/4 [00:00<?, ?it/s]"
      ]
     },
     "metadata": {},
     "output_type": "display_data"
    },
    {
     "data": {
      "application/vnd.jupyter.widget-view+json": {
       "model_id": "8f5673aee2a64d0c9df305ca424da139",
       "version_major": 2,
       "version_minor": 0
      },
      "text/plain": [
       "  0%|          | 0/20 [00:00<?, ?it/s]"
      ]
     },
     "metadata": {},
     "output_type": "display_data"
    },
    {
     "data": {
      "application/vnd.jupyter.widget-view+json": {
       "model_id": "a18ac111254340c3a334ebed832b1e32",
       "version_major": 2,
       "version_minor": 0
      },
      "text/plain": [
       "  0%|          | 0/4 [00:00<?, ?it/s]"
      ]
     },
     "metadata": {},
     "output_type": "display_data"
    },
    {
     "data": {
      "application/vnd.jupyter.widget-view+json": {
       "model_id": "06c9dd1aff5c4fddb84aca2acef300df",
       "version_major": 2,
       "version_minor": 0
      },
      "text/plain": [
       "  0%|          | 0/20 [00:00<?, ?it/s]"
      ]
     },
     "metadata": {},
     "output_type": "display_data"
    },
    {
     "data": {
      "application/vnd.jupyter.widget-view+json": {
       "model_id": "ca9acf3ec85949bfa382502b6a0be76c",
       "version_major": 2,
       "version_minor": 0
      },
      "text/plain": [
       "  0%|          | 0/4 [00:00<?, ?it/s]"
      ]
     },
     "metadata": {},
     "output_type": "display_data"
    },
    {
     "data": {
      "application/vnd.jupyter.widget-view+json": {
       "model_id": "fdebf12fa8b843f7bd98643205a063b8",
       "version_major": 2,
       "version_minor": 0
      },
      "text/plain": [
       "  0%|          | 0/20 [00:00<?, ?it/s]"
      ]
     },
     "metadata": {},
     "output_type": "display_data"
    },
    {
     "data": {
      "application/vnd.jupyter.widget-view+json": {
       "model_id": "1625a26baf604b278d9f8939cbfda496",
       "version_major": 2,
       "version_minor": 0
      },
      "text/plain": [
       "  0%|          | 0/4 [00:00<?, ?it/s]"
      ]
     },
     "metadata": {},
     "output_type": "display_data"
    },
    {
     "data": {
      "application/vnd.jupyter.widget-view+json": {
       "model_id": "1a1b8a70ad064f07ac34fb038186236a",
       "version_major": 2,
       "version_minor": 0
      },
      "text/plain": [
       "  0%|          | 0/20 [00:00<?, ?it/s]"
      ]
     },
     "metadata": {},
     "output_type": "display_data"
    },
    {
     "data": {
      "application/vnd.jupyter.widget-view+json": {
       "model_id": "a8a22187e79d473389fc1cd2fbacdf2a",
       "version_major": 2,
       "version_minor": 0
      },
      "text/plain": [
       "  0%|          | 0/4 [00:00<?, ?it/s]"
      ]
     },
     "metadata": {},
     "output_type": "display_data"
    },
    {
     "data": {
      "application/vnd.jupyter.widget-view+json": {
       "model_id": "1abffd4e2a3044198c05fd72fae54bca",
       "version_major": 2,
       "version_minor": 0
      },
      "text/plain": [
       "  0%|          | 0/20 [00:00<?, ?it/s]"
      ]
     },
     "metadata": {},
     "output_type": "display_data"
    },
    {
     "data": {
      "application/vnd.jupyter.widget-view+json": {
       "model_id": "7040d1f7051d4b3f8618a481ac0cfee6",
       "version_major": 2,
       "version_minor": 0
      },
      "text/plain": [
       "0it [00:00, ?it/s]"
      ]
     },
     "metadata": {},
     "output_type": "display_data"
    }
   ],
   "source": [
    "bin_size = 5\n",
    "# bin_method = 'mean'\n",
    "bin_method = 'median'\n",
    "##################################################\n",
    "assert bin_size > 1\n",
    "for each_scan in scan_list[:2]:\n",
    "    scan_dir = os.path.join(scan_loc, each_scan)\n",
    "    fname_list = sorted(os.listdir(scan_dir))\n",
    "    exposure_list = rocku.get_exposure_list(fname_list)\n",
    "    name_list = rocku.get_name_list(fname_list)\n",
    "    save_to = \"/HFIR/CG1D/IPTS-\"+ipts+\"/shared/processed_data/normalized/\" + each_scan + \"_binned_by_\" + str(bin_size)\n",
    "    print(\"Saving to '{}'\".format(save_to))\n",
    "    for each_exposure in exposure_list:\n",
    "        _fname_list = rocku.filter_list(fname_list, each_exposure)\n",
    "        #########\n",
    "        for each_name in name_list:\n",
    "            __fname_list = rocku.filter_list(_fname_list, each_name)\n",
    "            to_rmv = len(__fname_list)%bin_size\n",
    "            if to_rmv == 0:\n",
    "                _fname_list_rmv = __fname_list[:]\n",
    "            else:\n",
    "                _fname_list_rmv = __fname_list[:-to_rmv]\n",
    "            _chunk_list = _fname_list_rmv[0::bin_size]\n",
    "            for i in tqdm(range(0, len(_chunk_list), 1)):\n",
    "                _fname_each_chunk = _fname_list_rmv[i:i+bin_size]\n",
    "                _imgs = rocku.read_tiff_stack_wo_tqdm(scan_dir, _fname_each_chunk)\n",
    "                if bin_method == 'median':\n",
    "                    _imgs_bin = np.median(_imgs, axis=0)\n",
    "                elif bin_method == 'mean':\n",
    "                    _imgs_bin = np.mean(_imgs, axis=0)\n",
    "                # Save files\n",
    "                _fname = save_to + \"/\" + _chunk_list[i]\n",
    "                dxchange.write_tiff(_imgs_bin, fname=_fname, overwrite=True)"
   ]
  },
  {
   "cell_type": "markdown",
   "id": "77456e45",
   "metadata": {},
   "source": [
    "# Sort and filter scan files"
   ]
  },
  {
   "cell_type": "code",
   "execution_count": null,
   "id": "21f11e88-75b3-4e04-9642-4aa1753b278c",
   "metadata": {},
   "outputs": [],
   "source": [
    "###################### need to change start\n",
    "sample_name = \"2024_10_25_SmF3_0percent\"\n",
    "scan_dir = os.path.join(scan_loc, sample_name)\n",
    "###################### need to change end"
   ]
  },
  {
   "cell_type": "code",
   "execution_count": null,
   "id": "c5727f06-6c97-4be2-bf4e-dca6dd7b9ff4",
   "metadata": {
    "scrolled": true
   },
   "outputs": [],
   "source": [
    "fname_list = os.listdir(scan_dir)\n",
    "# fname_list.pop(0)\n",
    "fname_list.sort()\n",
    "print(len(fname_list))\n",
    "fname_list"
   ]
  },
  {
   "cell_type": "code",
   "execution_count": null,
   "id": "727f96a3-fd41-4ffb-b240-a7d1010ce2bf",
   "metadata": {},
   "outputs": [],
   "source": [
    "to_rmv = [\n",
    "]\n",
    "fname_list = rocku.remove_fnames(fname_list, to_rmv)"
   ]
  },
  {
   "cell_type": "code",
   "execution_count": null,
   "id": "16f16ca5-25a7-498f-97c5-be8278dd8364",
   "metadata": {},
   "outputs": [],
   "source": [
    "exposure_list = rocku.get_exposure_list(fname_list)\n",
    "exposure_list"
   ]
  },
  {
   "cell_type": "code",
   "execution_count": null,
   "id": "635f600b-d06b-4b0f-a32f-d80a506e2fe4",
   "metadata": {},
   "outputs": [],
   "source": [
    "name_list = rocku.get_name_list(fname_list)\n",
    "name_list"
   ]
  },
  {
   "cell_type": "code",
   "execution_count": null,
   "id": "c01c7ed5-4ed5-4cc9-aff9-f9bea225fa48",
   "metadata": {
    "scrolled": true
   },
   "outputs": [],
   "source": [
    "_fname_list = rocku.filter_list(fname_list, name_list[0])\n",
    "_fname_list"
   ]
  },
  {
   "cell_type": "code",
   "execution_count": null,
   "id": "dd424d25",
   "metadata": {},
   "outputs": [],
   "source": []
  }
 ],
 "metadata": {
  "kernelspec": {
   "display_name": "rockit",
   "language": "python",
   "name": "rockit"
  },
  "language_info": {
   "codemirror_mode": {
    "name": "ipython",
    "version": 3
   },
   "file_extension": ".py",
   "mimetype": "text/x-python",
   "name": "python",
   "nbconvert_exporter": "python",
   "pygments_lexer": "ipython3",
   "version": "3.10.14"
  }
 },
 "nbformat": 4,
 "nbformat_minor": 5
}
