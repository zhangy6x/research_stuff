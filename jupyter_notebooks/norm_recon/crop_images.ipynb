{
 "cells": [
  {
   "cell_type": "code",
   "execution_count": 1,
   "id": "e1467302",
   "metadata": {
    "scrolled": true
   },
   "outputs": [
    {
     "name": "stderr",
     "output_type": "stream",
     "text": [
      "olefile module not found\n"
     ]
    }
   ],
   "source": [
    "import os\n",
    "import numpy as np\n",
    "import matplotlib.pyplot as plt\n",
    "import sys\n",
    "root_folder = os.path.dirname(os.getcwd())\n",
    "sys.path.append(root_folder)\n",
    "import utilities as rocku\n",
    "import dxchange\n",
    "from tqdm import tqdm\n",
    "import timeit\n",
    "import multiprocessing as mp\n",
    "# from joblib import Parallel, delayed"
   ]
  },
  {
   "cell_type": "code",
   "execution_count": 2,
   "id": "b5c11b4e",
   "metadata": {},
   "outputs": [],
   "source": [
    "# %matplotlib notebook\n",
    "%matplotlib inline"
   ]
  },
  {
   "cell_type": "code",
   "execution_count": 3,
   "id": "6816cdec",
   "metadata": {},
   "outputs": [
    {
     "data": {
      "text/plain": [
       "48"
      ]
     },
     "execution_count": 3,
     "metadata": {},
     "output_type": "execute_result"
    }
   ],
   "source": [
    "ncore = 48\n",
    "if ncore > mp.cpu_count():\n",
    "    ncore = mp.cpu_count()\n",
    "ncore"
   ]
  },
  {
   "cell_type": "markdown",
   "id": "92bcd45c",
   "metadata": {},
   "source": [
    "# Workflow starts here!"
   ]
  },
  {
   "cell_type": "code",
   "execution_count": 4,
   "id": "6ead894b",
   "metadata": {},
   "outputs": [],
   "source": [
    "###################### need to change start\n",
    "ipts=\"19458\"\n",
    "###################### need to change end"
   ]
  },
  {
   "cell_type": "markdown",
   "id": "73b84922",
   "metadata": {},
   "source": [
    "## Find file location"
   ]
  },
  {
   "cell_type": "code",
   "execution_count": 10,
   "id": "a7861217",
   "metadata": {
    "scrolled": false
   },
   "outputs": [
    {
     "data": {
      "text/plain": [
       "['ob', 'dc', 'ct_scans']"
      ]
     },
     "execution_count": 10,
     "metadata": {},
     "output_type": "execute_result"
    }
   ],
   "source": [
    "# ct_loc = \"/HFIR/CG1D/IPTS-\"+ipts+\"/raw/ct_scans\"\n",
    "ct_loc = \"/HFIR/CG1D/IPTS-\"+ipts+\"/shared/autoreduce/raw_to_recon\"\n",
    "os.listdir(ct_loc)"
   ]
  },
  {
   "cell_type": "code",
   "execution_count": 16,
   "id": "6b5cf017",
   "metadata": {},
   "outputs": [],
   "source": [
    "folder_name = \"dc\"\n",
    "ct_dir = os.path.join(ct_loc, folder_name)\n",
    "fname_list = sorted(os.listdir(ct_dir))"
   ]
  },
  {
   "cell_type": "code",
   "execution_count": 17,
   "id": "071970e8",
   "metadata": {},
   "outputs": [
    {
     "data": {
      "image/png": "[encoded data removed]",
      "text/plain": [
       "<Figure size 432x288 with 2 Axes>"
      ]
     },
     "metadata": {
      "needs_background": "light"
     },
     "output_type": "display_data"
    }
   ],
   "source": [
    "img_idx = 2\n",
    "img = dxchange.read_tiff(os.path.join(ct_dir, fname_list[img_idx]))\n",
    "plt.imshow(img)\n",
    "plt.colorbar()\n",
    "plt.show()"
   ]
  },
  {
   "cell_type": "code",
   "execution_count": 18,
   "id": "eaf00f5e",
   "metadata": {},
   "outputs": [
    {
     "name": "stdout",
     "output_type": "stream",
     "text": [
      "Cropped:\n"
     ]
    },
    {
     "data": {
      "image/png": "[encoded data removed]",
      "text/plain": [
       "<Figure size 432x288 with 2 Axes>"
      ]
     },
     "metadata": {
      "needs_background": "light"
     },
     "output_type": "display_data"
    }
   ],
   "source": [
    "###################### need to change start\n",
    "# crop_left = 250\n",
    "# crop_right = 1650\n",
    "# crop_top = 750\n",
    "# crop_bottom = 1950\n",
    "crop_left = 710\n",
    "crop_right = 1300\n",
    "crop_top = 0\n",
    "crop_bottom = 2048\n",
    "###################### need to change end\n",
    "crop = True\n",
    "img = dxchange.read_tiff(os.path.join(ct_dir, fname_list[img_idx]))\n",
    "img_crop = rocku.crop(img, crop_left, crop_right, crop_top, crop_bottom, crop)\n",
    "print(\"Cropped:\")\n",
    "plt.imshow(img_crop)\n",
    "plt.colorbar()\n",
    "plt.show()"
   ]
  },
  {
   "cell_type": "code",
   "execution_count": 19,
   "id": "e6f03cda",
   "metadata": {
    "scrolled": true
   },
   "outputs": [
    {
     "name": "stdout",
     "output_type": "stream",
     "text": [
      "Saving /HFIR/CG1D/IPTS-19458/shared/autoreduce/rockit/dc_crop/20170522_DF_shutter_shut_BC3bottom_GC1topa_0050_000_000_0000.tiff ...\n",
      "Saving /HFIR/CG1D/IPTS-19458/shared/autoreduce/rockit/dc_crop/20170522_DF_shutter_shut_BC3bottom_GC1topa_0050_000_100_0001.tiff ...\n",
      "Saving /HFIR/CG1D/IPTS-19458/shared/autoreduce/rockit/dc_crop/20170522_DF_shutter_shut_BC3bottom_GC1topa_0050_000_200_0002.tiff ...\n",
      "Saving /HFIR/CG1D/IPTS-19458/shared/autoreduce/rockit/dc_crop/20170522_DF_shutter_shut_BC3bottom_GC1topa_0050_000_300_0003.tiff ...\n",
      "Saving /HFIR/CG1D/IPTS-19458/shared/autoreduce/rockit/dc_crop/20170522_DF_shutter_shut_BC3bottom_GC1topa_0050_000_400_0004.tiff ...\n",
      "Saving /HFIR/CG1D/IPTS-19458/shared/autoreduce/rockit/dc_crop/20170522_DF_shutter_shut_BC3bottom_GC1topa_0050_000_500_0005.tiff ...\n",
      "Saving /HFIR/CG1D/IPTS-19458/shared/autoreduce/rockit/dc_crop/20170522_DF_shutter_shut_BC3bottom_GC1topa_0050_000_600_0006.tiff ...\n",
      "Saving /HFIR/CG1D/IPTS-19458/shared/autoreduce/rockit/dc_crop/20170522_DF_shutter_shut_BC3bottom_GC1topa_0050_000_700_0007.tiff ...\n",
      "Saving /HFIR/CG1D/IPTS-19458/shared/autoreduce/rockit/dc_crop/20170522_DF_shutter_shut_BC3bottom_GC1topa_0050_000_800_0008.tiff ...\n",
      "Saving /HFIR/CG1D/IPTS-19458/shared/autoreduce/rockit/dc_crop/20170522_DF_shutter_shut_BC3bottom_GC1topa_0050_000_900_0009.tiff ...\n",
      "Saving /HFIR/CG1D/IPTS-19458/shared/autoreduce/rockit/dc_crop/20170522_DF_shutter_shut_BC3bottom_GC1topa_0050_001_000_0010.tiff ...\n"
     ]
    }
   ],
   "source": [
    "save_to = \"/HFIR/CG1D/IPTS-\"+ipts+\"/shared/autoreduce/rockit/\" + folder_name + \"_crop\"\n",
    "for efname in fname_list:\n",
    "    _img = dxchange.read_tiff(os.path.join(ct_dir, efname))\n",
    "    _img_crop = rocku.crop(_img, crop_left, crop_right, crop_top, crop_bottom, crop)\n",
    "#     _img_crop = -1 * _img_crop\n",
    "    _save_path = os.path.join(save_to, efname)\n",
    "    print('Saving {} ...'.format(_save_path))\n",
    "    dxchange.write_tiff(_img_crop, fname=_save_path, overwrite=True)"
   ]
  },
  {
   "cell_type": "code",
   "execution_count": null,
   "id": "54485bbe",
   "metadata": {},
   "outputs": [],
   "source": []
  }
 ],
 "metadata": {
  "kernelspec": {
   "display_name": "rockit",
   "language": "python",
   "name": "rockit"
  },
  "language_info": {
   "codemirror_mode": {
    "name": "ipython",
    "version": 3
   },
   "file_extension": ".py",
   "mimetype": "text/x-python",
   "name": "python",
   "nbconvert_exporter": "python",
   "pygments_lexer": "ipython3",
   "version": "3.10.4"
  }
 },
 "nbformat": 4,
 "nbformat_minor": 5
}
