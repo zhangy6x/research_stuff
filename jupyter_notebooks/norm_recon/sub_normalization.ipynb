{
 "cells": [
  {
   "cell_type": "code",
   "execution_count": 1,
   "id": "704cabfb",
   "metadata": {},
   "outputs": [],
   "source": [
    "import os\n",
    "import shutil\n",
    "import utilities as rocku\n",
    "import matplotlib.pyplot as plt\n",
    "import tomopy\n",
    "import numpy as np\n",
    "import pandas as pd\n",
    "import pprint\n",
    "import dxchange\n",
    "import multiprocessing as mp\n",
    "import timeit\n",
    "from tqdm import tqdm"
   ]
  },
  {
   "cell_type": "code",
   "execution_count": 2,
   "id": "237d1b6c",
   "metadata": {},
   "outputs": [
    {
     "data": {
      "text/plain": [
       "48"
      ]
     },
     "execution_count": 2,
     "metadata": {},
     "output_type": "execute_result"
    }
   ],
   "source": [
    "ncore = mp.cpu_count()\n",
    "ncore"
   ]
  },
  {
   "cell_type": "code",
   "execution_count": 3,
   "id": "fe0261e6",
   "metadata": {},
   "outputs": [],
   "source": [
    "# need to change\n",
    "ipts=\"30726\"\n",
    "# scan_type = 'ct_scans'\n",
    "scan_type = 'radiographs'\n",
    "# scan_type = 'alignment_calibration'"
   ]
  },
  {
   "cell_type": "code",
   "execution_count": 93,
   "id": "bdc87be2",
   "metadata": {
    "scrolled": false
   },
   "outputs": [
    {
     "data": {
      "text/plain": [
       "['2024_04_17_TP_1',\n",
       " '2024_04_17_TP_1_run2',\n",
       " '2024_04_17_align_high_res',\n",
       " '2024_04_18_TP_2_Exp',\n",
       " '2024_04_19_PTL_2_Exp',\n",
       " '2024_04_19_TP_3_Exp']"
      ]
     },
     "execution_count": 93,
     "metadata": {},
     "output_type": "execute_result"
    }
   ],
   "source": [
    "scan_loc = \"/HFIR/CG1D/IPTS-\"+ipts+\"/raw/\" + scan_type\n",
    "sorted(os.listdir(scan_loc))"
   ]
  },
  {
   "cell_type": "code",
   "execution_count": 94,
   "id": "5894e04b",
   "metadata": {},
   "outputs": [
    {
     "data": {
      "text/plain": [
       "['2024_04_17_TP_1_run2', '2024_04_19_TP_3_Exp']"
      ]
     },
     "execution_count": 94,
     "metadata": {},
     "output_type": "execute_result"
    }
   ],
   "source": [
    "ob_loc = \"/HFIR/CG1D/IPTS-\"+ipts+\"/raw/ob\"\n",
    "sorted(os.listdir(ob_loc))"
   ]
  },
  {
   "cell_type": "code",
   "execution_count": 95,
   "id": "ecb839af",
   "metadata": {},
   "outputs": [
    {
     "data": {
      "text/plain": [
       "['2024_04_17_DC_60s', '2024_04_17_TP_1_run2', '2024_04_19_TP_3_Exp']"
      ]
     },
     "execution_count": 95,
     "metadata": {},
     "output_type": "execute_result"
    }
   ],
   "source": [
    "dc_loc = \"/HFIR/CG1D/IPTS-\"+ipts+\"/raw/dc\"\n",
    "sorted(os.listdir(dc_loc))"
   ]
  },
  {
   "cell_type": "code",
   "execution_count": 80,
   "id": "5ccd348a",
   "metadata": {},
   "outputs": [],
   "source": [
    "###################### need to change start\n",
    "sample_name = \"2024_04_19_TP_3_Exp\"\n",
    "scan_dir = os.path.join(scan_loc, sample_name)\n",
    "ob_dir = os.path.join(ob_loc, \"2024_04_19_TP_3_Exp\")\n",
    "dc_dir = os.path.join(dc_loc, \"2024_04_19_TP_3_Exp\")\n",
    "# ct_dir = \"/HFIR/CG1D/IPTS-\"+ipts+\"/shared/processed_data/raw_to_recon\"\n",
    "# ob_dir = \"/HFIR/CG1D/IPTS-\"+ipts+\"/shared/processed_data/raw_to_recon\"\n",
    "# dc_dir = \"/HFIR/CG1D/IPTS-\"+ipts+\"/shared/processed_data/raw_to_recon\"\n",
    "ob_name = \"*OB*\" # Will not be used if follows the default file structure\n",
    "dc_name = \"*DC*\" # Will not be used if follows the default file structure\n",
    "gamma_diff = 20\n",
    "###################### need to change end"
   ]
  },
  {
   "cell_type": "markdown",
   "id": "77456e45",
   "metadata": {},
   "source": [
    "# Preprocess scan files"
   ]
  },
  {
   "cell_type": "code",
   "execution_count": 81,
   "id": "2d8d5267",
   "metadata": {
    "scrolled": true
   },
   "outputs": [
    {
     "name": "stdout",
     "output_type": "stream",
     "text": [
      "144\n"
     ]
    },
    {
     "data": {
      "text/plain": [
       "['TP_3_run1_48C_DryRef_0060_0729.tiff',\n",
       " 'TP_3_run1_48C_DryRef_0060_0730.tiff',\n",
       " 'TP_3_run1_48C_DryRef_0060_0731.tiff',\n",
       " 'TP_3_run1_48C_DryRef_0060_0732.tiff',\n",
       " 'TP_3_run1_48C_DryRef_0060_0733.tiff',\n",
       " 'TP_3_run1_48C_DryRef_0060_0734.tiff',\n",
       " 'TP_3_run1_48C_DryRef_0060_0735.tiff',\n",
       " 'TP_3_run1_48C_DryRef_0060_0736.tiff',\n",
       " 'TP_3_run1_48C_DryRef_0060_0737.tiff',\n",
       " 'TP_3_run1_48C_DryRef_0060_0738.tiff',\n",
       " 'TP_3_run1_48C_DryRef_0060_0739.tiff',\n",
       " 'TP_3_run1_48C_DryRef_0060_0740.tiff',\n",
       " 'TP_3_run1_48C_DryRef_0060_0741.tiff',\n",
       " 'TP_3_run1_48C_DryRef_0060_0742.tiff',\n",
       " 'TP_3_run1_48C_DryRef_0060_0743.tiff',\n",
       " 'TP_3_run1_48C_Exp_0060_0729.tiff',\n",
       " 'TP_3_run1_48C_Exp_0060_0730.tiff',\n",
       " 'TP_3_run1_48C_Exp_0060_0731.tiff',\n",
       " 'TP_3_run1_48C_Exp_0060_0732.tiff',\n",
       " 'TP_3_run1_48C_Exp_0060_0733.tiff',\n",
       " 'TP_3_run1_48C_Exp_0060_0734.tiff',\n",
       " 'TP_3_run1_48C_Exp_0060_0735.tiff',\n",
       " 'TP_3_run1_48C_Exp_0060_0736.tiff',\n",
       " 'TP_3_run1_48C_Exp_0060_0737.tiff',\n",
       " 'TP_3_run1_48C_Exp_0060_0738.tiff',\n",
       " 'TP_3_run1_48C_Exp_0060_0739.tiff',\n",
       " 'TP_3_run1_48C_Exp_0060_0740.tiff',\n",
       " 'TP_3_run1_48C_Exp_0060_0741.tiff',\n",
       " 'TP_3_run1_48C_Exp_0060_0742.tiff',\n",
       " 'TP_3_run1_48C_Exp_0060_0743.tiff',\n",
       " 'TP_3_run1_48C_Exp_0060_0759.tiff',\n",
       " 'TP_3_run1_48C_Exp_0060_0760.tiff',\n",
       " 'TP_3_run1_48C_Exp_0060_0761.tiff',\n",
       " 'TP_3_run1_48C_Exp_0060_0762.tiff',\n",
       " 'TP_3_run1_48C_Exp_0060_0763.tiff',\n",
       " 'TP_3_run1_48C_Exp_0060_0764.tiff',\n",
       " 'TP_3_run1_48C_Exp_0060_0765.tiff',\n",
       " 'TP_3_run1_48C_Exp_0060_0766.tiff',\n",
       " 'TP_3_run1_48C_Exp_0060_0767.tiff',\n",
       " 'TP_3_run1_48C_Exp_0060_0768.tiff',\n",
       " 'TP_3_run1_48C_Exp_0060_0769.tiff',\n",
       " 'TP_3_run1_48C_Exp_0060_0770.tiff',\n",
       " 'TP_3_run1_48C_Exp_0060_0771.tiff',\n",
       " 'TP_3_run1_48C_Exp_0060_0772.tiff',\n",
       " 'TP_3_run1_48C_Exp_0060_0773.tiff',\n",
       " 'TP_3_run1_48C_Exp_0060_0774.tiff',\n",
       " 'TP_3_run1_48C_Exp_0060_0775.tiff',\n",
       " 'TP_3_run1_48C_Exp_0060_0776.tiff',\n",
       " 'TP_3_run1_48C_Exp_0060_0777.tiff',\n",
       " 'TP_3_run1_48C_Exp_0060_0778.tiff',\n",
       " 'TP_3_run1_48C_Exp_0060_0779.tiff',\n",
       " 'TP_3_run1_48C_Exp_0060_0780.tiff',\n",
       " 'TP_3_run1_48C_Exp_0060_0781.tiff',\n",
       " 'TP_3_run1_48C_Exp_0060_0782.tiff',\n",
       " 'TP_3_run1_48C_Exp_0060_0783.tiff',\n",
       " 'TP_3_run1_48C_Exp_0060_0784.tiff',\n",
       " 'TP_3_run1_48C_Exp_0060_0785.tiff',\n",
       " 'TP_3_run1_48C_Exp_0060_0786.tiff',\n",
       " 'TP_3_run1_48C_Exp_0060_0787.tiff',\n",
       " 'TP_3_run1_48C_Exp_0060_0788.tiff',\n",
       " 'TP_3_run1_48C_Exp_0060_0789.tiff',\n",
       " 'TP_3_run1_48C_Exp_0060_0790.tiff',\n",
       " 'TP_3_run1_48C_Exp_0060_0791.tiff',\n",
       " 'TP_3_run1_48C_Exp_0060_0792.tiff',\n",
       " 'TP_3_run1_48C_Exp_0060_0793.tiff',\n",
       " 'TP_3_run1_48C_Exp_0060_0794.tiff',\n",
       " 'TP_3_run1_48C_Exp_0060_0795.tiff',\n",
       " 'TP_3_run1_48C_Exp_0060_0796.tiff',\n",
       " 'TP_3_run1_48C_Exp_0060_0797.tiff',\n",
       " 'TP_3_run1_48C_Exp_0060_0798.tiff',\n",
       " 'TP_3_run1_48C_Exp_0060_0799.tiff',\n",
       " 'TP_3_run1_48C_Exp_0060_0800.tiff',\n",
       " 'TP_3_run1_48C_Exp_0060_0801.tiff',\n",
       " 'TP_3_run1_48C_Exp_0060_0802.tiff',\n",
       " 'TP_3_run1_48C_Exp_0060_0803.tiff',\n",
       " 'TP_3_run1_48C_Exp_0060_0804.tiff',\n",
       " 'TP_3_run1_48C_Exp_0060_0805.tiff',\n",
       " 'TP_3_run1_48C_Exp_0060_0806.tiff',\n",
       " 'TP_3_run1_48C_Exp_0060_0807.tiff',\n",
       " 'TP_3_run1_48C_Exp_0060_0808.tiff',\n",
       " 'TP_3_run1_48C_Exp_0060_0809.tiff',\n",
       " 'TP_3_run1_48C_Exp_0060_0810.tiff',\n",
       " 'TP_3_run1_48C_Exp_0060_0811.tiff',\n",
       " 'TP_3_run1_48C_Exp_0060_0812.tiff',\n",
       " 'TP_3_run1_48C_Exp_0060_0813.tiff',\n",
       " 'TP_3_run1_48C_Exp_0060_0814.tiff',\n",
       " 'TP_3_run1_48C_Exp_0060_0815.tiff',\n",
       " 'TP_3_run1_48C_Exp_0060_0816.tiff',\n",
       " 'TP_3_run1_48C_Exp_0060_0817.tiff',\n",
       " 'TP_3_run1_48C_Exp_0060_0818.tiff',\n",
       " 'TP_3_run1_48C_Exp_0060_0819.tiff',\n",
       " 'TP_3_run1_48C_Exp_0060_0820.tiff',\n",
       " 'TP_3_run1_48C_Exp_0060_0821.tiff',\n",
       " 'TP_3_run1_48C_WetRef_0060_0744.tiff',\n",
       " 'TP_3_run1_48C_WetRef_0060_0745.tiff',\n",
       " 'TP_3_run1_48C_WetRef_0060_0746.tiff',\n",
       " 'TP_3_run1_48C_WetRef_0060_0747.tiff',\n",
       " 'TP_3_run1_48C_WetRef_0060_0748.tiff',\n",
       " 'TP_3_run1_48C_WetRef_0060_0749.tiff',\n",
       " 'TP_3_run1_48C_WetRef_0060_0750.tiff',\n",
       " 'TP_3_run1_48C_WetRef_0060_0751.tiff',\n",
       " 'TP_3_run1_48C_WetRef_0060_0752.tiff',\n",
       " 'TP_3_run1_48C_WetRef_0060_0753.tiff',\n",
       " 'TP_3_run1_48C_WetRef_0060_0754.tiff',\n",
       " 'TP_3_run1_48C_WetRef_0060_0755.tiff',\n",
       " 'TP_3_run1_48C_WetRef_0060_0756.tiff',\n",
       " 'TP_3_run1_48C_WetRef_0060_0757.tiff',\n",
       " 'TP_3_run1_48C_WetRef_0060_0758.tiff',\n",
       " 'TP_3_run1_48C_Wet_40rpm_0060_0837.tiff',\n",
       " 'TP_3_run1_48C_Wet_40rpm_0060_0838.tiff',\n",
       " 'TP_3_run1_48C_Wet_40rpm_0060_0839.tiff',\n",
       " 'TP_3_run1_48C_Wet_40rpm_0060_0840.tiff',\n",
       " 'TP_3_run1_48C_Wet_40rpm_0060_0841.tiff',\n",
       " 'TP_3_run1_48C_Wet_40rpm_0060_0842.tiff',\n",
       " 'TP_3_run1_48C_Wet_40rpm_0060_0843.tiff',\n",
       " 'TP_3_run1_48C_Wet_50rpm_0060_0844.tiff',\n",
       " 'TP_3_run1_48C_Wet_50rpm_0060_0845.tiff',\n",
       " 'TP_3_run1_48C_Wet_50rpm_0060_0846.tiff',\n",
       " 'TP_3_run1_48C_Wet_50rpm_0060_0847.tiff',\n",
       " 'TP_3_run1_48C_Wet_50rpm_0060_0848.tiff',\n",
       " 'TP_3_run1_48C_Wet_80rpm_0060_0849.tiff',\n",
       " 'TP_3_run1_48C_Wet_80rpm_0060_0850.tiff',\n",
       " 'TP_3_run1_48C_Wet_80rpm_0060_0851.tiff',\n",
       " 'TP_3_run1_48C_Wet_80rpm_0060_0852.tiff',\n",
       " 'TP_3_run1_48C_Wet_Ref_Post_0060_0822.tiff',\n",
       " 'TP_3_run1_48C_Wet_Ref_Post_0060_0823.tiff',\n",
       " 'TP_3_run1_48C_Wet_Ref_Post_0060_0824.tiff',\n",
       " 'TP_3_run1_48C_Wet_Ref_Post_0060_0825.tiff',\n",
       " 'TP_3_run1_48C_Wet_Ref_Post_0060_0826.tiff',\n",
       " 'TP_3_run1_48C_Wet_Ref_Post_0060_0827.tiff',\n",
       " 'TP_3_run1_48C_Wet_Ref_Post_0060_0828.tiff',\n",
       " 'TP_3_run1_48C_Wet_Ref_Post_0060_0829.tiff',\n",
       " 'TP_3_run1_48C_Wet_Ref_Post_0060_0830.tiff',\n",
       " 'TP_3_run1_48C_Wet_Ref_Post_0060_0831.tiff',\n",
       " 'TP_3_run1_48C_Wet_Ref_Post_0060_0832.tiff',\n",
       " 'TP_3_run1_48C_Wet_Ref_Post_0060_0833.tiff',\n",
       " 'TP_3_run1_48C_Wet_Ref_Post_0060_0834.tiff',\n",
       " 'TP_3_run1_48C_Wet_Ref_Post_0060_0835.tiff',\n",
       " 'TP_3_run1_48C_Wet_Ref_Post_0060_0836.tiff',\n",
       " 'TP_3_run1_48C_Wet_novent_0060_0854.tiff',\n",
       " 'TP_3_run1_48C_Wet_novent_0060_0855.tiff',\n",
       " 'TP_3_run1_48C_Wet_novent_0060_0856.tiff',\n",
       " 'TP_3_run1_48C_Wet_novent_0060_0857.tiff',\n",
       " 'TP_3_run1_48C_Wet_novent_0060_0858.tiff']"
      ]
     },
     "execution_count": 81,
     "metadata": {},
     "output_type": "execute_result"
    }
   ],
   "source": [
    "fname_list = os.listdir(scan_dir)\n",
    "# fname_list.pop(0)\n",
    "fname_list.sort()\n",
    "print(len(fname_list))\n",
    "fname_list"
   ]
  },
  {
   "cell_type": "code",
   "execution_count": 82,
   "id": "55e7fd7e",
   "metadata": {
    "scrolled": true
   },
   "outputs": [
    {
     "name": "stdout",
     "output_type": "stream",
     "text": [
      "144\n"
     ]
    },
    {
     "data": {
      "text/plain": [
       "['TP_3_run1_48C_DryRef_0060_0729.tiff',\n",
       " 'TP_3_run1_48C_DryRef_0060_0730.tiff',\n",
       " 'TP_3_run1_48C_DryRef_0060_0731.tiff',\n",
       " 'TP_3_run1_48C_DryRef_0060_0732.tiff',\n",
       " 'TP_3_run1_48C_DryRef_0060_0733.tiff',\n",
       " 'TP_3_run1_48C_DryRef_0060_0734.tiff',\n",
       " 'TP_3_run1_48C_DryRef_0060_0735.tiff',\n",
       " 'TP_3_run1_48C_DryRef_0060_0736.tiff',\n",
       " 'TP_3_run1_48C_DryRef_0060_0737.tiff',\n",
       " 'TP_3_run1_48C_DryRef_0060_0738.tiff',\n",
       " 'TP_3_run1_48C_DryRef_0060_0739.tiff',\n",
       " 'TP_3_run1_48C_DryRef_0060_0740.tiff',\n",
       " 'TP_3_run1_48C_DryRef_0060_0741.tiff',\n",
       " 'TP_3_run1_48C_DryRef_0060_0742.tiff',\n",
       " 'TP_3_run1_48C_DryRef_0060_0743.tiff',\n",
       " 'TP_3_run1_48C_Exp_0060_0729.tiff',\n",
       " 'TP_3_run1_48C_Exp_0060_0730.tiff',\n",
       " 'TP_3_run1_48C_Exp_0060_0731.tiff',\n",
       " 'TP_3_run1_48C_Exp_0060_0732.tiff',\n",
       " 'TP_3_run1_48C_Exp_0060_0733.tiff',\n",
       " 'TP_3_run1_48C_Exp_0060_0734.tiff',\n",
       " 'TP_3_run1_48C_Exp_0060_0735.tiff',\n",
       " 'TP_3_run1_48C_Exp_0060_0736.tiff',\n",
       " 'TP_3_run1_48C_Exp_0060_0737.tiff',\n",
       " 'TP_3_run1_48C_Exp_0060_0738.tiff',\n",
       " 'TP_3_run1_48C_Exp_0060_0739.tiff',\n",
       " 'TP_3_run1_48C_Exp_0060_0740.tiff',\n",
       " 'TP_3_run1_48C_Exp_0060_0741.tiff',\n",
       " 'TP_3_run1_48C_Exp_0060_0742.tiff',\n",
       " 'TP_3_run1_48C_Exp_0060_0743.tiff',\n",
       " 'TP_3_run1_48C_Exp_0060_0759.tiff',\n",
       " 'TP_3_run1_48C_Exp_0060_0760.tiff',\n",
       " 'TP_3_run1_48C_Exp_0060_0761.tiff',\n",
       " 'TP_3_run1_48C_Exp_0060_0762.tiff',\n",
       " 'TP_3_run1_48C_Exp_0060_0763.tiff',\n",
       " 'TP_3_run1_48C_Exp_0060_0764.tiff',\n",
       " 'TP_3_run1_48C_Exp_0060_0765.tiff',\n",
       " 'TP_3_run1_48C_Exp_0060_0766.tiff',\n",
       " 'TP_3_run1_48C_Exp_0060_0767.tiff',\n",
       " 'TP_3_run1_48C_Exp_0060_0768.tiff',\n",
       " 'TP_3_run1_48C_Exp_0060_0769.tiff',\n",
       " 'TP_3_run1_48C_Exp_0060_0770.tiff',\n",
       " 'TP_3_run1_48C_Exp_0060_0771.tiff',\n",
       " 'TP_3_run1_48C_Exp_0060_0772.tiff',\n",
       " 'TP_3_run1_48C_Exp_0060_0773.tiff',\n",
       " 'TP_3_run1_48C_Exp_0060_0774.tiff',\n",
       " 'TP_3_run1_48C_Exp_0060_0775.tiff',\n",
       " 'TP_3_run1_48C_Exp_0060_0776.tiff',\n",
       " 'TP_3_run1_48C_Exp_0060_0777.tiff',\n",
       " 'TP_3_run1_48C_Exp_0060_0778.tiff',\n",
       " 'TP_3_run1_48C_Exp_0060_0779.tiff',\n",
       " 'TP_3_run1_48C_Exp_0060_0780.tiff',\n",
       " 'TP_3_run1_48C_Exp_0060_0781.tiff',\n",
       " 'TP_3_run1_48C_Exp_0060_0782.tiff',\n",
       " 'TP_3_run1_48C_Exp_0060_0783.tiff',\n",
       " 'TP_3_run1_48C_Exp_0060_0784.tiff',\n",
       " 'TP_3_run1_48C_Exp_0060_0785.tiff',\n",
       " 'TP_3_run1_48C_Exp_0060_0786.tiff',\n",
       " 'TP_3_run1_48C_Exp_0060_0787.tiff',\n",
       " 'TP_3_run1_48C_Exp_0060_0788.tiff',\n",
       " 'TP_3_run1_48C_Exp_0060_0789.tiff',\n",
       " 'TP_3_run1_48C_Exp_0060_0790.tiff',\n",
       " 'TP_3_run1_48C_Exp_0060_0791.tiff',\n",
       " 'TP_3_run1_48C_Exp_0060_0792.tiff',\n",
       " 'TP_3_run1_48C_Exp_0060_0793.tiff',\n",
       " 'TP_3_run1_48C_Exp_0060_0794.tiff',\n",
       " 'TP_3_run1_48C_Exp_0060_0795.tiff',\n",
       " 'TP_3_run1_48C_Exp_0060_0796.tiff',\n",
       " 'TP_3_run1_48C_Exp_0060_0797.tiff',\n",
       " 'TP_3_run1_48C_Exp_0060_0798.tiff',\n",
       " 'TP_3_run1_48C_Exp_0060_0799.tiff',\n",
       " 'TP_3_run1_48C_Exp_0060_0800.tiff',\n",
       " 'TP_3_run1_48C_Exp_0060_0801.tiff',\n",
       " 'TP_3_run1_48C_Exp_0060_0802.tiff',\n",
       " 'TP_3_run1_48C_Exp_0060_0803.tiff',\n",
       " 'TP_3_run1_48C_Exp_0060_0804.tiff',\n",
       " 'TP_3_run1_48C_Exp_0060_0805.tiff',\n",
       " 'TP_3_run1_48C_Exp_0060_0806.tiff',\n",
       " 'TP_3_run1_48C_Exp_0060_0807.tiff',\n",
       " 'TP_3_run1_48C_Exp_0060_0808.tiff',\n",
       " 'TP_3_run1_48C_Exp_0060_0809.tiff',\n",
       " 'TP_3_run1_48C_Exp_0060_0810.tiff',\n",
       " 'TP_3_run1_48C_Exp_0060_0811.tiff',\n",
       " 'TP_3_run1_48C_Exp_0060_0812.tiff',\n",
       " 'TP_3_run1_48C_Exp_0060_0813.tiff',\n",
       " 'TP_3_run1_48C_Exp_0060_0814.tiff',\n",
       " 'TP_3_run1_48C_Exp_0060_0815.tiff',\n",
       " 'TP_3_run1_48C_Exp_0060_0816.tiff',\n",
       " 'TP_3_run1_48C_Exp_0060_0817.tiff',\n",
       " 'TP_3_run1_48C_Exp_0060_0818.tiff',\n",
       " 'TP_3_run1_48C_Exp_0060_0819.tiff',\n",
       " 'TP_3_run1_48C_Exp_0060_0820.tiff',\n",
       " 'TP_3_run1_48C_Exp_0060_0821.tiff',\n",
       " 'TP_3_run1_48C_WetRef_0060_0744.tiff',\n",
       " 'TP_3_run1_48C_WetRef_0060_0745.tiff',\n",
       " 'TP_3_run1_48C_WetRef_0060_0746.tiff',\n",
       " 'TP_3_run1_48C_WetRef_0060_0747.tiff',\n",
       " 'TP_3_run1_48C_WetRef_0060_0748.tiff',\n",
       " 'TP_3_run1_48C_WetRef_0060_0749.tiff',\n",
       " 'TP_3_run1_48C_WetRef_0060_0750.tiff',\n",
       " 'TP_3_run1_48C_WetRef_0060_0751.tiff',\n",
       " 'TP_3_run1_48C_WetRef_0060_0752.tiff',\n",
       " 'TP_3_run1_48C_WetRef_0060_0753.tiff',\n",
       " 'TP_3_run1_48C_WetRef_0060_0754.tiff',\n",
       " 'TP_3_run1_48C_WetRef_0060_0755.tiff',\n",
       " 'TP_3_run1_48C_WetRef_0060_0756.tiff',\n",
       " 'TP_3_run1_48C_WetRef_0060_0757.tiff',\n",
       " 'TP_3_run1_48C_WetRef_0060_0758.tiff',\n",
       " 'TP_3_run1_48C_Wet_40rpm_0060_0837.tiff',\n",
       " 'TP_3_run1_48C_Wet_40rpm_0060_0838.tiff',\n",
       " 'TP_3_run1_48C_Wet_40rpm_0060_0839.tiff',\n",
       " 'TP_3_run1_48C_Wet_40rpm_0060_0840.tiff',\n",
       " 'TP_3_run1_48C_Wet_40rpm_0060_0841.tiff',\n",
       " 'TP_3_run1_48C_Wet_40rpm_0060_0842.tiff',\n",
       " 'TP_3_run1_48C_Wet_40rpm_0060_0843.tiff',\n",
       " 'TP_3_run1_48C_Wet_50rpm_0060_0844.tiff',\n",
       " 'TP_3_run1_48C_Wet_50rpm_0060_0845.tiff',\n",
       " 'TP_3_run1_48C_Wet_50rpm_0060_0846.tiff',\n",
       " 'TP_3_run1_48C_Wet_50rpm_0060_0847.tiff',\n",
       " 'TP_3_run1_48C_Wet_50rpm_0060_0848.tiff',\n",
       " 'TP_3_run1_48C_Wet_80rpm_0060_0849.tiff',\n",
       " 'TP_3_run1_48C_Wet_80rpm_0060_0850.tiff',\n",
       " 'TP_3_run1_48C_Wet_80rpm_0060_0851.tiff',\n",
       " 'TP_3_run1_48C_Wet_80rpm_0060_0852.tiff',\n",
       " 'TP_3_run1_48C_Wet_Ref_Post_0060_0822.tiff',\n",
       " 'TP_3_run1_48C_Wet_Ref_Post_0060_0823.tiff',\n",
       " 'TP_3_run1_48C_Wet_Ref_Post_0060_0824.tiff',\n",
       " 'TP_3_run1_48C_Wet_Ref_Post_0060_0825.tiff',\n",
       " 'TP_3_run1_48C_Wet_Ref_Post_0060_0826.tiff',\n",
       " 'TP_3_run1_48C_Wet_Ref_Post_0060_0827.tiff',\n",
       " 'TP_3_run1_48C_Wet_Ref_Post_0060_0828.tiff',\n",
       " 'TP_3_run1_48C_Wet_Ref_Post_0060_0829.tiff',\n",
       " 'TP_3_run1_48C_Wet_Ref_Post_0060_0830.tiff',\n",
       " 'TP_3_run1_48C_Wet_Ref_Post_0060_0831.tiff',\n",
       " 'TP_3_run1_48C_Wet_Ref_Post_0060_0832.tiff',\n",
       " 'TP_3_run1_48C_Wet_Ref_Post_0060_0833.tiff',\n",
       " 'TP_3_run1_48C_Wet_Ref_Post_0060_0834.tiff',\n",
       " 'TP_3_run1_48C_Wet_Ref_Post_0060_0835.tiff',\n",
       " 'TP_3_run1_48C_Wet_Ref_Post_0060_0836.tiff',\n",
       " 'TP_3_run1_48C_Wet_novent_0060_0854.tiff',\n",
       " 'TP_3_run1_48C_Wet_novent_0060_0855.tiff',\n",
       " 'TP_3_run1_48C_Wet_novent_0060_0856.tiff',\n",
       " 'TP_3_run1_48C_Wet_novent_0060_0857.tiff',\n",
       " 'TP_3_run1_48C_Wet_novent_0060_0858.tiff']"
      ]
     },
     "execution_count": 82,
     "metadata": {},
     "output_type": "execute_result"
    }
   ],
   "source": [
    "to_rmv = [\n",
    "#     '20230919_dry_spun_fibers_0300_0013.tiff',\n",
    "#  '20230919_dry_spun_fibers_0300_0014.tiff',\n",
    "#  '20230919_dry_spun_fibers_0300_0015.tiff',\n",
    "#  '20230919_dry_spun_fibers_rejoint_0300_0021.tiff',\n",
    "#  '20230919_dry_spun_fibers_rejoint_0300_0022.tiff',\n",
    "#  '20230919_dry_spun_fibers_rejoint_0300_0023.tiff',\n",
    "#  '20230919_wet_spun_fibers_0300_0006.tiff',\n",
    "#  '20230919_wet_spun_fibers_0300_0007.tiff',\n",
    "#  '20230919_wet_spun_fibers_0300_0008.tiff',\n",
    "]\n",
    "for each in to_rmv:\n",
    "    fname_list.remove(each)\n",
    "print(len(fname_list))\n",
    "fname_list"
   ]
  },
  {
   "cell_type": "code",
   "execution_count": 83,
   "id": "71de5914",
   "metadata": {},
   "outputs": [
    {
     "name": "stdout",
     "output_type": "stream",
     "text": [
      "15\n"
     ]
    },
    {
     "data": {
      "text/plain": [
       "['OB_0060_0874.tiff',\n",
       " 'OB_0060_0875.tiff',\n",
       " 'OB_0060_0876.tiff',\n",
       " 'OB_0060_0877.tiff',\n",
       " 'OB_0060_0878.tiff',\n",
       " 'OB_0060_0879.tiff',\n",
       " 'OB_0060_0880.tiff',\n",
       " 'OB_0060_0881.tiff',\n",
       " 'OB_0060_0882.tiff',\n",
       " 'OB_0060_0883.tiff',\n",
       " 'OB_0060_0884.tiff',\n",
       " 'OB_0060_0885.tiff',\n",
       " 'OB_0060_0886.tiff',\n",
       " 'OB_0060_0887.tiff',\n",
       " 'OB_0060_0888.tiff']"
      ]
     },
     "execution_count": 83,
     "metadata": {},
     "output_type": "execute_result"
    }
   ],
   "source": [
    "ob_list = os.listdir(ob_dir)\n",
    "# fname_list.pop(0)\n",
    "ob_list.sort()\n",
    "print(len(ob_list))\n",
    "# ob_list = ob_list[:3]\n",
    "ob_list"
   ]
  },
  {
   "cell_type": "code",
   "execution_count": 84,
   "id": "e8538000",
   "metadata": {},
   "outputs": [
    {
     "name": "stdout",
     "output_type": "stream",
     "text": [
      "15\n"
     ]
    },
    {
     "data": {
      "text/plain": [
       "['DC_0060_0859.tiff',\n",
       " 'DC_0060_0860.tiff',\n",
       " 'DC_0060_0861.tiff',\n",
       " 'DC_0060_0862.tiff',\n",
       " 'DC_0060_0863.tiff',\n",
       " 'DC_0060_0864.tiff',\n",
       " 'DC_0060_0865.tiff',\n",
       " 'DC_0060_0866.tiff',\n",
       " 'DC_0060_0867.tiff',\n",
       " 'DC_0060_0868.tiff',\n",
       " 'DC_0060_0869.tiff',\n",
       " 'DC_0060_0870.tiff',\n",
       " 'DC_0060_0871.tiff',\n",
       " 'DC_0060_0872.tiff',\n",
       " 'DC_0060_0873.tiff']"
      ]
     },
     "execution_count": 84,
     "metadata": {},
     "output_type": "execute_result"
    }
   ],
   "source": [
    "dc_list = os.listdir(dc_dir)\n",
    "# fname_list.pop(0)\n",
    "dc_list.sort()\n",
    "print(len(dc_list))\n",
    "dc_list"
   ]
  },
  {
   "cell_type": "code",
   "execution_count": 85,
   "id": "6d44aa7b",
   "metadata": {},
   "outputs": [
    {
     "name": "stderr",
     "output_type": "stream",
     "text": [
      "144it [00:12, 11.97it/s]\n"
     ]
    },
    {
     "name": "stdout",
     "output_type": "stream",
     "text": [
      "(144, 2500, 2000)\n"
     ]
    },
    {
     "name": "stderr",
     "output_type": "stream",
     "text": [
      "15it [00:00, 57.28it/s]\n"
     ]
    },
    {
     "name": "stdout",
     "output_type": "stream",
     "text": [
      "(15, 2500, 2000)\n"
     ]
    },
    {
     "name": "stderr",
     "output_type": "stream",
     "text": [
      "15it [00:00, 52.10it/s]"
     ]
    },
    {
     "name": "stdout",
     "output_type": "stream",
     "text": [
      "(15, 2500, 2000)\n"
     ]
    },
    {
     "name": "stderr",
     "output_type": "stream",
     "text": [
      "\n"
     ]
    }
   ],
   "source": [
    "######### Scan\n",
    "scan_raw = rocku.read_tiff_stack(scan_dir, fname_list)\n",
    "print(scan_raw.shape)\n",
    "######### OB\n",
    "ob_raw = rocku.read_tiff_stack(ob_dir, ob_list)\n",
    "print(ob_raw.shape)\n",
    "######### DC\n",
    "dc_raw = rocku.read_tiff_stack(dc_dir, dc_list)\n",
    "print(dc_raw.shape)"
   ]
  },
  {
   "cell_type": "code",
   "execution_count": 86,
   "id": "976ce21c",
   "metadata": {},
   "outputs": [
    {
     "data": {
      "image/png": "[encoded data removed]",
      "text/plain": [
       "<Figure size 640x480 with 2 Axes>"
      ]
     },
     "metadata": {},
     "output_type": "display_data"
    },
    {
     "data": {
      "image/png": "[encoded data removed]",
      "text/plain": [
       "<Figure size 640x480 with 2 Axes>"
      ]
     },
     "metadata": {},
     "output_type": "display_data"
    },
    {
     "data": {
      "image/png": "[encoded data removed]",
      "text/plain": [
       "<Figure size 640x480 with 2 Axes>"
      ]
     },
     "metadata": {},
     "output_type": "display_data"
    }
   ],
   "source": [
    "scan_min = np.min(scan_raw, axis=0)\n",
    "ob_min = np.min(ob_raw, axis=0)\n",
    "dc_max = np.max(dc_raw, axis=0)\n",
    "plt.imshow(scan_min)\n",
    "plt.colorbar()\n",
    "plt.show()\n",
    "plt.imshow(ob_min)\n",
    "plt.colorbar()\n",
    "plt.show()\n",
    "plt.imshow(dc_max)\n",
    "plt.colorbar()\n",
    "plt.show()"
   ]
  },
  {
   "cell_type": "markdown",
   "id": "f3ae948a",
   "metadata": {},
   "source": [
    "# Crop ROI"
   ]
  },
  {
   "cell_type": "code",
   "execution_count": 87,
   "id": "e263cd89",
   "metadata": {},
   "outputs": [
    {
     "name": "stdout",
     "output_type": "stream",
     "text": [
      "Recon ROI:\n"
     ]
    },
    {
     "data": {
      "image/png": "[encoded data removed]",
      "text/plain": [
       "<Figure size 640x480 with 2 Axes>"
      ]
     },
     "metadata": {},
     "output_type": "display_data"
    }
   ],
   "source": [
    "###################### need to change start\n",
    "# crop = False\n",
    "crop = True\n",
    "crop_left = 320\n",
    "crop_right = 1080\n",
    "crop_top = 0\n",
    "crop_bottom = 2410\n",
    "# crop_left = 2500\n",
    "# crop_right = 4500\n",
    "# crop_top = 200\n",
    "# crop_bottom = 2350\n",
    "###################### need to change end\n",
    "scan_crop = rocku.crop(scan_raw, crop_left, crop_right, crop_top, crop_bottom, crop)\n",
    "ob_crop = rocku.crop(ob_raw, crop_left, crop_right, crop_top, crop_bottom, crop)\n",
    "dc_crop = rocku.crop(dc_raw, crop_left, crop_right, crop_top, crop_bottom, crop)\n",
    "scan_crop_min = rocku.crop(scan_min, crop_left, crop_right, crop_top, crop_bottom, crop)\n",
    "print(\"Recon ROI:\")\n",
    "plt.imshow(scan_crop_min)\n",
    "plt.colorbar()\n",
    "plt.show()"
   ]
  },
  {
   "cell_type": "markdown",
   "id": "d3138bc6",
   "metadata": {},
   "source": [
    "# Removal outliers"
   ]
  },
  {
   "cell_type": "code",
   "execution_count": 88,
   "id": "26db3e0c",
   "metadata": {},
   "outputs": [
    {
     "name": "stdout",
     "output_type": "stream",
     "text": [
      "Time: 5.332641470246017 s\n"
     ]
    }
   ],
   "source": [
    "t0 = timeit.default_timer()\n",
    "scan_crop = tomopy.misc.corr.remove_outlier(scan_crop, gamma_diff, ncore=ncore).astype(np.ushort)\n",
    "ob_crop = tomopy.misc.corr.remove_outlier(ob_crop, gamma_diff, ncore=ncore).astype(np.ushort)\n",
    "dc_crop = tomopy.misc.corr.remove_outlier(dc_crop, gamma_diff, ncore=ncore).astype(np.ushort)\n",
    "t1 = timeit.default_timer()\n",
    "print(\"Time: {} s\".format(t1-t0))"
   ]
  },
  {
   "cell_type": "markdown",
   "id": "ce62cbe1",
   "metadata": {},
   "source": [
    "# Bin images"
   ]
  },
  {
   "cell_type": "code",
   "execution_count": 89,
   "id": "925185b6",
   "metadata": {},
   "outputs": [],
   "source": [
    "bin_size = 1\n",
    "#####################\n",
    "#####################\n",
    "if bin_size != 1:\n",
    "    to_rmv = len(fname_list)%bin_size\n",
    "    if to_rmv == 0:\n",
    "        fname_list_rmv = fname_list[:]\n",
    "        scan_crop_rmv = scan_crop[:]\n",
    "    else:\n",
    "        fname_list_rmv = fname_list[:-to_rmv]\n",
    "        scan_crop_rmv = scan_crop[:-to_rmv]\n",
    "    fname_list_bin = fname_list_rmv[0::bin_size]\n",
    "    scan_crop_bin = np.array([np.mean(scan_crop_rmv[i:i+bin_size], axis=0) for i in tqdm(range(0, len(scan_crop_rmv), bin_size))]) "
   ]
  },
  {
   "cell_type": "markdown",
   "id": "7c4580fe",
   "metadata": {},
   "source": [
    "# Normalization"
   ]
  },
  {
   "cell_type": "code",
   "execution_count": 90,
   "id": "60249f4c",
   "metadata": {},
   "outputs": [
    {
     "name": "stdout",
     "output_type": "stream",
     "text": [
      "OB stack combined by median.\n",
      "DC stack combined by median.\n",
      "Normalizing...\n",
      "Normalization Done!\n",
      "float32\n",
      "(144, 2410, 760)\n"
     ]
    },
    {
     "data": {
      "image/png": "[encoded data removed]",
      "text/plain": [
       "<Figure size 640x480 with 2 Axes>"
      ]
     },
     "metadata": {},
     "output_type": "display_data"
    }
   ],
   "source": [
    "if bin_size != 1:\n",
    "    scan_norm, ob_med, dc_med = rocku.normalize(scan_crop_bin, ob_crop, dc_crop)\n",
    "else:\n",
    "    scan_norm, ob_med, dc_med = rocku.normalize(scan_crop, ob_crop, dc_crop)\n",
    "print(scan_norm.dtype)\n",
    "print(scan_norm.shape)\n",
    "# plt.imshow(scan_norm[0], vmin=0, vmax=1)\n",
    "plt.imshow(scan_norm[0])\n",
    "plt.colorbar()\n",
    "plt.show()"
   ]
  },
  {
   "cell_type": "markdown",
   "id": "89f0ddd9",
   "metadata": {},
   "source": [
    "# Beam fluctuation correction (optional)\n"
   ]
  },
  {
   "cell_type": "code",
   "execution_count": null,
   "id": "58294388",
   "metadata": {},
   "outputs": [],
   "source": [
    "###################### need to change start\n",
    "# bg_left = 30\n",
    "# bg_right = 280\n",
    "# bg_top = 2\n",
    "# bg_bottom = 1400\n",
    "bg_left = 2\n",
    "bg_right = 200\n",
    "bg_top = 2\n",
    "bg_bottom = 1600\n",
    "###################### need to change end\n",
    "bg_stack = scan_norm[:, bg_top:bg_bottom, bg_left:bg_right]\n",
    "bg_min = np.min(bg_stack, axis=0)\n",
    "print(\"Beam fluctuation ROI:\")\n",
    "plt.imshow(bg_min, vmin=0, vmax=1)\n",
    "plt.colorbar()\n",
    "plt.show()"
   ]
  },
  {
   "cell_type": "code",
   "execution_count": null,
   "id": "1904f7fb",
   "metadata": {},
   "outputs": [],
   "source": [
    "t0 = timeit.default_timer()\n",
    "scan_norm = tomopy.prep.normalize.normalize_roi(scan_norm, roi= [bg_top, bg_left, bg_bottom, bg_right], ncore=ncore)\n",
    "plt.imshow(scan_norm[0], vmin=0, vmax=1)\n",
    "plt.colorbar()\n",
    "plt.show()\n",
    "t1 = timeit.default_timer()\n",
    "print(\"Time: {} s\".format(t1-t0))"
   ]
  },
  {
   "cell_type": "markdown",
   "id": "854da737",
   "metadata": {},
   "source": [
    "# Save files"
   ]
  },
  {
   "cell_type": "code",
   "execution_count": 91,
   "id": "95845be3",
   "metadata": {
    "scrolled": true
   },
   "outputs": [
    {
     "name": "stdout",
     "output_type": "stream",
     "text": [
      "Saving to /HFIR/CG1D/IPTS-30726/shared/processed_data/normalized/2024_04_19_TP_3_Exp ...\n"
     ]
    },
    {
     "name": "stderr",
     "output_type": "stream",
     "text": [
      "144it [00:06, 21.92it/s]\n"
     ]
    }
   ],
   "source": [
    "################ change save path for your own\n",
    "save_to = \"/HFIR/CG1D/IPTS-\"+ipts+\"/shared/processed_data/normalized/\" + sample_name# + '_Right'\n",
    "if bin_size != 1:\n",
    "    save_to = save_to + \"_binned_by_\" + str(bin_size)\n",
    "    fname_list_save = fname_list_bin[:]\n",
    "else:\n",
    "    fname_list_save = fname_list[:]\n",
    "print('Saving to {} ...'.format(save_to))\n",
    "for i, e_name in tqdm(enumerate(fname_list_save)):\n",
    "#     e_name = rocku.remove_1st_str(e_name)\n",
    "    fname = save_to + \"/\" + e_name\n",
    "    dxchange.write_tiff(scan_norm[i], fname=fname, overwrite=True)"
   ]
  },
  {
   "cell_type": "code",
   "execution_count": null,
   "id": "dd424d25",
   "metadata": {},
   "outputs": [],
   "source": []
  }
 ],
 "metadata": {
  "kernelspec": {
   "display_name": "rockit",
   "language": "python",
   "name": "rockit"
  },
  "language_info": {
   "codemirror_mode": {
    "name": "ipython",
    "version": 3
   },
   "file_extension": ".py",
   "mimetype": "text/x-python",
   "name": "python",
   "nbconvert_exporter": "python",
   "pygments_lexer": "ipython3",
   "version": "3.10.10"
  }
 },
 "nbformat": 4,
 "nbformat_minor": 5
}
