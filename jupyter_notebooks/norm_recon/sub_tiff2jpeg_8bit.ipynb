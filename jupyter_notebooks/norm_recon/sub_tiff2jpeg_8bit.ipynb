{
 "cells": [
  {
   "cell_type": "code",
   "execution_count": 22,
   "id": "e1467302",
   "metadata": {},
   "outputs": [
    {
     "data": {
      "text/plain": [
       "64"
      ]
     },
     "execution_count": 22,
     "metadata": {},
     "output_type": "execute_result"
    }
   ],
   "source": [
    "import os\n",
    "import sys\n",
    "root_folder = os.path.dirname(os.getcwd())\n",
    "sys.path.append(root_folder)\n",
    "import utilities as rocku\n",
    "from tqdm import tqdm\n",
    "from PIL import Image\n",
    "import timeit\n",
    "import multiprocessing as mp\n",
    "from pprint import pprint\n",
    "import utilities as rocku\n",
    "import dxchange\n",
    "import skimage\n",
    "import numpy as np\n",
    "# %matplotlib notebook\n",
    "%matplotlib inline\n",
    "ncore = mp.cpu_count()\n",
    "ncore"
   ]
  },
  {
   "cell_type": "markdown",
   "id": "92bcd45c",
   "metadata": {},
   "source": [
    "# Workflow starts here!"
   ]
  },
  {
   "cell_type": "code",
   "execution_count": 2,
   "id": "6ead894b",
   "metadata": {},
   "outputs": [],
   "source": [
    "###################### need to change start\n",
    "ipts=\"33408\"\n",
    "###################### need to change end"
   ]
  },
  {
   "cell_type": "markdown",
   "id": "73b84922",
   "metadata": {},
   "source": [
    "## Find data location"
   ]
  },
  {
   "cell_type": "code",
   "execution_count": 4,
   "id": "a7861217",
   "metadata": {},
   "outputs": [
    {
     "data": {
      "text/plain": [
       "['2024_10_15_cyl', '2024_10_15']"
      ]
     },
     "execution_count": 4,
     "metadata": {},
     "output_type": "execute_result"
    }
   ],
   "source": [
    "# data_loc = \"/HFIR/CG1D/IPTS-\"+ipts+\"/shared/processed_data/Z01068_2023-10-10_134208/tomo-A\"\n",
    "scan_loc = \"/HFIR/CG1D/IPTS-\"+ipts+\"/shared/processed_data/normalized\"\n",
    "os.listdir(scan_loc)"
   ]
  },
  {
   "cell_type": "code",
   "execution_count": 64,
   "id": "9e83a4e1-0966-4406-b651-42816f5bc607",
   "metadata": {
    "scrolled": true
   },
   "outputs": [
    {
     "name": "stdout",
     "output_type": "stream",
     "text": [
      "28\n"
     ]
    },
    {
     "data": {
      "text/plain": [
       "['Cyl_R_LtR_blk2to1_S1_to_S4_10_0060_0181.tiff',\n",
       " 'Cyl_R_LtR_blk2to1_S1_to_S4_11_0060_0182.tiff',\n",
       " 'Cyl_R_LtR_blk2to1_S1_to_S4_12_0060_0183.tiff',\n",
       " 'Cyl_R_LtR_blk2to1_S1_to_S4_13_0060_0184.tiff',\n",
       " 'Cyl_R_LtR_blk2to1_S1_to_S4_14_0060_0185.tiff',\n",
       " 'Cyl_R_LtR_blk2to1_S1_to_S4_1_0060_0172.tiff',\n",
       " 'Cyl_R_LtR_blk2to1_S1_to_S4_2_0060_0173.tiff',\n",
       " 'Cyl_R_LtR_blk2to1_S1_to_S4_3_0060_0174.tiff',\n",
       " 'Cyl_R_LtR_blk2to1_S1_to_S4_4_0060_0175.tiff',\n",
       " 'Cyl_R_LtR_blk2to1_S1_to_S4_5_0060_0176.tiff',\n",
       " 'Cyl_R_LtR_blk2to1_S1_to_S4_6_0060_0177.tiff',\n",
       " 'Cyl_R_LtR_blk2to1_S1_to_S4_7_0060_0178.tiff',\n",
       " 'Cyl_R_LtR_blk2to1_S1_to_S4_8_0060_0179.tiff',\n",
       " 'Cyl_R_LtR_blk2to1_S1_to_S4_9_0060_0180.tiff',\n",
       " 'Cyl_S_LtR_blk1to2_S1_to_S4_10_0060_0167.tiff',\n",
       " 'Cyl_S_LtR_blk1to2_S1_to_S4_11_0060_0168.tiff',\n",
       " 'Cyl_S_LtR_blk1to2_S1_to_S4_12_0060_0169.tiff',\n",
       " 'Cyl_S_LtR_blk1to2_S1_to_S4_13_0060_0170.tiff',\n",
       " 'Cyl_S_LtR_blk1to2_S1_to_S4_14_0060_0171.tiff',\n",
       " 'Cyl_S_LtR_blk1to2_S1_to_S4_1_0060_0158.tiff',\n",
       " 'Cyl_S_LtR_blk1to2_S1_to_S4_2_0060_0159.tiff',\n",
       " 'Cyl_S_LtR_blk1to2_S1_to_S4_3_0060_0160.tiff',\n",
       " 'Cyl_S_LtR_blk1to2_S1_to_S4_4_0060_0161.tiff',\n",
       " 'Cyl_S_LtR_blk1to2_S1_to_S4_5_0060_0162.tiff',\n",
       " 'Cyl_S_LtR_blk1to2_S1_to_S4_6_0060_0163.tiff',\n",
       " 'Cyl_S_LtR_blk1to2_S1_to_S4_7_0060_0164.tiff',\n",
       " 'Cyl_S_LtR_blk1to2_S1_to_S4_8_0060_0165.tiff',\n",
       " 'Cyl_S_LtR_blk1to2_S1_to_S4_9_0060_0166.tiff']"
      ]
     },
     "execution_count": 64,
     "metadata": {},
     "output_type": "execute_result"
    }
   ],
   "source": [
    "sample_name = \"2024_10_15_cyl\"\n",
    "scan_dir = os.path.join(scan_loc, sample_name)\n",
    "fname_list = os.listdir(scan_dir)\n",
    "# fname_list.pop(0)\n",
    "fname_list.sort()\n",
    "print(len(fname_list))\n",
    "fname_list"
   ]
  },
  {
   "cell_type": "code",
   "execution_count": 66,
   "id": "5ade5366-a278-4cef-9331-cb9afa766fa4",
   "metadata": {},
   "outputs": [
    {
     "name": "stdout",
     "output_type": "stream",
     "text": [
      "28\n",
      "28\n"
     ]
    }
   ],
   "source": [
    "to_rmv = [\n",
    "    # 'Stitched'\n",
    "]\n",
    "fname_list = rocku.remove_fnames(fname_list, to_rmv)"
   ]
  },
  {
   "cell_type": "code",
   "execution_count": 67,
   "id": "39e4d523-e15d-4944-abfa-c5bbf862c110",
   "metadata": {},
   "outputs": [
    {
     "name": "stdout",
     "output_type": "stream",
     "text": [
      "Saving to: '/HFIR/CG1D/IPTS-33408/shared/autoreduce/jpeg/2024_10_15_cyl'\n"
     ]
    },
    {
     "name": "stderr",
     "output_type": "stream",
     "text": [
      "100%|███████████████████████████████████████████| 28/28 [01:25<00:00,  3.06s/it]\n"
     ]
    }
   ],
   "source": [
    "save_to = \"/HFIR/CG1D/IPTS-\"+ipts+\"/shared/autoreduce/jpeg/\" + sample_name# + '_Right'\n",
    "if not os.path.exists(save_to):\n",
    "    os.makedirs(save_to)\n",
    "print(\"Saving to: '{}'\".format(save_to))\n",
    "for fname in tqdm(fname_list):\n",
    "    if not fname.endswith('.tiff'):\n",
    "        continue\n",
    "    file_loc = os.path.join(scan_dir, fname)\n",
    "    text = os.path.splitext(fname)[0]\n",
    "    # open the tif image\n",
    "    image = dxchange.read_tiff(file_loc)\n",
    "    image = image.clip(min=0, max=1)[:]\n",
    "    image_8bit = skimage.util.img_as_ubyte(image)\n",
    "    new_p = Image.fromarray(image_8bit)\n",
    "    # define jpg file name as same tif image name\n",
    "    name1 = text + \".jpg\"\n",
    "    name2 = save_to + '/' + name1\n",
    "    # # get the tif image resolution value\n",
    "    # img_dpi = str(image.info['dpi'])\n",
    "    # patn = re.sub(r\"[\\(\\)]\", \"\", img_dpi)\n",
    "    # sp = patn.split(\",\")[0]\n",
    "    # dpi_val = round(float(sp))  \n",
    "    # convert to jpeg image, resolution value assigned from tiff image\n",
    "    new_p.save(name2, 'jpeg')#, dpi=(dpi_val,dpi_val), quality=90)"
   ]
  },
  {
   "cell_type": "code",
   "execution_count": null,
   "id": "04c72d4d",
   "metadata": {},
   "outputs": [],
   "source": []
  }
 ],
 "metadata": {
  "kernelspec": {
   "display_name": "rockit",
   "language": "python",
   "name": "rockit"
  },
  "language_info": {
   "codemirror_mode": {
    "name": "ipython",
    "version": 3
   },
   "file_extension": ".py",
   "mimetype": "text/x-python",
   "name": "python",
   "nbconvert_exporter": "python",
   "pygments_lexer": "ipython3",
   "version": "3.10.14"
  }
 },
 "nbformat": 4,
 "nbformat_minor": 5
}
