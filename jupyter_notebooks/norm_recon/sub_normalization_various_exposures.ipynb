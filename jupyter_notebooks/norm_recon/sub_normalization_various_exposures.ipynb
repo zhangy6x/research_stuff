{
 "cells": [
  {
   "cell_type": "code",
   "execution_count": 1,
   "id": "704cabfb",
   "metadata": {},
   "outputs": [
    {
     "name": "stdout",
     "output_type": "stream",
     "text": [
      "CPU cores: 64\n"
     ]
    }
   ],
   "source": [
    "import os\n",
    "import shutil\n",
    "import utilities as rocku\n",
    "import matplotlib.pyplot as plt\n",
    "import tomopy\n",
    "import numpy as np\n",
    "import pandas as pd\n",
    "import pprint\n",
    "import dxchange\n",
    "from pystackreg import StackReg\n",
    "import multiprocessing as mp\n",
    "import timeit\n",
    "from tqdm import tqdm\n",
    "ncore = mp.cpu_count()\n",
    "print(\"CPU cores:\", ncore)"
   ]
  },
  {
   "cell_type": "code",
   "execution_count": 2,
   "id": "fe0261e6",
   "metadata": {},
   "outputs": [],
   "source": [
    "# need to change\n",
    "ipts=\"34812\"\n",
    "# scan_type = 'ct_scans'\n",
    "scan_type = 'radiographs'\n",
    "# scan_type = 'alignment_calibration'"
   ]
  },
  {
   "cell_type": "code",
   "execution_count": 3,
   "id": "bdc87be2",
   "metadata": {
    "scrolled": true
   },
   "outputs": [
    {
     "data": {
      "text/plain": [
       "['2024_10_18_2p1_3_bee_noCollimator',\n",
       " '2024_10_18_2p1_3_bee_noCollimator_pos2',\n",
       " '2024_10_18_2p1_3_leaf_0noCollimator',\n",
       " '2024_10_18_2p1_3_waterwedge_Collimator_1rpm',\n",
       " '2024_10_18_2p1_3_waterwedge_Collimator_p1rpm',\n",
       " '2024_10_18_2p1_3_waterwedge_Collimator_static',\n",
       " '2024_10_18_2p1_3_waterwedge_noCollimator',\n",
       " '2024_10_18_NoSample_collimator_rotating',\n",
       " '2024_10_18_NoSample_collimator_static',\n",
       " '2024_10_18_WaterWedge_collimator_rotating',\n",
       " '2024_10_18_bee1_collimator_0p1rpm',\n",
       " '2024_10_18_bee1_collimator_1rpm',\n",
       " '2024_10_18_bee1_collimator_static',\n",
       " '2024_10_18_leaf1_collimator_rotating0p1rpm',\n",
       " '2024_10_18_leaf1_collimator_rotating1rpm',\n",
       " '2024_10_18_leaf1_collimator_static']"
      ]
     },
     "execution_count": 3,
     "metadata": {},
     "output_type": "execute_result"
    }
   ],
   "source": [
    "scan_loc = \"/HFIR/CG1D/IPTS-\"+ipts+\"/raw/\" + scan_type\n",
    "sorted(os.listdir(scan_loc))"
   ]
  },
  {
   "cell_type": "code",
   "execution_count": 4,
   "id": "5894e04b",
   "metadata": {},
   "outputs": [
    {
     "data": {
      "text/plain": [
       "['2024_10_18_align']"
      ]
     },
     "execution_count": 4,
     "metadata": {},
     "output_type": "execute_result"
    }
   ],
   "source": [
    "ob_loc = \"/HFIR/CG1D/IPTS-\"+ipts+\"/raw/ob\"\n",
    "# ob_loc = \"/HFIR/CG1D/IPTS-\"+ipts+\"/raw/radiographs\"\n",
    "sorted(os.listdir(ob_loc))"
   ]
  },
  {
   "cell_type": "code",
   "execution_count": 5,
   "id": "ecb839af",
   "metadata": {},
   "outputs": [
    {
     "data": {
      "text/plain": [
       "['2024_10_18_NoSample_collimator_rotating', '2024_10_18_align']"
      ]
     },
     "execution_count": 5,
     "metadata": {},
     "output_type": "execute_result"
    }
   ],
   "source": [
    "dc_loc = \"/HFIR/CG1D/IPTS-\"+ipts+\"/raw/dc\"\n",
    "sorted(os.listdir(dc_loc))"
   ]
  },
  {
   "cell_type": "code",
   "execution_count": 6,
   "id": "5ccd348a",
   "metadata": {},
   "outputs": [],
   "source": [
    "###################### need to change start\n",
    "sample_name = \"2024_10_18_2p1_3_waterwedge_Collimator_static\"\n",
    "scan_dir = os.path.join(scan_loc, sample_name)\n",
    "ob_dir = os.path.join(ob_loc, \"2024_10_18_align\")\n",
    "dc_dir = os.path.join(dc_loc, \"2024_10_18_NoSample_collimator_rotating\")\n",
    "# ct_dir = \"/HFIR/CG1D/IPTS-\"+ipts+\"/shared/processed_data/raw_to_recon\"\n",
    "# ob_dir = \"/HFIR/CG1D/IPTS-\"+ipts+\"/shared/processed_data/raw_to_recon\"\n",
    "# dc_dir = \"/HFIR/CG1D/IPTS-\"+ipts+\"/shared/processed_data/raw_to_recon\"\n",
    "ob_name = \"*OB*\" # Will not be used if follows the default file structure\n",
    "dc_name = \"*DC*\" # Will not be used if follows the default file structure\n",
    "gamma_diff = 20\n",
    "###################### need to change end"
   ]
  },
  {
   "cell_type": "markdown",
   "id": "77456e45",
   "metadata": {},
   "source": [
    "# Sort and filter scan files"
   ]
  },
  {
   "cell_type": "code",
   "execution_count": 9,
   "id": "2d8d5267",
   "metadata": {
    "scrolled": true
   },
   "outputs": [
    {
     "name": "stdout",
     "output_type": "stream",
     "text": [
      "26\n"
     ]
    },
    {
     "data": {
      "text/plain": [
       "['2p1_3_waterwedge_collimator_static_0000_0479.tiff',\n",
       " '2p1_3_waterwedge_collimator_static_0000_0480.tiff',\n",
       " '2p1_3_waterwedge_collimator_static_0000_0481.tiff',\n",
       " '2p1_3_waterwedge_collimator_static_0001_0482.tiff',\n",
       " '2p1_3_waterwedge_collimator_static_0001_0483.tiff',\n",
       " '2p1_3_waterwedge_collimator_static_0001_0484.tiff',\n",
       " '2p1_3_waterwedge_collimator_static_0002_0485.tiff',\n",
       " '2p1_3_waterwedge_collimator_static_0002_0486.tiff',\n",
       " '2p1_3_waterwedge_collimator_static_0002_0487.tiff',\n",
       " '2p1_3_waterwedge_collimator_static_0004_0488.tiff',\n",
       " '2p1_3_waterwedge_collimator_static_0004_0489.tiff',\n",
       " '2p1_3_waterwedge_collimator_static_0004_0490.tiff',\n",
       " '2p1_3_waterwedge_collimator_static_0008_0491.tiff',\n",
       " '2p1_3_waterwedge_collimator_static_0008_0492.tiff',\n",
       " '2p1_3_waterwedge_collimator_static_0008_0493.tiff',\n",
       " '2p1_3_waterwedge_collimator_static_0010_0477.tiff',\n",
       " '2p1_3_waterwedge_collimator_static_0010_0478.tiff',\n",
       " '2p1_3_waterwedge_collimator_static_0016_0494.tiff',\n",
       " '2p1_3_waterwedge_collimator_static_0016_0495.tiff',\n",
       " '2p1_3_waterwedge_collimator_static_0016_0496.tiff',\n",
       " '2p1_3_waterwedge_collimator_static_0032_0497.tiff',\n",
       " '2p1_3_waterwedge_collimator_static_0032_0498.tiff',\n",
       " '2p1_3_waterwedge_collimator_static_0032_0499.tiff',\n",
       " '2p1_3_waterwedge_collimator_static_0064_0500.tiff',\n",
       " '2p1_3_waterwedge_collimator_static_0064_0501.tiff',\n",
       " '2p1_3_waterwedge_collimator_static_0064_0502.tiff']"
      ]
     },
     "execution_count": 9,
     "metadata": {},
     "output_type": "execute_result"
    }
   ],
   "source": [
    "fname_list = os.listdir(scan_dir)\n",
    "# fname_list.pop(0)\n",
    "fname_list.sort()\n",
    "print(len(fname_list))\n",
    "fname_list"
   ]
  },
  {
   "cell_type": "code",
   "execution_count": 10,
   "id": "55e7fd7e",
   "metadata": {},
   "outputs": [
    {
     "name": "stdout",
     "output_type": "stream",
     "text": [
      "26\n",
      "26\n"
     ]
    }
   ],
   "source": [
    "to_rmv = [\n",
    "]\n",
    "fname_list = rocku.remove_fnames(fname_list, to_rmv)"
   ]
  },
  {
   "cell_type": "code",
   "execution_count": 11,
   "id": "71de5914",
   "metadata": {
    "scrolled": true
   },
   "outputs": [
    {
     "name": "stdout",
     "output_type": "stream",
     "text": [
      "35\n"
     ]
    },
    {
     "data": {
      "text/plain": [
       "['OB_0001_0050.tiff',\n",
       " 'OB_0001_0051.tiff',\n",
       " 'OB_0001_0052.tiff',\n",
       " 'OB_0001_0053.tiff',\n",
       " 'OB_0001_0054.tiff',\n",
       " 'OB_0002_0055.tiff',\n",
       " 'OB_0002_0056.tiff',\n",
       " 'OB_0002_0057.tiff',\n",
       " 'OB_0002_0058.tiff',\n",
       " 'OB_0002_0059.tiff',\n",
       " 'OB_0004_0060.tiff',\n",
       " 'OB_0004_0061.tiff',\n",
       " 'OB_0004_0062.tiff',\n",
       " 'OB_0004_0063.tiff',\n",
       " 'OB_0004_0064.tiff',\n",
       " 'OB_0008_0065.tiff',\n",
       " 'OB_0008_0066.tiff',\n",
       " 'OB_0008_0067.tiff',\n",
       " 'OB_0008_0068.tiff',\n",
       " 'OB_0008_0069.tiff',\n",
       " 'OB_0016_0070.tiff',\n",
       " 'OB_0016_0071.tiff',\n",
       " 'OB_0016_0072.tiff',\n",
       " 'OB_0016_0073.tiff',\n",
       " 'OB_0016_0074.tiff',\n",
       " 'OB_0032_0075.tiff',\n",
       " 'OB_0032_0076.tiff',\n",
       " 'OB_0032_0077.tiff',\n",
       " 'OB_0032_0078.tiff',\n",
       " 'OB_0032_0079.tiff',\n",
       " 'OB_0064_0617.tiff',\n",
       " 'OB_0064_0618.tiff',\n",
       " 'OB_0064_0619.tiff',\n",
       " 'OB_0064_0620.tiff',\n",
       " 'OB_0064_0621.tiff']"
      ]
     },
     "execution_count": 11,
     "metadata": {},
     "output_type": "execute_result"
    }
   ],
   "source": [
    "ob_list = os.listdir(ob_dir)\n",
    "# fname_list.pop(0)\n",
    "ob_list.sort()\n",
    "print(len(ob_list))\n",
    "# ob_list = ob_list[:3]\n",
    "ob_list"
   ]
  },
  {
   "cell_type": "code",
   "execution_count": 12,
   "id": "617e6f86",
   "metadata": {},
   "outputs": [
    {
     "name": "stdout",
     "output_type": "stream",
     "text": [
      "35\n",
      "35\n"
     ]
    }
   ],
   "source": [
    "to_rmv = [\n",
    "]\n",
    "ob_list = rocku.remove_fnames(ob_list, to_rmv)"
   ]
  },
  {
   "cell_type": "code",
   "execution_count": 13,
   "id": "e8538000",
   "metadata": {
    "scrolled": true
   },
   "outputs": [
    {
     "name": "stdout",
     "output_type": "stream",
     "text": [
      "40\n"
     ]
    },
    {
     "data": {
      "text/plain": [
       "['DC_0000_0161.tiff',\n",
       " 'DC_0000_0162.tiff',\n",
       " 'DC_0000_0163.tiff',\n",
       " 'DC_0000_0164.tiff',\n",
       " 'DC_0000_0165.tiff',\n",
       " 'DC_0001_0156.tiff',\n",
       " 'DC_0001_0157.tiff',\n",
       " 'DC_0001_0158.tiff',\n",
       " 'DC_0001_0159.tiff',\n",
       " 'DC_0001_0160.tiff',\n",
       " 'DC_0002_0151.tiff',\n",
       " 'DC_0002_0152.tiff',\n",
       " 'DC_0002_0153.tiff',\n",
       " 'DC_0002_0154.tiff',\n",
       " 'DC_0002_0155.tiff',\n",
       " 'DC_0004_0146.tiff',\n",
       " 'DC_0004_0147.tiff',\n",
       " 'DC_0004_0148.tiff',\n",
       " 'DC_0004_0149.tiff',\n",
       " 'DC_0004_0150.tiff',\n",
       " 'DC_0008_0141.tiff',\n",
       " 'DC_0008_0142.tiff',\n",
       " 'DC_0008_0143.tiff',\n",
       " 'DC_0008_0144.tiff',\n",
       " 'DC_0008_0145.tiff',\n",
       " 'DC_0016_0136.tiff',\n",
       " 'DC_0016_0137.tiff',\n",
       " 'DC_0016_0138.tiff',\n",
       " 'DC_0016_0139.tiff',\n",
       " 'DC_0016_0140.tiff',\n",
       " 'DC_0032_0131.tiff',\n",
       " 'DC_0032_0132.tiff',\n",
       " 'DC_0032_0133.tiff',\n",
       " 'DC_0032_0134.tiff',\n",
       " 'DC_0032_0135.tiff',\n",
       " 'DC_0064_0126.tiff',\n",
       " 'DC_0064_0127.tiff',\n",
       " 'DC_0064_0128.tiff',\n",
       " 'DC_0064_0129.tiff',\n",
       " 'DC_0064_0130.tiff']"
      ]
     },
     "execution_count": 13,
     "metadata": {},
     "output_type": "execute_result"
    }
   ],
   "source": [
    "dc_list = os.listdir(dc_dir)\n",
    "# fname_list.pop(0)\n",
    "dc_list.sort()\n",
    "print(len(dc_list))\n",
    "dc_list"
   ]
  },
  {
   "cell_type": "code",
   "execution_count": 14,
   "id": "2df83ad7",
   "metadata": {},
   "outputs": [
    {
     "name": "stdout",
     "output_type": "stream",
     "text": [
      "40\n",
      "40\n"
     ]
    }
   ],
   "source": [
    "to_rmv = [\n",
    "]\n",
    "dc_list = rocku.remove_fnames(dc_list, to_rmv)"
   ]
  },
  {
   "cell_type": "code",
   "execution_count": 15,
   "id": "115d6814-efc7-42a0-9407-aefb2810ea16",
   "metadata": {},
   "outputs": [
    {
     "data": {
      "text/plain": [
       "['_0001_', '_0002_', '_0004_', '_0008_', '_0016_', '_0032_', '_0064_']"
      ]
     },
     "execution_count": 15,
     "metadata": {},
     "output_type": "execute_result"
    }
   ],
   "source": [
    "scan_exposure_list = rocku.get_exposure_list(fname_list)\n",
    "ob_exposure_list = rocku.get_exposure_list(ob_list)\n",
    "dc_exposure_list = rocku.get_exposure_list(dc_list)\n",
    "exposure_list = sorted(list(set(scan_exposure_list).intersection(ob_exposure_list).intersection(dc_exposure_list)))\n",
    "exposure_list"
   ]
  },
  {
   "cell_type": "code",
   "execution_count": 16,
   "id": "ffd5e0f1-0da8-4917-815d-54f328d2b226",
   "metadata": {
    "scrolled": true
   },
   "outputs": [
    {
     "data": {
      "text/plain": [
       "['2p1_3_waterwedge_collimator_static_0001_0482.tiff',\n",
       " '2p1_3_waterwedge_collimator_static_0001_0483.tiff',\n",
       " '2p1_3_waterwedge_collimator_static_0001_0484.tiff']"
      ]
     },
     "execution_count": 16,
     "metadata": {},
     "output_type": "execute_result"
    }
   ],
   "source": [
    "_fname_list = rocku.filter_list(fname_list, exposure_list[0])\n",
    "_fname_list"
   ]
  },
  {
   "cell_type": "code",
   "execution_count": 17,
   "id": "cdf2d034-454c-495f-a522-d57c9211eacd",
   "metadata": {},
   "outputs": [
    {
     "name": "stdout",
     "output_type": "stream",
     "text": [
      "3\n"
     ]
    },
    {
     "name": "stderr",
     "output_type": "stream",
     "text": [
      "3it [00:00, 34.52it/s]"
     ]
    },
    {
     "name": "stdout",
     "output_type": "stream",
     "text": [
      "(3, 6200, 6200)\n"
     ]
    },
    {
     "name": "stderr",
     "output_type": "stream",
     "text": [
      "\n"
     ]
    }
   ],
   "source": [
    "######### Scan\n",
    "_scan_raw = rocku.read_tiff_stack(scan_dir, _fname_list)\n",
    "print(_scan_raw.shape)"
   ]
  },
  {
   "cell_type": "code",
   "execution_count": 19,
   "id": "885ec278-7047-4536-876b-b61e0f347389",
   "metadata": {},
   "outputs": [
    {
     "data": {
      "image/png": "[encoded data removed]",
      "text/plain": [
       "<Figure size 640x480 with 2 Axes>"
      ]
     },
     "metadata": {},
     "output_type": "display_data"
    }
   ],
   "source": [
    "_scan_min = np.min(_scan_raw, axis=0)\n",
    "plt.imshow(_scan_min, vmin=0, vmax=2000)\n",
    "plt.colorbar()\n",
    "plt.show()"
   ]
  },
  {
   "cell_type": "code",
   "execution_count": 20,
   "id": "8d064857-c803-414e-a65f-d86989424bfd",
   "metadata": {},
   "outputs": [
    {
     "name": "stdout",
     "output_type": "stream",
     "text": [
      "ROI:\n"
     ]
    },
    {
     "data": {
      "image/png": "[encoded data removed]",
      "text/plain": [
       "<Figure size 640x480 with 2 Axes>"
      ]
     },
     "metadata": {},
     "output_type": "display_data"
    }
   ],
   "source": [
    "###################### need to change start\n",
    "crop = True\n",
    "# crop = False\n",
    "crop_left = 2350#320\n",
    "crop_right = 3700#1080\n",
    "crop_top = 2300\n",
    "crop_bottom = 4200\n",
    "# crop_left = 2500\n",
    "# crop_right = 4500\n",
    "# crop_top = 200\n",
    "# crop_bottom = 2350\n",
    "###################### need to change end\n",
    "# scan_crop = rocku.crop(scan_raw, crop_left, crop_right, crop_top, crop_bottom, crop)\n",
    "# ob_crop = rocku.crop(ob_raw, crop_left, crop_right, crop_top, crop_bottom, crop)\n",
    "# dc_crop = rocku.crop(dc_raw, crop_left, crop_right, crop_top, crop_bottom, crop)\n",
    "_scan_crop_min = rocku.crop(_scan_min, crop_left, crop_right, crop_top, crop_bottom, crop)\n",
    "print(\"ROI:\")\n",
    "plt.imshow(_scan_crop_min, vmin=0, vmax=2000)\n",
    "plt.colorbar()\n",
    "plt.show()"
   ]
  },
  {
   "cell_type": "markdown",
   "id": "617c54f0-108d-438d-ae58-12c1182cd1f7",
   "metadata": {},
   "source": [
    "# Normalize the selected list"
   ]
  },
  {
   "cell_type": "code",
   "execution_count": 25,
   "id": "8eccbee7-ca3d-46d4-b439-4f17e44348da",
   "metadata": {},
   "outputs": [
    {
     "data": {
      "text/plain": [
       "['2024_10_18_2p1_3_bee_noCollimator',\n",
       " '2024_10_18_2p1_3_bee_noCollimator_pos2',\n",
       " '2024_10_18_2p1_3_leaf_0noCollimator',\n",
       " '2024_10_18_2p1_3_waterwedge_Collimator_1rpm',\n",
       " '2024_10_18_2p1_3_waterwedge_Collimator_p1rpm',\n",
       " '2024_10_18_2p1_3_waterwedge_Collimator_static',\n",
       " '2024_10_18_2p1_3_waterwedge_noCollimator',\n",
       " '2024_10_18_NoSample_collimator_rotating',\n",
       " '2024_10_18_NoSample_collimator_static',\n",
       " '2024_10_18_WaterWedge_collimator_rotating',\n",
       " '2024_10_18_bee1_collimator_0p1rpm',\n",
       " '2024_10_18_bee1_collimator_1rpm',\n",
       " '2024_10_18_bee1_collimator_static',\n",
       " '2024_10_18_leaf1_collimator_rotating0p1rpm',\n",
       " '2024_10_18_leaf1_collimator_rotating1rpm',\n",
       " '2024_10_18_leaf1_collimator_static']"
      ]
     },
     "execution_count": 25,
     "metadata": {},
     "output_type": "execute_result"
    }
   ],
   "source": [
    "scan_list = sorted(os.listdir(scan_loc))\n",
    "scan_list"
   ]
  },
  {
   "cell_type": "code",
   "execution_count": 26,
   "id": "96f099ee-9213-40d3-9e44-dcf11f212ffe",
   "metadata": {},
   "outputs": [
    {
     "name": "stdout",
     "output_type": "stream",
     "text": [
      "16\n",
      "14\n"
     ]
    },
    {
     "data": {
      "text/plain": [
       "['2024_10_18_2p1_3_bee_noCollimator_pos2',\n",
       " '2024_10_18_2p1_3_leaf_0noCollimator',\n",
       " '2024_10_18_2p1_3_waterwedge_Collimator_1rpm',\n",
       " '2024_10_18_2p1_3_waterwedge_Collimator_static',\n",
       " '2024_10_18_2p1_3_waterwedge_noCollimator',\n",
       " '2024_10_18_NoSample_collimator_rotating',\n",
       " '2024_10_18_NoSample_collimator_static',\n",
       " '2024_10_18_WaterWedge_collimator_rotating',\n",
       " '2024_10_18_bee1_collimator_0p1rpm',\n",
       " '2024_10_18_bee1_collimator_1rpm',\n",
       " '2024_10_18_bee1_collimator_static',\n",
       " '2024_10_18_leaf1_collimator_rotating0p1rpm',\n",
       " '2024_10_18_leaf1_collimator_rotating1rpm',\n",
       " '2024_10_18_leaf1_collimator_static']"
      ]
     },
     "execution_count": 26,
     "metadata": {},
     "output_type": "execute_result"
    }
   ],
   "source": [
    "to_rmv = [\n",
    "    '2024_10_18_2p1_3_bee_noCollimator',\n",
    " '2024_10_18_2p1_3_waterwedge_Collimator_p1rpm',\n",
    "]\n",
    "scan_list = rocku.remove_fnames(scan_list, to_rmv)\n",
    "scan_list"
   ]
  },
  {
   "cell_type": "code",
   "execution_count": 27,
   "id": "a86c1b4a-6423-4fac-b18f-9b99b1149a8e",
   "metadata": {
    "scrolled": true
   },
   "outputs": [
    {
     "name": "stdout",
     "output_type": "stream",
     "text": [
      "3\n"
     ]
    },
    {
     "name": "stderr",
     "output_type": "stream",
     "text": [
      "3it [00:00, 35.35it/s]\n"
     ]
    },
    {
     "name": "stdout",
     "output_type": "stream",
     "text": [
      "(3, 6200, 6200)\n",
      "5\n"
     ]
    },
    {
     "name": "stderr",
     "output_type": "stream",
     "text": [
      "5it [00:00, 40.49it/s]\n"
     ]
    },
    {
     "name": "stdout",
     "output_type": "stream",
     "text": [
      "(5, 6200, 6200)\n",
      "5\n"
     ]
    },
    {
     "name": "stderr",
     "output_type": "stream",
     "text": [
      "5it [00:00, 43.36it/s]\n"
     ]
    },
    {
     "name": "stdout",
     "output_type": "stream",
     "text": [
      "(5, 6200, 6200)\n",
      "OB stack combined by median.\n",
      "DC stack combined by median.\n",
      "Normalization Done!\n",
      "Saving to /HFIR/CG1D/IPTS-34812/shared/processed_data/normalized/2024_10_18_2p1_3_bee_noCollimator_pos2 ...\n"
     ]
    },
    {
     "name": "stderr",
     "output_type": "stream",
     "text": [
      "3it [00:00, 24.83it/s]\n"
     ]
    },
    {
     "name": "stdout",
     "output_type": "stream",
     "text": [
      "3\n"
     ]
    },
    {
     "name": "stderr",
     "output_type": "stream",
     "text": [
      "3it [00:00, 36.40it/s]\n"
     ]
    },
    {
     "name": "stdout",
     "output_type": "stream",
     "text": [
      "(3, 6200, 6200)\n",
      "5\n"
     ]
    },
    {
     "name": "stderr",
     "output_type": "stream",
     "text": [
      "5it [00:00, 39.51it/s]\n"
     ]
    },
    {
     "name": "stdout",
     "output_type": "stream",
     "text": [
      "(5, 6200, 6200)\n",
      "5\n"
     ]
    },
    {
     "name": "stderr",
     "output_type": "stream",
     "text": [
      "5it [00:00, 43.16it/s]\n"
     ]
    },
    {
     "name": "stdout",
     "output_type": "stream",
     "text": [
      "(5, 6200, 6200)\n",
      "OB stack combined by median.\n",
      "DC stack combined by median.\n",
      "Normalization Done!\n",
      "Saving to /HFIR/CG1D/IPTS-34812/shared/processed_data/normalized/2024_10_18_2p1_3_bee_noCollimator_pos2 ...\n"
     ]
    },
    {
     "name": "stderr",
     "output_type": "stream",
     "text": [
      "3it [00:00, 33.18it/s]\n"
     ]
    },
    {
     "name": "stdout",
     "output_type": "stream",
     "text": [
      "3\n"
     ]
    },
    {
     "name": "stderr",
     "output_type": "stream",
     "text": [
      "3it [00:00, 34.81it/s]\n"
     ]
    },
    {
     "name": "stdout",
     "output_type": "stream",
     "text": [
      "(3, 6200, 6200)\n",
      "5\n"
     ]
    },
    {
     "name": "stderr",
     "output_type": "stream",
     "text": [
      "5it [00:00, 43.27it/s]\n"
     ]
    },
    {
     "name": "stdout",
     "output_type": "stream",
     "text": [
      "(5, 6200, 6200)\n",
      "5\n"
     ]
    },
    {
     "name": "stderr",
     "output_type": "stream",
     "text": [
      "5it [00:00, 40.81it/s]\n"
     ]
    },
    {
     "name": "stdout",
     "output_type": "stream",
     "text": [
      "(5, 6200, 6200)\n",
      "OB stack combined by median.\n",
      "DC stack combined by median.\n",
      "Normalization Done!\n",
      "Saving to /HFIR/CG1D/IPTS-34812/shared/processed_data/normalized/2024_10_18_2p1_3_bee_noCollimator_pos2 ...\n"
     ]
    },
    {
     "name": "stderr",
     "output_type": "stream",
     "text": [
      "3it [00:00, 35.65it/s]\n"
     ]
    },
    {
     "name": "stdout",
     "output_type": "stream",
     "text": [
      "3\n"
     ]
    },
    {
     "name": "stderr",
     "output_type": "stream",
     "text": [
      "3it [00:00, 37.97it/s]\n"
     ]
    },
    {
     "name": "stdout",
     "output_type": "stream",
     "text": [
      "(3, 6200, 6200)\n",
      "5\n"
     ]
    },
    {
     "name": "stderr",
     "output_type": "stream",
     "text": [
      "5it [00:00, 41.10it/s]\n"
     ]
    },
    {
     "name": "stdout",
     "output_type": "stream",
     "text": [
      "(5, 6200, 6200)\n",
      "5\n"
     ]
    },
    {
     "name": "stderr",
     "output_type": "stream",
     "text": [
      "5it [00:00, 43.63it/s]\n"
     ]
    },
    {
     "name": "stdout",
     "output_type": "stream",
     "text": [
      "(5, 6200, 6200)\n",
      "OB stack combined by median.\n",
      "DC stack combined by median.\n",
      "Normalization Done!\n",
      "Saving to /HFIR/CG1D/IPTS-34812/shared/processed_data/normalized/2024_10_18_2p1_3_bee_noCollimator_pos2 ...\n"
     ]
    },
    {
     "name": "stderr",
     "output_type": "stream",
     "text": [
      "3it [00:00, 33.68it/s]\n"
     ]
    },
    {
     "name": "stdout",
     "output_type": "stream",
     "text": [
      "3\n"
     ]
    },
    {
     "name": "stderr",
     "output_type": "stream",
     "text": [
      "3it [00:00, 33.63it/s]\n"
     ]
    },
    {
     "name": "stdout",
     "output_type": "stream",
     "text": [
      "(3, 6200, 6200)\n",
      "5\n"
     ]
    },
    {
     "name": "stderr",
     "output_type": "stream",
     "text": [
      "5it [00:00, 39.89it/s]\n"
     ]
    },
    {
     "name": "stdout",
     "output_type": "stream",
     "text": [
      "(5, 6200, 6200)\n",
      "5\n"
     ]
    },
    {
     "name": "stderr",
     "output_type": "stream",
     "text": [
      "5it [00:00, 40.81it/s]\n"
     ]
    },
    {
     "name": "stdout",
     "output_type": "stream",
     "text": [
      "(5, 6200, 6200)\n",
      "OB stack combined by median.\n",
      "DC stack combined by median.\n",
      "Normalization Done!\n",
      "Saving to /HFIR/CG1D/IPTS-34812/shared/processed_data/normalized/2024_10_18_2p1_3_bee_noCollimator_pos2 ...\n"
     ]
    },
    {
     "name": "stderr",
     "output_type": "stream",
     "text": [
      "3it [00:00, 35.09it/s]\n"
     ]
    },
    {
     "name": "stdout",
     "output_type": "stream",
     "text": [
      "3\n"
     ]
    },
    {
     "name": "stderr",
     "output_type": "stream",
     "text": [
      "3it [00:00, 37.31it/s]\n"
     ]
    },
    {
     "name": "stdout",
     "output_type": "stream",
     "text": [
      "(3, 6200, 6200)\n",
      "5\n"
     ]
    },
    {
     "name": "stderr",
     "output_type": "stream",
     "text": [
      "5it [00:00, 43.76it/s]\n"
     ]
    },
    {
     "name": "stdout",
     "output_type": "stream",
     "text": [
      "(5, 6200, 6200)\n",
      "5\n"
     ]
    },
    {
     "name": "stderr",
     "output_type": "stream",
     "text": [
      "5it [00:00, 40.06it/s]\n"
     ]
    },
    {
     "name": "stdout",
     "output_type": "stream",
     "text": [
      "(5, 6200, 6200)\n",
      "OB stack combined by median.\n",
      "DC stack combined by median.\n",
      "Normalization Done!\n",
      "Saving to /HFIR/CG1D/IPTS-34812/shared/processed_data/normalized/2024_10_18_2p1_3_bee_noCollimator_pos2 ...\n"
     ]
    },
    {
     "name": "stderr",
     "output_type": "stream",
     "text": [
      "3it [00:00, 34.86it/s]\n"
     ]
    },
    {
     "name": "stdout",
     "output_type": "stream",
     "text": [
      "3\n"
     ]
    },
    {
     "name": "stderr",
     "output_type": "stream",
     "text": [
      "3it [00:00, 35.94it/s]\n"
     ]
    },
    {
     "name": "stdout",
     "output_type": "stream",
     "text": [
      "(3, 6200, 6200)\n",
      "5\n"
     ]
    },
    {
     "name": "stderr",
     "output_type": "stream",
     "text": [
      "5it [00:00, 44.36it/s]\n"
     ]
    },
    {
     "name": "stdout",
     "output_type": "stream",
     "text": [
      "(5, 6200, 6200)\n",
      "5\n"
     ]
    },
    {
     "name": "stderr",
     "output_type": "stream",
     "text": [
      "5it [00:00, 44.19it/s]\n"
     ]
    },
    {
     "name": "stdout",
     "output_type": "stream",
     "text": [
      "(5, 6200, 6200)\n",
      "OB stack combined by median.\n",
      "DC stack combined by median.\n",
      "Normalization Done!\n",
      "Saving to /HFIR/CG1D/IPTS-34812/shared/processed_data/normalized/2024_10_18_2p1_3_bee_noCollimator_pos2 ...\n"
     ]
    },
    {
     "name": "stderr",
     "output_type": "stream",
     "text": [
      "3it [00:00, 36.69it/s]\n"
     ]
    },
    {
     "name": "stdout",
     "output_type": "stream",
     "text": [
      "3\n"
     ]
    },
    {
     "name": "stderr",
     "output_type": "stream",
     "text": [
      "3it [00:00, 35.02it/s]\n"
     ]
    },
    {
     "name": "stdout",
     "output_type": "stream",
     "text": [
      "(3, 6200, 6200)\n",
      "5\n"
     ]
    },
    {
     "name": "stderr",
     "output_type": "stream",
     "text": [
      "5it [00:00, 42.46it/s]\n"
     ]
    },
    {
     "name": "stdout",
     "output_type": "stream",
     "text": [
      "(5, 6200, 6200)\n",
      "5\n"
     ]
    },
    {
     "name": "stderr",
     "output_type": "stream",
     "text": [
      "5it [00:00, 43.77it/s]\n"
     ]
    },
    {
     "name": "stdout",
     "output_type": "stream",
     "text": [
      "(5, 6200, 6200)\n",
      "OB stack combined by median.\n",
      "DC stack combined by median.\n",
      "Normalization Done!\n",
      "Saving to /HFIR/CG1D/IPTS-34812/shared/processed_data/normalized/2024_10_18_2p1_3_leaf_0noCollimator ...\n"
     ]
    },
    {
     "name": "stderr",
     "output_type": "stream",
     "text": [
      "3it [00:00, 36.04it/s]\n"
     ]
    },
    {
     "name": "stdout",
     "output_type": "stream",
     "text": [
      "3\n"
     ]
    },
    {
     "name": "stderr",
     "output_type": "stream",
     "text": [
      "3it [00:00, 34.69it/s]\n"
     ]
    },
    {
     "name": "stdout",
     "output_type": "stream",
     "text": [
      "(3, 6200, 6200)\n",
      "5\n"
     ]
    },
    {
     "name": "stderr",
     "output_type": "stream",
     "text": [
      "5it [00:00, 40.77it/s]\n"
     ]
    },
    {
     "name": "stdout",
     "output_type": "stream",
     "text": [
      "(5, 6200, 6200)\n",
      "5\n"
     ]
    },
    {
     "name": "stderr",
     "output_type": "stream",
     "text": [
      "5it [00:00, 40.34it/s]\n"
     ]
    },
    {
     "name": "stdout",
     "output_type": "stream",
     "text": [
      "(5, 6200, 6200)\n",
      "OB stack combined by median.\n",
      "DC stack combined by median.\n",
      "Normalization Done!\n",
      "Saving to /HFIR/CG1D/IPTS-34812/shared/processed_data/normalized/2024_10_18_2p1_3_leaf_0noCollimator ...\n"
     ]
    },
    {
     "name": "stderr",
     "output_type": "stream",
     "text": [
      "3it [00:00, 36.85it/s]\n"
     ]
    },
    {
     "name": "stdout",
     "output_type": "stream",
     "text": [
      "3\n"
     ]
    },
    {
     "name": "stderr",
     "output_type": "stream",
     "text": [
      "3it [00:00, 35.02it/s]\n"
     ]
    },
    {
     "name": "stdout",
     "output_type": "stream",
     "text": [
      "(3, 6200, 6200)\n",
      "5\n"
     ]
    },
    {
     "name": "stderr",
     "output_type": "stream",
     "text": [
      "5it [00:00, 41.28it/s]\n"
     ]
    },
    {
     "name": "stdout",
     "output_type": "stream",
     "text": [
      "(5, 6200, 6200)\n",
      "5\n"
     ]
    },
    {
     "name": "stderr",
     "output_type": "stream",
     "text": [
      "5it [00:00, 42.83it/s]\n"
     ]
    },
    {
     "name": "stdout",
     "output_type": "stream",
     "text": [
      "(5, 6200, 6200)\n",
      "OB stack combined by median.\n",
      "DC stack combined by median.\n",
      "Normalization Done!\n",
      "Saving to /HFIR/CG1D/IPTS-34812/shared/processed_data/normalized/2024_10_18_2p1_3_leaf_0noCollimator ...\n"
     ]
    },
    {
     "name": "stderr",
     "output_type": "stream",
     "text": [
      "3it [00:00, 34.95it/s]\n"
     ]
    },
    {
     "name": "stdout",
     "output_type": "stream",
     "text": [
      "3\n"
     ]
    },
    {
     "name": "stderr",
     "output_type": "stream",
     "text": [
      "3it [00:00, 38.64it/s]\n"
     ]
    },
    {
     "name": "stdout",
     "output_type": "stream",
     "text": [
      "(3, 6200, 6200)\n",
      "5\n"
     ]
    },
    {
     "name": "stderr",
     "output_type": "stream",
     "text": [
      "5it [00:00, 41.83it/s]\n"
     ]
    },
    {
     "name": "stdout",
     "output_type": "stream",
     "text": [
      "(5, 6200, 6200)\n",
      "5\n"
     ]
    },
    {
     "name": "stderr",
     "output_type": "stream",
     "text": [
      "5it [00:00, 43.96it/s]\n"
     ]
    },
    {
     "name": "stdout",
     "output_type": "stream",
     "text": [
      "(5, 6200, 6200)\n",
      "OB stack combined by median.\n",
      "DC stack combined by median.\n",
      "Normalization Done!\n",
      "Saving to /HFIR/CG1D/IPTS-34812/shared/processed_data/normalized/2024_10_18_2p1_3_leaf_0noCollimator ...\n"
     ]
    },
    {
     "name": "stderr",
     "output_type": "stream",
     "text": [
      "3it [00:00, 34.68it/s]\n"
     ]
    },
    {
     "name": "stdout",
     "output_type": "stream",
     "text": [
      "3\n"
     ]
    },
    {
     "name": "stderr",
     "output_type": "stream",
     "text": [
      "3it [00:00, 35.42it/s]\n"
     ]
    },
    {
     "name": "stdout",
     "output_type": "stream",
     "text": [
      "(3, 6200, 6200)\n",
      "5\n"
     ]
    },
    {
     "name": "stderr",
     "output_type": "stream",
     "text": [
      "5it [00:00, 40.99it/s]\n"
     ]
    },
    {
     "name": "stdout",
     "output_type": "stream",
     "text": [
      "(5, 6200, 6200)\n",
      "5\n"
     ]
    },
    {
     "name": "stderr",
     "output_type": "stream",
     "text": [
      "5it [00:00, 42.21it/s]\n"
     ]
    },
    {
     "name": "stdout",
     "output_type": "stream",
     "text": [
      "(5, 6200, 6200)\n",
      "OB stack combined by median.\n",
      "DC stack combined by median.\n",
      "Normalization Done!\n",
      "Saving to /HFIR/CG1D/IPTS-34812/shared/processed_data/normalized/2024_10_18_2p1_3_leaf_0noCollimator ...\n"
     ]
    },
    {
     "name": "stderr",
     "output_type": "stream",
     "text": [
      "3it [00:00, 35.83it/s]\n"
     ]
    },
    {
     "name": "stdout",
     "output_type": "stream",
     "text": [
      "3\n"
     ]
    },
    {
     "name": "stderr",
     "output_type": "stream",
     "text": [
      "3it [00:00, 37.41it/s]\n"
     ]
    },
    {
     "name": "stdout",
     "output_type": "stream",
     "text": [
      "(3, 6200, 6200)\n",
      "5\n"
     ]
    },
    {
     "name": "stderr",
     "output_type": "stream",
     "text": [
      "5it [00:00, 42.64it/s]\n"
     ]
    },
    {
     "name": "stdout",
     "output_type": "stream",
     "text": [
      "(5, 6200, 6200)\n",
      "5\n"
     ]
    },
    {
     "name": "stderr",
     "output_type": "stream",
     "text": [
      "5it [00:00, 42.72it/s]\n"
     ]
    },
    {
     "name": "stdout",
     "output_type": "stream",
     "text": [
      "(5, 6200, 6200)\n",
      "OB stack combined by median.\n",
      "DC stack combined by median.\n",
      "Normalization Done!\n",
      "Saving to /HFIR/CG1D/IPTS-34812/shared/processed_data/normalized/2024_10_18_2p1_3_leaf_0noCollimator ...\n"
     ]
    },
    {
     "name": "stderr",
     "output_type": "stream",
     "text": [
      "3it [00:00, 36.44it/s]\n"
     ]
    },
    {
     "name": "stdout",
     "output_type": "stream",
     "text": [
      "3\n"
     ]
    },
    {
     "name": "stderr",
     "output_type": "stream",
     "text": [
      "3it [00:00, 34.97it/s]\n"
     ]
    },
    {
     "name": "stdout",
     "output_type": "stream",
     "text": [
      "(3, 6200, 6200)\n",
      "5\n"
     ]
    },
    {
     "name": "stderr",
     "output_type": "stream",
     "text": [
      "5it [00:00, 38.11it/s]\n"
     ]
    },
    {
     "name": "stdout",
     "output_type": "stream",
     "text": [
      "(5, 6200, 6200)\n",
      "5\n"
     ]
    },
    {
     "name": "stderr",
     "output_type": "stream",
     "text": [
      "5it [00:00, 42.56it/s]\n"
     ]
    },
    {
     "name": "stdout",
     "output_type": "stream",
     "text": [
      "(5, 6200, 6200)\n",
      "OB stack combined by median.\n",
      "DC stack combined by median.\n",
      "Normalization Done!\n",
      "Saving to /HFIR/CG1D/IPTS-34812/shared/processed_data/normalized/2024_10_18_2p1_3_leaf_0noCollimator ...\n"
     ]
    },
    {
     "name": "stderr",
     "output_type": "stream",
     "text": [
      "3it [00:00, 28.53it/s]\n"
     ]
    },
    {
     "name": "stdout",
     "output_type": "stream",
     "text": [
      "3\n"
     ]
    },
    {
     "name": "stderr",
     "output_type": "stream",
     "text": [
      "3it [00:00, 35.78it/s]\n"
     ]
    },
    {
     "name": "stdout",
     "output_type": "stream",
     "text": [
      "(3, 6200, 6200)\n",
      "5\n"
     ]
    },
    {
     "name": "stderr",
     "output_type": "stream",
     "text": [
      "5it [00:00, 38.92it/s]\n"
     ]
    },
    {
     "name": "stdout",
     "output_type": "stream",
     "text": [
      "(5, 6200, 6200)\n",
      "5\n"
     ]
    },
    {
     "name": "stderr",
     "output_type": "stream",
     "text": [
      "5it [00:00, 38.59it/s]\n"
     ]
    },
    {
     "name": "stdout",
     "output_type": "stream",
     "text": [
      "(5, 6200, 6200)\n",
      "OB stack combined by median.\n",
      "DC stack combined by median.\n",
      "Normalization Done!\n",
      "Saving to /HFIR/CG1D/IPTS-34812/shared/processed_data/normalized/2024_10_18_2p1_3_waterwedge_Collimator_1rpm ...\n"
     ]
    },
    {
     "name": "stderr",
     "output_type": "stream",
     "text": [
      "3it [00:00, 33.13it/s]\n"
     ]
    },
    {
     "name": "stdout",
     "output_type": "stream",
     "text": [
      "3\n"
     ]
    },
    {
     "name": "stderr",
     "output_type": "stream",
     "text": [
      "3it [00:00, 36.93it/s]\n"
     ]
    },
    {
     "name": "stdout",
     "output_type": "stream",
     "text": [
      "(3, 6200, 6200)\n",
      "5\n"
     ]
    },
    {
     "name": "stderr",
     "output_type": "stream",
     "text": [
      "5it [00:00, 43.42it/s]\n"
     ]
    },
    {
     "name": "stdout",
     "output_type": "stream",
     "text": [
      "(5, 6200, 6200)\n",
      "5\n"
     ]
    },
    {
     "name": "stderr",
     "output_type": "stream",
     "text": [
      "5it [00:00, 43.51it/s]\n"
     ]
    },
    {
     "name": "stdout",
     "output_type": "stream",
     "text": [
      "(5, 6200, 6200)\n",
      "OB stack combined by median.\n",
      "DC stack combined by median.\n",
      "Normalization Done!\n",
      "Saving to /HFIR/CG1D/IPTS-34812/shared/processed_data/normalized/2024_10_18_2p1_3_waterwedge_Collimator_1rpm ...\n"
     ]
    },
    {
     "name": "stderr",
     "output_type": "stream",
     "text": [
      "3it [00:00, 36.50it/s]\n"
     ]
    },
    {
     "name": "stdout",
     "output_type": "stream",
     "text": [
      "3\n"
     ]
    },
    {
     "name": "stderr",
     "output_type": "stream",
     "text": [
      "3it [00:00, 35.52it/s]\n"
     ]
    },
    {
     "name": "stdout",
     "output_type": "stream",
     "text": [
      "(3, 6200, 6200)\n",
      "5\n"
     ]
    },
    {
     "name": "stderr",
     "output_type": "stream",
     "text": [
      "5it [00:00, 44.15it/s]\n"
     ]
    },
    {
     "name": "stdout",
     "output_type": "stream",
     "text": [
      "(5, 6200, 6200)\n",
      "5\n"
     ]
    },
    {
     "name": "stderr",
     "output_type": "stream",
     "text": [
      "5it [00:00, 42.34it/s]\n"
     ]
    },
    {
     "name": "stdout",
     "output_type": "stream",
     "text": [
      "(5, 6200, 6200)\n",
      "OB stack combined by median.\n",
      "DC stack combined by median.\n",
      "Normalization Done!\n",
      "Saving to /HFIR/CG1D/IPTS-34812/shared/processed_data/normalized/2024_10_18_2p1_3_waterwedge_Collimator_1rpm ...\n"
     ]
    },
    {
     "name": "stderr",
     "output_type": "stream",
     "text": [
      "3it [00:00, 36.48it/s]\n"
     ]
    },
    {
     "name": "stdout",
     "output_type": "stream",
     "text": [
      "3\n"
     ]
    },
    {
     "name": "stderr",
     "output_type": "stream",
     "text": [
      "3it [00:00, 38.74it/s]\n"
     ]
    },
    {
     "name": "stdout",
     "output_type": "stream",
     "text": [
      "(3, 6200, 6200)\n",
      "5\n"
     ]
    },
    {
     "name": "stderr",
     "output_type": "stream",
     "text": [
      "5it [00:00, 40.95it/s]\n"
     ]
    },
    {
     "name": "stdout",
     "output_type": "stream",
     "text": [
      "(5, 6200, 6200)\n",
      "5\n"
     ]
    },
    {
     "name": "stderr",
     "output_type": "stream",
     "text": [
      "5it [00:00, 44.51it/s]\n"
     ]
    },
    {
     "name": "stdout",
     "output_type": "stream",
     "text": [
      "(5, 6200, 6200)\n",
      "OB stack combined by median.\n",
      "DC stack combined by median.\n",
      "Normalization Done!\n",
      "Saving to /HFIR/CG1D/IPTS-34812/shared/processed_data/normalized/2024_10_18_2p1_3_waterwedge_Collimator_1rpm ...\n"
     ]
    },
    {
     "name": "stderr",
     "output_type": "stream",
     "text": [
      "3it [00:00, 35.95it/s]\n"
     ]
    },
    {
     "name": "stdout",
     "output_type": "stream",
     "text": [
      "3\n"
     ]
    },
    {
     "name": "stderr",
     "output_type": "stream",
     "text": [
      "3it [00:00, 38.48it/s]\n"
     ]
    },
    {
     "name": "stdout",
     "output_type": "stream",
     "text": [
      "(3, 6200, 6200)\n",
      "5\n"
     ]
    },
    {
     "name": "stderr",
     "output_type": "stream",
     "text": [
      "5it [00:00, 44.32it/s]\n"
     ]
    },
    {
     "name": "stdout",
     "output_type": "stream",
     "text": [
      "(5, 6200, 6200)\n",
      "5\n"
     ]
    },
    {
     "name": "stderr",
     "output_type": "stream",
     "text": [
      "5it [00:00, 40.87it/s]\n"
     ]
    },
    {
     "name": "stdout",
     "output_type": "stream",
     "text": [
      "(5, 6200, 6200)\n",
      "OB stack combined by median.\n",
      "DC stack combined by median.\n",
      "Normalization Done!\n",
      "Saving to /HFIR/CG1D/IPTS-34812/shared/processed_data/normalized/2024_10_18_2p1_3_waterwedge_Collimator_1rpm ...\n"
     ]
    },
    {
     "name": "stderr",
     "output_type": "stream",
     "text": [
      "3it [00:00, 36.90it/s]\n"
     ]
    },
    {
     "name": "stdout",
     "output_type": "stream",
     "text": [
      "3\n"
     ]
    },
    {
     "name": "stderr",
     "output_type": "stream",
     "text": [
      "3it [00:00, 36.73it/s]\n"
     ]
    },
    {
     "name": "stdout",
     "output_type": "stream",
     "text": [
      "(3, 6200, 6200)\n",
      "5\n"
     ]
    },
    {
     "name": "stderr",
     "output_type": "stream",
     "text": [
      "5it [00:00, 39.63it/s]\n"
     ]
    },
    {
     "name": "stdout",
     "output_type": "stream",
     "text": [
      "(5, 6200, 6200)\n",
      "5\n"
     ]
    },
    {
     "name": "stderr",
     "output_type": "stream",
     "text": [
      "5it [00:00, 43.38it/s]\n"
     ]
    },
    {
     "name": "stdout",
     "output_type": "stream",
     "text": [
      "(5, 6200, 6200)\n",
      "OB stack combined by median.\n",
      "DC stack combined by median.\n",
      "Normalization Done!\n",
      "Saving to /HFIR/CG1D/IPTS-34812/shared/processed_data/normalized/2024_10_18_2p1_3_waterwedge_Collimator_1rpm ...\n"
     ]
    },
    {
     "name": "stderr",
     "output_type": "stream",
     "text": [
      "3it [00:00, 37.04it/s]\n"
     ]
    },
    {
     "name": "stdout",
     "output_type": "stream",
     "text": [
      "3\n"
     ]
    },
    {
     "name": "stderr",
     "output_type": "stream",
     "text": [
      "3it [00:00, 33.44it/s]\n"
     ]
    },
    {
     "name": "stdout",
     "output_type": "stream",
     "text": [
      "(3, 6200, 6200)\n",
      "5\n"
     ]
    },
    {
     "name": "stderr",
     "output_type": "stream",
     "text": [
      "5it [00:00, 38.97it/s]\n"
     ]
    },
    {
     "name": "stdout",
     "output_type": "stream",
     "text": [
      "(5, 6200, 6200)\n",
      "5\n"
     ]
    },
    {
     "name": "stderr",
     "output_type": "stream",
     "text": [
      "5it [00:00, 40.72it/s]\n"
     ]
    },
    {
     "name": "stdout",
     "output_type": "stream",
     "text": [
      "(5, 6200, 6200)\n",
      "OB stack combined by median.\n",
      "DC stack combined by median.\n",
      "Normalization Done!\n",
      "Saving to /HFIR/CG1D/IPTS-34812/shared/processed_data/normalized/2024_10_18_2p1_3_waterwedge_Collimator_1rpm ...\n"
     ]
    },
    {
     "name": "stderr",
     "output_type": "stream",
     "text": [
      "3it [00:00, 37.37it/s]\n"
     ]
    },
    {
     "name": "stdout",
     "output_type": "stream",
     "text": [
      "3\n"
     ]
    },
    {
     "name": "stderr",
     "output_type": "stream",
     "text": [
      "3it [00:00, 35.47it/s]\n"
     ]
    },
    {
     "name": "stdout",
     "output_type": "stream",
     "text": [
      "(3, 6200, 6200)\n",
      "5\n"
     ]
    },
    {
     "name": "stderr",
     "output_type": "stream",
     "text": [
      "5it [00:00, 40.98it/s]\n"
     ]
    },
    {
     "name": "stdout",
     "output_type": "stream",
     "text": [
      "(5, 6200, 6200)\n",
      "5\n"
     ]
    },
    {
     "name": "stderr",
     "output_type": "stream",
     "text": [
      "5it [00:00, 43.30it/s]\n"
     ]
    },
    {
     "name": "stdout",
     "output_type": "stream",
     "text": [
      "(5, 6200, 6200)\n",
      "OB stack combined by median.\n",
      "DC stack combined by median.\n",
      "Normalization Done!\n",
      "Saving to /HFIR/CG1D/IPTS-34812/shared/processed_data/normalized/2024_10_18_2p1_3_waterwedge_Collimator_static ...\n"
     ]
    },
    {
     "name": "stderr",
     "output_type": "stream",
     "text": [
      "3it [00:00, 35.89it/s]\n"
     ]
    },
    {
     "name": "stdout",
     "output_type": "stream",
     "text": [
      "3\n"
     ]
    },
    {
     "name": "stderr",
     "output_type": "stream",
     "text": [
      "3it [00:00, 34.85it/s]\n"
     ]
    },
    {
     "name": "stdout",
     "output_type": "stream",
     "text": [
      "(3, 6200, 6200)\n",
      "5\n"
     ]
    },
    {
     "name": "stderr",
     "output_type": "stream",
     "text": [
      "5it [00:00, 40.39it/s]\n"
     ]
    },
    {
     "name": "stdout",
     "output_type": "stream",
     "text": [
      "(5, 6200, 6200)\n",
      "5\n"
     ]
    },
    {
     "name": "stderr",
     "output_type": "stream",
     "text": [
      "5it [00:00, 43.91it/s]\n"
     ]
    },
    {
     "name": "stdout",
     "output_type": "stream",
     "text": [
      "(5, 6200, 6200)\n",
      "OB stack combined by median.\n",
      "DC stack combined by median.\n",
      "Normalization Done!\n",
      "Saving to /HFIR/CG1D/IPTS-34812/shared/processed_data/normalized/2024_10_18_2p1_3_waterwedge_Collimator_static ...\n"
     ]
    },
    {
     "name": "stderr",
     "output_type": "stream",
     "text": [
      "3it [00:00, 35.05it/s]\n"
     ]
    },
    {
     "name": "stdout",
     "output_type": "stream",
     "text": [
      "3\n"
     ]
    },
    {
     "name": "stderr",
     "output_type": "stream",
     "text": [
      "3it [00:00, 36.31it/s]\n"
     ]
    },
    {
     "name": "stdout",
     "output_type": "stream",
     "text": [
      "(3, 6200, 6200)\n",
      "5\n"
     ]
    },
    {
     "name": "stderr",
     "output_type": "stream",
     "text": [
      "5it [00:00, 43.76it/s]\n"
     ]
    },
    {
     "name": "stdout",
     "output_type": "stream",
     "text": [
      "(5, 6200, 6200)\n",
      "5\n"
     ]
    },
    {
     "name": "stderr",
     "output_type": "stream",
     "text": [
      "5it [00:00, 41.12it/s]\n"
     ]
    },
    {
     "name": "stdout",
     "output_type": "stream",
     "text": [
      "(5, 6200, 6200)\n",
      "OB stack combined by median.\n",
      "DC stack combined by median.\n",
      "Normalization Done!\n",
      "Saving to /HFIR/CG1D/IPTS-34812/shared/processed_data/normalized/2024_10_18_2p1_3_waterwedge_Collimator_static ...\n"
     ]
    },
    {
     "name": "stderr",
     "output_type": "stream",
     "text": [
      "3it [00:00, 17.68it/s]\n"
     ]
    },
    {
     "name": "stdout",
     "output_type": "stream",
     "text": [
      "3\n"
     ]
    },
    {
     "name": "stderr",
     "output_type": "stream",
     "text": [
      "3it [00:00, 37.48it/s]\n"
     ]
    },
    {
     "name": "stdout",
     "output_type": "stream",
     "text": [
      "(3, 6200, 6200)\n",
      "5\n"
     ]
    },
    {
     "name": "stderr",
     "output_type": "stream",
     "text": [
      "5it [00:00, 42.21it/s]\n"
     ]
    },
    {
     "name": "stdout",
     "output_type": "stream",
     "text": [
      "(5, 6200, 6200)\n",
      "5\n"
     ]
    },
    {
     "name": "stderr",
     "output_type": "stream",
     "text": [
      "5it [00:00, 44.11it/s]\n"
     ]
    },
    {
     "name": "stdout",
     "output_type": "stream",
     "text": [
      "(5, 6200, 6200)\n",
      "OB stack combined by median.\n",
      "DC stack combined by median.\n",
      "Normalization Done!\n",
      "Saving to /HFIR/CG1D/IPTS-34812/shared/processed_data/normalized/2024_10_18_2p1_3_waterwedge_Collimator_static ...\n"
     ]
    },
    {
     "name": "stderr",
     "output_type": "stream",
     "text": [
      "3it [00:00, 36.40it/s]\n"
     ]
    },
    {
     "name": "stdout",
     "output_type": "stream",
     "text": [
      "3\n"
     ]
    },
    {
     "name": "stderr",
     "output_type": "stream",
     "text": [
      "3it [00:00, 38.42it/s]\n"
     ]
    },
    {
     "name": "stdout",
     "output_type": "stream",
     "text": [
      "(3, 6200, 6200)\n",
      "5\n"
     ]
    },
    {
     "name": "stderr",
     "output_type": "stream",
     "text": [
      "5it [00:00, 40.07it/s]\n"
     ]
    },
    {
     "name": "stdout",
     "output_type": "stream",
     "text": [
      "(5, 6200, 6200)\n",
      "5\n"
     ]
    },
    {
     "name": "stderr",
     "output_type": "stream",
     "text": [
      "5it [00:00, 41.03it/s]\n"
     ]
    },
    {
     "name": "stdout",
     "output_type": "stream",
     "text": [
      "(5, 6200, 6200)\n",
      "OB stack combined by median.\n",
      "DC stack combined by median.\n",
      "Normalization Done!\n",
      "Saving to /HFIR/CG1D/IPTS-34812/shared/processed_data/normalized/2024_10_18_2p1_3_waterwedge_Collimator_static ...\n"
     ]
    },
    {
     "name": "stderr",
     "output_type": "stream",
     "text": [
      "3it [00:00, 37.17it/s]\n"
     ]
    },
    {
     "name": "stdout",
     "output_type": "stream",
     "text": [
      "3\n"
     ]
    },
    {
     "name": "stderr",
     "output_type": "stream",
     "text": [
      "3it [00:00, 38.39it/s]\n"
     ]
    },
    {
     "name": "stdout",
     "output_type": "stream",
     "text": [
      "(3, 6200, 6200)\n",
      "5\n"
     ]
    },
    {
     "name": "stderr",
     "output_type": "stream",
     "text": [
      "5it [00:00, 44.13it/s]"
     ]
    },
    {
     "name": "stdout",
     "output_type": "stream",
     "text": [
      "(5, 6200, 6200)\n"
     ]
    },
    {
     "name": "stderr",
     "output_type": "stream",
     "text": [
      "\n"
     ]
    },
    {
     "name": "stdout",
     "output_type": "stream",
     "text": [
      "5\n"
     ]
    },
    {
     "name": "stderr",
     "output_type": "stream",
     "text": [
      "5it [00:00, 39.99it/s]\n"
     ]
    },
    {
     "name": "stdout",
     "output_type": "stream",
     "text": [
      "(5, 6200, 6200)\n",
      "OB stack combined by median.\n",
      "DC stack combined by median.\n",
      "Normalization Done!\n",
      "Saving to /HFIR/CG1D/IPTS-34812/shared/processed_data/normalized/2024_10_18_2p1_3_waterwedge_Collimator_static ...\n"
     ]
    },
    {
     "name": "stderr",
     "output_type": "stream",
     "text": [
      "3it [00:00, 35.76it/s]\n"
     ]
    },
    {
     "name": "stdout",
     "output_type": "stream",
     "text": [
      "3\n"
     ]
    },
    {
     "name": "stderr",
     "output_type": "stream",
     "text": [
      "3it [00:00, 38.58it/s]\n"
     ]
    },
    {
     "name": "stdout",
     "output_type": "stream",
     "text": [
      "(3, 6200, 6200)\n",
      "5\n"
     ]
    },
    {
     "name": "stderr",
     "output_type": "stream",
     "text": [
      "5it [00:00, 45.12it/s]\n"
     ]
    },
    {
     "name": "stdout",
     "output_type": "stream",
     "text": [
      "(5, 6200, 6200)\n",
      "5\n"
     ]
    },
    {
     "name": "stderr",
     "output_type": "stream",
     "text": [
      "5it [00:00, 44.59it/s]\n"
     ]
    },
    {
     "name": "stdout",
     "output_type": "stream",
     "text": [
      "(5, 6200, 6200)\n",
      "OB stack combined by median.\n",
      "DC stack combined by median.\n",
      "Normalization Done!\n",
      "Saving to /HFIR/CG1D/IPTS-34812/shared/processed_data/normalized/2024_10_18_2p1_3_waterwedge_Collimator_static ...\n"
     ]
    },
    {
     "name": "stderr",
     "output_type": "stream",
     "text": [
      "3it [00:00, 34.61it/s]\n"
     ]
    },
    {
     "name": "stdout",
     "output_type": "stream",
     "text": [
      "3\n"
     ]
    },
    {
     "name": "stderr",
     "output_type": "stream",
     "text": [
      "3it [00:00, 37.22it/s]\n"
     ]
    },
    {
     "name": "stdout",
     "output_type": "stream",
     "text": [
      "(3, 6200, 6200)\n",
      "5\n"
     ]
    },
    {
     "name": "stderr",
     "output_type": "stream",
     "text": [
      "5it [00:00, 42.23it/s]\n"
     ]
    },
    {
     "name": "stdout",
     "output_type": "stream",
     "text": [
      "(5, 6200, 6200)\n",
      "5\n"
     ]
    },
    {
     "name": "stderr",
     "output_type": "stream",
     "text": [
      "5it [00:00, 43.61it/s]\n"
     ]
    },
    {
     "name": "stdout",
     "output_type": "stream",
     "text": [
      "(5, 6200, 6200)\n",
      "OB stack combined by median.\n",
      "DC stack combined by median.\n",
      "Normalization Done!\n",
      "Saving to /HFIR/CG1D/IPTS-34812/shared/processed_data/normalized/2024_10_18_2p1_3_waterwedge_noCollimator ...\n"
     ]
    },
    {
     "name": "stderr",
     "output_type": "stream",
     "text": [
      "3it [00:00, 34.56it/s]\n"
     ]
    },
    {
     "name": "stdout",
     "output_type": "stream",
     "text": [
      "3\n"
     ]
    },
    {
     "name": "stderr",
     "output_type": "stream",
     "text": [
      "3it [00:00, 34.02it/s]\n"
     ]
    },
    {
     "name": "stdout",
     "output_type": "stream",
     "text": [
      "(3, 6200, 6200)\n",
      "5\n"
     ]
    },
    {
     "name": "stderr",
     "output_type": "stream",
     "text": [
      "5it [00:00, 40.69it/s]\n"
     ]
    },
    {
     "name": "stdout",
     "output_type": "stream",
     "text": [
      "(5, 6200, 6200)\n",
      "5\n"
     ]
    },
    {
     "name": "stderr",
     "output_type": "stream",
     "text": [
      "5it [00:00, 40.16it/s]\n"
     ]
    },
    {
     "name": "stdout",
     "output_type": "stream",
     "text": [
      "(5, 6200, 6200)\n",
      "OB stack combined by median.\n",
      "DC stack combined by median.\n",
      "Normalization Done!\n",
      "Saving to /HFIR/CG1D/IPTS-34812/shared/processed_data/normalized/2024_10_18_2p1_3_waterwedge_noCollimator ...\n"
     ]
    },
    {
     "name": "stderr",
     "output_type": "stream",
     "text": [
      "3it [00:00, 34.91it/s]\n"
     ]
    },
    {
     "name": "stdout",
     "output_type": "stream",
     "text": [
      "3\n"
     ]
    },
    {
     "name": "stderr",
     "output_type": "stream",
     "text": [
      "3it [00:00, 37.62it/s]\n"
     ]
    },
    {
     "name": "stdout",
     "output_type": "stream",
     "text": [
      "(3, 6200, 6200)\n",
      "5\n"
     ]
    },
    {
     "name": "stderr",
     "output_type": "stream",
     "text": [
      "5it [00:00, 40.60it/s]\n"
     ]
    },
    {
     "name": "stdout",
     "output_type": "stream",
     "text": [
      "(5, 6200, 6200)\n",
      "5\n"
     ]
    },
    {
     "name": "stderr",
     "output_type": "stream",
     "text": [
      "5it [00:00, 42.31it/s]\n"
     ]
    },
    {
     "name": "stdout",
     "output_type": "stream",
     "text": [
      "(5, 6200, 6200)\n",
      "OB stack combined by median.\n",
      "DC stack combined by median.\n",
      "Normalization Done!\n",
      "Saving to /HFIR/CG1D/IPTS-34812/shared/processed_data/normalized/2024_10_18_2p1_3_waterwedge_noCollimator ...\n"
     ]
    },
    {
     "name": "stderr",
     "output_type": "stream",
     "text": [
      "3it [00:00, 35.20it/s]\n"
     ]
    },
    {
     "name": "stdout",
     "output_type": "stream",
     "text": [
      "3\n"
     ]
    },
    {
     "name": "stderr",
     "output_type": "stream",
     "text": [
      "3it [00:00, 33.61it/s]\n"
     ]
    },
    {
     "name": "stdout",
     "output_type": "stream",
     "text": [
      "(3, 6200, 6200)\n",
      "5\n"
     ]
    },
    {
     "name": "stderr",
     "output_type": "stream",
     "text": [
      "5it [00:00, 41.44it/s]\n"
     ]
    },
    {
     "name": "stdout",
     "output_type": "stream",
     "text": [
      "(5, 6200, 6200)\n",
      "5\n"
     ]
    },
    {
     "name": "stderr",
     "output_type": "stream",
     "text": [
      "5it [00:00, 43.53it/s]\n"
     ]
    },
    {
     "name": "stdout",
     "output_type": "stream",
     "text": [
      "(5, 6200, 6200)\n",
      "OB stack combined by median.\n",
      "DC stack combined by median.\n",
      "Normalization Done!\n",
      "Saving to /HFIR/CG1D/IPTS-34812/shared/processed_data/normalized/2024_10_18_2p1_3_waterwedge_noCollimator ...\n"
     ]
    },
    {
     "name": "stderr",
     "output_type": "stream",
     "text": [
      "3it [00:00, 36.58it/s]\n"
     ]
    },
    {
     "name": "stdout",
     "output_type": "stream",
     "text": [
      "3\n"
     ]
    },
    {
     "name": "stderr",
     "output_type": "stream",
     "text": [
      "3it [00:00, 36.84it/s]\n"
     ]
    },
    {
     "name": "stdout",
     "output_type": "stream",
     "text": [
      "(3, 6200, 6200)\n",
      "5\n"
     ]
    },
    {
     "name": "stderr",
     "output_type": "stream",
     "text": [
      "5it [00:00, 40.75it/s]\n"
     ]
    },
    {
     "name": "stdout",
     "output_type": "stream",
     "text": [
      "(5, 6200, 6200)\n",
      "5\n"
     ]
    },
    {
     "name": "stderr",
     "output_type": "stream",
     "text": [
      "5it [00:00, 41.56it/s]\n"
     ]
    },
    {
     "name": "stdout",
     "output_type": "stream",
     "text": [
      "(5, 6200, 6200)\n",
      "OB stack combined by median.\n",
      "DC stack combined by median.\n",
      "Normalization Done!\n",
      "Saving to /HFIR/CG1D/IPTS-34812/shared/processed_data/normalized/2024_10_18_2p1_3_waterwedge_noCollimator ...\n"
     ]
    },
    {
     "name": "stderr",
     "output_type": "stream",
     "text": [
      "3it [00:00, 36.99it/s]\n"
     ]
    },
    {
     "name": "stdout",
     "output_type": "stream",
     "text": [
      "3\n"
     ]
    },
    {
     "name": "stderr",
     "output_type": "stream",
     "text": [
      "3it [00:00, 34.44it/s]\n"
     ]
    },
    {
     "name": "stdout",
     "output_type": "stream",
     "text": [
      "(3, 6200, 6200)\n",
      "5\n"
     ]
    },
    {
     "name": "stderr",
     "output_type": "stream",
     "text": [
      "5it [00:00, 43.38it/s]\n"
     ]
    },
    {
     "name": "stdout",
     "output_type": "stream",
     "text": [
      "(5, 6200, 6200)\n",
      "5\n"
     ]
    },
    {
     "name": "stderr",
     "output_type": "stream",
     "text": [
      "5it [00:00, 43.89it/s]\n"
     ]
    },
    {
     "name": "stdout",
     "output_type": "stream",
     "text": [
      "(5, 6200, 6200)\n",
      "OB stack combined by median.\n",
      "DC stack combined by median.\n",
      "Normalization Done!\n",
      "Saving to /HFIR/CG1D/IPTS-34812/shared/processed_data/normalized/2024_10_18_2p1_3_waterwedge_noCollimator ...\n"
     ]
    },
    {
     "name": "stderr",
     "output_type": "stream",
     "text": [
      "3it [00:00, 33.85it/s]\n"
     ]
    },
    {
     "name": "stdout",
     "output_type": "stream",
     "text": [
      "3\n"
     ]
    },
    {
     "name": "stderr",
     "output_type": "stream",
     "text": [
      "3it [00:00, 35.14it/s]\n"
     ]
    },
    {
     "name": "stdout",
     "output_type": "stream",
     "text": [
      "(3, 6200, 6200)\n",
      "5\n"
     ]
    },
    {
     "name": "stderr",
     "output_type": "stream",
     "text": [
      "5it [00:00, 38.80it/s]\n"
     ]
    },
    {
     "name": "stdout",
     "output_type": "stream",
     "text": [
      "(5, 6200, 6200)\n",
      "5\n"
     ]
    },
    {
     "name": "stderr",
     "output_type": "stream",
     "text": [
      "5it [00:00, 43.26it/s]\n"
     ]
    },
    {
     "name": "stdout",
     "output_type": "stream",
     "text": [
      "(5, 6200, 6200)\n",
      "OB stack combined by median.\n",
      "DC stack combined by median.\n",
      "Normalization Done!\n",
      "Saving to /HFIR/CG1D/IPTS-34812/shared/processed_data/normalized/2024_10_18_2p1_3_waterwedge_noCollimator ...\n"
     ]
    },
    {
     "name": "stderr",
     "output_type": "stream",
     "text": [
      "3it [00:00, 35.09it/s]\n"
     ]
    },
    {
     "name": "stdout",
     "output_type": "stream",
     "text": [
      "3\n"
     ]
    },
    {
     "name": "stderr",
     "output_type": "stream",
     "text": [
      "3it [00:00, 33.76it/s]\n"
     ]
    },
    {
     "name": "stdout",
     "output_type": "stream",
     "text": [
      "(3, 6200, 6200)\n",
      "5\n"
     ]
    },
    {
     "name": "stderr",
     "output_type": "stream",
     "text": [
      "5it [00:00, 40.92it/s]\n"
     ]
    },
    {
     "name": "stdout",
     "output_type": "stream",
     "text": [
      "(5, 6200, 6200)\n",
      "5\n"
     ]
    },
    {
     "name": "stderr",
     "output_type": "stream",
     "text": [
      "5it [00:00, 38.77it/s]\n"
     ]
    },
    {
     "name": "stdout",
     "output_type": "stream",
     "text": [
      "(5, 6200, 6200)\n",
      "OB stack combined by median.\n",
      "DC stack combined by median.\n",
      "Normalization Done!\n",
      "Saving to /HFIR/CG1D/IPTS-34812/shared/processed_data/normalized/2024_10_18_NoSample_collimator_rotating ...\n"
     ]
    },
    {
     "name": "stderr",
     "output_type": "stream",
     "text": [
      "3it [00:00, 35.45it/s]\n"
     ]
    },
    {
     "name": "stdout",
     "output_type": "stream",
     "text": [
      "3\n"
     ]
    },
    {
     "name": "stderr",
     "output_type": "stream",
     "text": [
      "3it [00:00, 33.65it/s]\n"
     ]
    },
    {
     "name": "stdout",
     "output_type": "stream",
     "text": [
      "(3, 6200, 6200)\n",
      "5\n"
     ]
    },
    {
     "name": "stderr",
     "output_type": "stream",
     "text": [
      "5it [00:00, 43.63it/s]\n"
     ]
    },
    {
     "name": "stdout",
     "output_type": "stream",
     "text": [
      "(5, 6200, 6200)\n",
      "5\n"
     ]
    },
    {
     "name": "stderr",
     "output_type": "stream",
     "text": [
      "5it [00:00, 43.80it/s]\n"
     ]
    },
    {
     "name": "stdout",
     "output_type": "stream",
     "text": [
      "(5, 6200, 6200)\n",
      "OB stack combined by median.\n",
      "DC stack combined by median.\n",
      "Normalization Done!\n",
      "Saving to /HFIR/CG1D/IPTS-34812/shared/processed_data/normalized/2024_10_18_NoSample_collimator_rotating ...\n"
     ]
    },
    {
     "name": "stderr",
     "output_type": "stream",
     "text": [
      "3it [00:00, 37.57it/s]\n"
     ]
    },
    {
     "name": "stdout",
     "output_type": "stream",
     "text": [
      "3\n"
     ]
    },
    {
     "name": "stderr",
     "output_type": "stream",
     "text": [
      "3it [00:00, 38.37it/s]\n"
     ]
    },
    {
     "name": "stdout",
     "output_type": "stream",
     "text": [
      "(3, 6200, 6200)\n",
      "5\n"
     ]
    },
    {
     "name": "stderr",
     "output_type": "stream",
     "text": [
      "5it [00:00, 43.70it/s]\n"
     ]
    },
    {
     "name": "stdout",
     "output_type": "stream",
     "text": [
      "(5, 6200, 6200)\n",
      "5\n"
     ]
    },
    {
     "name": "stderr",
     "output_type": "stream",
     "text": [
      "5it [00:00, 42.26it/s]\n"
     ]
    },
    {
     "name": "stdout",
     "output_type": "stream",
     "text": [
      "(5, 6200, 6200)\n",
      "OB stack combined by median.\n",
      "DC stack combined by median.\n",
      "Normalization Done!\n",
      "Saving to /HFIR/CG1D/IPTS-34812/shared/processed_data/normalized/2024_10_18_NoSample_collimator_rotating ...\n"
     ]
    },
    {
     "name": "stderr",
     "output_type": "stream",
     "text": [
      "3it [00:00, 37.03it/s]\n"
     ]
    },
    {
     "name": "stdout",
     "output_type": "stream",
     "text": [
      "3\n"
     ]
    },
    {
     "name": "stderr",
     "output_type": "stream",
     "text": [
      "3it [00:00, 35.03it/s]\n"
     ]
    },
    {
     "name": "stdout",
     "output_type": "stream",
     "text": [
      "(3, 6200, 6200)\n",
      "5\n"
     ]
    },
    {
     "name": "stderr",
     "output_type": "stream",
     "text": [
      "5it [00:00, 40.56it/s]\n"
     ]
    },
    {
     "name": "stdout",
     "output_type": "stream",
     "text": [
      "(5, 6200, 6200)\n",
      "5\n"
     ]
    },
    {
     "name": "stderr",
     "output_type": "stream",
     "text": [
      "5it [00:00, 43.76it/s]\n"
     ]
    },
    {
     "name": "stdout",
     "output_type": "stream",
     "text": [
      "(5, 6200, 6200)\n",
      "OB stack combined by median.\n",
      "DC stack combined by median.\n",
      "Normalization Done!\n",
      "Saving to /HFIR/CG1D/IPTS-34812/shared/processed_data/normalized/2024_10_18_NoSample_collimator_rotating ...\n"
     ]
    },
    {
     "name": "stderr",
     "output_type": "stream",
     "text": [
      "3it [00:00, 33.13it/s]\n"
     ]
    },
    {
     "name": "stdout",
     "output_type": "stream",
     "text": [
      "3\n"
     ]
    },
    {
     "name": "stderr",
     "output_type": "stream",
     "text": [
      "3it [00:00, 34.61it/s]\n"
     ]
    },
    {
     "name": "stdout",
     "output_type": "stream",
     "text": [
      "(3, 6200, 6200)\n",
      "5\n"
     ]
    },
    {
     "name": "stderr",
     "output_type": "stream",
     "text": [
      "5it [00:00, 44.49it/s]\n"
     ]
    },
    {
     "name": "stdout",
     "output_type": "stream",
     "text": [
      "(5, 6200, 6200)\n",
      "5\n"
     ]
    },
    {
     "name": "stderr",
     "output_type": "stream",
     "text": [
      "5it [00:00, 40.77it/s]\n"
     ]
    },
    {
     "name": "stdout",
     "output_type": "stream",
     "text": [
      "(5, 6200, 6200)\n",
      "OB stack combined by median.\n",
      "DC stack combined by median.\n",
      "Normalization Done!\n",
      "Saving to /HFIR/CG1D/IPTS-34812/shared/processed_data/normalized/2024_10_18_NoSample_collimator_rotating ...\n"
     ]
    },
    {
     "name": "stderr",
     "output_type": "stream",
     "text": [
      "3it [00:00, 35.44it/s]\n"
     ]
    },
    {
     "name": "stdout",
     "output_type": "stream",
     "text": [
      "3\n"
     ]
    },
    {
     "name": "stderr",
     "output_type": "stream",
     "text": [
      "3it [00:00, 38.38it/s]\n"
     ]
    },
    {
     "name": "stdout",
     "output_type": "stream",
     "text": [
      "(3, 6200, 6200)\n",
      "5\n"
     ]
    },
    {
     "name": "stderr",
     "output_type": "stream",
     "text": [
      "5it [00:00, 40.14it/s]\n"
     ]
    },
    {
     "name": "stdout",
     "output_type": "stream",
     "text": [
      "(5, 6200, 6200)\n",
      "5\n"
     ]
    },
    {
     "name": "stderr",
     "output_type": "stream",
     "text": [
      "5it [00:00, 43.81it/s]\n"
     ]
    },
    {
     "name": "stdout",
     "output_type": "stream",
     "text": [
      "(5, 6200, 6200)\n",
      "OB stack combined by median.\n",
      "DC stack combined by median.\n",
      "Normalization Done!\n",
      "Saving to /HFIR/CG1D/IPTS-34812/shared/processed_data/normalized/2024_10_18_NoSample_collimator_rotating ...\n"
     ]
    },
    {
     "name": "stderr",
     "output_type": "stream",
     "text": [
      "3it [00:00, 37.38it/s]\n"
     ]
    },
    {
     "name": "stdout",
     "output_type": "stream",
     "text": [
      "3\n"
     ]
    },
    {
     "name": "stderr",
     "output_type": "stream",
     "text": [
      "3it [00:00, 36.18it/s]\n"
     ]
    },
    {
     "name": "stdout",
     "output_type": "stream",
     "text": [
      "(3, 6200, 6200)\n",
      "5\n"
     ]
    },
    {
     "name": "stderr",
     "output_type": "stream",
     "text": [
      "5it [00:00, 40.57it/s]\n"
     ]
    },
    {
     "name": "stdout",
     "output_type": "stream",
     "text": [
      "(5, 6200, 6200)\n",
      "5\n"
     ]
    },
    {
     "name": "stderr",
     "output_type": "stream",
     "text": [
      "5it [00:00, 41.38it/s]\n"
     ]
    },
    {
     "name": "stdout",
     "output_type": "stream",
     "text": [
      "(5, 6200, 6200)\n",
      "OB stack combined by median.\n",
      "DC stack combined by median.\n",
      "Normalization Done!\n",
      "Saving to /HFIR/CG1D/IPTS-34812/shared/processed_data/normalized/2024_10_18_NoSample_collimator_rotating ...\n"
     ]
    },
    {
     "name": "stderr",
     "output_type": "stream",
     "text": [
      "3it [00:00, 34.80it/s]\n"
     ]
    },
    {
     "name": "stdout",
     "output_type": "stream",
     "text": [
      "3\n"
     ]
    },
    {
     "name": "stderr",
     "output_type": "stream",
     "text": [
      "3it [00:00, 33.78it/s]\n"
     ]
    },
    {
     "name": "stdout",
     "output_type": "stream",
     "text": [
      "(3, 6200, 6200)\n",
      "5\n"
     ]
    },
    {
     "name": "stderr",
     "output_type": "stream",
     "text": [
      "5it [00:00, 40.78it/s]\n"
     ]
    },
    {
     "name": "stdout",
     "output_type": "stream",
     "text": [
      "(5, 6200, 6200)\n",
      "5\n"
     ]
    },
    {
     "name": "stderr",
     "output_type": "stream",
     "text": [
      "5it [00:00, 43.48it/s]\n"
     ]
    },
    {
     "name": "stdout",
     "output_type": "stream",
     "text": [
      "(5, 6200, 6200)\n",
      "OB stack combined by median.\n",
      "DC stack combined by median.\n",
      "Normalization Done!\n",
      "Saving to /HFIR/CG1D/IPTS-34812/shared/processed_data/normalized/2024_10_18_NoSample_collimator_static ...\n"
     ]
    },
    {
     "name": "stderr",
     "output_type": "stream",
     "text": [
      "3it [00:00, 35.40it/s]\n"
     ]
    },
    {
     "name": "stdout",
     "output_type": "stream",
     "text": [
      "3\n"
     ]
    },
    {
     "name": "stderr",
     "output_type": "stream",
     "text": [
      "3it [00:00, 35.90it/s]\n"
     ]
    },
    {
     "name": "stdout",
     "output_type": "stream",
     "text": [
      "(3, 6200, 6200)\n",
      "5\n"
     ]
    },
    {
     "name": "stderr",
     "output_type": "stream",
     "text": [
      "5it [00:00, 40.54it/s]\n"
     ]
    },
    {
     "name": "stdout",
     "output_type": "stream",
     "text": [
      "(5, 6200, 6200)\n",
      "5\n"
     ]
    },
    {
     "name": "stderr",
     "output_type": "stream",
     "text": [
      "5it [00:00, 43.56it/s]\n"
     ]
    },
    {
     "name": "stdout",
     "output_type": "stream",
     "text": [
      "(5, 6200, 6200)\n",
      "OB stack combined by median.\n",
      "DC stack combined by median.\n",
      "Normalization Done!\n",
      "Saving to /HFIR/CG1D/IPTS-34812/shared/processed_data/normalized/2024_10_18_NoSample_collimator_static ...\n"
     ]
    },
    {
     "name": "stderr",
     "output_type": "stream",
     "text": [
      "3it [00:00, 36.93it/s]\n"
     ]
    },
    {
     "name": "stdout",
     "output_type": "stream",
     "text": [
      "6\n"
     ]
    },
    {
     "name": "stderr",
     "output_type": "stream",
     "text": [
      "6it [00:00, 43.81it/s]\n"
     ]
    },
    {
     "name": "stdout",
     "output_type": "stream",
     "text": [
      "(6, 6200, 6200)\n",
      "5\n"
     ]
    },
    {
     "name": "stderr",
     "output_type": "stream",
     "text": [
      "5it [00:00, 40.20it/s]\n"
     ]
    },
    {
     "name": "stdout",
     "output_type": "stream",
     "text": [
      "(5, 6200, 6200)\n",
      "5\n"
     ]
    },
    {
     "name": "stderr",
     "output_type": "stream",
     "text": [
      "5it [00:00, 42.49it/s]\n"
     ]
    },
    {
     "name": "stdout",
     "output_type": "stream",
     "text": [
      "(5, 6200, 6200)\n",
      "OB stack combined by median.\n",
      "DC stack combined by median.\n",
      "Normalization Done!\n",
      "Saving to /HFIR/CG1D/IPTS-34812/shared/processed_data/normalized/2024_10_18_NoSample_collimator_static ...\n"
     ]
    },
    {
     "name": "stderr",
     "output_type": "stream",
     "text": [
      "6it [00:00, 36.63it/s]\n"
     ]
    },
    {
     "name": "stdout",
     "output_type": "stream",
     "text": [
      "3\n"
     ]
    },
    {
     "name": "stderr",
     "output_type": "stream",
     "text": [
      "3it [00:00, 38.08it/s]\n"
     ]
    },
    {
     "name": "stdout",
     "output_type": "stream",
     "text": [
      "(3, 6200, 6200)\n",
      "5\n"
     ]
    },
    {
     "name": "stderr",
     "output_type": "stream",
     "text": [
      "5it [00:00, 44.38it/s]\n"
     ]
    },
    {
     "name": "stdout",
     "output_type": "stream",
     "text": [
      "(5, 6200, 6200)\n",
      "5\n"
     ]
    },
    {
     "name": "stderr",
     "output_type": "stream",
     "text": [
      "5it [00:00, 41.28it/s]\n"
     ]
    },
    {
     "name": "stdout",
     "output_type": "stream",
     "text": [
      "(5, 6200, 6200)\n",
      "OB stack combined by median.\n",
      "DC stack combined by median.\n",
      "Normalization Done!\n",
      "Saving to /HFIR/CG1D/IPTS-34812/shared/processed_data/normalized/2024_10_18_NoSample_collimator_static ...\n"
     ]
    },
    {
     "name": "stderr",
     "output_type": "stream",
     "text": [
      "3it [00:00, 36.03it/s]\n"
     ]
    },
    {
     "name": "stdout",
     "output_type": "stream",
     "text": [
      "3\n"
     ]
    },
    {
     "name": "stderr",
     "output_type": "stream",
     "text": [
      "3it [00:00, 38.84it/s]\n"
     ]
    },
    {
     "name": "stdout",
     "output_type": "stream",
     "text": [
      "(3, 6200, 6200)\n",
      "5\n"
     ]
    },
    {
     "name": "stderr",
     "output_type": "stream",
     "text": [
      "5it [00:00, 40.20it/s]\n"
     ]
    },
    {
     "name": "stdout",
     "output_type": "stream",
     "text": [
      "(5, 6200, 6200)\n",
      "5\n"
     ]
    },
    {
     "name": "stderr",
     "output_type": "stream",
     "text": [
      "5it [00:00, 42.08it/s]\n"
     ]
    },
    {
     "name": "stdout",
     "output_type": "stream",
     "text": [
      "(5, 6200, 6200)\n",
      "OB stack combined by median.\n",
      "DC stack combined by median.\n",
      "Normalization Done!\n",
      "Saving to /HFIR/CG1D/IPTS-34812/shared/processed_data/normalized/2024_10_18_NoSample_collimator_static ...\n"
     ]
    },
    {
     "name": "stderr",
     "output_type": "stream",
     "text": [
      "3it [00:00, 36.34it/s]\n"
     ]
    },
    {
     "name": "stdout",
     "output_type": "stream",
     "text": [
      "3\n"
     ]
    },
    {
     "name": "stderr",
     "output_type": "stream",
     "text": [
      "3it [00:00, 37.66it/s]\n"
     ]
    },
    {
     "name": "stdout",
     "output_type": "stream",
     "text": [
      "(3, 6200, 6200)\n",
      "5\n"
     ]
    },
    {
     "name": "stderr",
     "output_type": "stream",
     "text": [
      "5it [00:00, 44.69it/s]\n"
     ]
    },
    {
     "name": "stdout",
     "output_type": "stream",
     "text": [
      "(5, 6200, 6200)\n",
      "5\n"
     ]
    },
    {
     "name": "stderr",
     "output_type": "stream",
     "text": [
      "5it [00:00, 44.01it/s]\n"
     ]
    },
    {
     "name": "stdout",
     "output_type": "stream",
     "text": [
      "(5, 6200, 6200)\n",
      "OB stack combined by median.\n",
      "DC stack combined by median.\n",
      "Normalization Done!\n",
      "Saving to /HFIR/CG1D/IPTS-34812/shared/processed_data/normalized/2024_10_18_NoSample_collimator_static ...\n"
     ]
    },
    {
     "name": "stderr",
     "output_type": "stream",
     "text": [
      "3it [00:00, 36.17it/s]\n"
     ]
    },
    {
     "name": "stdout",
     "output_type": "stream",
     "text": [
      "3\n"
     ]
    },
    {
     "name": "stderr",
     "output_type": "stream",
     "text": [
      "3it [00:00, 34.61it/s]\n"
     ]
    },
    {
     "name": "stdout",
     "output_type": "stream",
     "text": [
      "(3, 6200, 6200)\n",
      "5\n"
     ]
    },
    {
     "name": "stderr",
     "output_type": "stream",
     "text": [
      "5it [00:00, 44.76it/s]\n"
     ]
    },
    {
     "name": "stdout",
     "output_type": "stream",
     "text": [
      "(5, 6200, 6200)\n",
      "5\n"
     ]
    },
    {
     "name": "stderr",
     "output_type": "stream",
     "text": [
      "5it [00:00, 44.24it/s]\n"
     ]
    },
    {
     "name": "stdout",
     "output_type": "stream",
     "text": [
      "(5, 6200, 6200)\n",
      "OB stack combined by median.\n",
      "DC stack combined by median.\n",
      "Normalization Done!\n",
      "Saving to /HFIR/CG1D/IPTS-34812/shared/processed_data/normalized/2024_10_18_NoSample_collimator_static ...\n"
     ]
    },
    {
     "name": "stderr",
     "output_type": "stream",
     "text": [
      "3it [00:00, 37.54it/s]\n"
     ]
    },
    {
     "name": "stdout",
     "output_type": "stream",
     "text": [
      "3\n"
     ]
    },
    {
     "name": "stderr",
     "output_type": "stream",
     "text": [
      "3it [00:00, 35.57it/s]\n"
     ]
    },
    {
     "name": "stdout",
     "output_type": "stream",
     "text": [
      "(3, 6200, 6200)\n",
      "5\n"
     ]
    },
    {
     "name": "stderr",
     "output_type": "stream",
     "text": [
      "5it [00:00, 42.79it/s]\n"
     ]
    },
    {
     "name": "stdout",
     "output_type": "stream",
     "text": [
      "(5, 6200, 6200)\n",
      "5\n"
     ]
    },
    {
     "name": "stderr",
     "output_type": "stream",
     "text": [
      "5it [00:00, 44.19it/s]\n"
     ]
    },
    {
     "name": "stdout",
     "output_type": "stream",
     "text": [
      "(5, 6200, 6200)\n",
      "OB stack combined by median.\n",
      "DC stack combined by median.\n",
      "Normalization Done!\n",
      "Saving to /HFIR/CG1D/IPTS-34812/shared/processed_data/normalized/2024_10_18_WaterWedge_collimator_rotating ...\n"
     ]
    },
    {
     "name": "stderr",
     "output_type": "stream",
     "text": [
      "3it [00:00, 37.10it/s]\n"
     ]
    },
    {
     "name": "stdout",
     "output_type": "stream",
     "text": [
      "3\n"
     ]
    },
    {
     "name": "stderr",
     "output_type": "stream",
     "text": [
      "3it [00:00, 36.39it/s]\n"
     ]
    },
    {
     "name": "stdout",
     "output_type": "stream",
     "text": [
      "(3, 6200, 6200)\n",
      "5\n"
     ]
    },
    {
     "name": "stderr",
     "output_type": "stream",
     "text": [
      "5it [00:00, 44.64it/s]\n"
     ]
    },
    {
     "name": "stdout",
     "output_type": "stream",
     "text": [
      "(5, 6200, 6200)\n",
      "5\n"
     ]
    },
    {
     "name": "stderr",
     "output_type": "stream",
     "text": [
      "5it [00:00, 39.89it/s]\n"
     ]
    },
    {
     "name": "stdout",
     "output_type": "stream",
     "text": [
      "(5, 6200, 6200)\n",
      "OB stack combined by median.\n",
      "DC stack combined by median.\n",
      "Normalization Done!\n",
      "Saving to /HFIR/CG1D/IPTS-34812/shared/processed_data/normalized/2024_10_18_WaterWedge_collimator_rotating ...\n"
     ]
    },
    {
     "name": "stderr",
     "output_type": "stream",
     "text": [
      "3it [00:00, 37.49it/s]\n"
     ]
    },
    {
     "name": "stdout",
     "output_type": "stream",
     "text": [
      "3\n"
     ]
    },
    {
     "name": "stderr",
     "output_type": "stream",
     "text": [
      "3it [00:00, 36.54it/s]\n"
     ]
    },
    {
     "name": "stdout",
     "output_type": "stream",
     "text": [
      "(3, 6200, 6200)\n",
      "5\n"
     ]
    },
    {
     "name": "stderr",
     "output_type": "stream",
     "text": [
      "5it [00:00, 43.71it/s]\n"
     ]
    },
    {
     "name": "stdout",
     "output_type": "stream",
     "text": [
      "(5, 6200, 6200)\n",
      "5\n"
     ]
    },
    {
     "name": "stderr",
     "output_type": "stream",
     "text": [
      "5it [00:00, 42.65it/s]\n"
     ]
    },
    {
     "name": "stdout",
     "output_type": "stream",
     "text": [
      "(5, 6200, 6200)\n",
      "OB stack combined by median.\n",
      "DC stack combined by median.\n",
      "Normalization Done!\n",
      "Saving to /HFIR/CG1D/IPTS-34812/shared/processed_data/normalized/2024_10_18_WaterWedge_collimator_rotating ...\n"
     ]
    },
    {
     "name": "stderr",
     "output_type": "stream",
     "text": [
      "3it [00:00, 35.48it/s]\n"
     ]
    },
    {
     "name": "stdout",
     "output_type": "stream",
     "text": [
      "3\n"
     ]
    },
    {
     "name": "stderr",
     "output_type": "stream",
     "text": [
      "3it [00:00, 38.36it/s]\n"
     ]
    },
    {
     "name": "stdout",
     "output_type": "stream",
     "text": [
      "(3, 6200, 6200)\n",
      "5\n"
     ]
    },
    {
     "name": "stderr",
     "output_type": "stream",
     "text": [
      "5it [00:00, 41.48it/s]\n"
     ]
    },
    {
     "name": "stdout",
     "output_type": "stream",
     "text": [
      "(5, 6200, 6200)\n",
      "5\n"
     ]
    },
    {
     "name": "stderr",
     "output_type": "stream",
     "text": [
      "5it [00:00, 43.97it/s]\n"
     ]
    },
    {
     "name": "stdout",
     "output_type": "stream",
     "text": [
      "(5, 6200, 6200)\n",
      "OB stack combined by median.\n",
      "DC stack combined by median.\n",
      "Normalization Done!\n",
      "Saving to /HFIR/CG1D/IPTS-34812/shared/processed_data/normalized/2024_10_18_WaterWedge_collimator_rotating ...\n"
     ]
    },
    {
     "name": "stderr",
     "output_type": "stream",
     "text": [
      "3it [00:00, 36.70it/s]\n"
     ]
    },
    {
     "name": "stdout",
     "output_type": "stream",
     "text": [
      "3\n"
     ]
    },
    {
     "name": "stderr",
     "output_type": "stream",
     "text": [
      "3it [00:00, 34.71it/s]\n"
     ]
    },
    {
     "name": "stdout",
     "output_type": "stream",
     "text": [
      "(3, 6200, 6200)\n",
      "5\n"
     ]
    },
    {
     "name": "stderr",
     "output_type": "stream",
     "text": [
      "5it [00:00, 44.41it/s]\n"
     ]
    },
    {
     "name": "stdout",
     "output_type": "stream",
     "text": [
      "(5, 6200, 6200)\n",
      "5\n"
     ]
    },
    {
     "name": "stderr",
     "output_type": "stream",
     "text": [
      "5it [00:00, 41.23it/s]\n"
     ]
    },
    {
     "name": "stdout",
     "output_type": "stream",
     "text": [
      "(5, 6200, 6200)\n",
      "OB stack combined by median.\n",
      "DC stack combined by median.\n",
      "Normalization Done!\n",
      "Saving to /HFIR/CG1D/IPTS-34812/shared/processed_data/normalized/2024_10_18_WaterWedge_collimator_rotating ...\n"
     ]
    },
    {
     "name": "stderr",
     "output_type": "stream",
     "text": [
      "3it [00:00, 37.14it/s]\n"
     ]
    },
    {
     "name": "stdout",
     "output_type": "stream",
     "text": [
      "3\n"
     ]
    },
    {
     "name": "stderr",
     "output_type": "stream",
     "text": [
      "3it [00:00, 38.98it/s]\n"
     ]
    },
    {
     "name": "stdout",
     "output_type": "stream",
     "text": [
      "(3, 6200, 6200)\n",
      "5\n"
     ]
    },
    {
     "name": "stderr",
     "output_type": "stream",
     "text": [
      "5it [00:00, 40.59it/s]\n"
     ]
    },
    {
     "name": "stdout",
     "output_type": "stream",
     "text": [
      "(5, 6200, 6200)\n",
      "5\n"
     ]
    },
    {
     "name": "stderr",
     "output_type": "stream",
     "text": [
      "5it [00:00, 44.11it/s]\n"
     ]
    },
    {
     "name": "stdout",
     "output_type": "stream",
     "text": [
      "(5, 6200, 6200)\n",
      "OB stack combined by median.\n",
      "DC stack combined by median.\n",
      "Normalization Done!\n",
      "Saving to /HFIR/CG1D/IPTS-34812/shared/processed_data/normalized/2024_10_18_WaterWedge_collimator_rotating ...\n"
     ]
    },
    {
     "name": "stderr",
     "output_type": "stream",
     "text": [
      "3it [00:00, 29.46it/s]\n"
     ]
    },
    {
     "name": "stdout",
     "output_type": "stream",
     "text": [
      "90\n"
     ]
    },
    {
     "name": "stderr",
     "output_type": "stream",
     "text": [
      "90it [00:01, 55.81it/s]\n"
     ]
    },
    {
     "name": "stdout",
     "output_type": "stream",
     "text": [
      "(90, 6200, 6200)\n",
      "5\n"
     ]
    },
    {
     "name": "stderr",
     "output_type": "stream",
     "text": [
      "5it [00:00, 42.61it/s]\n"
     ]
    },
    {
     "name": "stdout",
     "output_type": "stream",
     "text": [
      "(5, 6200, 6200)\n",
      "5\n"
     ]
    },
    {
     "name": "stderr",
     "output_type": "stream",
     "text": [
      "5it [00:00, 43.68it/s]\n"
     ]
    },
    {
     "name": "stdout",
     "output_type": "stream",
     "text": [
      "(5, 6200, 6200)\n",
      "OB stack combined by median.\n",
      "DC stack combined by median.\n",
      "Normalization Done!\n",
      "Saving to /HFIR/CG1D/IPTS-34812/shared/processed_data/normalized/2024_10_18_bee1_collimator_0p1rpm ...\n"
     ]
    },
    {
     "name": "stderr",
     "output_type": "stream",
     "text": [
      "90it [00:02, 36.55it/s]\n"
     ]
    },
    {
     "name": "stdout",
     "output_type": "stream",
     "text": [
      "3\n"
     ]
    },
    {
     "name": "stderr",
     "output_type": "stream",
     "text": [
      "3it [00:00, 31.72it/s]\n"
     ]
    },
    {
     "name": "stdout",
     "output_type": "stream",
     "text": [
      "(3, 6200, 6200)\n",
      "5\n"
     ]
    },
    {
     "name": "stderr",
     "output_type": "stream",
     "text": [
      "5it [00:00, 39.74it/s]\n"
     ]
    },
    {
     "name": "stdout",
     "output_type": "stream",
     "text": [
      "(5, 6200, 6200)\n",
      "5\n"
     ]
    },
    {
     "name": "stderr",
     "output_type": "stream",
     "text": [
      "5it [00:00, 40.01it/s]\n"
     ]
    },
    {
     "name": "stdout",
     "output_type": "stream",
     "text": [
      "(5, 6200, 6200)\n",
      "OB stack combined by median.\n",
      "DC stack combined by median.\n",
      "Normalization Done!\n",
      "Saving to /HFIR/CG1D/IPTS-34812/shared/processed_data/normalized/2024_10_18_bee1_collimator_1rpm ...\n"
     ]
    },
    {
     "name": "stderr",
     "output_type": "stream",
     "text": [
      "3it [00:00, 33.49it/s]\n"
     ]
    },
    {
     "name": "stdout",
     "output_type": "stream",
     "text": [
      "3\n"
     ]
    },
    {
     "name": "stderr",
     "output_type": "stream",
     "text": [
      "3it [00:00, 35.39it/s]\n"
     ]
    },
    {
     "name": "stdout",
     "output_type": "stream",
     "text": [
      "(3, 6200, 6200)\n",
      "5\n"
     ]
    },
    {
     "name": "stderr",
     "output_type": "stream",
     "text": [
      "5it [00:00, 43.08it/s]\n"
     ]
    },
    {
     "name": "stdout",
     "output_type": "stream",
     "text": [
      "(5, 6200, 6200)\n",
      "5\n"
     ]
    },
    {
     "name": "stderr",
     "output_type": "stream",
     "text": [
      "5it [00:00, 42.67it/s]\n"
     ]
    },
    {
     "name": "stdout",
     "output_type": "stream",
     "text": [
      "(5, 6200, 6200)\n",
      "OB stack combined by median.\n",
      "DC stack combined by median.\n",
      "Normalization Done!\n",
      "Saving to /HFIR/CG1D/IPTS-34812/shared/processed_data/normalized/2024_10_18_bee1_collimator_1rpm ...\n"
     ]
    },
    {
     "name": "stderr",
     "output_type": "stream",
     "text": [
      "3it [00:00, 35.83it/s]\n"
     ]
    },
    {
     "name": "stdout",
     "output_type": "stream",
     "text": [
      "3\n"
     ]
    },
    {
     "name": "stderr",
     "output_type": "stream",
     "text": [
      "3it [00:00, 34.53it/s]\n"
     ]
    },
    {
     "name": "stdout",
     "output_type": "stream",
     "text": [
      "(3, 6200, 6200)\n",
      "5\n"
     ]
    },
    {
     "name": "stderr",
     "output_type": "stream",
     "text": [
      "5it [00:00, 39.43it/s]\n"
     ]
    },
    {
     "name": "stdout",
     "output_type": "stream",
     "text": [
      "(5, 6200, 6200)\n",
      "5\n"
     ]
    },
    {
     "name": "stderr",
     "output_type": "stream",
     "text": [
      "5it [00:00, 41.61it/s]\n"
     ]
    },
    {
     "name": "stdout",
     "output_type": "stream",
     "text": [
      "(5, 6200, 6200)\n",
      "OB stack combined by median.\n",
      "DC stack combined by median.\n",
      "Normalization Done!\n",
      "Saving to /HFIR/CG1D/IPTS-34812/shared/processed_data/normalized/2024_10_18_bee1_collimator_1rpm ...\n"
     ]
    },
    {
     "name": "stderr",
     "output_type": "stream",
     "text": [
      "3it [00:00, 36.24it/s]\n"
     ]
    },
    {
     "name": "stdout",
     "output_type": "stream",
     "text": [
      "3\n"
     ]
    },
    {
     "name": "stderr",
     "output_type": "stream",
     "text": [
      "3it [00:00, 34.69it/s]\n"
     ]
    },
    {
     "name": "stdout",
     "output_type": "stream",
     "text": [
      "(3, 6200, 6200)\n",
      "5\n"
     ]
    },
    {
     "name": "stderr",
     "output_type": "stream",
     "text": [
      "5it [00:00, 40.53it/s]\n"
     ]
    },
    {
     "name": "stdout",
     "output_type": "stream",
     "text": [
      "(5, 6200, 6200)\n",
      "5\n"
     ]
    },
    {
     "name": "stderr",
     "output_type": "stream",
     "text": [
      "5it [00:00, 43.10it/s]\n"
     ]
    },
    {
     "name": "stdout",
     "output_type": "stream",
     "text": [
      "(5, 6200, 6200)\n",
      "OB stack combined by median.\n",
      "DC stack combined by median.\n",
      "Normalization Done!\n",
      "Saving to /HFIR/CG1D/IPTS-34812/shared/processed_data/normalized/2024_10_18_bee1_collimator_1rpm ...\n"
     ]
    },
    {
     "name": "stderr",
     "output_type": "stream",
     "text": [
      "3it [00:00, 31.83it/s]\n"
     ]
    },
    {
     "name": "stdout",
     "output_type": "stream",
     "text": [
      "3\n"
     ]
    },
    {
     "name": "stderr",
     "output_type": "stream",
     "text": [
      "3it [00:00, 36.68it/s]\n"
     ]
    },
    {
     "name": "stdout",
     "output_type": "stream",
     "text": [
      "(3, 6200, 6200)\n",
      "5\n"
     ]
    },
    {
     "name": "stderr",
     "output_type": "stream",
     "text": [
      "5it [00:00, 40.76it/s]\n"
     ]
    },
    {
     "name": "stdout",
     "output_type": "stream",
     "text": [
      "(5, 6200, 6200)\n",
      "5\n"
     ]
    },
    {
     "name": "stderr",
     "output_type": "stream",
     "text": [
      "5it [00:00, 39.14it/s]\n"
     ]
    },
    {
     "name": "stdout",
     "output_type": "stream",
     "text": [
      "(5, 6200, 6200)\n",
      "OB stack combined by median.\n",
      "DC stack combined by median.\n",
      "Normalization Done!\n",
      "Saving to /HFIR/CG1D/IPTS-34812/shared/processed_data/normalized/2024_10_18_bee1_collimator_1rpm ...\n"
     ]
    },
    {
     "name": "stderr",
     "output_type": "stream",
     "text": [
      "3it [00:00, 21.33it/s]\n"
     ]
    },
    {
     "name": "stdout",
     "output_type": "stream",
     "text": [
      "3\n"
     ]
    },
    {
     "name": "stderr",
     "output_type": "stream",
     "text": [
      "3it [00:00, 37.86it/s]\n"
     ]
    },
    {
     "name": "stdout",
     "output_type": "stream",
     "text": [
      "(3, 6200, 6200)\n",
      "5\n"
     ]
    },
    {
     "name": "stderr",
     "output_type": "stream",
     "text": [
      "5it [00:00, 43.88it/s]\n"
     ]
    },
    {
     "name": "stdout",
     "output_type": "stream",
     "text": [
      "(5, 6200, 6200)\n",
      "5\n"
     ]
    },
    {
     "name": "stderr",
     "output_type": "stream",
     "text": [
      "5it [00:00, 44.05it/s]\n"
     ]
    },
    {
     "name": "stdout",
     "output_type": "stream",
     "text": [
      "(5, 6200, 6200)\n",
      "OB stack combined by median.\n",
      "DC stack combined by median.\n",
      "Normalization Done!\n",
      "Saving to /HFIR/CG1D/IPTS-34812/shared/processed_data/normalized/2024_10_18_bee1_collimator_1rpm ...\n"
     ]
    },
    {
     "name": "stderr",
     "output_type": "stream",
     "text": [
      "3it [00:00, 28.01it/s]\n"
     ]
    },
    {
     "name": "stdout",
     "output_type": "stream",
     "text": [
      "3\n"
     ]
    },
    {
     "name": "stderr",
     "output_type": "stream",
     "text": [
      "3it [00:00, 33.94it/s]\n"
     ]
    },
    {
     "name": "stdout",
     "output_type": "stream",
     "text": [
      "(3, 6200, 6200)\n",
      "5\n"
     ]
    },
    {
     "name": "stderr",
     "output_type": "stream",
     "text": [
      "5it [00:00, 38.47it/s]\n"
     ]
    },
    {
     "name": "stdout",
     "output_type": "stream",
     "text": [
      "(5, 6200, 6200)\n",
      "5\n"
     ]
    },
    {
     "name": "stderr",
     "output_type": "stream",
     "text": [
      "5it [00:00, 43.48it/s]\n"
     ]
    },
    {
     "name": "stdout",
     "output_type": "stream",
     "text": [
      "(5, 6200, 6200)\n",
      "OB stack combined by median.\n",
      "DC stack combined by median.\n",
      "Normalization Done!\n",
      "Saving to /HFIR/CG1D/IPTS-34812/shared/processed_data/normalized/2024_10_18_bee1_collimator_1rpm ...\n"
     ]
    },
    {
     "name": "stderr",
     "output_type": "stream",
     "text": [
      "3it [00:00, 37.71it/s]\n"
     ]
    },
    {
     "name": "stdout",
     "output_type": "stream",
     "text": [
      "3\n"
     ]
    },
    {
     "name": "stderr",
     "output_type": "stream",
     "text": [
      "3it [00:00, 32.47it/s]\n"
     ]
    },
    {
     "name": "stdout",
     "output_type": "stream",
     "text": [
      "(3, 6200, 6200)\n",
      "5\n"
     ]
    },
    {
     "name": "stderr",
     "output_type": "stream",
     "text": [
      "5it [00:00, 39.74it/s]\n"
     ]
    },
    {
     "name": "stdout",
     "output_type": "stream",
     "text": [
      "(5, 6200, 6200)\n",
      "5\n"
     ]
    },
    {
     "name": "stderr",
     "output_type": "stream",
     "text": [
      "5it [00:00, 37.89it/s]\n"
     ]
    },
    {
     "name": "stdout",
     "output_type": "stream",
     "text": [
      "(5, 6200, 6200)\n",
      "OB stack combined by median.\n",
      "DC stack combined by median.\n",
      "Normalization Done!\n",
      "Saving to /HFIR/CG1D/IPTS-34812/shared/processed_data/normalized/2024_10_18_bee1_collimator_static ...\n"
     ]
    },
    {
     "name": "stderr",
     "output_type": "stream",
     "text": [
      "3it [00:00, 35.38it/s]\n"
     ]
    },
    {
     "name": "stdout",
     "output_type": "stream",
     "text": [
      "3\n"
     ]
    },
    {
     "name": "stderr",
     "output_type": "stream",
     "text": [
      "3it [00:00, 35.11it/s]\n"
     ]
    },
    {
     "name": "stdout",
     "output_type": "stream",
     "text": [
      "(3, 6200, 6200)\n",
      "5\n"
     ]
    },
    {
     "name": "stderr",
     "output_type": "stream",
     "text": [
      "5it [00:00, 42.73it/s]\n"
     ]
    },
    {
     "name": "stdout",
     "output_type": "stream",
     "text": [
      "(5, 6200, 6200)\n",
      "5\n"
     ]
    },
    {
     "name": "stderr",
     "output_type": "stream",
     "text": [
      "5it [00:00, 42.28it/s]\n"
     ]
    },
    {
     "name": "stdout",
     "output_type": "stream",
     "text": [
      "(5, 6200, 6200)\n",
      "OB stack combined by median.\n",
      "DC stack combined by median.\n",
      "Normalization Done!\n",
      "Saving to /HFIR/CG1D/IPTS-34812/shared/processed_data/normalized/2024_10_18_bee1_collimator_static ...\n"
     ]
    },
    {
     "name": "stderr",
     "output_type": "stream",
     "text": [
      "3it [00:00, 36.77it/s]\n"
     ]
    },
    {
     "name": "stdout",
     "output_type": "stream",
     "text": [
      "3\n"
     ]
    },
    {
     "name": "stderr",
     "output_type": "stream",
     "text": [
      "3it [00:00, 36.67it/s]\n"
     ]
    },
    {
     "name": "stdout",
     "output_type": "stream",
     "text": [
      "(3, 6200, 6200)\n",
      "5\n"
     ]
    },
    {
     "name": "stderr",
     "output_type": "stream",
     "text": [
      "5it [00:00, 43.02it/s]\n"
     ]
    },
    {
     "name": "stdout",
     "output_type": "stream",
     "text": [
      "(5, 6200, 6200)\n",
      "5\n"
     ]
    },
    {
     "name": "stderr",
     "output_type": "stream",
     "text": [
      "5it [00:00, 40.96it/s]\n"
     ]
    },
    {
     "name": "stdout",
     "output_type": "stream",
     "text": [
      "(5, 6200, 6200)\n",
      "OB stack combined by median.\n",
      "DC stack combined by median.\n",
      "Normalization Done!\n",
      "Saving to /HFIR/CG1D/IPTS-34812/shared/processed_data/normalized/2024_10_18_bee1_collimator_static ...\n"
     ]
    },
    {
     "name": "stderr",
     "output_type": "stream",
     "text": [
      "3it [00:00, 37.14it/s]\n"
     ]
    },
    {
     "name": "stdout",
     "output_type": "stream",
     "text": [
      "3\n"
     ]
    },
    {
     "name": "stderr",
     "output_type": "stream",
     "text": [
      "3it [00:00, 37.26it/s]\n"
     ]
    },
    {
     "name": "stdout",
     "output_type": "stream",
     "text": [
      "(3, 6200, 6200)\n",
      "5\n"
     ]
    },
    {
     "name": "stderr",
     "output_type": "stream",
     "text": [
      "5it [00:00, 39.90it/s]\n"
     ]
    },
    {
     "name": "stdout",
     "output_type": "stream",
     "text": [
      "(5, 6200, 6200)\n",
      "5\n"
     ]
    },
    {
     "name": "stderr",
     "output_type": "stream",
     "text": [
      "5it [00:00, 42.00it/s]\n"
     ]
    },
    {
     "name": "stdout",
     "output_type": "stream",
     "text": [
      "(5, 6200, 6200)\n",
      "OB stack combined by median.\n",
      "DC stack combined by median.\n",
      "Normalization Done!\n",
      "Saving to /HFIR/CG1D/IPTS-34812/shared/processed_data/normalized/2024_10_18_bee1_collimator_static ...\n"
     ]
    },
    {
     "name": "stderr",
     "output_type": "stream",
     "text": [
      "3it [00:00, 35.59it/s]\n"
     ]
    },
    {
     "name": "stdout",
     "output_type": "stream",
     "text": [
      "3\n"
     ]
    },
    {
     "name": "stderr",
     "output_type": "stream",
     "text": [
      "3it [00:00, 38.13it/s]\n"
     ]
    },
    {
     "name": "stdout",
     "output_type": "stream",
     "text": [
      "(3, 6200, 6200)\n",
      "5\n"
     ]
    },
    {
     "name": "stderr",
     "output_type": "stream",
     "text": [
      "5it [00:00, 43.47it/s]\n"
     ]
    },
    {
     "name": "stdout",
     "output_type": "stream",
     "text": [
      "(5, 6200, 6200)\n",
      "5\n"
     ]
    },
    {
     "name": "stderr",
     "output_type": "stream",
     "text": [
      "5it [00:00, 39.91it/s]\n"
     ]
    },
    {
     "name": "stdout",
     "output_type": "stream",
     "text": [
      "(5, 6200, 6200)\n",
      "OB stack combined by median.\n",
      "DC stack combined by median.\n",
      "Normalization Done!\n",
      "Saving to /HFIR/CG1D/IPTS-34812/shared/processed_data/normalized/2024_10_18_bee1_collimator_static ...\n"
     ]
    },
    {
     "name": "stderr",
     "output_type": "stream",
     "text": [
      "3it [00:00, 36.92it/s]\n"
     ]
    },
    {
     "name": "stdout",
     "output_type": "stream",
     "text": [
      "3\n"
     ]
    },
    {
     "name": "stderr",
     "output_type": "stream",
     "text": [
      "3it [00:00, 33.29it/s]\n"
     ]
    },
    {
     "name": "stdout",
     "output_type": "stream",
     "text": [
      "(3, 6200, 6200)\n",
      "5\n"
     ]
    },
    {
     "name": "stderr",
     "output_type": "stream",
     "text": [
      "5it [00:00, 39.10it/s]\n"
     ]
    },
    {
     "name": "stdout",
     "output_type": "stream",
     "text": [
      "(5, 6200, 6200)\n",
      "5\n"
     ]
    },
    {
     "name": "stderr",
     "output_type": "stream",
     "text": [
      "5it [00:00, 43.43it/s]\n"
     ]
    },
    {
     "name": "stdout",
     "output_type": "stream",
     "text": [
      "(5, 6200, 6200)\n",
      "OB stack combined by median.\n",
      "DC stack combined by median.\n",
      "Normalization Done!\n",
      "Saving to /HFIR/CG1D/IPTS-34812/shared/processed_data/normalized/2024_10_18_bee1_collimator_static ...\n"
     ]
    },
    {
     "name": "stderr",
     "output_type": "stream",
     "text": [
      "3it [00:00, 35.82it/s]\n"
     ]
    },
    {
     "name": "stdout",
     "output_type": "stream",
     "text": [
      "3\n"
     ]
    },
    {
     "name": "stderr",
     "output_type": "stream",
     "text": [
      "3it [00:00, 38.94it/s]\n"
     ]
    },
    {
     "name": "stdout",
     "output_type": "stream",
     "text": [
      "(3, 6200, 6200)\n",
      "5\n"
     ]
    },
    {
     "name": "stderr",
     "output_type": "stream",
     "text": [
      "5it [00:00, 39.63it/s]\n"
     ]
    },
    {
     "name": "stdout",
     "output_type": "stream",
     "text": [
      "(5, 6200, 6200)\n",
      "5\n"
     ]
    },
    {
     "name": "stderr",
     "output_type": "stream",
     "text": [
      "5it [00:00, 40.81it/s]\n"
     ]
    },
    {
     "name": "stdout",
     "output_type": "stream",
     "text": [
      "(5, 6200, 6200)\n",
      "OB stack combined by median.\n",
      "DC stack combined by median.\n",
      "Normalization Done!\n",
      "Saving to /HFIR/CG1D/IPTS-34812/shared/processed_data/normalized/2024_10_18_bee1_collimator_static ...\n"
     ]
    },
    {
     "name": "stderr",
     "output_type": "stream",
     "text": [
      "3it [00:00, 35.70it/s]\n"
     ]
    },
    {
     "name": "stdout",
     "output_type": "stream",
     "text": [
      "90\n"
     ]
    },
    {
     "name": "stderr",
     "output_type": "stream",
     "text": [
      "90it [00:01, 55.21it/s]\n"
     ]
    },
    {
     "name": "stdout",
     "output_type": "stream",
     "text": [
      "(90, 6200, 6200)\n",
      "5\n"
     ]
    },
    {
     "name": "stderr",
     "output_type": "stream",
     "text": [
      "5it [00:00, 39.48it/s]\n"
     ]
    },
    {
     "name": "stdout",
     "output_type": "stream",
     "text": [
      "(5, 6200, 6200)\n",
      "5\n"
     ]
    },
    {
     "name": "stderr",
     "output_type": "stream",
     "text": [
      "5it [00:00, 38.74it/s]\n"
     ]
    },
    {
     "name": "stdout",
     "output_type": "stream",
     "text": [
      "(5, 6200, 6200)\n",
      "OB stack combined by median.\n",
      "DC stack combined by median.\n",
      "Normalization Done!\n",
      "Saving to /HFIR/CG1D/IPTS-34812/shared/processed_data/normalized/2024_10_18_leaf1_collimator_rotating0p1rpm ...\n"
     ]
    },
    {
     "name": "stderr",
     "output_type": "stream",
     "text": [
      "90it [00:02, 36.60it/s]\n"
     ]
    },
    {
     "name": "stdout",
     "output_type": "stream",
     "text": [
      "3\n"
     ]
    },
    {
     "name": "stderr",
     "output_type": "stream",
     "text": [
      "3it [00:00, 34.69it/s]\n"
     ]
    },
    {
     "name": "stdout",
     "output_type": "stream",
     "text": [
      "(3, 6200, 6200)\n",
      "5\n"
     ]
    },
    {
     "name": "stderr",
     "output_type": "stream",
     "text": [
      "5it [00:00, 41.81it/s]\n"
     ]
    },
    {
     "name": "stdout",
     "output_type": "stream",
     "text": [
      "(5, 6200, 6200)\n",
      "5\n"
     ]
    },
    {
     "name": "stderr",
     "output_type": "stream",
     "text": [
      "5it [00:00, 42.82it/s]\n"
     ]
    },
    {
     "name": "stdout",
     "output_type": "stream",
     "text": [
      "(5, 6200, 6200)\n",
      "OB stack combined by median.\n",
      "DC stack combined by median.\n",
      "Normalization Done!\n",
      "Saving to /HFIR/CG1D/IPTS-34812/shared/processed_data/normalized/2024_10_18_leaf1_collimator_rotating1rpm ...\n"
     ]
    },
    {
     "name": "stderr",
     "output_type": "stream",
     "text": [
      "3it [00:00, 36.18it/s]\n"
     ]
    },
    {
     "name": "stdout",
     "output_type": "stream",
     "text": [
      "3\n"
     ]
    },
    {
     "name": "stderr",
     "output_type": "stream",
     "text": [
      "3it [00:00, 36.68it/s]\n"
     ]
    },
    {
     "name": "stdout",
     "output_type": "stream",
     "text": [
      "(3, 6200, 6200)\n",
      "5\n"
     ]
    },
    {
     "name": "stderr",
     "output_type": "stream",
     "text": [
      "5it [00:00, 39.96it/s]\n"
     ]
    },
    {
     "name": "stdout",
     "output_type": "stream",
     "text": [
      "(5, 6200, 6200)\n",
      "5\n"
     ]
    },
    {
     "name": "stderr",
     "output_type": "stream",
     "text": [
      "5it [00:00, 39.91it/s]\n"
     ]
    },
    {
     "name": "stdout",
     "output_type": "stream",
     "text": [
      "(5, 6200, 6200)\n",
      "OB stack combined by median.\n",
      "DC stack combined by median.\n",
      "Normalization Done!\n",
      "Saving to /HFIR/CG1D/IPTS-34812/shared/processed_data/normalized/2024_10_18_leaf1_collimator_rotating1rpm ...\n"
     ]
    },
    {
     "name": "stderr",
     "output_type": "stream",
     "text": [
      "3it [00:00, 34.69it/s]\n"
     ]
    },
    {
     "name": "stdout",
     "output_type": "stream",
     "text": [
      "3\n"
     ]
    },
    {
     "name": "stderr",
     "output_type": "stream",
     "text": [
      "3it [00:00, 38.97it/s]\n"
     ]
    },
    {
     "name": "stdout",
     "output_type": "stream",
     "text": [
      "(3, 6200, 6200)\n",
      "5\n"
     ]
    },
    {
     "name": "stderr",
     "output_type": "stream",
     "text": [
      "5it [00:00, 40.59it/s]\n"
     ]
    },
    {
     "name": "stdout",
     "output_type": "stream",
     "text": [
      "(5, 6200, 6200)\n",
      "5\n"
     ]
    },
    {
     "name": "stderr",
     "output_type": "stream",
     "text": [
      "5it [00:00, 42.72it/s]\n"
     ]
    },
    {
     "name": "stdout",
     "output_type": "stream",
     "text": [
      "(5, 6200, 6200)\n",
      "OB stack combined by median.\n",
      "DC stack combined by median.\n",
      "Normalization Done!\n",
      "Saving to /HFIR/CG1D/IPTS-34812/shared/processed_data/normalized/2024_10_18_leaf1_collimator_rotating1rpm ...\n"
     ]
    },
    {
     "name": "stderr",
     "output_type": "stream",
     "text": [
      "3it [00:00, 35.08it/s]\n"
     ]
    },
    {
     "name": "stdout",
     "output_type": "stream",
     "text": [
      "3\n"
     ]
    },
    {
     "name": "stderr",
     "output_type": "stream",
     "text": [
      "3it [00:00, 34.29it/s]\n"
     ]
    },
    {
     "name": "stdout",
     "output_type": "stream",
     "text": [
      "(3, 6200, 6200)\n",
      "5\n"
     ]
    },
    {
     "name": "stderr",
     "output_type": "stream",
     "text": [
      "5it [00:00, 41.86it/s]\n"
     ]
    },
    {
     "name": "stdout",
     "output_type": "stream",
     "text": [
      "(5, 6200, 6200)\n",
      "5\n"
     ]
    },
    {
     "name": "stderr",
     "output_type": "stream",
     "text": [
      "5it [00:00, 43.81it/s]\n"
     ]
    },
    {
     "name": "stdout",
     "output_type": "stream",
     "text": [
      "(5, 6200, 6200)\n",
      "OB stack combined by median.\n",
      "DC stack combined by median.\n",
      "Normalization Done!\n",
      "Saving to /HFIR/CG1D/IPTS-34812/shared/processed_data/normalized/2024_10_18_leaf1_collimator_rotating1rpm ...\n"
     ]
    },
    {
     "name": "stderr",
     "output_type": "stream",
     "text": [
      "3it [00:00, 37.50it/s]\n"
     ]
    },
    {
     "name": "stdout",
     "output_type": "stream",
     "text": [
      "3\n"
     ]
    },
    {
     "name": "stderr",
     "output_type": "stream",
     "text": [
      "3it [00:00, 38.55it/s]\n"
     ]
    },
    {
     "name": "stdout",
     "output_type": "stream",
     "text": [
      "(3, 6200, 6200)\n",
      "5\n"
     ]
    },
    {
     "name": "stderr",
     "output_type": "stream",
     "text": [
      "5it [00:00, 39.86it/s]\n"
     ]
    },
    {
     "name": "stdout",
     "output_type": "stream",
     "text": [
      "(5, 6200, 6200)\n",
      "5\n"
     ]
    },
    {
     "name": "stderr",
     "output_type": "stream",
     "text": [
      "5it [00:00, 41.76it/s]\n"
     ]
    },
    {
     "name": "stdout",
     "output_type": "stream",
     "text": [
      "(5, 6200, 6200)\n",
      "OB stack combined by median.\n",
      "DC stack combined by median.\n",
      "Normalization Done!\n",
      "Saving to /HFIR/CG1D/IPTS-34812/shared/processed_data/normalized/2024_10_18_leaf1_collimator_rotating1rpm ...\n"
     ]
    },
    {
     "name": "stderr",
     "output_type": "stream",
     "text": [
      "3it [00:00, 36.80it/s]\n"
     ]
    },
    {
     "name": "stdout",
     "output_type": "stream",
     "text": [
      "3\n"
     ]
    },
    {
     "name": "stderr",
     "output_type": "stream",
     "text": [
      "3it [00:00, 38.40it/s]\n"
     ]
    },
    {
     "name": "stdout",
     "output_type": "stream",
     "text": [
      "(3, 6200, 6200)\n",
      "5\n"
     ]
    },
    {
     "name": "stderr",
     "output_type": "stream",
     "text": [
      "5it [00:00, 44.11it/s]\n"
     ]
    },
    {
     "name": "stdout",
     "output_type": "stream",
     "text": [
      "(5, 6200, 6200)\n",
      "5\n"
     ]
    },
    {
     "name": "stderr",
     "output_type": "stream",
     "text": [
      "5it [00:00, 43.86it/s]\n"
     ]
    },
    {
     "name": "stdout",
     "output_type": "stream",
     "text": [
      "(5, 6200, 6200)\n",
      "OB stack combined by median.\n",
      "DC stack combined by median.\n",
      "Normalization Done!\n",
      "Saving to /HFIR/CG1D/IPTS-34812/shared/processed_data/normalized/2024_10_18_leaf1_collimator_rotating1rpm ...\n"
     ]
    },
    {
     "name": "stderr",
     "output_type": "stream",
     "text": [
      "3it [00:00, 18.31it/s]\n"
     ]
    },
    {
     "name": "stdout",
     "output_type": "stream",
     "text": [
      "3\n"
     ]
    },
    {
     "name": "stderr",
     "output_type": "stream",
     "text": [
      "3it [00:00, 38.43it/s]\n"
     ]
    },
    {
     "name": "stdout",
     "output_type": "stream",
     "text": [
      "(3, 6200, 6200)\n",
      "5\n"
     ]
    },
    {
     "name": "stderr",
     "output_type": "stream",
     "text": [
      "5it [00:00, 39.43it/s]\n"
     ]
    },
    {
     "name": "stdout",
     "output_type": "stream",
     "text": [
      "(5, 6200, 6200)\n",
      "5\n"
     ]
    },
    {
     "name": "stderr",
     "output_type": "stream",
     "text": [
      "5it [00:00, 44.22it/s]\n"
     ]
    },
    {
     "name": "stdout",
     "output_type": "stream",
     "text": [
      "(5, 6200, 6200)\n",
      "OB stack combined by median.\n",
      "DC stack combined by median.\n",
      "Normalization Done!\n",
      "Saving to /HFIR/CG1D/IPTS-34812/shared/processed_data/normalized/2024_10_18_leaf1_collimator_rotating1rpm ...\n"
     ]
    },
    {
     "name": "stderr",
     "output_type": "stream",
     "text": [
      "3it [00:00, 30.97it/s]\n"
     ]
    },
    {
     "name": "stdout",
     "output_type": "stream",
     "text": [
      "3\n"
     ]
    },
    {
     "name": "stderr",
     "output_type": "stream",
     "text": [
      "3it [00:00, 33.94it/s]\n"
     ]
    },
    {
     "name": "stdout",
     "output_type": "stream",
     "text": [
      "(3, 6200, 6200)\n",
      "5\n"
     ]
    },
    {
     "name": "stderr",
     "output_type": "stream",
     "text": [
      "5it [00:00, 42.07it/s]\n"
     ]
    },
    {
     "name": "stdout",
     "output_type": "stream",
     "text": [
      "(5, 6200, 6200)\n",
      "5\n"
     ]
    },
    {
     "name": "stderr",
     "output_type": "stream",
     "text": [
      "5it [00:00, 39.63it/s]\n"
     ]
    },
    {
     "name": "stdout",
     "output_type": "stream",
     "text": [
      "(5, 6200, 6200)\n",
      "OB stack combined by median.\n",
      "DC stack combined by median.\n",
      "Normalization Done!\n",
      "Saving to /HFIR/CG1D/IPTS-34812/shared/processed_data/normalized/2024_10_18_leaf1_collimator_static ...\n"
     ]
    },
    {
     "name": "stderr",
     "output_type": "stream",
     "text": [
      "3it [00:00, 34.98it/s]\n"
     ]
    },
    {
     "name": "stdout",
     "output_type": "stream",
     "text": [
      "3\n"
     ]
    },
    {
     "name": "stderr",
     "output_type": "stream",
     "text": [
      "3it [00:00, 38.92it/s]\n"
     ]
    },
    {
     "name": "stdout",
     "output_type": "stream",
     "text": [
      "(3, 6200, 6200)\n",
      "5\n"
     ]
    },
    {
     "name": "stderr",
     "output_type": "stream",
     "text": [
      "5it [00:00, 44.45it/s]\n"
     ]
    },
    {
     "name": "stdout",
     "output_type": "stream",
     "text": [
      "(5, 6200, 6200)\n",
      "5\n"
     ]
    },
    {
     "name": "stderr",
     "output_type": "stream",
     "text": [
      "5it [00:00, 44.36it/s]\n"
     ]
    },
    {
     "name": "stdout",
     "output_type": "stream",
     "text": [
      "(5, 6200, 6200)\n",
      "OB stack combined by median.\n",
      "DC stack combined by median.\n",
      "Normalization Done!\n",
      "Saving to /HFIR/CG1D/IPTS-34812/shared/processed_data/normalized/2024_10_18_leaf1_collimator_static ...\n"
     ]
    },
    {
     "name": "stderr",
     "output_type": "stream",
     "text": [
      "3it [00:00, 35.49it/s]\n"
     ]
    },
    {
     "name": "stdout",
     "output_type": "stream",
     "text": [
      "6\n"
     ]
    },
    {
     "name": "stderr",
     "output_type": "stream",
     "text": [
      "6it [00:00, 42.80it/s]\n"
     ]
    },
    {
     "name": "stdout",
     "output_type": "stream",
     "text": [
      "(6, 6200, 6200)\n",
      "5\n"
     ]
    },
    {
     "name": "stderr",
     "output_type": "stream",
     "text": [
      "5it [00:00, 42.08it/s]\n"
     ]
    },
    {
     "name": "stdout",
     "output_type": "stream",
     "text": [
      "(5, 6200, 6200)\n",
      "5\n"
     ]
    },
    {
     "name": "stderr",
     "output_type": "stream",
     "text": [
      "5it [00:00, 42.59it/s]\n"
     ]
    },
    {
     "name": "stdout",
     "output_type": "stream",
     "text": [
      "(5, 6200, 6200)\n",
      "OB stack combined by median.\n",
      "DC stack combined by median.\n",
      "Normalization Done!\n",
      "Saving to /HFIR/CG1D/IPTS-34812/shared/processed_data/normalized/2024_10_18_leaf1_collimator_static ...\n"
     ]
    },
    {
     "name": "stderr",
     "output_type": "stream",
     "text": [
      "6it [00:00, 36.37it/s]\n"
     ]
    },
    {
     "name": "stdout",
     "output_type": "stream",
     "text": [
      "3\n"
     ]
    },
    {
     "name": "stderr",
     "output_type": "stream",
     "text": [
      "3it [00:00, 39.39it/s]\n"
     ]
    },
    {
     "name": "stdout",
     "output_type": "stream",
     "text": [
      "(3, 6200, 6200)\n",
      "5\n"
     ]
    },
    {
     "name": "stderr",
     "output_type": "stream",
     "text": [
      "5it [00:00, 40.96it/s]\n"
     ]
    },
    {
     "name": "stdout",
     "output_type": "stream",
     "text": [
      "(5, 6200, 6200)\n",
      "5\n"
     ]
    },
    {
     "name": "stderr",
     "output_type": "stream",
     "text": [
      "5it [00:00, 44.41it/s]\n"
     ]
    },
    {
     "name": "stdout",
     "output_type": "stream",
     "text": [
      "(5, 6200, 6200)\n",
      "OB stack combined by median.\n",
      "DC stack combined by median.\n",
      "Normalization Done!\n",
      "Saving to /HFIR/CG1D/IPTS-34812/shared/processed_data/normalized/2024_10_18_leaf1_collimator_static ...\n"
     ]
    },
    {
     "name": "stderr",
     "output_type": "stream",
     "text": [
      "3it [00:00, 35.05it/s]\n"
     ]
    },
    {
     "name": "stdout",
     "output_type": "stream",
     "text": [
      "3\n"
     ]
    },
    {
     "name": "stderr",
     "output_type": "stream",
     "text": [
      "3it [00:00, 35.24it/s]\n"
     ]
    },
    {
     "name": "stdout",
     "output_type": "stream",
     "text": [
      "(3, 6200, 6200)\n",
      "5\n"
     ]
    },
    {
     "name": "stderr",
     "output_type": "stream",
     "text": [
      "5it [00:00, 44.49it/s]\n"
     ]
    },
    {
     "name": "stdout",
     "output_type": "stream",
     "text": [
      "(5, 6200, 6200)\n",
      "5\n"
     ]
    },
    {
     "name": "stderr",
     "output_type": "stream",
     "text": [
      "5it [00:00, 41.17it/s]\n"
     ]
    },
    {
     "name": "stdout",
     "output_type": "stream",
     "text": [
      "(5, 6200, 6200)\n",
      "OB stack combined by median.\n",
      "DC stack combined by median.\n",
      "Normalization Done!\n",
      "Saving to /HFIR/CG1D/IPTS-34812/shared/processed_data/normalized/2024_10_18_leaf1_collimator_static ...\n"
     ]
    },
    {
     "name": "stderr",
     "output_type": "stream",
     "text": [
      "3it [00:00, 25.16it/s]\n"
     ]
    },
    {
     "name": "stdout",
     "output_type": "stream",
     "text": [
      "3\n"
     ]
    },
    {
     "name": "stderr",
     "output_type": "stream",
     "text": [
      "3it [00:00, 35.48it/s]\n"
     ]
    },
    {
     "name": "stdout",
     "output_type": "stream",
     "text": [
      "(3, 6200, 6200)\n",
      "5\n"
     ]
    },
    {
     "name": "stderr",
     "output_type": "stream",
     "text": [
      "5it [00:00, 40.33it/s]\n"
     ]
    },
    {
     "name": "stdout",
     "output_type": "stream",
     "text": [
      "(5, 6200, 6200)\n",
      "5\n"
     ]
    },
    {
     "name": "stderr",
     "output_type": "stream",
     "text": [
      "5it [00:00, 43.86it/s]\n"
     ]
    },
    {
     "name": "stdout",
     "output_type": "stream",
     "text": [
      "(5, 6200, 6200)\n",
      "OB stack combined by median.\n",
      "DC stack combined by median.\n",
      "Normalization Done!\n",
      "Saving to /HFIR/CG1D/IPTS-34812/shared/processed_data/normalized/2024_10_18_leaf1_collimator_static ...\n"
     ]
    },
    {
     "name": "stderr",
     "output_type": "stream",
     "text": [
      "3it [00:00, 36.06it/s]\n"
     ]
    },
    {
     "name": "stdout",
     "output_type": "stream",
     "text": [
      "3\n"
     ]
    },
    {
     "name": "stderr",
     "output_type": "stream",
     "text": [
      "3it [00:00, 33.87it/s]\n"
     ]
    },
    {
     "name": "stdout",
     "output_type": "stream",
     "text": [
      "(3, 6200, 6200)\n",
      "5\n"
     ]
    },
    {
     "name": "stderr",
     "output_type": "stream",
     "text": [
      "5it [00:00, 40.34it/s]\n"
     ]
    },
    {
     "name": "stdout",
     "output_type": "stream",
     "text": [
      "(5, 6200, 6200)\n",
      "5\n"
     ]
    },
    {
     "name": "stderr",
     "output_type": "stream",
     "text": [
      "5it [00:00, 41.99it/s]\n"
     ]
    },
    {
     "name": "stdout",
     "output_type": "stream",
     "text": [
      "(5, 6200, 6200)\n",
      "OB stack combined by median.\n",
      "DC stack combined by median.\n",
      "Normalization Done!\n",
      "Saving to /HFIR/CG1D/IPTS-34812/shared/processed_data/normalized/2024_10_18_leaf1_collimator_static ...\n"
     ]
    },
    {
     "name": "stderr",
     "output_type": "stream",
     "text": [
      "3it [00:00, 33.89it/s]\n"
     ]
    }
   ],
   "source": [
    "bin_size = 1\n",
    "# bin_size = None\n",
    "##################################################\n",
    "for each_scan in scan_list:\n",
    "    scan_dir = os.path.join(scan_loc, each_scan)\n",
    "    fname_list = sorted(os.listdir(scan_dir))\n",
    "    scan_exposure_list = rocku.get_exposure_list(fname_list)\n",
    "    exposure_list = sorted(list(set(scan_exposure_list).intersection(ob_exposure_list).intersection(dc_exposure_list)))\n",
    "    for each_exposure in exposure_list:\n",
    "        _fname_list = rocku.filter_list(fname_list, each_exposure)\n",
    "        _ob_list = rocku.filter_list(ob_list, each_exposure)\n",
    "        _dc_list = rocku.filter_list(dc_list, each_exposure)\n",
    "        ######### Scan\n",
    "        _scan_raw = rocku.read_tiff_stack(scan_dir, _fname_list)\n",
    "        print(_scan_raw.shape)\n",
    "        ######### OB\n",
    "        _ob_raw = rocku.read_tiff_stack(ob_dir, _ob_list)\n",
    "        print(_ob_raw.shape)\n",
    "        ######### DC\n",
    "        _dc_raw = rocku.read_tiff_stack(dc_dir, _dc_list)\n",
    "        print(_dc_raw.shape)\n",
    "        _scan_crop = rocku.crop(_scan_raw, crop_left, crop_right, crop_top, crop_bottom, crop)\n",
    "        _ob_crop = rocku.crop(_ob_raw, crop_left, crop_right, crop_top, crop_bottom, crop)\n",
    "        _dc_crop = rocku.crop(_dc_raw, crop_left, crop_right, crop_top, crop_bottom, crop)\n",
    "        _scan_crop = tomopy.misc.corr.remove_outlier_cuda(_scan_crop, gamma_diff).astype(np.ushort)\n",
    "        _ob_crop = tomopy.misc.corr.remove_outlier_cuda(_ob_crop, gamma_diff).astype(np.ushort)\n",
    "        _dc_crop = tomopy.misc.corr.remove_outlier_cuda(_dc_crop, gamma_diff).astype(np.ushort)\n",
    "        if bin_size is None:\n",
    "            bin_size = len(_fname_list)\n",
    "        #####################\n",
    "        #####################\n",
    "        # Bin images\n",
    "        if bin_size != 1:\n",
    "            to_rmv = len(_fname_list)%bin_size\n",
    "            if to_rmv == 0:\n",
    "                _fname_list_rmv = _fname_list[:]\n",
    "                _scan_crop_rmv = _scan_crop[:]\n",
    "            else:\n",
    "                _fname_list_rmv = _fname_list[:-to_rmv]\n",
    "                _scan_crop_rmv = _scan_crop[:-to_rmv]\n",
    "            _fname_list_bin = _fname_list_rmv[0::bin_size]\n",
    "            _scan_crop_bin = np.array([np.mean(_scan_crop_rmv[i:i+bin_size], axis=0) for i in tqdm(range(0, len(_scan_crop_rmv), bin_size))]) \n",
    "        # Normalize\n",
    "        if bin_size != 1:\n",
    "            _scan_norm, _scan_mi_dc, _ob_mi_dc, _dc_med = rocku.normalize(_scan_crop_bin, _ob_crop, _dc_crop)\n",
    "        else:\n",
    "            _scan_norm, _scan_mi_dc, _ob_mi_dc, _dc_med = rocku.normalize(_scan_crop, _ob_crop, _dc_crop)\n",
    "        # Save files\n",
    "        save_to = \"/HFIR/CG1D/IPTS-\"+ipts+\"/shared/processed_data/normalized/\" + each_scan# + '_Right'\n",
    "        if bin_size != 1:\n",
    "            save_to = save_to + \"_binned_by_\" + str(bin_size)\n",
    "            _fname_list_save = _fname_list_bin[:]\n",
    "        else:\n",
    "            _fname_list_save = _fname_list[:]\n",
    "        print('Saving to {} ...'.format(save_to))\n",
    "        for i, e_name in tqdm(enumerate(_fname_list_save)):\n",
    "        #     e_name = rocku.remove_1st_str(e_name)\n",
    "            _fname = save_to + \"/\" + e_name\n",
    "            dxchange.write_tiff(_scan_norm[i], fname=_fname, overwrite=True)"
   ]
  },
  {
   "cell_type": "code",
   "execution_count": null,
   "id": "dd424d25",
   "metadata": {},
   "outputs": [],
   "source": []
  }
 ],
 "metadata": {
  "kernelspec": {
   "display_name": "rockit",
   "language": "python",
   "name": "rockit"
  },
  "language_info": {
   "codemirror_mode": {
    "name": "ipython",
    "version": 3
   },
   "file_extension": ".py",
   "mimetype": "text/x-python",
   "name": "python",
   "nbconvert_exporter": "python",
   "pygments_lexer": "ipython3",
   "version": "3.10.14"
  }
 },
 "nbformat": 4,
 "nbformat_minor": 5
}
