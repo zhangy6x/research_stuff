{
 "cells": [
  {
   "cell_type": "code",
   "execution_count": 1,
   "id": "febbf4e6",
   "metadata": {},
   "outputs": [],
   "source": [
    "import os\n",
    "import shutil\n",
    "import utilities as rocku"
   ]
  },
  {
   "cell_type": "code",
   "execution_count": 2,
   "id": "8ab57725",
   "metadata": {},
   "outputs": [],
   "source": [
    "# need to change\n",
    "ipts=\"26647\""
   ]
  },
  {
   "cell_type": "code",
   "execution_count": 13,
   "id": "1a0e42b2",
   "metadata": {},
   "outputs": [
    {
     "data": {
      "text/plain": [
       "['2021_05_26_DOE_print',\n",
       " '2022_04_15_Monalisa',\n",
       " '2022_04_22_Monalisa_G0',\n",
       " '2022_04_22_Monalisa_G0_no_loop',\n",
       " '2022_04_23_Monalisa_G1_loop_400nm',\n",
       " '2022_04_24_Monalisa_G0_loop_12steps',\n",
       " '2022_04_24_Monalisa_G0_loop_14steps',\n",
       " '2022_04_25_Monalisa_G0_loop_14steps_16mm',\n",
       " '2022_04_25_Monalisa_G1_loop_400nm_16mm',\n",
       " '2022_04_26_Coin_French',\n",
       " '2022_04_26_Coin_US',\n",
       " '2022_04_26_Ti64',\n",
       " '2022_04_26_bent_screws',\n",
       " '2022_04_26_quartz_tube',\n",
       " '2022_04_27_AM_gradient',\n",
       " '2022_04_27_Ti64_pores',\n",
       " '2022_04_27_Ti64_stepping',\n",
       " '2022_04_27_electrodes_Han',\n",
       " '2022_04_27_electrodes_Nelson',\n",
       " '2022_04_28_DOE_angles',\n",
       " '2022_04_28_paper',\n",
       " '2022_04_28_polymer',\n",
       " '2022_04_29_DOE_CT_DFI-1.png',\n",
       " '2022_04_29_DOE_CT_DFI.avi',\n",
       " '2022_04_29_DOE_CT_DFI.gif',\n",
       " '2022_04_29_DOE_CT_TI-1.png',\n",
       " '2022_04_29_DOE_CT_TI.avi',\n",
       " '2022_04_29_DOE_CT_TI.gif',\n",
       " '2022_04_29_DOE_angles',\n",
       " '2022_04_29_Monalisa_angles',\n",
       " '2022_04_29_Monalisa_angles_DFI.gif',\n",
       " '2022_04_29_Monalisa_angles_TI.gif',\n",
       " '2022_04_29_concrete',\n",
       " '2022_04_29_metals',\n",
       " '2022_05_02_AM_gradient_flip',\n",
       " '2022_05_02_DOE_flip',\n",
       " '2022_05_02_Ti64_flip',\n",
       " '2022_05_03_Monalisa_flip',\n",
       " '2022_05_03_Ti64_both_flip',\n",
       " '2022_05_03_coins_French',\n",
       " '2022_05_03_coins_US',\n",
       " '2022_05_03_electrodes_Han',\n",
       " '2022_05_04_Al_block',\n",
       " '2022_05_04_Al_blocks',\n",
       " '2022_05_04_Al_blocks_angles',\n",
       " '2022_05_04_SS_in_Cu',\n",
       " '2022_05_04_bug',\n",
       " '2022_05_04_leaf',\n",
       " '2022_05_04_wood',\n",
       " '2023_05_26_battery1',\n",
       " '2023_05_26_battery2',\n",
       " '2023_05_26_monalisa_DOE',\n",
       " '2023_05_26_monalisa_DOE_small',\n",
       " '2023_05_26_salt',\n",
       " '2023_05_28_Zr4',\n",
       " '2023_05_28_Zr4_SCALED_ROTATION',\n",
       " '2023_05_28_battery1_Han',\n",
       " '2023_05_28_battery2_Han',\n",
       " '2023_05_29_battery_parts2',\n",
       " '2023_05_29_battery_parts2_SCALED_ROTATION',\n",
       " '2023_05_30_battery_disks_redo',\n",
       " '2023_05_30_battery_parts1',\n",
       " '2023_06_14_AMed_samples',\n",
       " '2023_06_14_graphite_thin_redo',\n",
       " '2023_06_14_graphite_thin_redo1',\n",
       " '2023_06_14_pores_in_polymer',\n",
       " '2023_06_14_pores_in_polymer_SCALED_ROTATION',\n",
       " '2023_06_16_weld_high_res_nGI_redo',\n",
       " '2023_09_13_Pbpiglet_coarse_redo_SCALED_ROTATION',\n",
       " '2023_09_13_Pbpiglet_coarse_redo_gap_SCALED_ROTATION',\n",
       " '2024_02_07_AlLi_3Top_SCALED_ROTATION',\n",
       " 'DOE_step_scan.gif',\n",
       " 'MED_2022_04_26_Coins.gif',\n",
       " 'MED_2022_04_28_DOE_angles.gif',\n",
       " 'Result of AVG_2022_04_27_electrodes_Han.avi',\n",
       " 'Result of AVG_2022_04_27_electrodes_Han.gif',\n",
       " 'TI_Sample2785_crop.jpg',\n",
       " 'amira_session',\n",
       " 'far_near_test',\n",
       " 'monalisa_step_scan.gif',\n",
       " 'monalisa_step_scan_gray.avi',\n",
       " 'monalisa_step_scan_gray.gif',\n",
       " 'ob_step_scan.gif',\n",
       " 'results']"
      ]
     },
     "execution_count": 13,
     "metadata": {},
     "output_type": "execute_result"
    }
   ],
   "source": [
    "scan_loc = \"/HFIR/CG1D/IPTS-\"+ipts+\"/shared/analysis\"\n",
    "# scan_loc = \"/HFIR/CG1D/IPTS-\"+ipts+\"/shared/autoreduce/raw_to_recon\"\n",
    "# scan_loc = \"/HFIR/CG1D/IPTS-\"+ipts+\"/shared/autoreduce\"\n",
    "\n",
    "folder_list = os.listdir(scan_loc)\n",
    "folder_list.sort()\n",
    "folder_list"
   ]
  },
  {
   "cell_type": "code",
   "execution_count": 14,
   "id": "16fec93f",
   "metadata": {},
   "outputs": [],
   "source": [
    "# need to change start\n",
    "# scan_loc = \"/HFIR/CG1D/IPTS-\"+ipts+\"/shared/processed_data\"\n",
    "target_dir_name = \"2023_05_29_battery_parts2_SCALED_ROTATION\"\n",
    "make_copy = False\n",
    "# need to change end\n",
    "scan_dir = os.path.join(scan_loc, target_dir_name)"
   ]
  },
  {
   "cell_type": "code",
   "execution_count": 15,
   "id": "405ba44b",
   "metadata": {},
   "outputs": [
    {
     "data": {
      "text/plain": [
       "['DFI_over_AI_ACL_0044nm.tiff',\n",
       " 'DFI_over_AI_ACL_0066nm.tiff',\n",
       " 'DFI_over_AI_ACL_0088nm.tiff',\n",
       " 'DFI_over_AI_ACL_0110nm.tiff',\n",
       " 'DFI_over_AI_ACL_0132nm.tiff',\n",
       " 'DFI_over_AI_ACL_0154nm.tiff',\n",
       " 'DFI_over_AI_ACL_0176nm.tiff',\n",
       " 'DFI_over_AI_ACL_0199nm.tiff',\n",
       " 'DFI_over_AI_ACL_0221nm.tiff',\n",
       " 'DFI_over_AI_ACL_0243nm.tiff',\n",
       " 'DFI_over_AI_ACL_0265nm.tiff',\n",
       " 'DFI_over_AI_ACL_0287nm.tiff',\n",
       " 'DFI_over_AI_ACL_0309nm.tiff',\n",
       " 'DFI_over_AI_ACL_0331nm.tiff',\n",
       " 'DFI_over_AI_ACL_0353nm.tiff',\n",
       " 'DFI_over_AI_ACL_0376nm.tiff',\n",
       " 'DFI_over_AI_ACL_0398nm.tiff',\n",
       " 'DFI_over_AI_ACL_0420nm.tiff',\n",
       " 'DFI_over_AI_ACL_0442nm.tiff',\n",
       " 'DFI_over_AI_ACL_0464nm.tiff',\n",
       " 'DFI_over_AI_ACL_0486nm.tiff',\n",
       " 'DFI_over_AI_ACL_0508nm.tiff',\n",
       " 'DFI_over_AI_ACL_0530nm.tiff',\n",
       " 'DFI_over_AI_ACL_0553nm.tiff',\n",
       " 'DFI_over_AI_ACL_0575nm.tiff',\n",
       " 'DFI_over_AI_ACL_0597nm.tiff',\n",
       " 'DFI_over_AI_ACL_0619nm.tiff',\n",
       " 'DFI_over_AI_ACL_0641nm.tiff',\n",
       " 'DFI_over_AI_ACL_0663nm.tiff',\n",
       " 'DFI_over_AI_ACL_0685nm.tiff',\n",
       " 'DFI_over_AI_ACL_0707nm.tiff',\n",
       " 'DFI_over_AI_ACL_0730nm.tiff',\n",
       " 'DFI_over_AI_ACL_0752nm.tiff',\n",
       " 'DFI_over_AI_ACL_0774nm.tiff',\n",
       " 'DFI_over_AI_ACL_0796nm.tiff']"
      ]
     },
     "execution_count": 15,
     "metadata": {},
     "output_type": "execute_result"
    }
   ],
   "source": [
    "fname_list = os.listdir(scan_dir)\n",
    "fname_list.sort()\n",
    "fname_list = rocku.filter_list(fname_list, 'DFI_over_AI_ACL_')\n",
    "fname_list"
   ]
  },
  {
   "cell_type": "code",
   "execution_count": 16,
   "id": "702a1aa3",
   "metadata": {},
   "outputs": [
    {
     "data": {
      "text/plain": [
       "['DFI_over_AI_0044nm.tiff',\n",
       " 'DFI_over_AI_0066nm.tiff',\n",
       " 'DFI_over_AI_0088nm.tiff',\n",
       " 'DFI_over_AI_0110nm.tiff',\n",
       " 'DFI_over_AI_0132nm.tiff',\n",
       " 'DFI_over_AI_0154nm.tiff',\n",
       " 'DFI_over_AI_0176nm.tiff',\n",
       " 'DFI_over_AI_0199nm.tiff',\n",
       " 'DFI_over_AI_0221nm.tiff',\n",
       " 'DFI_over_AI_0243nm.tiff',\n",
       " 'DFI_over_AI_0265nm.tiff',\n",
       " 'DFI_over_AI_0287nm.tiff',\n",
       " 'DFI_over_AI_0309nm.tiff',\n",
       " 'DFI_over_AI_0331nm.tiff',\n",
       " 'DFI_over_AI_0353nm.tiff',\n",
       " 'DFI_over_AI_0376nm.tiff',\n",
       " 'DFI_over_AI_0398nm.tiff',\n",
       " 'DFI_over_AI_0420nm.tiff',\n",
       " 'DFI_over_AI_0442nm.tiff',\n",
       " 'DFI_over_AI_0464nm.tiff',\n",
       " 'DFI_over_AI_0486nm.tiff',\n",
       " 'DFI_over_AI_0508nm.tiff',\n",
       " 'DFI_over_AI_0530nm.tiff',\n",
       " 'DFI_over_AI_0553nm.tiff',\n",
       " 'DFI_over_AI_0575nm.tiff',\n",
       " 'DFI_over_AI_0597nm.tiff',\n",
       " 'DFI_over_AI_0619nm.tiff',\n",
       " 'DFI_over_AI_0641nm.tiff',\n",
       " 'DFI_over_AI_0663nm.tiff',\n",
       " 'DFI_over_AI_0685nm.tiff',\n",
       " 'DFI_over_AI_0707nm.tiff',\n",
       " 'DFI_over_AI_0730nm.tiff',\n",
       " 'DFI_over_AI_0752nm.tiff',\n",
       " 'DFI_over_AI_0774nm.tiff',\n",
       " 'DFI_over_AI_0796nm.tiff']"
      ]
     },
     "execution_count": 16,
     "metadata": {},
     "output_type": "execute_result"
    }
   ],
   "source": [
    "fname_list_tgt = []\n",
    "for e_name in fname_list:\n",
    "    _e_name = e_name.replace('_ACL', '')\n",
    "    fname_list_tgt.append(_e_name)\n",
    "fname_list_tgt"
   ]
  },
  {
   "cell_type": "code",
   "execution_count": 17,
   "id": "19028879",
   "metadata": {
    "scrolled": true
   },
   "outputs": [],
   "source": [
    "if make_copy:\n",
    "    output_dir = \"/HFIR/CG1D/IPTS-\" + ipts + \"/shared/autoreduce/\" + \"/\" +target_dir_name + \"/\" + \"renamed\"\n",
    "    shutil.copytree(scan_dir, output_dir)\n",
    "else:\n",
    "    output_dir = scan_dir\n",
    "# for count, filename in enumerate(os.listdir(output_dir)):\n",
    "#     src_file = os.path.join(output_dir, filename)\n",
    "# #     dst_file = os.path.join(output_dir, reorder_by_idx(filename))\n",
    "#     dst_file = os.path.join(output_dir, rocku.remove_1st_str(filename))\n",
    "# #     dst_file = os.path.join(output_dir, remove_last_str(filename))\n",
    "# #     dst_file = os.path.join(output_dir, get_last_str(filename))\n",
    "# #     print(dst_file)\n",
    "#     os.rename(src_file, dst_file)\n",
    "for count, filename in enumerate(fname_list):\n",
    "    src_file = os.path.join(output_dir, filename)\n",
    "#     dst_file = os.path.join(output_dir, reorder_by_idx(filename))\n",
    "    dst_file = os.path.join(output_dir, fname_list_tgt[count])\n",
    "#     dst_file = os.path.join(output_dir, remove_last_str(filename))\n",
    "#     dst_file = os.path.join(output_dir, get_last_str(filename))\n",
    "#     print(dst_file)\n",
    "    os.rename(src_file, dst_file)"
   ]
  },
  {
   "cell_type": "code",
   "execution_count": 19,
   "id": "30770000",
   "metadata": {
    "scrolled": true
   },
   "outputs": [
    {
     "data": {
      "text/plain": [
       "['DFI_over_AI_0044nm.tiff',\n",
       " 'DFI_over_AI_0066nm.tiff',\n",
       " 'DFI_over_AI_0088nm.tiff',\n",
       " 'DFI_over_AI_0110nm.tiff',\n",
       " 'DFI_over_AI_0132nm.tiff',\n",
       " 'DFI_over_AI_0154nm.tiff',\n",
       " 'DFI_over_AI_0176nm.tiff',\n",
       " 'DFI_over_AI_0199nm.tiff',\n",
       " 'DFI_over_AI_0221nm.tiff',\n",
       " 'DFI_over_AI_0243nm.tiff',\n",
       " 'DFI_over_AI_0265nm.tiff',\n",
       " 'DFI_over_AI_0287nm.tiff',\n",
       " 'DFI_over_AI_0309nm.tiff',\n",
       " 'DFI_over_AI_0331nm.tiff',\n",
       " 'DFI_over_AI_0353nm.tiff',\n",
       " 'DFI_over_AI_0376nm.tiff',\n",
       " 'DFI_over_AI_0398nm.tiff',\n",
       " 'DFI_over_AI_0420nm.tiff',\n",
       " 'DFI_over_AI_0442nm.tiff',\n",
       " 'DFI_over_AI_0464nm.tiff',\n",
       " 'DFI_over_AI_0486nm.tiff',\n",
       " 'DFI_over_AI_0508nm.tiff',\n",
       " 'DFI_over_AI_0530nm.tiff',\n",
       " 'DFI_over_AI_0553nm.tiff',\n",
       " 'DFI_over_AI_0575nm.tiff',\n",
       " 'DFI_over_AI_0597nm.tiff',\n",
       " 'DFI_over_AI_0619nm.tiff',\n",
       " 'DFI_over_AI_0641nm.tiff',\n",
       " 'DFI_over_AI_0663nm.tiff',\n",
       " 'DFI_over_AI_0685nm.tiff',\n",
       " 'DFI_over_AI_0707nm.tiff',\n",
       " 'DFI_over_AI_0730nm.tiff',\n",
       " 'DFI_over_AI_0752nm.tiff',\n",
       " 'DFI_over_AI_0774nm.tiff',\n",
       " 'DFI_over_AI_0796nm.tiff']"
      ]
     },
     "execution_count": 19,
     "metadata": {},
     "output_type": "execute_result"
    }
   ],
   "source": [
    "fname_list_after = os.listdir(scan_dir)\n",
    "fname_list_after.sort()\n",
    "fname_list_after = rocku.filter_list(fname_list_after, 'DFI_over_AI')\n",
    "fname_list_after"
   ]
  },
  {
   "cell_type": "code",
   "execution_count": null,
   "id": "230fcd00",
   "metadata": {},
   "outputs": [],
   "source": []
  }
 ],
 "metadata": {
  "kernelspec": {
   "display_name": "rockit",
   "language": "python",
   "name": "rockit"
  },
  "language_info": {
   "codemirror_mode": {
    "name": "ipython",
    "version": 3
   },
   "file_extension": ".py",
   "mimetype": "text/x-python",
   "name": "python",
   "nbconvert_exporter": "python",
   "pygments_lexer": "ipython3",
   "version": "3.10.10"
  }
 },
 "nbformat": 4,
 "nbformat_minor": 5
}
