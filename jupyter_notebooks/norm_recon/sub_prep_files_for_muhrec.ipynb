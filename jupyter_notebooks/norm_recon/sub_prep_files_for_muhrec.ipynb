{
 "cells": [
  {
   "cell_type": "code",
   "execution_count": 1,
   "id": "febbf4e6",
   "metadata": {},
   "outputs": [],
   "source": [
    "import os\n",
    "import shutil"
   ]
  },
  {
   "cell_type": "code",
   "execution_count": 2,
   "id": "4ebefbe0",
   "metadata": {},
   "outputs": [],
   "source": [
    "def rename(old:str, new_name, index_min=0):\n",
    "    old_index_tiff = old.split('_')[-1]\n",
    "    old_index = old_index_tiff.split('.')[0]\n",
    "    end_num = int(old_index)\n",
    "    index = end_num - index_min\n",
    "    new = new_name + \"_\" + f'{index:04}' + '.tiff'\n",
    "    return new\n",
    "\n",
    "def reorder_by_idx(old:str, index_min=0):\n",
    "    _split = old.split('_')\n",
    "    old_index_tiff = _split[-1]\n",
    "    old_index = old_index_tiff.split('.')[0]\n",
    "    end_num = int(old_index)\n",
    "    index = end_num - index_min\n",
    "    _split.pop(0)\n",
    "    _split.pop(-1)\n",
    "    new_string = \"_\".join(_split)\n",
    "    new = f'{index:04}' + \"_\" +  + '.tiff'\n",
    "    return new"
   ]
  },
  {
   "cell_type": "code",
   "execution_count": 3,
   "id": "8ab57725",
   "metadata": {},
   "outputs": [],
   "source": [
    "# need to change\n",
    "ipts=\"31148\""
   ]
  },
  {
   "cell_type": "markdown",
   "id": "77c09485",
   "metadata": {},
   "source": [
    "CT Scan"
   ]
  },
  {
   "cell_type": "code",
   "execution_count": 4,
   "id": "1a0e42b2",
   "metadata": {},
   "outputs": [
    {
     "data": {
      "text/plain": [
       "['December5_2022', 'December3_2022']"
      ]
     },
     "execution_count": 4,
     "metadata": {},
     "output_type": "execute_result"
    }
   ],
   "source": [
    "ct_scan_loc = \"/HFIR/CG1D/IPTS-\"+ipts+\"/raw/ct_scans\"\n",
    "os.listdir(ct_scan_loc)"
   ]
  },
  {
   "cell_type": "markdown",
   "id": "f1eaf5d7",
   "metadata": {},
   "source": [
    "ct_scan_loc = \"/HFIR/CG1D/IPTS-\"+ipts+\"/shared/processed_data/2022_03_11_pristine_filtered\"\n",
    "os.listdir(ct_scan_loc)"
   ]
  },
  {
   "cell_type": "code",
   "execution_count": 5,
   "id": "19028879",
   "metadata": {},
   "outputs": [],
   "source": [
    "# need to change \n",
    "new_dir_name = \"blade\"\n",
    "ct_scan_dir = os.path.join(ct_scan_loc, \"December3_2022\")\n",
    "\n",
    "shared_loc = \"/HFIR/CG1D/IPTS-\" + ipts + \"/shared/processed_data\"\n",
    "output_dir = os.path.join(shared_loc, \"raw_for_recon\", new_dir_name)"
   ]
  },
  {
   "cell_type": "code",
   "execution_count": 6,
   "id": "d37523e8",
   "metadata": {},
   "outputs": [
    {
     "data": {
      "text/plain": [
       "'/HFIR/CG1D/IPTS-31148/shared/processed_data/raw_for_recon/blade'"
      ]
     },
     "execution_count": 6,
     "metadata": {},
     "output_type": "execute_result"
    }
   ],
   "source": [
    "shutil.copytree(ct_scan_dir, output_dir)"
   ]
  },
  {
   "cell_type": "code",
   "execution_count": 7,
   "id": "08b73f07",
   "metadata": {},
   "outputs": [
    {
     "data": {
      "text/plain": [
       "True"
      ]
     },
     "execution_count": 7,
     "metadata": {},
     "output_type": "execute_result"
    }
   ],
   "source": [
    "len(os.listdir(ct_scan_dir)) == len(os.listdir(output_dir))"
   ]
  },
  {
   "cell_type": "code",
   "execution_count": 9,
   "id": "30770000",
   "metadata": {
    "scrolled": true
   },
   "outputs": [],
   "source": [
    "raw_list = []\n",
    "for each_raw in os.listdir(output_dir):\n",
    "    raw_tiff = each_raw.split('_')[-1]\n",
    "    raw = raw_tiff.split('.')[0]\n",
    "    raw_num = int(raw)\n",
    "    raw_list.append(raw_num)\n",
    "raw_min = (min(raw_list))\n",
    "for count, filename in enumerate(os.listdir(output_dir)):\n",
    "    src_file = os.path.join(output_dir, filename)\n",
    "    dst_file = os.path.join(output_dir, rename(filename, new_dir_name, raw_min))\n",
    "#     print(src_file)\n",
    "#     print(dst_file)\n",
    "          \n",
    "    # rename() function will\n",
    "    # rename all the files\n",
    "    os.rename(src_file, dst_file)"
   ]
  },
  {
   "cell_type": "markdown",
   "id": "3e1a76a1",
   "metadata": {},
   "source": [
    "Open Beam"
   ]
  },
  {
   "cell_type": "code",
   "execution_count": 10,
   "id": "3367e646",
   "metadata": {},
   "outputs": [
    {
     "data": {
      "text/plain": [
       "['December2_2022', 'December3_2022']"
      ]
     },
     "execution_count": 10,
     "metadata": {},
     "output_type": "execute_result"
    }
   ],
   "source": [
    "ob_loc = \"/HFIR/CG1D/IPTS-\"+ipts+\"/raw/ob\"\n",
    "os.listdir(ob_loc)"
   ]
  },
  {
   "cell_type": "markdown",
   "id": "753ae0b6",
   "metadata": {},
   "source": [
    "ob_loc = \"/HFIR/CG1D/IPTS-28204/raw/ob\"\n",
    "os.listdir(ob_loc)"
   ]
  },
  {
   "cell_type": "code",
   "execution_count": 11,
   "id": "edf99941",
   "metadata": {},
   "outputs": [],
   "source": [
    "# need to change\n",
    "ob_dir = os.path.join(ob_loc, \"December3_2022\")"
   ]
  },
  {
   "cell_type": "code",
   "execution_count": 12,
   "id": "899e5ab9",
   "metadata": {},
   "outputs": [
    {
     "name": "stdout",
     "output_type": "stream",
     "text": [
      "20221203_OB_0030_0798.tiff\n",
      "20221203_OB_0030_0799.tiff\n",
      "20221203_OB_0030_0800.tiff\n",
      "20221203_OB_0030_0801.tiff\n",
      "20221203_OB_0030_0793.tiff\n",
      "20221203_OB_0030_0802.tiff\n",
      "20221203_OB_0030_0797.tiff\n",
      "20221203_OB_0030_0794.tiff\n",
      "20221203_OB_0030_0796.tiff\n",
      "20221203_OB_0030_0795.tiff\n"
     ]
    }
   ],
   "source": [
    "ob_list = []\n",
    "for each_ob in os.listdir(ob_dir):\n",
    "    ob_tiff = each_ob.split('_')[-1]\n",
    "    ob = ob_tiff.split('.')[0]\n",
    "    ob_num = int(ob)\n",
    "    ob_list.append(ob_num)\n",
    "ob_min = (min(ob_list))\n",
    "for count, filename in enumerate(os.listdir(ob_dir)):\n",
    "    src = os.path.join(ob_dir, filename)\n",
    "    print(filename)\n",
    "    dst = os.path.join(output_dir, rename(filename, \"ob\", ob_min))\n",
    "    shutil.copy2(src, dst)"
   ]
  },
  {
   "cell_type": "markdown",
   "id": "1782d5f4",
   "metadata": {},
   "source": [
    "Dark Field"
   ]
  },
  {
   "cell_type": "code",
   "execution_count": 14,
   "id": "a413dead",
   "metadata": {},
   "outputs": [
    {
     "data": {
      "text/plain": [
       "['2022_12_05']"
      ]
     },
     "execution_count": 14,
     "metadata": {},
     "output_type": "execute_result"
    }
   ],
   "source": [
    "df_loc = \"/HFIR/CG1D/IPTS-\"+ipts+\"/raw/dc\"\n",
    "os.listdir(df_loc)"
   ]
  },
  {
   "cell_type": "code",
   "execution_count": 15,
   "id": "f9683e27",
   "metadata": {},
   "outputs": [],
   "source": [
    "# need to change\n",
    "df_dir = os.path.join(df_loc, \"2022_12_05\")"
   ]
  },
  {
   "cell_type": "code",
   "execution_count": 16,
   "id": "4b972fb1",
   "metadata": {},
   "outputs": [
    {
     "name": "stdout",
     "output_type": "stream",
     "text": [
      "20221205_DC_0050_2899.tiff\n",
      "20221205_DC_0050_2898.tiff\n",
      "20221205_DC_0050_2901.tiff\n",
      "20221205_DC_0050_2895.tiff\n",
      "20221205_DC_0050_2896.tiff\n",
      "20221205_DC_0050_2894.tiff\n",
      "20221205_DC_0050_2900.tiff\n",
      "20221205_DC_0050_2897.tiff\n",
      "20221205_DC_0050_2893.tiff\n",
      "20221205_DC_0050_2892.tiff\n"
     ]
    }
   ],
   "source": [
    "df_list = []\n",
    "for each_df in os.listdir(df_dir):\n",
    "    df_tiff = each_df.split('_')[-1]\n",
    "    df = df_tiff.split('.')[0]\n",
    "    df_num = int(df)\n",
    "    df_list.append(df_num)\n",
    "df_min = (min(df_list))\n",
    "for count, filename in enumerate(os.listdir(df_dir)):\n",
    "    src = os.path.join(df_dir, filename)\n",
    "    print(filename)\n",
    "    dst = os.path.join(output_dir, rename(filename, \"df\", df_min))\n",
    "    shutil.copy2(src, dst)"
   ]
  },
  {
   "cell_type": "code",
   "execution_count": null,
   "id": "230fcd00",
   "metadata": {},
   "outputs": [],
   "source": []
  }
 ],
 "metadata": {
  "kernelspec": {
   "display_name": "rockit",
   "language": "python",
   "name": "rockit"
  },
  "language_info": {
   "codemirror_mode": {
    "name": "ipython",
    "version": 3
   },
   "file_extension": ".py",
   "mimetype": "text/x-python",
   "name": "python",
   "nbconvert_exporter": "python",
   "pygments_lexer": "ipython3",
   "version": "3.10.10"
  }
 },
 "nbformat": 4,
 "nbformat_minor": 5
}
