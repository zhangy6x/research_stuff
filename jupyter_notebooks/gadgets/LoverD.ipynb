{
 "cells": [
  {
   "cell_type": "code",
   "execution_count": 10,
   "metadata": {},
   "outputs": [],
   "source": [
    "def get_aperture(source_size, tot_len, source_to_ap, full_area):\n",
    "    aperture = - (full_area+ source_size)* source_to_ap/(tot_len) + source_size\n",
    "    LoverD = (tot_len - source_to_ap)/aperture\n",
    "    print(LoverD)\n",
    "    return aperture\n",
    "    "
   ]
  },
  {
   "cell_type": "code",
   "execution_count": 13,
   "metadata": {},
   "outputs": [],
   "source": [
    "def get_full_area(source_size, tot_len, LoverD, aperture):\n",
    "    full_area = (-aperture + source_size)/(tot_len-LoverD*aperture)*tot_len - source_size\n",
    "    return full_area\n",
    "    "
   ]
  },
  {
   "cell_type": "code",
   "execution_count": 8,
   "metadata": {},
   "outputs": [],
   "source": [
    "full_area = 14.14\n",
    "source_size = 4\n",
    "tot_len = 1109"
   ]
  },
  {
   "cell_type": "code",
   "execution_count": 11,
   "metadata": {},
   "outputs": [
    {
     "name": "stdout",
     "output_type": "stream",
     "text": [
      "345.97146541325236\n"
     ]
    },
    {
     "data": {
      "text/plain": [
       "3.034932371505861"
      ]
     },
     "execution_count": 11,
     "metadata": {},
     "output_type": "execute_result"
    }
   ],
   "source": [
    "get_aperture (source_size=source_size, tot_len=tot_len, source_to_ap=59, full_area=full_area)"
   ]
  },
  {
   "cell_type": "code",
   "execution_count": 17,
   "metadata": {},
   "outputs": [
    {
     "data": {
      "text/plain": [
       "10.986486486486488"
      ]
     },
     "execution_count": 17,
     "metadata": {},
     "output_type": "execute_result"
    }
   ],
   "source": [
    "get_full_area(source_size=source_size, tot_len=tot_len, LoverD=345, aperture=3)"
   ]
  },
  {
   "cell_type": "code",
   "execution_count": null,
   "metadata": {},
   "outputs": [],
   "source": []
  }
 ],
 "metadata": {
  "kernelspec": {
   "display_name": "py37",
   "language": "python",
   "name": "py37"
  },
  "language_info": {
   "codemirror_mode": {
    "name": "ipython",
    "version": 3
   },
   "file_extension": ".py",
   "mimetype": "text/x-python",
   "name": "python",
   "nbconvert_exporter": "python",
   "pygments_lexer": "ipython3",
   "version": "3.7.6"
  }
 },
 "nbformat": 4,
 "nbformat_minor": 4
}
